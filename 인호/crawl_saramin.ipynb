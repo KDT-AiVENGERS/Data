{
 "cells": [
  {
   "cell_type": "code",
   "execution_count": 2,
   "metadata": {},
   "outputs": [],
   "source": [
    "# 1. 필요 모듈 가져오기\n",
    "from selenium import webdriver\n",
    "from selenium.webdriver.chrome.service import Service\n",
    "from selenium.webdriver.chrome.options import Options\n",
    "from webdriver_manager.chrome import ChromeDriverManager\n",
    "from selenium.webdriver.common.by import By\n",
    "from selenium.webdriver.support.ui import WebDriverWait\n",
    "from selenium.webdriver.support import expected_conditions as EC\n",
    "from bs4 import BeautifulSoup\n",
    "import requests\n",
    "import pandas as pd\n",
    "from tqdm import tqdm\n",
    "from time import sleep\n",
    "import re"
   ]
  },
  {
   "cell_type": "code",
   "execution_count": 5,
   "metadata": {},
   "outputs": [],
   "source": [
    "\n",
    "# 직무이름 크롤링\n",
    "def get_job_list():\n",
    "    driver.get(f\"https://www.saramin.co.kr/zf_user/jobs/list/job-category\")\n",
    "    # IT분야 클릭\n",
    "    button_open = driver.find_element(By.XPATH, '//*[@id=\"sp_main_wrapper\"]/div[2]/div/div[1]/div[2]/div[1]/button[6]')\n",
    "    button_open.click()\n",
    "    # 사람인의 경우 직무,직업/전문분야/기술스택 세가지 expand 버튼이 있음.\n",
    "    # expand버튼 눌러서 카테고리 펼치기\n",
    "    # 직업(job list)만 일단 추출\n",
    "    xpath_list = [\n",
    "        '//*[@id=\"sp_job_category_subDepth_2\"]/div[2]/div/div[2]/div/dl[1]/dt/button',\n",
    "        # '//*[@id=\"sp_job_category_subDepth_2\"]/div[2]/div/div[2]/div/dl[2]/dt/button',\n",
    "        # '//*[@id=\"sp_job_category_subDepth_2\"]/div[2]/div/div[2]/div/dl[3]/dt/button',\n",
    "    ]\n",
    "    for xpath in xpath_list:\n",
    "        # 해당 XPath를 가진 요소 찾기\n",
    "        element = driver.find_element(By.XPATH, xpath)\n",
    "        # 찾은 요소 클릭\n",
    "        element.click()\n",
    "        # 각 클릭 사이에 일정 시간을 주어 페이지 로딩을 기다림\n",
    "        sleep(2)\n",
    "    # 직무 리스트를 얻어내는 단계\n",
    "    job_list = []\n",
    "    jobs = driver.find_elements(By.XPATH, '//*[@id=\"sp_job_category_subDepth_2\"]/div[2]/div/div[2]/div/dl[1]/dd/button')\n",
    "    for job in jobs:\n",
    "        job_list.append(job.text)\n",
    "    driver.quit()\n",
    "    return job_list\n",
    "\n"
   ]
  },
  {
   "cell_type": "code",
   "execution_count": 69,
   "metadata": {},
   "outputs": [],
   "source": [
    "chrome_options = Options()\n",
    "chrome_options.add_experimental_option(\"detach\", True)\n",
    "service = Service(executable_path=ChromeDriverManager().install())\n",
    "driver = webdriver.Chrome(service=service, options=chrome_options)"
   ]
  },
  {
   "cell_type": "code",
   "execution_count": null,
   "metadata": {},
   "outputs": [],
   "source": [
    "saramin_job_list = get_job_list()\n",
    "print(saramin_job_list)"
   ]
  },
  {
   "cell_type": "code",
   "execution_count": null,
   "metadata": {},
   "outputs": [],
   "source": [
    "saramin_job_list = [re.sub(r'\\(.*?\\)', '', job) for job in saramin_job_list]\n",
    "print(saramin_job_list)"
   ]
  },
  {
   "cell_type": "code",
   "execution_count": 15,
   "metadata": {},
   "outputs": [],
   "source": [
    "# 5. 직무별 채용공고 크롤링을 위해 job_list, job_id 정의\n",
    "saramin_job_list = ['게임개발', '기술지원', '데이터분석가', '데이터엔지니어', '백엔드/서버개발', '보안관제',\n",
    "                      '보안컨설팅', '앱개발', '웹개발', '웹마스터', '유지보수', '정보보안', \n",
    "                     '퍼블리셔', '프론트엔드', 'CISO', 'CPO', 'DBA', 'FAE', 'GM(게임운영)','ICT컨설팅',\n",
    "                       'IT컨설팅','QA/테스터', 'SE(시스템엔지니어)', 'SI개발',  'SQA']\n",
    "\n",
    "saramin_job_id = [80, 81, 82, 83, 84, 2239, 85, 86, 87, 88, 89, 90, 91, 92, 93, 94, 95, 96, 97, 102, 98, 99, 100, 101,2229]\n",
    "saramin_jobs = dict(zip(saramin_job_id, saramin_job_list))"
   ]
  },
  {
   "cell_type": "code",
   "execution_count": 96,
   "metadata": {},
   "outputs": [
    {
     "data": {
      "text/plain": [
       "' job_name : 직무명\\n    company : 회사명\\n    jd_body : 채용공고상세\\n    head_title :채용공고명\\n    work_place : 근무지역 \\n    employment_type : 고용형태\\n    career : 경력조건\\n    education : 교육 \\n    deadlines : 마감일 \\n    jobs_url : 출처\\n    '"
      ]
     },
     "execution_count": 96,
     "metadata": {},
     "output_type": "execute_result"
    }
   ],
   "source": [
    "\n",
    "# Dataframe 생성\n",
    "df = pd.DataFrame(columns=['직무명', '회사명', '채용공고명', '근무지역', '고용형태',\n",
    "                            '경력조건', '교육', '마감일','출처'])  \n",
    "''' job_name : 직무명\n",
    "    company : 회사명\n",
    "    jd_body : 채용공고상세\n",
    "    head_title :채용공고명\n",
    "    work_place : 근무지역 \n",
    "    employment_type : 고용형태\n",
    "    career : 경력조건\n",
    "    education : 교육 \n",
    "    deadlines : 마감일 \n",
    "    jobs_url : 출처\n",
    "    '''"
   ]
  },
  {
   "cell_type": "code",
   "execution_count": 95,
   "metadata": {},
   "outputs": [],
   "source": [
    "# 직군별 채용공고 url, 및 기본 정보 수집\n",
    "baseUrl = \"https://www.saramin.co.kr\"\n",
    "jobs_url = []\n",
    "def get_job_url(df, jobid):\n",
    "    page = 1\n",
    "    print(f'{saramin_jobs[jobid]}', '탐색 시작')\n",
    "    while True:\n",
    "        print(f'{page}page', '진행중')\n",
    "        soup = requests.get('https://www.saramin.co.kr/zf_user/jobs/list/job-category?page={}&cat_kewd={}&search_optional_item=n&search_done=y&panel_count=y&preview=y&isAjaxRequest=0&page_count=50&sort=RL&type=job-category&is_param=1&isSearchResultEmpty=1&isSectionHome=0&searchParamCount=1#searchTitle'.format(page,jobid), headers={'User-Agent': 'Mozilla/5.0'})\n",
    "        html = BeautifulSoup(soup.text, 'html.parser')\n",
    "        jobs = html.select('div.list_item')\n",
    "\n",
    "        if not jobs:  # jobs가 비어있으면 반복을 중단\n",
    "            break\n",
    "\n",
    "        for job in jobs:\n",
    "            try:\n",
    "                company = (job.select_one('a')['title'])\n",
    "                job_url = baseUrl + job.select_one('a')['href']\n",
    "                head_title = (job.select_one('div.job_tit > a')['title'])\n",
    "                career = (job.select_one('p.career').text)\n",
    "                education = (job.select_one('p.education').text)\n",
    "                employment_type = (job.select_one('p.employment_type').text)\n",
    "                work_place = (job.select_one('p.work_place').text)\n",
    "                deadlines = (job.select_one('p.deadlines').text)\n",
    "                new_row = {'직무명': saramin_jobs[jobid], '회사명': company,\n",
    "                        '채용공고명': head_title, '근무지역': work_place,\n",
    "                        '고용형태': employment_type, '경력조건': career, \n",
    "                        '교육': education,'마감일': deadlines,'출처': job_url}\n",
    "                df = pd.concat([df, pd.DataFrame(new_row, index=[0])], ignore_index=True)\n",
    "                jobs_url.append(job_url)  # URL을 jobs_url 리스트에 추가\n",
    "                \n",
    "            except Exception:\n",
    "                pass\n",
    "\n",
    "        page += 1  # 다음 페이지로 이동\n",
    "    print(f'{saramin_jobs[jobid]}', '탐색 완료')\n",
    "    return df"
   ]
  },
  {
   "cell_type": "code",
   "execution_count": 94,
   "metadata": {},
   "outputs": [],
   "source": [
    "# frame안의 새로운 url찾기\n",
    "frame_urls = []\n",
    "def find_newurl(jobs_url):\n",
    "    for job_url in tqdm(jobs_url):\n",
    "        driver.get(job_url)\n",
    "        driver.implicitly_wait(3)\n",
    "        frame_urls.append(driver.find_element(By.XPATH, '//*[@id=\"iframe_content_0\"]').get_attribute('src'))"
   ]
  },
  {
   "cell_type": "code",
   "execution_count": 128,
   "metadata": {},
   "outputs": [],
   "source": [
    "def find_body(df, frame_urls):\n",
    "    for i, frame_url in enumerate(tqdm(frame_urls)):\n",
    "        try:\n",
    "            driver.get(frame_url)\n",
    "            driver.implicitly_wait(5)\n",
    "            jd_body = driver.find_element(By.XPATH, '/html/body/div/div').text\n",
    "            df.loc[i, '채용공고상세'] = jd_body\n",
    "        except Exception:\n",
    "            pass"
   ]
  },
  {
   "cell_type": "code",
   "execution_count": 99,
   "metadata": {},
   "outputs": [
    {
     "name": "stderr",
     "output_type": "stream",
     "text": [
      "  0%|          | 0/1 [00:00<?, ?it/s]"
     ]
    },
    {
     "name": "stdout",
     "output_type": "stream",
     "text": [
      "게임개발 탐색 시작\n",
      "1page 진행중\n",
      "2page 진행중\n",
      "3page 진행중\n",
      "4page 진행중\n",
      "5page 진행중\n",
      "6page 진행중\n",
      "7page 진행중\n",
      "8page 진행중\n",
      "9page 진행중\n"
     ]
    },
    {
     "name": "stderr",
     "output_type": "stream",
     "text": [
      "100%|██████████| 1/1 [00:08<00:00,  8.41s/it]"
     ]
    },
    {
     "name": "stdout",
     "output_type": "stream",
     "text": [
      "게임개발 탐색 완료\n"
     ]
    },
    {
     "name": "stderr",
     "output_type": "stream",
     "text": [
      "\n",
      "100%|██████████| 386/386 [07:12<00:00,  1.12s/it]\n"
     ]
    }
   ],
   "source": [
    "# 직무별 채용공고 크롤링 시작\n",
    "# 직무별 사이트로 들어가 직무별 채용공고 url 찾기\n",
    "for jobid in tqdm(saramin_job_id):\n",
    "    df = get_job_url(df,jobid)\n",
    "# 셀레니움 실행\n",
    "chrome_options = Options()\n",
    "chrome_options.add_experimental_option(\"detach\", True)\n",
    "service = Service(executable_path=ChromeDriverManager().install())\n",
    "driver = webdriver.Chrome(service=service, options=chrome_options)\n",
    "# print(f'{saramin_jobs[jobid]}', '탐색 완료')\n",
    "# frame_url(채용공고 프레임 url 찾기)\n",
    "find_newurl(jobs_url)\n",
    "# frame_url에 들어가 채용공고 상세(jd_body) 찾기\n",
    "find_body(df, frame_urls)\n",
    "driver.quit()"
   ]
  },
  {
   "cell_type": "code",
   "execution_count": 120,
   "metadata": {},
   "outputs": [
    {
     "data": {
      "text/html": [
       "<div>\n",
       "<style scoped>\n",
       "    .dataframe tbody tr th:only-of-type {\n",
       "        vertical-align: middle;\n",
       "    }\n",
       "\n",
       "    .dataframe tbody tr th {\n",
       "        vertical-align: top;\n",
       "    }\n",
       "\n",
       "    .dataframe thead th {\n",
       "        text-align: right;\n",
       "    }\n",
       "</style>\n",
       "<table border=\"1\" class=\"dataframe\">\n",
       "  <thead>\n",
       "    <tr style=\"text-align: right;\">\n",
       "      <th></th>\n",
       "      <th>직무명</th>\n",
       "      <th>회사명</th>\n",
       "      <th>채용공고명</th>\n",
       "      <th>근무지역</th>\n",
       "      <th>고용형태</th>\n",
       "      <th>경력조건</th>\n",
       "      <th>교육</th>\n",
       "      <th>마감일</th>\n",
       "      <th>출처</th>\n",
       "      <th>채용공고상세</th>\n",
       "    </tr>\n",
       "  </thead>\n",
       "  <tbody>\n",
       "    <tr>\n",
       "      <th>0</th>\n",
       "      <td>게임개발</td>\n",
       "      <td>(주)엔씨아이티에스</td>\n",
       "      <td>[NC 자회사] ㈜NC ITS ITSM 개발 인력 채용</td>\n",
       "      <td>경기 성남시 분당구</td>\n",
       "      <td>정규직</td>\n",
       "      <td>신입 · 경력</td>\n",
       "      <td>대학(2,3년)↑</td>\n",
       "      <td>~ 06/28(수)(11일 전 등록)</td>\n",
       "      <td>https://www.saramin.co.kr/zf_user/jobs/relay/v...</td>\n",
       "      <td>모집부문 및 자격요건\\n모집부문 담당업무 상세 내용 인원\\nFront-End\\nDe...</td>\n",
       "    </tr>\n",
       "    <tr>\n",
       "      <th>1</th>\n",
       "      <td>게임개발</td>\n",
       "      <td>한국기술교육직업전문학교</td>\n",
       "      <td>23년 하반기 전액국비 IT(JAVA/빅데이터, 클라우드/정보보안)취업교육생 모집</td>\n",
       "      <td>부산 동래구</td>\n",
       "      <td>교육생</td>\n",
       "      <td>경력무관</td>\n",
       "      <td>학력무관</td>\n",
       "      <td>~ 06/20(목)(3일 전 등록)</td>\n",
       "      <td>https://www.saramin.co.kr/zf_user/jobs/relay/v...</td>\n",
       "      <td>[교육비무료]\\n23년 하반기 전액국비 IT(JAVA/빅데이터,\\n클라우드/정보보안...</td>\n",
       "    </tr>\n",
       "    <tr>\n",
       "      <th>2</th>\n",
       "      <td>게임개발</td>\n",
       "      <td>(주)엔씨아이티에스</td>\n",
       "      <td>[NC 자회사] ㈜NC ITS 시스템 엔지니어 채용</td>\n",
       "      <td>경기 성남시 분당구</td>\n",
       "      <td>정규직 · 계약직</td>\n",
       "      <td>경력 5년↑</td>\n",
       "      <td>대학(2,3년)↑</td>\n",
       "      <td>~ 06/29(목)(10일 전 등록)</td>\n",
       "      <td>https://www.saramin.co.kr/zf_user/jobs/relay/v...</td>\n",
       "      <td>모집부문 및 자격요건\\n모집부문 담당업무 상세 내용 인원\\nNC IDC\\n시스템 관...</td>\n",
       "    </tr>\n",
       "    <tr>\n",
       "      <th>3</th>\n",
       "      <td>게임개발</td>\n",
       "      <td>(주)엔씨아이티에스</td>\n",
       "      <td>[NC 자회사] ㈜NC ITS 게임웹운영 인원 채용</td>\n",
       "      <td>경기 성남시 분당구</td>\n",
       "      <td>계약직</td>\n",
       "      <td>경력무관</td>\n",
       "      <td>대학(2,3년)↑</td>\n",
       "      <td>오늘마감(13일 전 등록)</td>\n",
       "      <td>https://www.saramin.co.kr/zf_user/jobs/relay/v...</td>\n",
       "      <td>모집부문 및 자격요건\\n모집부문 담당업무 상세 내용 인원\\n게임웹운영 - NC게임 ...</td>\n",
       "    </tr>\n",
       "    <tr>\n",
       "      <th>4</th>\n",
       "      <td>게임개발</td>\n",
       "      <td>(주)네트로</td>\n",
       "      <td>(주)네트로 부문별 신입/경력 채용</td>\n",
       "      <td>대구 수성구</td>\n",
       "      <td>정규직</td>\n",
       "      <td>신입 · 경력</td>\n",
       "      <td>고졸↑</td>\n",
       "      <td>~ 06/30(금)(13일 전 등록)</td>\n",
       "      <td>https://www.saramin.co.kr/zf_user/jobs/relay/v...</td>\n",
       "      <td>(주)네트로\\n부문별 신입/경력 채용\\n모집부분 및 상세내역\\n모집부문 담당업무 자...</td>\n",
       "    </tr>\n",
       "    <tr>\n",
       "      <th>...</th>\n",
       "      <td>...</td>\n",
       "      <td>...</td>\n",
       "      <td>...</td>\n",
       "      <td>...</td>\n",
       "      <td>...</td>\n",
       "      <td>...</td>\n",
       "      <td>...</td>\n",
       "      <td>...</td>\n",
       "      <td>...</td>\n",
       "      <td>...</td>\n",
       "    </tr>\n",
       "    <tr>\n",
       "      <th>381</th>\n",
       "      <td>게임개발</td>\n",
       "      <td>(주)잔디소프트</td>\n",
       "      <td>개발 툴 프로그래머 모집</td>\n",
       "      <td>서울전체</td>\n",
       "      <td>정규직</td>\n",
       "      <td>신입 · 경력</td>\n",
       "      <td>학력무관</td>\n",
       "      <td>상시채용(424일 전 등록)</td>\n",
       "      <td>https://www.saramin.co.kr/zf_user/jobs/relay/v...</td>\n",
       "      <td>NaN</td>\n",
       "    </tr>\n",
       "    <tr>\n",
       "      <th>382</th>\n",
       "      <td>게임개발</td>\n",
       "      <td>(주)잔디소프트</td>\n",
       "      <td>엔진 개발자 모집</td>\n",
       "      <td>서울전체</td>\n",
       "      <td>정규직</td>\n",
       "      <td>2 ~ 20년</td>\n",
       "      <td>대학교(4년)↑</td>\n",
       "      <td>상시채용(430일 전 등록)</td>\n",
       "      <td>https://www.saramin.co.kr/zf_user/jobs/relay/v...</td>\n",
       "      <td>NaN</td>\n",
       "    </tr>\n",
       "    <tr>\n",
       "      <th>383</th>\n",
       "      <td>게임개발</td>\n",
       "      <td>(주)모바인어스</td>\n",
       "      <td>유니티기반 기능성 게임 개발자</td>\n",
       "      <td>서울전체</td>\n",
       "      <td>정규직</td>\n",
       "      <td>2 ~ 10년</td>\n",
       "      <td>대학(2,3년)↑</td>\n",
       "      <td>상시채용(664일 전 등록)</td>\n",
       "      <td>https://www.saramin.co.kr/zf_user/jobs/relay/v...</td>\n",
       "      <td>NaN</td>\n",
       "    </tr>\n",
       "    <tr>\n",
       "      <th>384</th>\n",
       "      <td>게임개발</td>\n",
       "      <td>(주)앤스시스템</td>\n",
       "      <td>게임 개발자</td>\n",
       "      <td>서울전체</td>\n",
       "      <td>정규직</td>\n",
       "      <td>5 ~ 8년</td>\n",
       "      <td>대학(2,3년)↑</td>\n",
       "      <td>상시채용(538일 전 등록)</td>\n",
       "      <td>https://www.saramin.co.kr/zf_user/jobs/relay/v...</td>\n",
       "      <td>NaN</td>\n",
       "    </tr>\n",
       "    <tr>\n",
       "      <th>385</th>\n",
       "      <td>게임개발</td>\n",
       "      <td>(주)밸로프</td>\n",
       "      <td>클라이언트 경력 개발자 채용</td>\n",
       "      <td>서울전체</td>\n",
       "      <td>정규직</td>\n",
       "      <td>3 ~ 12년</td>\n",
       "      <td>학력무관</td>\n",
       "      <td>상시채용(612일 전 등록)</td>\n",
       "      <td>https://www.saramin.co.kr/zf_user/jobs/relay/v...</td>\n",
       "      <td>NaN</td>\n",
       "    </tr>\n",
       "  </tbody>\n",
       "</table>\n",
       "<p>386 rows × 10 columns</p>\n",
       "</div>"
      ],
      "text/plain": [
       "      직무명           회사명                                          채용공고명  \\\n",
       "0    게임개발    (주)엔씨아이티에스                 [NC 자회사] ㈜NC ITS ITSM 개발 인력 채용   \n",
       "1    게임개발  한국기술교육직업전문학교  23년 하반기 전액국비 IT(JAVA/빅데이터, 클라우드/정보보안)취업교육생 모집   \n",
       "2    게임개발    (주)엔씨아이티에스                   [NC 자회사] ㈜NC ITS 시스템 엔지니어 채용   \n",
       "3    게임개발    (주)엔씨아이티에스                   [NC 자회사] ㈜NC ITS 게임웹운영 인원 채용   \n",
       "4    게임개발        (주)네트로                            (주)네트로 부문별 신입/경력 채용   \n",
       "..    ...           ...                                            ...   \n",
       "381  게임개발      (주)잔디소프트                                  개발 툴 프로그래머 모집   \n",
       "382  게임개발      (주)잔디소프트                                      엔진 개발자 모집   \n",
       "383  게임개발      (주)모바인어스                               유니티기반 기능성 게임 개발자   \n",
       "384  게임개발      (주)앤스시스템                                         게임 개발자   \n",
       "385  게임개발        (주)밸로프                                클라이언트 경력 개발자 채용   \n",
       "\n",
       "           근무지역       고용형태     경력조건         교육                   마감일  \\\n",
       "0    경기 성남시 분당구        정규직  신입 · 경력  대학(2,3년)↑  ~ 06/28(수)(11일 전 등록)   \n",
       "1        부산 동래구        교육생     경력무관       학력무관   ~ 06/20(목)(3일 전 등록)   \n",
       "2    경기 성남시 분당구  정규직 · 계약직   경력 5년↑  대학(2,3년)↑  ~ 06/29(목)(10일 전 등록)   \n",
       "3    경기 성남시 분당구        계약직     경력무관  대학(2,3년)↑        오늘마감(13일 전 등록)   \n",
       "4        대구 수성구        정규직  신입 · 경력        고졸↑  ~ 06/30(금)(13일 전 등록)   \n",
       "..          ...        ...      ...        ...                   ...   \n",
       "381        서울전체        정규직  신입 · 경력       학력무관       상시채용(424일 전 등록)   \n",
       "382        서울전체        정규직  2 ~ 20년   대학교(4년)↑       상시채용(430일 전 등록)   \n",
       "383        서울전체        정규직  2 ~ 10년  대학(2,3년)↑       상시채용(664일 전 등록)   \n",
       "384        서울전체        정규직   5 ~ 8년  대학(2,3년)↑       상시채용(538일 전 등록)   \n",
       "385        서울전체        정규직  3 ~ 12년       학력무관       상시채용(612일 전 등록)   \n",
       "\n",
       "                                                    출처  \\\n",
       "0    https://www.saramin.co.kr/zf_user/jobs/relay/v...   \n",
       "1    https://www.saramin.co.kr/zf_user/jobs/relay/v...   \n",
       "2    https://www.saramin.co.kr/zf_user/jobs/relay/v...   \n",
       "3    https://www.saramin.co.kr/zf_user/jobs/relay/v...   \n",
       "4    https://www.saramin.co.kr/zf_user/jobs/relay/v...   \n",
       "..                                                 ...   \n",
       "381  https://www.saramin.co.kr/zf_user/jobs/relay/v...   \n",
       "382  https://www.saramin.co.kr/zf_user/jobs/relay/v...   \n",
       "383  https://www.saramin.co.kr/zf_user/jobs/relay/v...   \n",
       "384  https://www.saramin.co.kr/zf_user/jobs/relay/v...   \n",
       "385  https://www.saramin.co.kr/zf_user/jobs/relay/v...   \n",
       "\n",
       "                                                채용공고상세  \n",
       "0    모집부문 및 자격요건\\n모집부문 담당업무 상세 내용 인원\\nFront-End\\nDe...  \n",
       "1    [교육비무료]\\n23년 하반기 전액국비 IT(JAVA/빅데이터,\\n클라우드/정보보안...  \n",
       "2    모집부문 및 자격요건\\n모집부문 담당업무 상세 내용 인원\\nNC IDC\\n시스템 관...  \n",
       "3    모집부문 및 자격요건\\n모집부문 담당업무 상세 내용 인원\\n게임웹운영 - NC게임 ...  \n",
       "4    (주)네트로\\n부문별 신입/경력 채용\\n모집부분 및 상세내역\\n모집부문 담당업무 자...  \n",
       "..                                                 ...  \n",
       "381                                                NaN  \n",
       "382                                                NaN  \n",
       "383                                                NaN  \n",
       "384                                                NaN  \n",
       "385                                                NaN  \n",
       "\n",
       "[386 rows x 10 columns]"
      ]
     },
     "execution_count": 120,
     "metadata": {},
     "output_type": "execute_result"
    }
   ],
   "source": [
    "df"
   ]
  },
  {
   "cell_type": "code",
   "execution_count": 114,
   "metadata": {},
   "outputs": [
    {
     "data": {
      "text/plain": [
       "['https://www.saramin.co.kr/zf_user/jobs/relay/view-detail?rec_idx=45928447&rec_seq=0&t_category=relay_view&t_content=view_detail&t_ref=&t_ref_content=',\n",
       " 'https://www.saramin.co.kr/zf_user/jobs/relay/view-detail?rec_idx=45987137&rec_seq=0&t_category=relay_view&t_content=view_detail&t_ref=&t_ref_content=',\n",
       " 'https://www.saramin.co.kr/zf_user/jobs/relay/view-detail?rec_idx=45936064&rec_seq=0&t_category=relay_view&t_content=view_detail&t_ref=&t_ref_content=',\n",
       " 'https://www.saramin.co.kr/zf_user/jobs/relay/view-detail?rec_idx=45908179&rec_seq=0&t_category=relay_view&t_content=view_detail&t_ref=&t_ref_content=',\n",
       " 'https://www.saramin.co.kr/zf_user/jobs/relay/view-detail?rec_idx=45905465&rec_seq=0&t_category=relay_view&t_content=view_detail&t_ref=&t_ref_content=',\n",
       " 'https://www.saramin.co.kr/zf_user/jobs/relay/view-detail?rec_idx=45991805&rec_seq=0&t_category=relay_view&t_content=view_detail&t_ref=&t_ref_content=',\n",
       " 'https://www.saramin.co.kr/zf_user/jobs/relay/view-detail?rec_idx=45991675&rec_seq=0&t_category=relay_view&t_content=view_detail&t_ref=&t_ref_content=',\n",
       " 'https://www.saramin.co.kr/zf_user/jobs/relay/view-detail?rec_idx=45996368&rec_seq=0&t_category=relay_view&t_content=view_detail&t_ref=&t_ref_content=',\n",
       " 'https://www.saramin.co.kr/zf_user/jobs/relay/view-detail?rec_idx=45985843&rec_seq=0&t_category=relay_view&t_content=view_detail&t_ref=&t_ref_content=',\n",
       " 'https://www.saramin.co.kr/zf_user/jobs/relay/view-detail?rec_idx=45984527&rec_seq=0&t_category=relay_view&t_content=view_detail&t_ref=&t_ref_content=']"
      ]
     },
     "execution_count": 114,
     "metadata": {},
     "output_type": "execute_result"
    }
   ],
   "source": [
    "frame_urls[:10]"
   ]
  },
  {
   "cell_type": "code",
   "execution_count": 130,
   "metadata": {},
   "outputs": [],
   "source": [
    "df.to_csv('./사람인.csv', index=False)"
   ]
  },
  {
   "cell_type": "code",
   "execution_count": 129,
   "metadata": {},
   "outputs": [
    {
     "name": "stderr",
     "output_type": "stream",
     "text": [
      "100%|██████████| 376/376 [04:38<00:00,  1.35it/s]\n"
     ]
    }
   ],
   "source": [
    "find_body(df, frame_urls[10:])"
   ]
  },
  {
   "cell_type": "code",
   "execution_count": null,
   "metadata": {},
   "outputs": [],
   "source": []
  }
 ],
 "metadata": {
  "kernelspec": {
   "display_name": "webc",
   "language": "python",
   "name": "python3"
  },
  "language_info": {
   "codemirror_mode": {
    "name": "ipython",
    "version": 3
   },
   "file_extension": ".py",
   "mimetype": "text/x-python",
   "name": "python",
   "nbconvert_exporter": "python",
   "pygments_lexer": "ipython3",
   "version": "3.9.13 | packaged by conda-forge | (main, May 27 2022, 17:00:33) \n[Clang 13.0.1 ]"
  },
  "orig_nbformat": 4,
  "vscode": {
   "interpreter": {
    "hash": "3935845f948549943e2f5f17a3c246e79ebff7d3d327e796805a708e44123008"
   }
  }
 },
 "nbformat": 4,
 "nbformat_minor": 2
}
