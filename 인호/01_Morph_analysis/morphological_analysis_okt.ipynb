{
 "cells": [
  {
   "cell_type": "code",
   "execution_count": 43,
   "metadata": {},
   "outputs": [],
   "source": [
    "import pandas as pd\n",
    "import numpy as np\n",
    "from konlpy.tag import Hannanum,Okt\n",
    "import re"
   ]
  },
  {
   "cell_type": "code",
   "execution_count": 44,
   "metadata": {},
   "outputs": [],
   "source": [
    "result_csv = pd.read_csv('result.csv')"
   ]
  },
  {
   "attachments": {},
   "cell_type": "markdown",
   "metadata": {},
   "source": [
    "- 기술 스택 종류 파악"
   ]
  },
  {
   "cell_type": "code",
   "execution_count": 45,
   "metadata": {},
   "outputs": [],
   "source": [
    "# 데이터 전처리\n",
    "def preprocess_data(text):\n",
    "    # 정규식을 사용하여 특수문자 제거\n",
    "    text = re.sub(r'[-•·*,\\r\\n\\(\\)\\[\\]\\/:ㆍ\\<\\>＜＞［］]', ' ', text)\n",
    "\n",
    "    # 정규식을 사용하여 특수문자 제거\n",
    "    # text = re.sub(r'[^\\w\\s]', ' ', text)\n",
    "\n",
    "    # 토큰화\n",
    "    okt = Okt()\n",
    "    tokens = okt.morphs(text)\n",
    "    \n",
    "    return tokens"
   ]
  },
  {
   "cell_type": "code",
   "execution_count": null,
   "metadata": {},
   "outputs": [],
   "source": [
    "df['기술 스택'] = df['기술 스택'].apply(lambda text: re.sub(r'[-•·*,\\r\\n\\(\\)\\[\\]\\/:ㆍ\\<\\>＜＞［］]', ' ', text))"
   ]
  },
  {
   "cell_type": "code",
   "execution_count": 40,
   "metadata": {},
   "outputs": [],
   "source": [
    "result_csv = pd.read_csv('result.csv')"
   ]
  },
  {
   "cell_type": "code",
   "execution_count": 46,
   "metadata": {},
   "outputs": [],
   "source": [
    "result_csv = result_csv.head(5)"
   ]
  },
  {
   "cell_type": "code",
   "execution_count": 47,
   "metadata": {},
   "outputs": [],
   "source": [
    "result_csv['자격요건'] = result_csv['자격요건'].apply(preprocess_data)"
   ]
  },
  {
   "cell_type": "code",
   "execution_count": 50,
   "metadata": {},
   "outputs": [
    {
     "data": {
      "text/plain": [
       "['최소',\n",
       " '2년',\n",
       " '이상',\n",
       " '혹은',\n",
       " '그',\n",
       " '에',\n",
       " '준',\n",
       " '하는',\n",
       " '해당',\n",
       " '업무',\n",
       " '경험',\n",
       " 'Python',\n",
       " '필수',\n",
       " '웹',\n",
       " '프레임워크',\n",
       " 'Django',\n",
       " '에',\n",
       " '능숙하신',\n",
       " '분',\n",
       " '테스트',\n",
       " '코드',\n",
       " '작성',\n",
       " '의',\n",
       " '필요성',\n",
       " '을',\n",
       " '이해',\n",
       " '하고',\n",
       " '실천',\n",
       " '하시는',\n",
       " '분',\n",
       " '코드',\n",
       " '리뷰',\n",
       " '와',\n",
       " '페어',\n",
       " '프로그래밍',\n",
       " '등',\n",
       " '팀',\n",
       " '내',\n",
       " '협업',\n",
       " '의',\n",
       " '필요성',\n",
       " '을',\n",
       " '이해',\n",
       " '하고',\n",
       " '실천',\n",
       " '하시는',\n",
       " '분',\n",
       " '개발',\n",
       " '기획',\n",
       " '세무',\n",
       " '운영',\n",
       " 'CS',\n",
       " '등',\n",
       " '다양한',\n",
       " '직',\n",
       " '군',\n",
       " '의',\n",
       " '동료',\n",
       " '들',\n",
       " '과',\n",
       " '원활한',\n",
       " '소통',\n",
       " '이',\n",
       " '가능하신',\n",
       " '분',\n",
       " 'Tech',\n",
       " 'Specs',\n",
       " 'Language',\n",
       " 'Python',\n",
       " '3',\n",
       " 'Framework',\n",
       " 'Django',\n",
       " 'rest',\n",
       " 'framework',\n",
       " 'Flask',\n",
       " 'FastAPI',\n",
       " 'Celery',\n",
       " 'Data',\n",
       " 'storage',\n",
       " 'PostgreSQL',\n",
       " 'Redis',\n",
       " 'DynamoDB',\n",
       " 'S',\n",
       " '3',\n",
       " 'Deployment',\n",
       " 'Github',\n",
       " 'action',\n",
       " 'Docker',\n",
       " 'ECS',\n",
       " 'EKS',\n",
       " 'Cloud',\n",
       " 'platform',\n",
       " 'AWS',\n",
       " 'VCS',\n",
       " 'Github',\n",
       " 'Communication',\n",
       " 'Slack',\n",
       " 'Documentation',\n",
       " 'Notion',\n",
       " 'G',\n",
       " 'Suite',\n",
       " 'Jira',\n",
       " 'Issue',\n",
       " 'Tracker',\n",
       " 'JIRA']"
      ]
     },
     "execution_count": 50,
     "metadata": {},
     "output_type": "execute_result"
    }
   ],
   "source": [
    "result_csv['자격요건'][0]"
   ]
  },
  {
   "cell_type": "code",
   "execution_count": null,
   "metadata": {},
   "outputs": [],
   "source": [
    "# 데이터 로드\n",
    "result_csv = pd.read_csv('result.csv')\n",
    "\n",
    "# 텍스트 전처리\n",
    "columns = ['공고명','자격요건','우대조건','기술 스택','복지']\n",
    "\n",
    "for column in columns:\n",
    "    result_csv[column] = result_csv[column].apply(preprocess_data)"
   ]
  },
  {
   "attachments": {},
   "cell_type": "markdown",
   "metadata": {},
   "source": [
    "# data type이 float(nan의 경우 float)이 되어 있는 경우가 있어서 에러가 남"
   ]
  },
  {
   "cell_type": "code",
   "execution_count": 56,
   "metadata": {},
   "outputs": [],
   "source": [
    "result_csv = pd.read_csv('result.csv')"
   ]
  },
  {
   "cell_type": "code",
   "execution_count": 53,
   "metadata": {},
   "outputs": [
    {
     "data": {
      "text/plain": [
       "(11393, 10)"
      ]
     },
     "execution_count": 53,
     "metadata": {},
     "output_type": "execute_result"
    }
   ],
   "source": [
    "result_csv.shape"
   ]
  },
  {
   "cell_type": "code",
   "execution_count": 54,
   "metadata": {},
   "outputs": [],
   "source": [
    "# str type외의 type이 들어있는 row를 삭제\n",
    "result_csv = result_csv[result_csv.applymap(lambda x: isinstance(x, str)).all(1)]"
   ]
  },
  {
   "cell_type": "code",
   "execution_count": 55,
   "metadata": {},
   "outputs": [
    {
     "data": {
      "text/plain": [
       "(3295, 10)"
      ]
     },
     "execution_count": 55,
     "metadata": {},
     "output_type": "execute_result"
    }
   ],
   "source": [
    "result_csv.shape"
   ]
  },
  {
   "cell_type": "code",
   "execution_count": 57,
   "metadata": {},
   "outputs": [
    {
     "name": "stdout",
     "output_type": "stream",
     "text": [
      "             회사명        지원기간                            공고명   직무내용  \\\n",
      "0           혜움랩스         NaN     Python Developer (백엔드 주니어)  웹 개발자   \n",
      "1           혜움랩스         NaN                프론트엔드 개발자 (주니어)  웹 개발자   \n",
      "4         인투씨엔에스         NaN                    웹개발 인재(PHP)  웹 개발자   \n",
      "5      꾸까(kukka)         NaN             E-commerce 백엔드 개발자  웹 개발자   \n",
      "6      베이스라인파트너스         NaN  Cloud(AWS,GCP) 기반 운영 및 개발 담당자  웹 개발자   \n",
      "...          ...         ...                            ...    ...   \n",
      "11388       슈프리마          상시                    국내 기술지원 담당자   기술지원   \n",
      "11389        인젠트          상시     [인젠트] 데이터사업실_프리세일즈, 컨설팅 채용   기술지원   \n",
      "11390       위메이드  2023.09.11      [위메이드XR] Technical Artist   기술지원   \n",
      "11391       모니터랩          상시     클라우드 플랫폼 보안관제 기술지원 엔지니어 채용   기술지원   \n",
      "11392       모니터랩          상시     클라우드 플랫폼 보안관제 기술지원 엔지니어 채용   기술지원   \n",
      "\n",
      "                                                    자격요건  \\\n",
      "0      • 최소 2년 이상 혹은 그에 준하는 해당 업무 경험\\n• Python(필수), 웹...   \n",
      "1      • HTML / CSS / JavaScript 에 대한 이해\\n• 컴퓨터 사이언스에...   \n",
      "4      PHP 중급 이상\\nMYSQL 중급 이상\\nPHP 프레임워크 사용 경험자 (ci, ...   \n",
      "5      • 1년 이상의 백엔드 개발 경력 또는 그에 준하는 경험이 있으신 분\\n• Java...   \n",
      "6      AWS / linux / gitLab / DB(mysql) / EKS(K8S)  /...   \n",
      "...                                                  ...   \n",
      "11388  • 출입통제, 영상보안 분야 고객지원, 기술지원 유경험자\\n• 네트워크, IT 전공...   \n",
      "11389    • IT솔루션 프리세일즈 및 컨설팅 경험자\\n• 데이터베이스에 대한 기본 지식 보유자   \n",
      "11390  • 학력 무관\\n• PBR 쉐이더 기반의 Asset 제작에 충분한 경험이 있으신 분...   \n",
      "11391  • 경력 3년차 이상\\n• 유관업무 경력자 및 관련 학과 전공자\\n• 네트워크 통신...   \n",
      "11392  • 경력 3년차 이상\\n• 유관업무 경력자 및 관련 학과 전공자\\n• 네트워크 통신...   \n",
      "\n",
      "                                                    우대조건      경력조건  \\\n",
      "0      • MSA 기반의 시스템 개발 경험이 있으신 분\\n• AWS 를 활용한 개발, 운영...     2년 이상   \n",
      "1      • Vue.js, React.js, Angular 등 SPA 개발 경험이 있는 분\\...     경력 무관   \n",
      "4      웹 서비스 라이브 런칭 경험자\\nRESTful API 설계 및 개발경험\\nGit H...     경력 무관   \n",
      "5      • 온라인/커머스 서비스 업계 경험이 있으신 분\\n• 주문/결제/물류/배송 등 이커...     1년 이상   \n",
      "6                  AWS 운영 경험 / 개발(python/java 등) 경험  보유자     경력 무관   \n",
      "...                                                  ...       ...   \n",
      "11388   • 동종 업계 최소 2년 이상의기술지원, 현장 PM 등 업무 유경험자\\n• 초대졸 이상   경력 2~9년   \n",
      "11389      • 정보처리기사 등 IT 관련 자격증 보유자 우대\\n• DB관련 업무 경험자 우대   경력 3~5년   \n",
      "11390                                                  -  경력 3~10년   \n",
      "11391  • 네트워크 및 보안기술 자격증 보유자\\n• 영어 가능자 (회화, 작문, TOEIC...  경력 3~10년   \n",
      "11392  • 네트워크 및 보안기술 자격증 보유자\\n• 영어 가능자 (회화, 작문, TOEIC...  경력 3~10년   \n",
      "\n",
      "                                                   기술 스택  \\\n",
      "0       Github\\nJavaScript\\nTypeScript\\nReact.js\\nVue.JS   \n",
      "1       Github\\nJavaScript\\nTypeScript\\nReact.js\\nVue.JS   \n",
      "4                    Git\\nLinux\\nMySQL\\nPHP\\nDocker\\nSVN   \n",
      "5      Git\\nDjango\\nMySQL\\nReact\\nPython\\nTypeScript\\...   \n",
      "6      GitLab\\nLinux\\nMySQL\\nHTML\\nJava\\nAWS\\nSpring ...   \n",
      "...                                                  ...   \n",
      "11388                                            Network   \n",
      "11389            Spring Framework\\nPostgreSQL\\nLinux\\nsw   \n",
      "11390                                      Unreal Engine   \n",
      "11391                                     Linux\\nNetwork   \n",
      "11392                                     Linux\\nNetwork   \n",
      "\n",
      "                                        출처 URL  \\\n",
      "0           https://www.wanted.co.kr/wd/167436   \n",
      "1           https://www.wanted.co.kr/wd/167433   \n",
      "4           https://www.wanted.co.kr/wd/166922   \n",
      "5           https://www.wanted.co.kr/wd/166844   \n",
      "6           https://www.wanted.co.kr/wd/166616   \n",
      "...                                        ...   \n",
      "11388  https://www.jumpit.co.kr/position/17538   \n",
      "11389   https://www.jumpit.co.kr/position/9245   \n",
      "11390  https://www.jumpit.co.kr/position/17158   \n",
      "11391  https://www.jumpit.co.kr/position/17818   \n",
      "11392  https://www.jumpit.co.kr/position/17818   \n",
      "\n",
      "                                                      복지  \n",
      "0      # 몰입을 위한\\n• 액면가 스톡옵션의 기회가 열려있습니다. (2023년 7월 내 ...  \n",
      "1      # 몰입을 위한\\n• 액면가 스톡옵션의 기회가 열려있습니다. (2023년 7월 내 ...  \n",
      "4      매월 1회 패밀리데이(오전근무/세번째 금요일)\\n패밀리데이 상품권 지급(연 60만원...  \n",
      "5      • 서울 7호선 내방역 1번 출구 도보 5분 거리\\n• 수습기간 3개월 평가후 정규...  \n",
      "6      • 4대보험 \\n• 연차제도 \\n• 경조휴가 및 경조사비\\n• 퇴직금\\n• 장기근속 포상  \n",
      "...                                                  ...  \n",
      "11388  • 4.5일제 (금요일 4시간 근무)\\n슈프리마는 구성원들의 일에 대한 몰입을 위하...  \n",
      "11389  • 패밀리데이: 매주 2, 4째주 금요일은 조기퇴근!!\\n• 휴양시설 지원: 대명리...  \n",
      "11390  • 배려와 존중으로 함께 일하는 최고의 팀 동료들이 있어요\\n• 취향에 따라, 기분...  \n",
      "11391  • 입사자를 위한 웰컴팩! (최신 장비 지원)\\n• 휴식을 위한 카페테리아, 안마기...  \n",
      "11392  • 입사자를 위한 웰컴팩! (최신 장비 지원)\\n• 휴식을 위한 카페테리아, 안마기...  \n",
      "\n",
      "[8977 rows x 10 columns]\n"
     ]
    }
   ],
   "source": [
    "\n",
    "# 필요 컬럼에서만 str 타입이 아닌 row 제거\n",
    "for column in columns:\n",
    "    result_csv = result_csv[result_csv[column].apply(lambda x: isinstance(x, str))]\n",
    "\n",
    "# 결과 출력\n",
    "print(result_csv)"
   ]
  },
  {
   "cell_type": "code",
   "execution_count": 58,
   "metadata": {},
   "outputs": [],
   "source": [
    "# 텍스트 전처리\n",
    "columns = ['공고명','자격요건','우대조건','기술 스택','복지']\n",
    "\n",
    "for column in columns:\n",
    "    result_csv[column] = result_csv[column].apply(preprocess_data)"
   ]
  },
  {
   "cell_type": "code",
   "execution_count": 59,
   "metadata": {},
   "outputs": [],
   "source": [
    "new_df = result_csv[columns]\n",
    "\n",
    "# 새로운 csv 파일 만들기\n",
    "new_df.to_csv('확인.csv', index=False)"
   ]
  },
  {
   "cell_type": "code",
   "execution_count": null,
   "metadata": {},
   "outputs": [],
   "source": []
  }
 ],
 "metadata": {
  "kernelspec": {
   "display_name": "test01",
   "language": "python",
   "name": "python3"
  },
  "language_info": {
   "codemirror_mode": {
    "name": "ipython",
    "version": 3
   },
   "file_extension": ".py",
   "mimetype": "text/x-python",
   "name": "python",
   "nbconvert_exporter": "python",
   "pygments_lexer": "ipython3",
   "version": "3.9.13"
  },
  "orig_nbformat": 4,
  "vscode": {
   "interpreter": {
    "hash": "4f7c2185bb365dcd588315b0847aad4bd6ab324800dd702a1689ac6f4f2b0594"
   }
  }
 },
 "nbformat": 4,
 "nbformat_minor": 2
}
