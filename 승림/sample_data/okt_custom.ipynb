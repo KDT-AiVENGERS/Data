{
 "cells": [
  {
   "cell_type": "code",
   "execution_count": 1,
   "metadata": {},
   "outputs": [
    {
     "name": "stdout",
     "output_type": "stream",
     "text": [
      "Collecting customized_konlpy\n",
      "  Downloading customized_konlpy-0.0.64-py3-none-any.whl (881 kB)\n",
      "\u001b[2K     \u001b[90m━━━━━━━━━━━━━━━━━━━━━━━━━━━━━━━━━━━━━━━\u001b[0m \u001b[32m881.5/881.5 kB\u001b[0m \u001b[31m1.0 MB/s\u001b[0m eta \u001b[36m0:00:00\u001b[0m00:01\u001b[0m00:01\u001b[0m\n",
      "\u001b[?25hRequirement already satisfied: Jpype1>=0.6.1 in /opt/homebrew/anaconda3/envs/okt/lib/python3.10/site-packages (from customized_konlpy) (1.4.1)\n",
      "Requirement already satisfied: konlpy>=0.4.4 in /opt/homebrew/anaconda3/envs/okt/lib/python3.10/site-packages (from customized_konlpy) (0.6.0)\n",
      "Requirement already satisfied: packaging in /opt/homebrew/anaconda3/envs/okt/lib/python3.10/site-packages (from Jpype1>=0.6.1->customized_konlpy) (23.1)\n",
      "Requirement already satisfied: lxml>=4.1.0 in /opt/homebrew/anaconda3/envs/okt/lib/python3.10/site-packages (from konlpy>=0.4.4->customized_konlpy) (4.9.3)\n",
      "Requirement already satisfied: numpy>=1.6 in /opt/homebrew/anaconda3/envs/okt/lib/python3.10/site-packages (from konlpy>=0.4.4->customized_konlpy) (1.25.1)\n",
      "Installing collected packages: customized_konlpy\n",
      "Successfully installed customized_konlpy-0.0.64\n"
     ]
    }
   ],
   "source": [
    "## 설치\n",
    "# !pip install customized_konlpy"
   ]
  },
  {
   "cell_type": "code",
   "execution_count": 1,
   "metadata": {},
   "outputs": [
    {
     "name": "stderr",
     "output_type": "stream",
     "text": [
      "/opt/homebrew/anaconda3/envs/okt/lib/python3.10/site-packages/konlpy/tag/_okt.py:17: UserWarning: \"Twitter\" has changed to \"Okt\" since KoNLPy v0.4.5.\n",
      "  warn('\"Twitter\" has changed to \"Okt\" since KoNLPy v0.4.5.')\n"
     ]
    },
    {
     "name": "stdout",
     "output_type": "stream",
     "text": [
      "[('K', 'Alpha'), ('8', 'Number'), ('S', 'Alpha'), ('초대', 'Noun'), ('졸', 'Noun'), ('Vue', 'Alpha'), ('.', 'Punctuation'), ('js', 'Alpha'), ('프론트엔드', 'Noun'), ('서비스', 'Noun'), ('RESTAPI', 'Alpha'), ('C', 'Alpha'), ('#', 'Punctuation'), ('C', 'Alpha'), ('++', 'Punctuation'), ('HTML', 'Alpha'), ('5', 'Number')]\n"
     ]
    }
   ],
   "source": [
    "from ckonlpy.tag import Twitter\n",
    "\n",
    "## 사전에 두 단어를 명사로 등록합니다.\n",
    "twitter = Twitter()\n",
    "# twitter.add_dictionary(['K8S','초대졸','Vue.js', '프론트엔드 서비스', 'RESTAPI', 'C#', 'C++', 'HTML5'], 'Noun')\n",
    "\n",
    "print(twitter.pos(u'K8S 초대졸 Vue.js 프론트엔드 서비스 RESTAPI C# C++ HTML5'))"
   ]
  },
  {
   "cell_type": "code",
   "execution_count": 10,
   "metadata": {},
   "outputs": [
    {
     "name": "stdout",
     "output_type": "stream",
     "text": [
      "-1\n"
     ]
    }
   ],
   "source": [
    "# 사전에 등록하는 걸 매번 코드를 실행할 때마다 새로 등록해줘야 합니다!!\n",
    "# twitter.add_dictionary(['K8S','초대졸','Vue.js', '프론트엔드 서비스', 'RESTAPI', 'C#', 'C++', 'HTML5'], 'Noun')"
   ]
  },
  {
   "cell_type": "code",
   "execution_count": null,
   "metadata": {},
   "outputs": [],
   "source": []
  }
 ],
 "metadata": {
  "kernelspec": {
   "display_name": "okt",
   "language": "python",
   "name": "python3"
  },
  "language_info": {
   "codemirror_mode": {
    "name": "ipython",
    "version": 3
   },
   "file_extension": ".py",
   "mimetype": "text/x-python",
   "name": "python",
   "nbconvert_exporter": "python",
   "pygments_lexer": "ipython3",
   "version": "3.10.12"
  },
  "orig_nbformat": 4
 },
 "nbformat": 4,
 "nbformat_minor": 2
}
