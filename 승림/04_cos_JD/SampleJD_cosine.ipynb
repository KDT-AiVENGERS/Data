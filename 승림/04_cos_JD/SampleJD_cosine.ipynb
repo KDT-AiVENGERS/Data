{
 "cells": [
  {
   "cell_type": "code",
   "execution_count": 1,
   "metadata": {},
   "outputs": [],
   "source": [
    "import torch\n",
    "import pandas as pd\n",
    "import time\n",
    "from tqdm import tqdm"
   ]
  },
  {
   "cell_type": "code",
   "execution_count": 6,
   "metadata": {},
   "outputs": [],
   "source": [
    "def samplejd_cosine(path, samplejd_tensor, csvdata, modelname): \n",
    "    samplejd_tensor = torch.load(f\"{path}{samplejd_tensor}\")\n",
    "    csvdata = pd.read_csv(f\"{path}{csvdata}\")\n",
    "    print(\"불러온 텐서 차원을 확인합니다 : \", samplejd_tensor.shape)\n",
    "\n",
    "    # 텐서를 5개의 부분으로 나눕니다. ['자격요건', '우대조건', '복지', '회사소개', '주요업무']\n",
    "    tensor_parts = torch.chunk(samplejd_tensor, chunks=5, dim=1)\n",
    "    \n",
    "    # 하나의 행마다 코사인유사도를 계산합니다.\n",
    "    for index, _ in tqdm(csvdata.iterrows()):\n",
    "\n",
    "        # '평가대상columns'를 확인해서 one_tensor에 할당합니다.\n",
    "        match csvdata.at[index, '평가대상columns']:\n",
    "            case '자격요건':\n",
    "                one_tensor = tensor_parts[0]\n",
    "\n",
    "            case '우대조건':\n",
    "                one_tensor = tensor_parts[1]\n",
    "\n",
    "            case '복지':\n",
    "                one_tensor = tensor_parts[2]\n",
    "\n",
    "            case '회사소개':\n",
    "                one_tensor = tensor_parts[3]\n",
    "\n",
    "            case '주요업무':\n",
    "                one_tensor = tensor_parts[4]\n",
    "\n",
    "                \n",
    "        # cosine 유사도를 계산해서 '모델 유사도' 부분을 채웁니다.\n",
    "        url1 = csvdata.at[index, 'url1_idx']\n",
    "        url2 = csvdata.at[index, 'url2_idx']\n",
    "        cos_sim = torch.cosine_similarity(one_tensor[url1],one_tensor[url2],dim=0)\n",
    "        csvdata.at[index, '모델 유사도'] = cos_sim.item()\n",
    "    \n",
    "    #csv파일로 저장합니다.\n",
    "    csvdata.to_csv(f\"{path}samplejd_{modelname}.csv\", index=False)"
   ]
  },
  {
   "cell_type": "code",
   "execution_count": 7,
   "metadata": {},
   "outputs": [
    {
     "name": "stdout",
     "output_type": "stream",
     "text": [
      "불러온 텐서 차원을 확인합니다 :  torch.Size([41, 3840])\n"
     ]
    },
    {
     "name": "stderr",
     "output_type": "stream",
     "text": [
      "38it [00:00, 4358.91it/s]\n"
     ]
    }
   ],
   "source": [
    "samplejd_cosine(path='../dataset/', # 맨 뒤에 /까지 잘 붙여주기\n",
    "                samplejd_tensor='multilingual_2.pth', # predict를 통해 얻은 텐서파일\n",
    "                csvdata='samplejd_ver01.csv', # 코사인유사도 계산 대상 sampleJD. ver01로 사용해주세요!\n",
    "                modelname='bertmulti_2') # 모델명을 파일명으로 구분하여 csv파일로 저장하게 됩니다."
   ]
  },
  {
   "cell_type": "code",
   "execution_count": 4,
   "metadata": {},
   "outputs": [],
   "source": [
    "# # (optional) 필요한 경우, 저장된 csv 파일을 불러와서 정렬하여 볼 수 있는 코드입니다. by=['정렬하여 보고 싶은 컬럼명']으로 볼 수 있습니다.\n",
    "# # url이 너무 길어서 잘려 보인다면 한 데이터씩 출력해서 볼 수 있습니다.\n",
    "\n",
    "# pd.set_option('display.expand_frame_repr', False)\n",
    "# sorted_df = pd.read_csv('../dataset/samplejd_bertmulti_ver01.csv').sort_values(by=['url1_idx', 'url2_idx'], ascending=[True, True])"
   ]
  }
 ],
 "metadata": {
  "kernelspec": {
   "display_name": "bert",
   "language": "python",
   "name": "python3"
  },
  "language_info": {
   "codemirror_mode": {
    "name": "ipython",
    "version": 3
   },
   "file_extension": ".py",
   "mimetype": "text/x-python",
   "name": "python",
   "nbconvert_exporter": "python",
   "pygments_lexer": "ipython3",
   "version": "3.10.12"
  },
  "orig_nbformat": 4
 },
 "nbformat": 4,
 "nbformat_minor": 2
}
