{
 "cells": [
  {
   "cell_type": "code",
   "execution_count": 2,
   "id": "2de2f4b7-f4d1-4527-9a31-e85fdf9c7107",
   "metadata": {
    "collapsed": true,
    "jupyter": {
     "outputs_hidden": true
    },
    "tags": []
   },
   "outputs": [
    {
     "name": "stdout",
     "output_type": "stream",
     "text": [
      "Collecting undetected_chromedriver\n",
      "  Downloading undetected-chromedriver-3.5.0.tar.gz (62 kB)\n",
      "                                              0.0/62.1 kB ? eta -:--:--\n",
      "     ---------------------------------------- 62.1/62.1 kB 3.5 MB/s eta 0:00:00\n",
      "  Preparing metadata (setup.py): started\n",
      "  Preparing metadata (setup.py): finished with status 'done'\n",
      "Collecting selenium>=4.9.0 (from undetected_chromedriver)\n",
      "  Downloading selenium-4.10.0-py3-none-any.whl (6.7 MB)\n",
      "                                              0.0/6.7 MB ? eta -:--:--\n",
      "     ---                                      0.6/6.7 MB 11.5 MB/s eta 0:00:01\n",
      "     -------                                  1.3/6.7 MB 14.1 MB/s eta 0:00:01\n",
      "     --------                                 1.4/6.7 MB 10.2 MB/s eta 0:00:01\n",
      "     -----------                              1.9/6.7 MB 10.3 MB/s eta 0:00:01\n",
      "     --------------                           2.4/6.7 MB 10.9 MB/s eta 0:00:01\n",
      "     -------------------                      3.2/6.7 MB 11.4 MB/s eta 0:00:01\n",
      "     ----------------------                   3.7/6.7 MB 11.2 MB/s eta 0:00:01\n",
      "     ------------------------                 4.1/6.7 MB 11.0 MB/s eta 0:00:01\n",
      "     -----------------------------            4.9/6.7 MB 11.5 MB/s eta 0:00:01\n",
      "     --------------------------------         5.4/6.7 MB 11.5 MB/s eta 0:00:01\n",
      "     --------------------------------------   6.4/6.7 MB 12.4 MB/s eta 0:00:01\n",
      "     ---------------------------------------- 6.7/6.7 MB 12.2 MB/s eta 0:00:00\n",
      "Requirement already satisfied: requests in c:\\users\\horya\\appdata\\local\\programs\\python\\python38\\lib\\site-packages (from undetected_chromedriver) (2.25.1)\n",
      "Collecting websockets (from undetected_chromedriver)\n",
      "  Downloading websockets-11.0.3-cp38-cp38-win_amd64.whl (124 kB)\n",
      "                                              0.0/124.7 kB ? eta -:--:--\n",
      "     -------------------------------------- 124.7/124.7 kB 7.2 MB/s eta 0:00:00\n",
      "Requirement already satisfied: urllib3[socks]<3,>=1.26 in c:\\users\\horya\\appdata\\local\\programs\\python\\python38\\lib\\site-packages (from selenium>=4.9.0->undetected_chromedriver) (1.26.6)\n",
      "Requirement already satisfied: trio~=0.17 in c:\\users\\horya\\appdata\\local\\programs\\python\\python38\\lib\\site-packages (from selenium>=4.9.0->undetected_chromedriver) (0.22.0)\n",
      "Requirement already satisfied: trio-websocket~=0.9 in c:\\users\\horya\\appdata\\local\\programs\\python\\python38\\lib\\site-packages (from selenium>=4.9.0->undetected_chromedriver) (0.10.2)\n",
      "Requirement already satisfied: certifi>=2021.10.8 in c:\\users\\horya\\appdata\\local\\programs\\python\\python38\\lib\\site-packages (from selenium>=4.9.0->undetected_chromedriver) (2022.12.7)\n",
      "Requirement already satisfied: chardet<5,>=3.0.2 in c:\\users\\horya\\appdata\\local\\programs\\python\\python38\\lib\\site-packages (from requests->undetected_chromedriver) (4.0.0)\n",
      "Requirement already satisfied: idna<3,>=2.5 in c:\\users\\horya\\appdata\\local\\programs\\python\\python38\\lib\\site-packages (from requests->undetected_chromedriver) (2.10)\n",
      "Requirement already satisfied: attrs>=19.2.0 in c:\\users\\horya\\appdata\\local\\programs\\python\\python38\\lib\\site-packages (from trio~=0.17->selenium>=4.9.0->undetected_chromedriver) (21.2.0)\n",
      "Requirement already satisfied: sortedcontainers in c:\\users\\horya\\appdata\\local\\programs\\python\\python38\\lib\\site-packages (from trio~=0.17->selenium>=4.9.0->undetected_chromedriver) (2.4.0)\n",
      "Requirement already satisfied: async-generator>=1.9 in c:\\users\\horya\\appdata\\local\\programs\\python\\python38\\lib\\site-packages (from trio~=0.17->selenium>=4.9.0->undetected_chromedriver) (1.10)\n",
      "Requirement already satisfied: outcome in c:\\users\\horya\\appdata\\local\\programs\\python\\python38\\lib\\site-packages (from trio~=0.17->selenium>=4.9.0->undetected_chromedriver) (1.2.0)\n",
      "Requirement already satisfied: sniffio in c:\\users\\horya\\appdata\\local\\programs\\python\\python38\\lib\\site-packages (from trio~=0.17->selenium>=4.9.0->undetected_chromedriver) (1.2.0)\n",
      "Requirement already satisfied: cffi>=1.14 in c:\\users\\horya\\appdata\\local\\programs\\python\\python38\\lib\\site-packages (from trio~=0.17->selenium>=4.9.0->undetected_chromedriver) (1.14.5)\n",
      "Requirement already satisfied: exceptiongroup>=1.0.0rc9 in c:\\users\\horya\\appdata\\local\\programs\\python\\python38\\lib\\site-packages (from trio~=0.17->selenium>=4.9.0->undetected_chromedriver) (1.1.1)\n",
      "Requirement already satisfied: wsproto>=0.14 in c:\\users\\horya\\appdata\\local\\programs\\python\\python38\\lib\\site-packages (from trio-websocket~=0.9->selenium>=4.9.0->undetected_chromedriver) (1.2.0)\n",
      "Requirement already satisfied: PySocks!=1.5.7,<2.0,>=1.5.6 in c:\\users\\horya\\appdata\\local\\programs\\python\\python38\\lib\\site-packages (from urllib3[socks]<3,>=1.26->selenium>=4.9.0->undetected_chromedriver) (1.7.1)\n",
      "Requirement already satisfied: pycparser in c:\\users\\horya\\appdata\\local\\programs\\python\\python38\\lib\\site-packages (from cffi>=1.14->trio~=0.17->selenium>=4.9.0->undetected_chromedriver) (2.20)\n",
      "Requirement already satisfied: h11<1,>=0.9.0 in c:\\users\\horya\\appdata\\local\\programs\\python\\python38\\lib\\site-packages (from wsproto>=0.14->trio-websocket~=0.9->selenium>=4.9.0->undetected_chromedriver) (0.14.0)\n",
      "Building wheels for collected packages: undetected_chromedriver\n",
      "  Building wheel for undetected_chromedriver (setup.py): started\n",
      "  Building wheel for undetected_chromedriver (setup.py): finished with status 'done'\n",
      "  Created wheel for undetected_chromedriver: filename=undetected_chromedriver-3.5.0-py3-none-any.whl size=45222 sha256=ab13a2b3863dabac4b3ee0c89fe2f0881df51726e55025ad656ed0c2f0d2e546\n",
      "  Stored in directory: c:\\users\\horya\\appdata\\local\\pip\\cache\\wheels\\89\\f7\\98\\d48ee21806e02a1e464eba77ee2336d4235679127a97d480d2\n",
      "Successfully built undetected_chromedriver\n",
      "Installing collected packages: websockets, selenium, undetected_chromedriver\n",
      "  Attempting uninstall: selenium\n",
      "    Found existing installation: selenium 4.8.2\n",
      "    Uninstalling selenium-4.8.2:\n",
      "      Successfully uninstalled selenium-4.8.2\n",
      "Successfully installed selenium-4.10.0 undetected_chromedriver-3.5.0 websockets-11.0.3\n"
     ]
    },
    {
     "name": "stderr",
     "output_type": "stream",
     "text": [
      "\n",
      "[notice] A new release of pip is available: 23.1.2 -> 23.2\n",
      "[notice] To update, run: python.exe -m pip install --upgrade pip\n"
     ]
    }
   ],
   "source": [
    "!pip install undetected_chromedriver"
   ]
  },
  {
   "cell_type": "code",
   "execution_count": 2,
   "id": "cfb64d90-ff73-44d1-a588-e72a487b5848",
   "metadata": {},
   "outputs": [],
   "source": [
    "from selenium import webdriver\n",
    "from selenium.webdriver.chrome.service import Service\n",
    "from selenium.webdriver.chrome.options import Options\n",
    "from webdriver_manager.chrome import ChromeDriverManager\n",
    "from selenium.webdriver.common.by import By\n",
    "from selenium.webdriver.support.ui import WebDriverWait\n",
    "from selenium.webdriver.support import expected_conditions as EC\n",
    "import undetected_chromedriver as uc\n",
    "import datetime\n",
    "import time\n",
    "import pandas as pd\n",
    "import numpy as np"
   ]
  },
  {
   "cell_type": "code",
   "execution_count": 8,
   "id": "55bbc3cc-8344-4f64-9935-5d948ed81617",
   "metadata": {
    "tags": []
   },
   "outputs": [],
   "source": [
    "options = uc.ChromeOptions() \n",
    "driver = uc.Chrome(use_subprocess=True, options=options)\n",
    "driver.get(f\"https://www.udemy.com/ko/courses/development/databases/?p=1&ratings=4.5&sort=popularity\")"
   ]
  },
  {
   "cell_type": "code",
   "execution_count": 10,
   "id": "0d58282c-dcf8-47fb-85e7-5303af321db5",
   "metadata": {
    "collapsed": true,
    "jupyter": {
     "outputs_hidden": true
    },
    "tags": []
   },
   "outputs": [
    {
     "data": {
      "text/plain": [
       "[<undetected_chromedriver.webelement.WebElement (session=\"627c8b26936c07304d1aa7a2262e1b1e\", element=\"366433433BF6F289ED980ECD8A3D7141_element_201\")>,\n",
       " <undetected_chromedriver.webelement.WebElement (session=\"627c8b26936c07304d1aa7a2262e1b1e\", element=\"366433433BF6F289ED980ECD8A3D7141_element_202\")>,\n",
       " <undetected_chromedriver.webelement.WebElement (session=\"627c8b26936c07304d1aa7a2262e1b1e\", element=\"366433433BF6F289ED980ECD8A3D7141_element_93\")>,\n",
       " <undetected_chromedriver.webelement.WebElement (session=\"627c8b26936c07304d1aa7a2262e1b1e\", element=\"366433433BF6F289ED980ECD8A3D7141_element_203\")>,\n",
       " <undetected_chromedriver.webelement.WebElement (session=\"627c8b26936c07304d1aa7a2262e1b1e\", element=\"366433433BF6F289ED980ECD8A3D7141_element_91\")>,\n",
       " <undetected_chromedriver.webelement.WebElement (session=\"627c8b26936c07304d1aa7a2262e1b1e\", element=\"366433433BF6F289ED980ECD8A3D7141_element_204\")>,\n",
       " <undetected_chromedriver.webelement.WebElement (session=\"627c8b26936c07304d1aa7a2262e1b1e\", element=\"366433433BF6F289ED980ECD8A3D7141_element_205\")>,\n",
       " <undetected_chromedriver.webelement.WebElement (session=\"627c8b26936c07304d1aa7a2262e1b1e\", element=\"366433433BF6F289ED980ECD8A3D7141_element_206\")>,\n",
       " <undetected_chromedriver.webelement.WebElement (session=\"627c8b26936c07304d1aa7a2262e1b1e\", element=\"366433433BF6F289ED980ECD8A3D7141_element_207\")>,\n",
       " <undetected_chromedriver.webelement.WebElement (session=\"627c8b26936c07304d1aa7a2262e1b1e\", element=\"366433433BF6F289ED980ECD8A3D7141_element_208\")>,\n",
       " <undetected_chromedriver.webelement.WebElement (session=\"627c8b26936c07304d1aa7a2262e1b1e\", element=\"366433433BF6F289ED980ECD8A3D7141_element_209\")>,\n",
       " <undetected_chromedriver.webelement.WebElement (session=\"627c8b26936c07304d1aa7a2262e1b1e\", element=\"366433433BF6F289ED980ECD8A3D7141_element_210\")>,\n",
       " <undetected_chromedriver.webelement.WebElement (session=\"627c8b26936c07304d1aa7a2262e1b1e\", element=\"366433433BF6F289ED980ECD8A3D7141_element_211\")>,\n",
       " <undetected_chromedriver.webelement.WebElement (session=\"627c8b26936c07304d1aa7a2262e1b1e\", element=\"366433433BF6F289ED980ECD8A3D7141_element_212\")>,\n",
       " <undetected_chromedriver.webelement.WebElement (session=\"627c8b26936c07304d1aa7a2262e1b1e\", element=\"366433433BF6F289ED980ECD8A3D7141_element_213\")>,\n",
       " <undetected_chromedriver.webelement.WebElement (session=\"627c8b26936c07304d1aa7a2262e1b1e\", element=\"366433433BF6F289ED980ECD8A3D7141_element_214\")>,\n",
       " <undetected_chromedriver.webelement.WebElement (session=\"627c8b26936c07304d1aa7a2262e1b1e\", element=\"366433433BF6F289ED980ECD8A3D7141_element_215\")>]"
      ]
     },
     "execution_count": 10,
     "metadata": {},
     "output_type": "execute_result"
    }
   ],
   "source": [
    "driver.find_elements(By.XPATH, '//*[@id=\"udemy\"]/div[1]/div[2]/div/div/div[5]/div[2]/div/div[2]/div/div[2]/div[2]/div')"
   ]
  },
  {
   "cell_type": "code",
   "execution_count": null,
   "id": "b8b3cb81-37fc-4a37-b0d0-360bf35c7bea",
   "metadata": {},
   "outputs": [],
   "source": []
  },
  {
   "cell_type": "code",
   "execution_count": 4,
   "id": "8cdee1c3-9cb3-4193-aa86-21f2ef2f8551",
   "metadata": {},
   "outputs": [
    {
     "name": "stdout",
     "output_type": "stream",
     "text": [
      "38\n"
     ]
    },
    {
     "name": "stderr",
     "output_type": "stream",
     "text": [
      "100%|███████████████████████████████████████████████████████████████████████████████| 38/38 [1:25:34<00:00, 135.12s/it]\n"
     ]
    },
    {
     "name": "stdout",
     "output_type": "stream",
     "text": [
      "606 개 데이터 크롤링 완료\n",
      "작업 실행 시간: 1시간 25분 43초\n"
     ]
    }
   ],
   "source": [
    "\n",
    "# 1. 필요 모듈 가져오기\n",
    "from selenium import webdriver\n",
    "from selenium.webdriver.chrome.service import Service\n",
    "from selenium.webdriver.chrome.options import Options\n",
    "from webdriver_manager.chrome import ChromeDriverManager\n",
    "from selenium.webdriver.common.by import By\n",
    "from selenium.webdriver.support.ui import WebDriverWait\n",
    "from selenium.webdriver.support import expected_conditions as EC\n",
    "import undetected_chromedriver as uc\n",
    "import datetime\n",
    "import time\n",
    "import pandas as pd\n",
    "import numpy as np\n",
    "from tqdm import tqdm\n",
    "\n",
    "\n",
    "# 2. 옵션설정\n",
    "# service = Service(executable_path=ChromeDriverManager().install())\n",
    "options = uc.ChromeOptions() \n",
    "start_time = time.time()\n",
    "\n",
    "# 3. 카테고리별로 평점 4.5 이상인 강의들만 리스트 수집\n",
    "categories = [\"web-development\", \"data-science\", \"mobile-apps\", \"programming-languages\", \"game-development\",\n",
    "              \"databases\", \"software-testing\", \"software-engineering\", \"development-tools\", \"no-code-development\"]\n",
    "\n",
    "df = pd.DataFrame(columns=['대분류', '소분류', '강의명', '난이도', '가격(현재가격)','가격(원래가격)', '총소요시간', '강의소개', '언어', '출처']) \n",
    "try:\n",
    "    for category in [categories[5]] : # 1~3번 수집하는 코드\n",
    "        driver = uc.Chrome(use_subprocess=True, options=options)\n",
    "        driver.get(f\"https://www.udemy.com/ko/courses/development/{category}/?p=1&ratings=4.5&sort=popularity\")\n",
    "        time.sleep(5)\n",
    "        driver.maximize_window()\n",
    "        last_page = int(driver.find_element(By.XPATH, '//*[@aria-label=\"생략 부호\"]/following-sibling::span').text) #마지막 페이지 번호\n",
    "        print(last_page)\n",
    "\n",
    "        # 4. 1페이지부터 last_page까지 페이지별 강의(lec) 크롤링\n",
    "        for i in tqdm(range(1,last_page+1)):\n",
    "#         for i in range(1,2): #test\n",
    "            driver.get(f\"https://www.udemy.com/ko/courses/development/{category}/?p={i}&ratings=4.5&sort=popularity\")\n",
    "            time.sleep(5)\n",
    "            # 6 -> 5 변경 (db, st)       //*[@id=\"udemy\"]/div[1]/div[2]/div/div/div[4]/div[2]/div/div[2]/div/div[2]/div[2]/div[1]\n",
    "            lec_boxes = driver.find_elements(By.XPATH, '//*[@id=\"udemy\"]/div[1]/div[2]/div/div/div[5]/div[2]/div/div[2]/div/div[2]/div[2]/div')\n",
    "\n",
    "            # 5. 페이지별 강의 상세내용 크롤링 시작\n",
    "            url_list = [] #페이지마다 리셋\n",
    "            for box in lec_boxes:\n",
    "                a_tag = box.find_element(By.TAG_NAME, 'a')\n",
    "                urls = a_tag.get_attribute('href')\n",
    "                # ~~\\n초급자\\n현재 가격\\n₩17,000\\n원래 가격\\n₩88,000 형태로 box에서 정보 추출 확인\n",
    "                try:\n",
    "                    details=box.text.split(\"\\n현재 가격\\n\")\n",
    "                    levels=details[0].split(\"\\n\")[-1]\n",
    "                except IndexError:\n",
    "                    continue\n",
    "\n",
    "                try:\n",
    "                    now_prices = details[1].split('\\n')[0]\n",
    "                except IndexError:\n",
    "                    now_prices = np.nan\n",
    "\n",
    "                try:\n",
    "                    raw_prices = details[1].split('\\n')[2]\n",
    "                except IndexError:\n",
    "                    raw_prices = np.nan\n",
    "\n",
    "                url_list.append((urls, levels, now_prices, raw_prices))\n",
    "\n",
    "            box_num=0\n",
    "            for url, levels, now_prices, raw_prices in url_list:\n",
    "                if url != \"https://udemy.wjtb.co.kr/insight/index?ref=right-rail&locale=ko_KR\": #유데미 광고 페이지인 경우에는 크롤하지 않음\n",
    "\n",
    "                    driver.get(url)\n",
    "                    time.sleep(3)\n",
    "                    driver.maximize_window()\n",
    "                    # driver.implicitly_wait(5)  # 에러 방지를 위해 최대 5초 대기\n",
    "                    time.sleep(3)\n",
    "                    # 5-1. 태그가 없는 경우, nan값을 할당하고 넘어가는 함수를 사용\n",
    "                    def find_element_nan(driver, path):\n",
    "                        try:\n",
    "                            element = driver.find_element(By.XPATH, path)\n",
    "                            return element.text\n",
    "                        except:\n",
    "                            return np.nan\n",
    "\n",
    "                    try:\n",
    "                        hashtags_parent = driver.find_element(By.CLASS_NAME, 'topic-menu.topic-menu-condensed.ud-breadcrumb')\n",
    "                        hashtags_a = hashtags_parent.find_elements(By.TAG_NAME, 'a')\n",
    "                        hashtag = hashtags_a[-1].text\n",
    "                    except:\n",
    "                        hashtag = np.nan\n",
    "\n",
    "                    title = find_element_nan(driver, '//h1[@data-purpose=\"lead-title\"]')\n",
    "                    level = levels\n",
    "                    now_price = now_prices\n",
    "                    raw_price = raw_prices\n",
    "                    lec_time = find_element_nan(driver, '//span[@data-purpose=\"video-content-length\"]')\n",
    "                    body = find_element_nan(driver, '//div[@class=\"component-margin what-you-will-learn--what-will-you-learn--1nBIT\"]')\n",
    "                    language = find_element_nan(driver, '//div[@data-purpose=\"lead-course-locale\"]')\n",
    "\n",
    "                    # 5. csv 형태로 추출\n",
    "                    new_row = {'대분류': category, '소분류': hashtag, '강의명': title, '난이도': level, \n",
    "                            '가격(현재가격)': now_price, '가격(원래가격)':raw_price, '총소요시간': lec_time, \n",
    "                            '강의소개': body, '언어':language, '출처': url}\n",
    "                    df = pd.concat([df, pd.DataFrame(new_row, index=[0])], ignore_index=True)\n",
    "                    df.to_csv(f'./test_udemy_{category}_230717.csv', index=False)\n",
    "                    box_num+=1\n",
    "        driver.quit()\n",
    "except KeyboardInterrupt:\n",
    "    print(f\"카테고리 {category} : {i}번째 페이지 {box_num}번째 강의까지 수집 완료\")\n",
    "\n",
    "# 6. 총 실행 시간 출력\n",
    "print(len(df), '개 데이터 크롤링 완료')\n",
    "end_time = time.time()\n",
    "execution_time = end_time - start_time\n",
    "\n",
    "hours = int(execution_time // 3600)\n",
    "minutes = int((execution_time % 3600) // 60)\n",
    "seconds = int(execution_time % 60)\n",
    "print(\"작업 실행 시간: {}시간 {}분 {}초\".format(hours, minutes, seconds))"
   ]
  },
  {
   "cell_type": "code",
   "execution_count": null,
   "id": "218d5168-02ca-489e-96cd-420d058eb8a9",
   "metadata": {},
   "outputs": [],
   "source": []
  }
 ],
 "metadata": {
  "kernelspec": {
   "display_name": "Python 3 (ipykernel)",
   "language": "python",
   "name": "python3"
  },
  "language_info": {
   "codemirror_mode": {
    "name": "ipython",
    "version": 3
   },
   "file_extension": ".py",
   "mimetype": "text/x-python",
   "name": "python",
   "nbconvert_exporter": "python",
   "pygments_lexer": "ipython3",
   "version": "3.8.6"
  }
 },
 "nbformat": 4,
 "nbformat_minor": 5
}
