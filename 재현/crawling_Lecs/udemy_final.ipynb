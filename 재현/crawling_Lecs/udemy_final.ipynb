{
 "cells": [
  {
   "cell_type": "markdown",
   "id": "acd41965-a6ae-4956-ad56-235bff1fc37a",
   "metadata": {},
   "source": [
    "## 최종버전"
   ]
  },
  {
   "cell_type": "code",
   "execution_count": 3,
   "id": "3867d578-ce87-412e-b062-ee8bbd7e5566",
   "metadata": {},
   "outputs": [],
   "source": [
    "# 0. module import\n",
    "from selenium import webdriver\n",
    "from selenium.webdriver.chrome.service import Service\n",
    "from selenium.webdriver.chrome.options import Options\n",
    "from webdriver_manager.chrome import ChromeDriverManager\n",
    "from selenium.webdriver.common.by import By\n",
    "from selenium.webdriver.support.ui import WebDriverWait\n",
    "from selenium.webdriver.support import expected_conditions as EC\n",
    "import undetected_chromedriver as uc\n",
    "import datetime\n",
    "import time\n",
    "import pandas as pd\n",
    "import numpy as np\n",
    "import pickle as pkl\n",
    "from tqdm import tqdm"
   ]
  },
  {
   "cell_type": "code",
   "execution_count": 1,
   "id": "7ab71ea1-ecfd-4395-b63a-c811fe9b617f",
   "metadata": {},
   "outputs": [],
   "source": [
    "\n",
    "\n",
    "# 🌟 중간에 코드가 끊겨서 다시 재시작하나요? 그러면 restart = True 로 변경해주세요. 변경하지 않으면 처음부터 다시 수집되니 주의해주세요!\n",
    "\n",
    "def func(start_idx, end_idx, restart = False, ind = 0):\n",
    "    start_time = time.time()\n",
    "    # 1. 데이터프레임 및 카테고리 정의\n",
    "    df = pd.DataFrame(columns=['대분류', '소분류', '강의명', '난이도', '가격(현재가격)','가격(원래가격)', '총소요시간', '강의소개', '언어', '출처']) \n",
    "\n",
    "    categories = [\"web-development\", \"data-science\", \"mobile-apps\", \"programming-languages\", \"game-development\",\n",
    "                  \"databases\", \"software-testing\", \"software-engineering\", \"development-tools\", \"no-code-development\"]\n",
    "\n",
    "    # 2. current_info를 저장할 pkl 파일 정보 생성\n",
    "    current_info = {\"category\": categories[start_idx], \"page\": 1, \"last_page\": \"(확인예정)\", \"lec_num\": 0}\n",
    "    lec_count = current_info['lec_num']\n",
    "\n",
    "    # 3. 에러 때문에 중간부터 다시 시작하는 상황 대비\n",
    "    if restart == True:\n",
    "        df = pd.read_csv(f\"./udemy_{current_info['category']}_230719.csv\") \n",
    "        with open('current_info.pickle', 'rb') as file:\n",
    "            current_info = pkl.load(file)\n",
    "\n",
    "        start_idx = categories.index(current_info['category'])\n",
    "        if current_info['lec_num']==15: #강의가 16개(idx 0~15)이므로 마지막 강의면 다음 페이지로 넘어갑니다.\n",
    "            current_info['page']+= 1\n",
    "            current_info['lec_num'] = 0\n",
    "        lec_count = current_info['lec_num'] + 1\n",
    "\n",
    "    # 4. 불러온 변수 확인 후 크롤링 시작!\n",
    "    print(f\"크롤링 시작 : 👍 {current_info['category']} : 총 {current_info['last_page']}페이지 중 {current_info['page']}번째 페이지의 {lec_count}번째 강의부터 수집 시작 \")\n",
    "\n",
    "    # 5. 카테고리(대분류) 돌기\n",
    "    try:\n",
    "        for category in categories[start_idx:(end_idx + 1)]:\n",
    "            options = uc.ChromeOptions()\n",
    "            driver = uc.Chrome(use_subprocess=True, options=options)\n",
    "            last_page = current_info['last_page']\n",
    "            if last_page == \"(확인예정)\":\n",
    "                while True:\n",
    "                    try:     # 한국어, 영어강의만 추출\n",
    "                        driver.get(f\"https://www.udemy.com/ko/courses/development/{category}/?lang=en&lang=ko&p=1&ratings=4.5&sort=popularity\")\n",
    "                        break\n",
    "                    except Exception as e:\n",
    "                        exception_name = type(e).__name__\n",
    "                        print(f\"🥲 네트워크가 연결이 잘 안돼요... Exception: {exception_name}\")\n",
    "                        time.sleep(3)\n",
    "                driver.maximize_window()\n",
    "                time.sleep(5)\n",
    "                last_page = int(driver.find_element(By.XPATH, '//*[@aria-label=\"생략 부호\"]/following-sibling::span').text) #마지막 페이지 번호\n",
    "                current_info['last_page'] = last_page\n",
    "            current_info['category'] = category\n",
    "            with open('current_info.pickle', 'wb') as file: # pickle 파일로 저장\n",
    "                pkl.dump(current_info, file)\n",
    "\n",
    "            # 6. 1페이지부터 last_page까지 페이지별 강의(lec) 크롤링\n",
    "            for page in tqdm(range(current_info['page'], last_page + 1)):\n",
    "                current_info[\"page\"] = page\n",
    "                while True:\n",
    "                    try:     \n",
    "                        driver.get(f\"https://www.udemy.com/ko/courses/development/{category}/?lang=en&lang=ko&p={page}&ratings=4.5&sort=popularity\")\n",
    "                        break\n",
    "                    except Exception as e:\n",
    "                        exception_name = type(e).__name__\n",
    "                        print(f\"🥲 네트워크가 연결이 잘 안돼요... Exception: {exception_name}\")\n",
    "                        time.sleep(3)\n",
    "                with open('current_info.pickle', 'wb') as file:  # pickle 파일로 저장\n",
    "                    pkl.dump(current_info, file)\n",
    "                time.sleep(7) #3 -> 7초 수정\n",
    "                lec_container = driver.find_elements(By.XPATH, '//*[@id=\"udemy\"]/div[1]/div[2]/div/div/div')\n",
    "                div_num = len(lec_container)\n",
    "                lec_boxes = driver.find_elements(By.XPATH, f'//*[@id=\"udemy\"]/div[1]/div[2]/div/div/div[{div_num}]/div[2]/div/div[2]/div/div[2]/div[2]/div')\n",
    "\n",
    "                # 태그가 없는 경우, nan값을 할당하고 넘어가는 함수를 사용합니다.\n",
    "                def find_element_nan(driver, path):\n",
    "                    try:\n",
    "                        element = driver.find_element(By.XPATH, path)\n",
    "                        return element.text\n",
    "                    except:\n",
    "                        return np.nan\n",
    "\n",
    "                # 7. 페이지별 강의 상세내용 크롤링 시작    \n",
    "                url_list = [] #페이지마다 리셋\n",
    "                for box in lec_boxes:\n",
    "                    a_tag = box.find_element(By.TAG_NAME, 'a')\n",
    "                    urls = a_tag.get_attribute('href')\n",
    "                    try:\n",
    "                        level_list = [\"모든 수준\", \"초급자\", \"중급자\", \"전문가\"]\n",
    "                        details_level=box.text.split(\"\\n\")\n",
    "                        levels = np.nan\n",
    "\n",
    "                        for x in level_list:\n",
    "                            if x in details_level:\n",
    "                                levels = x\n",
    "                                break\n",
    "\n",
    "                    except IndexError:\n",
    "                        levels = np.nan\n",
    "\n",
    "                    try:\n",
    "                        details=box.text.split(\"\\n현재 가격\\n\")\n",
    "                        now_prices = details[1].split('\\n')[0]\n",
    "                    except IndexError:\n",
    "                        now_prices = np.nan\n",
    "\n",
    "                    try:\n",
    "                        raw_prices = details[1].split('\\n')[2]\n",
    "                    except IndexError:\n",
    "                        raw_prices = np.nan\n",
    "\n",
    "                    if urls != \"https://udemy.wjtb.co.kr/insight/index?ref=right-rail&locale=ko_KR\": #유데미 광고 페이지인 경우에는 크롤하지 않음\n",
    "                        url_list.append((urls, levels, now_prices, raw_prices))\n",
    "\n",
    "                for url_idx, (urls, levels, now_prices, raw_prices) in enumerate(url_list):\n",
    "                    if url_idx >= lec_count:\n",
    "                        while True:\n",
    "                            try:     \n",
    "                                driver.get(urls)\n",
    "                                time.sleep(7) # 3 -> 7초 수정\n",
    "                                break\n",
    "                            except Exception as e:\n",
    "                                exception_name = type(e).__name__\n",
    "                                print(f\"🥲 네트워크가 연결이 잘 안돼요... Exception: {exception_name}\")\n",
    "                                time.sleep(3)\n",
    "                        current_info[\"lec_num\"] = url_idx\n",
    "                        with open('current_info.pickle', 'wb') as file: # pickle 파일로 저장\n",
    "                            pkl.dump(current_info, file)\n",
    "\n",
    "                        try:\n",
    "                            hashtags_parent = driver.find_element(By.CLASS_NAME, 'topic-menu.topic-menu-condensed.ud-breadcrumb')\n",
    "                            hashtags_a = hashtags_parent.find_elements(By.TAG_NAME, 'a')\n",
    "                            hashtag = hashtags_a[-1].text\n",
    "                        except:\n",
    "                            hashtag = np.nan\n",
    "\n",
    "                        title = find_element_nan(driver, '//h1[@data-purpose=\"lead-title\"]')\n",
    "                        level = levels\n",
    "                        now_price = now_prices\n",
    "                        raw_price = raw_prices\n",
    "                        lec_time = find_element_nan(driver, '//span[@data-purpose=\"video-content-length\"]')\n",
    "                        body = find_element_nan(driver, '//div[@class=\"component-margin what-you-will-learn--what-will-you-learn--1nBIT\"]')\n",
    "                        language = find_element_nan(driver, '//div[@data-purpose=\"lead-course-locale\"]')\n",
    "                        url = urls\n",
    "\n",
    "                        # 8. csv 형태로 추출\n",
    "                        new_row = {'대분류': category, '소분류': hashtag, '강의명': title, '난이도': level, \n",
    "                                '가격(현재가격)': now_price, '가격(원래가격)': raw_price, '총소요시간': lec_time, \n",
    "                                '강의소개': body, '언어': language, '출처': url}\n",
    "                        df = pd.concat([df, pd.DataFrame(new_row, index=[0])], ignore_index=True)\n",
    "                        df.to_csv(f'./udemy_{category}_230719.csv', index=False)\n",
    "                        ind += 1\n",
    "                        if ind % 500 == 0:\n",
    "                            driver.quit()\n",
    "                            return ind, df, False\n",
    "                lec_count = 0\n",
    "        \n",
    "            driver.quit()\n",
    "            return 'end', df, False\n",
    "    except KeyboardInterrupt:\n",
    "        print(f\"👍 {current_info['category']} : 총 {current_info['last_page']}페이지 중 {current_info['page']}번째 페이지의 {current_info['lec_num']}번째 강의까지 수집 완료 \")\n",
    "        return ind, df, True\n",
    "\n",
    "# 9. 총 실행 시간 출력\n",
    "# print(len(df), '개 데이터 크롤링 완료')\n",
    "# end_time = time.time()\n",
    "# execution_time = end_time - start_time\n",
    "\n",
    "# hours = int(execution_time // 3600)\n",
    "# minutes = int((execution_time % 3600) // 60)\n",
    "# seconds = int(execution_time % 60)\n",
    "# print(\"작업 실행 시간: {}시간 {}분 {}초\".format(hours, minutes, seconds))"
   ]
  },
  {
   "cell_type": "code",
   "execution_count": 4,
   "id": "510d7d55-e501-4f52-8f5f-43ddada8f50d",
   "metadata": {
    "tags": []
   },
   "outputs": [
    {
     "name": "stdout",
     "output_type": "stream",
     "text": [
      "크롤링 시작 : 👍 programming-languages : 총 (확인예정)페이지 중 1번째 페이지의 0번째 강의부터 수집 시작 \n"
     ]
    },
    {
     "name": "stderr",
     "output_type": "stream",
     "text": [
      " 42%|████████████████████████████████▎                                            | 31/74 [1:18:12<1:48:28, 151.37s/it]\n"
     ]
    },
    {
     "name": "stdout",
     "output_type": "stream",
     "text": [
      "500 개 데이터 크롤링 완료\n",
      "작업 실행 시간: 1시간 18분 19초\n",
      "크롤링 시작 : 👍 programming-languages : 총 74페이지 중 32번째 페이지의 4번째 강의부터 수집 시작 \n"
     ]
    },
    {
     "name": "stderr",
     "output_type": "stream",
     "text": [
      " 72%|████████████████████████████████████████████████████████▉                      | 31/43 [1:18:44<30:29, 152.42s/it]\n"
     ]
    },
    {
     "name": "stdout",
     "output_type": "stream",
     "text": [
      "1000 개 데이터 크롤링 완료\n",
      "작업 실행 시간: 1시간 18분 45초\n",
      "크롤링 시작 : 👍 programming-languages : 총 74페이지 중 63번째 페이지의 8번째 강의부터 수집 시작 \n"
     ]
    },
    {
     "name": "stderr",
     "output_type": "stream",
     "text": [
      "100%|█████████████████████████████████████████████████████████████████████████████████| 12/12 [26:35<00:00, 132.95s/it]\n"
     ]
    },
    {
     "name": "stdout",
     "output_type": "stream",
     "text": [
      "1172 개 데이터 크롤링 완료\n",
      "작업 실행 시간: 0시간 26분 36초\n"
     ]
    }
   ],
   "source": [
    "\n",
    "start = 3\n",
    "end = 3\n",
    "i = 0\n",
    "while i != 'end':\n",
    "    start_time = time.time()\n",
    "    if i == 0:\n",
    "        i, df, b = func(start, end, restart = False, ind = i)\n",
    "    else:\n",
    "        i, df, b = func(start, end, restart = True, ind = i)\n",
    "    \n",
    "    if b == True:\n",
    "        print('크롤링 중단')\n",
    "        print(len(df), '개 데이터 크롤링 완료')\n",
    "        print('i=',i,'부터 크롤링 진행하세요')\n",
    "        \n",
    "    print(len(df), '개 데이터 크롤링 완료')\n",
    "    end_time = time.time()\n",
    "    execution_time = end_time - start_time\n",
    "\n",
    "    hours = int(execution_time // 3600)\n",
    "    minutes = int((execution_time % 3600) // 60)\n",
    "    seconds = int(execution_time % 60)\n",
    "    print(\"작업 실행 시간: {}시간 {}분 {}초\".format(hours, minutes, seconds))\n",
    "    \n",
    "    time.sleep(5)\n"
   ]
  },
  {
   "cell_type": "code",
   "execution_count": 8,
   "id": "06b7c59e-370e-4048-a394-335d16d26f64",
   "metadata": {},
   "outputs": [
    {
     "data": {
      "text/plain": [
       "'d'"
      ]
     },
     "execution_count": 8,
     "metadata": {},
     "output_type": "execute_result"
    }
   ],
   "source": [
    "b"
   ]
  },
  {
   "cell_type": "code",
   "execution_count": 4,
   "id": "4b47ffea-6d9e-438d-aca6-8962c905e7c8",
   "metadata": {},
   "outputs": [
    {
     "name": "stdout",
     "output_type": "stream",
     "text": [
      "크롤링 시작 : 👍 web-development : 총 242페이지 중 193번째 페이지의 1번째 강의부터 수집 시작 \n"
     ]
    },
    {
     "name": "stderr",
     "output_type": "stream",
     "text": [
      " 54%|█████████████████████████████████████████▌                                   | 27/50 [1:11:10<1:00:37, 158.16s/it]\n"
     ]
    },
    {
     "name": "stdout",
     "output_type": "stream",
     "text": [
      "3500 개 데이터 크롤링 완료\n",
      "작업 실행 시간: 1시간 11분 11초\n",
      "크롤링 시작 : 👍 web-development : 총 242페이지 중 220번째 페이지의 14번째 강의부터 수집 시작 \n"
     ]
    },
    {
     "name": "stderr",
     "output_type": "stream",
     "text": [
      "100%|█████████████████████████████████████████████████████████████████████████████████| 23/23 [52:40<00:00, 137.41s/it]\n"
     ]
    },
    {
     "ename": "ValueError",
     "evalue": "too many values to unpack (expected 2)",
     "output_type": "error",
     "traceback": [
      "\u001b[1;31m---------------------------------------------------------------------------\u001b[0m",
      "\u001b[1;31mValueError\u001b[0m                                Traceback (most recent call last)",
      "Cell \u001b[1;32mIn[4], line 7\u001b[0m\n\u001b[0;32m      4\u001b[0m \u001b[38;5;28;01mwhile\u001b[39;00m i \u001b[38;5;241m!=\u001b[39m \u001b[38;5;124m'\u001b[39m\u001b[38;5;124mend\u001b[39m\u001b[38;5;124m'\u001b[39m:\n\u001b[0;32m      5\u001b[0m     start_time \u001b[38;5;241m=\u001b[39m time\u001b[38;5;241m.\u001b[39mtime()\n\u001b[1;32m----> 7\u001b[0m     i, df \u001b[38;5;241m=\u001b[39m func(start, end, restart \u001b[38;5;241m=\u001b[39m \u001b[38;5;28;01mTrue\u001b[39;00m, ind \u001b[38;5;241m=\u001b[39m i)\n\u001b[0;32m      9\u001b[0m     \u001b[38;5;28mprint\u001b[39m(\u001b[38;5;28mlen\u001b[39m(df), \u001b[38;5;124m'\u001b[39m\u001b[38;5;124m개 데이터 크롤링 완료\u001b[39m\u001b[38;5;124m'\u001b[39m)\n\u001b[0;32m     10\u001b[0m     end_time \u001b[38;5;241m=\u001b[39m time\u001b[38;5;241m.\u001b[39mtime()\n",
      "\u001b[1;31mValueError\u001b[0m: too many values to unpack (expected 2)"
     ]
    }
   ],
   "source": [
    "start = 0\n",
    "end = 0\n",
    "i = 3055\n",
    "while i != 'end':\n",
    "    start_time = time.time()\n",
    "    \n",
    "    i, df = func(start, end, restart = True, ind = i)\n",
    "        \n",
    "    print(len(df), '개 데이터 크롤링 완료')\n",
    "    end_time = time.time()\n",
    "    execution_time = end_time - start_time\n",
    "\n",
    "    hours = int(execution_time // 3600)\n",
    "    minutes = int((execution_time % 3600) // 60)\n",
    "    seconds = int(execution_time % 60)\n",
    "    print(\"작업 실행 시간: {}시간 {}분 {}초\".format(hours, minutes, seconds))\n",
    "    time.sleep(5)"
   ]
  },
  {
   "cell_type": "code",
   "execution_count": 6,
   "id": "4f92e3a6-0a6c-4858-b2fe-e2a7853c3b4f",
   "metadata": {},
   "outputs": [
    {
     "data": {
      "text/html": [
       "<div>\n",
       "<style scoped>\n",
       "    .dataframe tbody tr th:only-of-type {\n",
       "        vertical-align: middle;\n",
       "    }\n",
       "\n",
       "    .dataframe tbody tr th {\n",
       "        vertical-align: top;\n",
       "    }\n",
       "\n",
       "    .dataframe thead th {\n",
       "        text-align: right;\n",
       "    }\n",
       "</style>\n",
       "<table border=\"1\" class=\"dataframe\">\n",
       "  <thead>\n",
       "    <tr style=\"text-align: right;\">\n",
       "      <th></th>\n",
       "      <th>대분류</th>\n",
       "      <th>소분류</th>\n",
       "      <th>강의명</th>\n",
       "      <th>난이도</th>\n",
       "      <th>가격(현재가격)</th>\n",
       "      <th>가격(원래가격)</th>\n",
       "      <th>총소요시간</th>\n",
       "      <th>강의소개</th>\n",
       "      <th>언어</th>\n",
       "      <th>출처</th>\n",
       "    </tr>\n",
       "  </thead>\n",
       "  <tbody>\n",
       "    <tr>\n",
       "      <th>0</th>\n",
       "      <td>databases</td>\n",
       "      <td>MySQL</td>\n",
       "      <td>【한글자막】 실무 활용 중심의 MySQL 부트캠프</td>\n",
       "      <td>초급자</td>\n",
       "      <td>₩17,000</td>\n",
       "      <td>₩88,000</td>\n",
       "      <td>16.5시간 주문형 동영상</td>\n",
       "      <td>배울 내용\\n데이터 베이스 생성 및 활용하는 방법\\n여러개의 테이블을 조회하는 복잡...</td>\n",
       "      <td>한국어</td>\n",
       "      <td>https://www.udemy.com/course/best-mysql-k/</td>\n",
       "    </tr>\n",
       "    <tr>\n",
       "      <th>1</th>\n",
       "      <td>databases</td>\n",
       "      <td>Database Programming</td>\n",
       "      <td>너무 쉬운 데이터베이스(MSSQL) 입문</td>\n",
       "      <td>초급자</td>\n",
       "      <td>₩17,000</td>\n",
       "      <td>₩69,000</td>\n",
       "      <td>5시간 주문형 동영상</td>\n",
       "      <td>배울 내용\\n관계형 데이터베이스, 비관계형 데이터베이스의 개념\\n쇼핑몰 데이터베이스...</td>\n",
       "      <td>한국어</td>\n",
       "      <td>https://www.udemy.com/course/so_easy_database/</td>\n",
       "    </tr>\n",
       "    <tr>\n",
       "      <th>2</th>\n",
       "      <td>databases</td>\n",
       "      <td>MySQL</td>\n",
       "      <td>처음 시작하는 MySQL DataBase</td>\n",
       "      <td>모든 수준</td>\n",
       "      <td>₩23,000</td>\n",
       "      <td>NaN</td>\n",
       "      <td>6시간 주문형 동영상</td>\n",
       "      <td>배울 내용\\n본 과정에서는 MySQL 데이터 베이스에 대해 개발자 측면 부분을 학습...</td>\n",
       "      <td>한국어</td>\n",
       "      <td>https://www.udemy.com/course/softcampus-mysql/</td>\n",
       "    </tr>\n",
       "    <tr>\n",
       "      <th>3</th>\n",
       "      <td>databases</td>\n",
       "      <td>SQL</td>\n",
       "      <td>데이터 분석 필수 과정! MS SQL 로 실무 적용하기</td>\n",
       "      <td>모든 수준</td>\n",
       "      <td>₩59,000</td>\n",
       "      <td>NaN</td>\n",
       "      <td>3시간 주문형 동영상</td>\n",
       "      <td>배울 내용\\n데이터를 읽고 수정하고 적재하고 계산하는 작업을 효율적으로 할 수 있음...</td>\n",
       "      <td>한국어</td>\n",
       "      <td>https://www.udemy.com/course/cloom-ms-sql/</td>\n",
       "    </tr>\n",
       "    <tr>\n",
       "      <th>4</th>\n",
       "      <td>databases</td>\n",
       "      <td>SQL</td>\n",
       "      <td>실무 SQL 완전정복 - SECTION 1 : SQL 시작하기</td>\n",
       "      <td>초급자</td>\n",
       "      <td>₩23,000</td>\n",
       "      <td>NaN</td>\n",
       "      <td>2시간 주문형 동영상</td>\n",
       "      <td>배울 내용\\nSQL이 왜 중요한지에 대해 이해합니다.\\nSQL-Server를 설치하...</td>\n",
       "      <td>한국어</td>\n",
       "      <td>https://www.udemy.com/course/sql-49-section-1/</td>\n",
       "    </tr>\n",
       "  </tbody>\n",
       "</table>\n",
       "</div>"
      ],
      "text/plain": [
       "         대분류                   소분류                                 강의명    난이도  \\\n",
       "0  databases                 MySQL         【한글자막】 실무 활용 중심의 MySQL 부트캠프    초급자   \n",
       "1  databases  Database Programming              너무 쉬운 데이터베이스(MSSQL) 입문    초급자   \n",
       "2  databases                 MySQL              처음 시작하는 MySQL DataBase  모든 수준   \n",
       "3  databases                   SQL      데이터 분석 필수 과정! MS SQL 로 실무 적용하기  모든 수준   \n",
       "4  databases                   SQL  실무 SQL 완전정복 - SECTION 1 : SQL 시작하기    초급자   \n",
       "\n",
       "  가격(현재가격) 가격(원래가격)           총소요시간  \\\n",
       "0  ₩17,000  ₩88,000  16.5시간 주문형 동영상   \n",
       "1  ₩17,000  ₩69,000     5시간 주문형 동영상   \n",
       "2  ₩23,000      NaN     6시간 주문형 동영상   \n",
       "3  ₩59,000      NaN     3시간 주문형 동영상   \n",
       "4  ₩23,000      NaN     2시간 주문형 동영상   \n",
       "\n",
       "                                                강의소개   언어  \\\n",
       "0  배울 내용\\n데이터 베이스 생성 및 활용하는 방법\\n여러개의 테이블을 조회하는 복잡...  한국어   \n",
       "1  배울 내용\\n관계형 데이터베이스, 비관계형 데이터베이스의 개념\\n쇼핑몰 데이터베이스...  한국어   \n",
       "2  배울 내용\\n본 과정에서는 MySQL 데이터 베이스에 대해 개발자 측면 부분을 학습...  한국어   \n",
       "3  배울 내용\\n데이터를 읽고 수정하고 적재하고 계산하는 작업을 효율적으로 할 수 있음...  한국어   \n",
       "4  배울 내용\\nSQL이 왜 중요한지에 대해 이해합니다.\\nSQL-Server를 설치하...  한국어   \n",
       "\n",
       "                                               출처  \n",
       "0      https://www.udemy.com/course/best-mysql-k/  \n",
       "1  https://www.udemy.com/course/so_easy_database/  \n",
       "2  https://www.udemy.com/course/softcampus-mysql/  \n",
       "3      https://www.udemy.com/course/cloom-ms-sql/  \n",
       "4  https://www.udemy.com/course/sql-49-section-1/  "
      ]
     },
     "execution_count": 6,
     "metadata": {},
     "output_type": "execute_result"
    }
   ],
   "source": [
    "db = pd.read_csv('./test_udemy_databases_230717.csv')\n",
    "db.head()"
   ]
  },
  {
   "cell_type": "code",
   "execution_count": 7,
   "id": "33fa3591-5c4c-4db9-904a-64fae06dcb2e",
   "metadata": {},
   "outputs": [],
   "source": [
    "db.to_csv('./test_udemy_databases.csv', encoding = 'utf-8-sig')"
   ]
  },
  {
   "cell_type": "code",
   "execution_count": 8,
   "id": "b641131d-ed90-44ff-8318-67fbd4d749cb",
   "metadata": {},
   "outputs": [],
   "source": [
    "db = pd.read_csv('./test_udemy_game-development_230717.csv')\n",
    "db.head()\n",
    "\n",
    "db.to_csv('./test_udemy_game-development.csv', encoding = 'utf-8-sig')"
   ]
  },
  {
   "cell_type": "code",
   "execution_count": 9,
   "id": "6704ad03-b590-4706-91c7-bed2be9308ac",
   "metadata": {},
   "outputs": [],
   "source": [
    "db = pd.read_csv('./udemy_software-testing_230718.csv')\n",
    "db.head()\n",
    "\n",
    "db.to_csv('./test_udemy_software-testing.csv', encoding = 'utf-8-sig')"
   ]
  },
  {
   "cell_type": "code",
   "execution_count": 11,
   "id": "10d34673-44df-4cf5-bcaf-a2a37a588213",
   "metadata": {},
   "outputs": [],
   "source": [
    "db = pd.read_csv('./udemy_web-development_230719.csv')\n",
    "db.head()\n",
    "\n",
    "db.to_csv('./test_udemy_web-development.csv', encoding = 'utf-8-sig')"
   ]
  },
  {
   "cell_type": "code",
   "execution_count": 13,
   "id": "91be9d07-5610-479c-b383-e21953625a6f",
   "metadata": {},
   "outputs": [
    {
     "data": {
      "text/plain": [
       "3839"
      ]
     },
     "execution_count": 13,
     "metadata": {},
     "output_type": "execute_result"
    }
   ],
   "source": [
    "len(db)"
   ]
  },
  {
   "cell_type": "code",
   "execution_count": null,
   "id": "7f408ffd-a395-4438-a521-676e4356eca5",
   "metadata": {},
   "outputs": [],
   "source": []
  }
 ],
 "metadata": {
  "kernelspec": {
   "display_name": "Python 3 (ipykernel)",
   "language": "python",
   "name": "python3"
  },
  "language_info": {
   "codemirror_mode": {
    "name": "ipython",
    "version": 3
   },
   "file_extension": ".py",
   "mimetype": "text/x-python",
   "name": "python",
   "nbconvert_exporter": "python",
   "pygments_lexer": "ipython3",
   "version": "3.8.6"
  }
 },
 "nbformat": 4,
 "nbformat_minor": 5
}
