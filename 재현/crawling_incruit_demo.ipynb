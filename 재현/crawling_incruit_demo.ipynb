{
 "cells": [
  {
   "cell_type": "code",
   "execution_count": 1,
   "id": "c545da47-0030-441e-b478-8278cff593fa",
   "metadata": {},
   "outputs": [
    {
     "name": "stderr",
     "output_type": "stream",
     "text": [
      "'ipynb-py-convert'은(는) 내부 또는 외부 명령, 실행할 수 있는 프로그램, 또는\n",
      "배치 파일이 아닙니다.\n"
     ]
    }
   ],
   "source": [
    "! ipynb-py-convert C:\\jupyter\\KDT_AIDEV\\finalproject\\crawl_baseline_ver01.py C:\\jupyter\\KDT_AIDEV\\finalproject\\crawl_baseline_ver01\\a.ipynb"
   ]
  },
  {
   "cell_type": "code",
   "execution_count": null,
   "id": "11b669cc-7511-4a25-9eb0-91096d66cafd",
   "metadata": {},
   "outputs": [],
   "source": [
    "acc = 150 # 인터넷,it,통신,모바일,게임 "
   ]
  },
  {
   "cell_type": "code",
   "execution_count": 1,
   "id": "5b801b1f-a9b4-498f-ba6a-b1b9c6af9736",
   "metadata": {},
   "outputs": [],
   "source": [
    "from selenium import webdriver\n",
    "from selenium.webdriver.chrome.service import Service\n",
    "from selenium.webdriver.chrome.options import Options\n",
    "from webdriver_manager.chrome import ChromeDriverManager\n",
    "from selenium.webdriver.common.by import By\n",
    "from selenium.webdriver.support.ui import WebDriverWait\n",
    "from selenium.webdriver.support import expected_conditions as EC\n",
    "import datetime\n",
    "import time\n",
    "import pandas as pd\n",
    "import numpy as np\n",
    "from tqdm import tqdm\n",
    "\n",
    "import re"
   ]
  },
  {
   "cell_type": "code",
   "execution_count": 9,
   "id": "6aaa8eee-e4fc-4d97-b1ac-4eb132672486",
   "metadata": {},
   "outputs": [],
   "source": [
    "incruit_occu_list = ['웹프로그래머', '응용프로그래머', '시스템프로그래머', '데이터베이스', '데이터베이스·DBA', '네트워크·서버·보안', 'ERP·시스템분석·설계',\n",
    "            '컨텐츠·사이트운영', '웹디자인', '통신·모바일', '소프트웨어·하드웨어', '전산·IT기술지원', '멀티미디어(동영상·음향)', '게임(Game)',\n",
    "            '빅데이터·AI(인공지능)', 'HTML·퍼블리싱·UI개발']\n",
    "\n",
    "incruit_occu_code = [574, 375, 579, 405, 390, 435, 420, 598, 410, 530, 578, 400, 415, 535, 632, 633]"
   ]
  },
  {
   "cell_type": "code",
   "execution_count": 17,
   "id": "46dacc26-f8eb-4b65-8860-0c813df63ccd",
   "metadata": {},
   "outputs": [],
   "source": [
    "#창 띄우기\n",
    "\n",
    "chrome_options = Options()\n",
    "chrome_options.add_experimental_option(\"detach\", True) #창을 보면서 작업할 수 있음\n",
    "service = Service(executable_path=ChromeDriverManager().install())\n",
    "driver = webdriver.Chrome(service=service, options=chrome_options)\n",
    "driver.maximize_window()"
   ]
  },
  {
   "cell_type": "code",
   "execution_count": 7,
   "id": "dd63c4e7-66fb-44b6-be59-072694611051",
   "metadata": {},
   "outputs": [],
   "source": [
    "url = \"https://job.incruit.com/jobdb_list/searchjob.asp?cate=occu\"\n",
    "\n",
    "def get_job_list(url):\n",
    "\n",
    "    job_list = []\n",
    "\n",
    "    driver.get(url)\n",
    "    button_open = driver.find_element(By.XPATH, '//*[@id=\"occ1_list_150\"]') #인터넷It통신모바일게임 직종 선택\n",
    "    button_open.click()\n",
    "    driver.implicitly_wait(2)\n",
    "\n",
    "    # 직종 클릭 및 초기화버튼은 없어도 스크래핑하는데 문제는 없음 따라서 나중에 필요하다면 없애고 코드를 간결화 할 수 있음\n",
    "    # 현 단계에서는 잘 돌아가는지 확인하기 위해 클릭 단계를 진행\n",
    "    i = 0\n",
    "    for code in incruit_occu_code:\n",
    "        i += 1\n",
    "\n",
    "        button_open = driver.find_element(By.XPATH, f'//*[@id=\"occ2_list_150_{code}\"]') #세부직종 선택\n",
    "        button_open.click()\n",
    "        driver.implicitly_wait(3)\n",
    "\n",
    "        # 해당 세부직종 코드 안의 직무 개수 반환\n",
    "        tmp = driver.find_elements(By.ID, f'occ3_ul_{code}') \n",
    "        job_num = len(tmp[0].text.split('\\n'))\n",
    "\n",
    "        for n in range(2, job_num+1):\n",
    "            job = driver.find_elements(By.XPATH, f'/html/body/div[2]/div[1]/div/div[1]/div/div/div/div[2]/div[1]/div[2]/div[4]/ul/li[{n}]/label')\n",
    "            driver.implicitly_wait(3)\n",
    "\n",
    "            job_name = re.sub(r\" \\(\\d+\\)\", '', job[0].text) # 직무명, (개수)는 없앰\n",
    "            job_code = int(job[0].get_attribute('data-item').replace('occ3_', '')) #직무코드\n",
    "\n",
    "            job_list.append((job_name, job_code))\n",
    "\n",
    "\n",
    "        if i == 8: #인크루트는 직종 선택을 10개를 초과하지 못하게 되어있기 때문에 그 전에 초기화를 눌러서 해소\n",
    "            button_open = driver.find_element(By.XPATH, '//*[@id=\"incruit_contents\"]/div[1]/div/div/div/div[3]/div[1]/button[1]')\n",
    "            button_open.click()\n",
    "            driver.implicitly_wait(2)\n",
    "\n",
    "            i = 0\n",
    "    \n",
    "    return dict(job_list)\n",
    "\n"
   ]
  },
  {
   "cell_type": "code",
   "execution_count": 3,
   "id": "86de6c83-e106-482d-8955-af354ecf8b7c",
   "metadata": {},
   "outputs": [],
   "source": [
    "cond = {'고용형태' : 1, '경력' : 2, '근무지역' : 3, '학력' : 4, '급여조건' : 5, '우대사항' : 6}\n",
    "\n",
    "def check_condition(condition): #\n",
    "    \n",
    "    i = cond[condition]\n",
    "    \n",
    "     # i값에 대해 실행이 되는지 확인\n",
    "    try:\n",
    "        driver.find_element(By.XPATH, f'/html/body/div[2]/div[1]/div[1]/div/div[1]/div[1]/div/div[2]/div/div/ul/li[{i}]')\n",
    "        \n",
    "    except:\n",
    "        # i값이 없어 에러가 났다면 None을 return\n",
    "        return None\n",
    "    \n",
    "    # i값에 대해 실행이 잘 되었다면 다음을 수행\n",
    "    else: \n",
    "        #버튼을 클릭해 나오는 페이지가 있는지를 확인해서 있다면 버튼 클릭시 나오는 추가 텍스트를 추출\n",
    "        try:\n",
    "            botton = driver.find_element(By.XPATH, f'/html/body/div[2]/div[1]/div[1]/div/div[1]/div[1]/div/div[2]/div/div/ul/li[{i}]/div[2]/div/button')\n",
    "            botton.click()\n",
    "\n",
    "            #list형태로 반환이 되므로 join을 해주어야 dataFrame을 만들 때 두세줄씩 추가가 안됨\n",
    "            result = driver.find_element(By.XPATH, f'/html/body/div[2]/div[1]/div[1]/div/div[1]/div[1]/div/div[2]/div/div/ul/li[{i}]/div[2]/div/div/ul').text.split('\\n')\n",
    "            result = ', '.join(result)\n",
    "        #버튼페이지가 없다면 텍스트 추출\n",
    "        except:\n",
    "            result = driver.find_element(By.XPATH, f'/html/body/div[2]/div[1]/div[1]/div/div[1]/div[1]/div/div[2]/div/div/ul/li[{i}]/div[2]').text\n",
    "        \n",
    "        #추출 후 다른곳을 클릭해서 열었던 페이지를 지운다.\n",
    "        finally:\n",
    "            button = driver.find_element(By.XPATH, '/html/body/div[2]/div[1]/div[1]/div/div[1]/div[1]/div/div[2]/div/div/ul/li[4]/div[1]/em')\n",
    "            button.click()\n",
    "        \n",
    "        return result\n"
   ]
  },
  {
   "cell_type": "code",
   "execution_count": 4,
   "id": "e4fac3a9-ad8c-4e70-99fe-d797f1f557cc",
   "metadata": {},
   "outputs": [],
   "source": [
    "def image_recruit():\n",
    "    urllist = []\n",
    "    \n",
    "    try:\n",
    "        els = driver.find_elements(By.TAG_NAME, 'img')\n",
    "    \n",
    "    except:\n",
    "        return None\n",
    "    \n",
    "    else:\n",
    "        for el in els:\n",
    "            urllist.append(el.get_attribute('src'))\n",
    "    \n",
    "        return ', '.join(urllist) if urllist else None"
   ]
  },
  {
   "cell_type": "code",
   "execution_count": 5,
   "id": "5333e533-874f-4ce9-9693-fcabf1e0362e",
   "metadata": {},
   "outputs": [],
   "source": [
    "def text_recruit():\n",
    "    \n",
    "    txt = driver.find_element(By.XPATH, '/html/body/div').text\n",
    "    txt = txt.replace('\\n', ' ')\n",
    "    return txt"
   ]
  },
  {
   "cell_type": "code",
   "execution_count": 6,
   "id": "e7c1aff1-d276-48b0-84f5-dd392a162f00",
   "metadata": {},
   "outputs": [],
   "source": [
    "def url_recruit():\n",
    "    pass\n",
    "    return"
   ]
  },
  {
   "cell_type": "code",
   "execution_count": 10,
   "id": "9cb769a1-ef4a-4987-ba6f-ecb0aab43ce6",
   "metadata": {
    "tags": []
   },
   "outputs": [],
   "source": [
    "jl = get_job_list(url)\n"
   ]
  },
  {
   "cell_type": "code",
   "execution_count": 16,
   "id": "2bd457a6-c509-4698-bfc4-db8e6b948d6a",
   "metadata": {},
   "outputs": [],
   "source": [
    "df = pd.DataFrame(columns=['직무명', '채용공고명', '해시태그','채용공고상세_text', '채용공고상세_img', '채용공고상세_url', '고용형태', '경력', '근무지역', '학력', '급여조건', '우대사항',\n",
    "                            '회사명', '회사분야', '출처'])"
   ]
  },
  {
   "cell_type": "code",
   "execution_count": 18,
   "id": "0685aee5-56a2-416c-8974-98105cdec380",
   "metadata": {
    "collapsed": true,
    "jupyter": {
     "outputs_hidden": true
    },
    "tags": []
   },
   "outputs": [
    {
     "name": "stdout",
     "output_type": "stream",
     "text": [
      "---------- 1page ----------\n"
     ]
    },
    {
     "name": "stderr",
     "output_type": "stream",
     "text": [
      "100%|██████████████████████████████████████████████████████████████████████████████████| 10/10 [02:45<00:00, 16.56s/it]\n"
     ]
    },
    {
     "name": "stdout",
     "output_type": "stream",
     "text": [
      "---------- 2page ----------\n"
     ]
    },
    {
     "name": "stderr",
     "output_type": "stream",
     "text": [
      "100%|██████████████████████████████████████████████████████████████████████████████████| 10/10 [02:55<00:00, 17.53s/it]\n"
     ]
    },
    {
     "name": "stdout",
     "output_type": "stream",
     "text": [
      "---------- 3page ----------\n"
     ]
    },
    {
     "name": "stderr",
     "output_type": "stream",
     "text": [
      "100%|██████████████████████████████████████████████████████████████████████████████████| 10/10 [03:06<00:00, 18.66s/it]\n"
     ]
    },
    {
     "name": "stdout",
     "output_type": "stream",
     "text": [
      "---------- 4page ----------\n"
     ]
    },
    {
     "name": "stderr",
     "output_type": "stream",
     "text": [
      "100%|██████████████████████████████████████████████████████████████████████████████████| 10/10 [02:45<00:00, 16.59s/it]\n"
     ]
    },
    {
     "name": "stdout",
     "output_type": "stream",
     "text": [
      "---------- 5page ----------\n"
     ]
    },
    {
     "name": "stderr",
     "output_type": "stream",
     "text": [
      "100%|██████████████████████████████████████████████████████████████████████████████████| 10/10 [02:48<00:00, 16.89s/it]\n"
     ]
    },
    {
     "name": "stdout",
     "output_type": "stream",
     "text": [
      "---------- 6page ----------\n"
     ]
    },
    {
     "name": "stderr",
     "output_type": "stream",
     "text": [
      "100%|██████████████████████████████████████████████████████████████████████████████████| 10/10 [02:56<00:00, 17.70s/it]\n"
     ]
    },
    {
     "name": "stdout",
     "output_type": "stream",
     "text": [
      "---------- 7page ----------\n"
     ]
    },
    {
     "name": "stderr",
     "output_type": "stream",
     "text": [
      "100%|██████████████████████████████████████████████████████████████████████████████████| 10/10 [02:56<00:00, 17.64s/it]\n"
     ]
    },
    {
     "name": "stdout",
     "output_type": "stream",
     "text": [
      "---------- 8page ----------\n"
     ]
    },
    {
     "name": "stderr",
     "output_type": "stream",
     "text": [
      "100%|██████████████████████████████████████████████████████████████████████████████████| 10/10 [02:59<00:00, 17.92s/it]\n"
     ]
    },
    {
     "name": "stdout",
     "output_type": "stream",
     "text": [
      "---------- 9page ----------\n"
     ]
    },
    {
     "name": "stderr",
     "output_type": "stream",
     "text": [
      "100%|██████████████████████████████████████████████████████████████████████████████████| 10/10 [03:02<00:00, 18.22s/it]\n"
     ]
    },
    {
     "name": "stdout",
     "output_type": "stream",
     "text": [
      "---------- 10page ----------\n"
     ]
    },
    {
     "name": "stderr",
     "output_type": "stream",
     "text": [
      "100%|██████████████████████████████████████████████████████████████████████████████████| 10/10 [02:55<00:00, 17.56s/it]\n"
     ]
    },
    {
     "name": "stdout",
     "output_type": "stream",
     "text": [
      "---------- 11page ----------\n"
     ]
    },
    {
     "name": "stderr",
     "output_type": "stream",
     "text": [
      "100%|██████████████████████████████████████████████████████████████████████████████████| 10/10 [02:54<00:00, 17.45s/it]\n"
     ]
    },
    {
     "name": "stdout",
     "output_type": "stream",
     "text": [
      "---------- 12page ----------\n"
     ]
    },
    {
     "name": "stderr",
     "output_type": "stream",
     "text": [
      "100%|██████████████████████████████████████████████████████████████████████████████████| 10/10 [03:01<00:00, 18.13s/it]\n"
     ]
    },
    {
     "name": "stdout",
     "output_type": "stream",
     "text": [
      "---------- 13page ----------\n"
     ]
    },
    {
     "name": "stderr",
     "output_type": "stream",
     "text": [
      "100%|██████████████████████████████████████████████████████████████████████████████████| 10/10 [03:02<00:00, 18.23s/it]\n"
     ]
    },
    {
     "name": "stdout",
     "output_type": "stream",
     "text": [
      "---------- 14page ----------\n"
     ]
    },
    {
     "name": "stderr",
     "output_type": "stream",
     "text": [
      "100%|██████████████████████████████████████████████████████████████████████████████████| 10/10 [02:56<00:00, 17.66s/it]\n"
     ]
    },
    {
     "name": "stdout",
     "output_type": "stream",
     "text": [
      "---------- 15page ----------\n"
     ]
    },
    {
     "name": "stderr",
     "output_type": "stream",
     "text": [
      "100%|██████████████████████████████████████████████████████████████████████████████████| 10/10 [02:45<00:00, 16.51s/it]\n"
     ]
    },
    {
     "name": "stdout",
     "output_type": "stream",
     "text": [
      "---------- 16page ----------\n"
     ]
    },
    {
     "name": "stderr",
     "output_type": "stream",
     "text": [
      "100%|██████████████████████████████████████████████████████████████████████████████████| 10/10 [03:03<00:00, 18.38s/it]\n"
     ]
    },
    {
     "name": "stdout",
     "output_type": "stream",
     "text": [
      "---------- 17page ----------\n"
     ]
    },
    {
     "name": "stderr",
     "output_type": "stream",
     "text": [
      "100%|██████████████████████████████████████████████████████████████████████████████████| 10/10 [02:58<00:00, 17.80s/it]\n"
     ]
    },
    {
     "name": "stdout",
     "output_type": "stream",
     "text": [
      "---------- 18page ----------\n"
     ]
    },
    {
     "name": "stderr",
     "output_type": "stream",
     "text": [
      "100%|██████████████████████████████████████████████████████████████████████████████████| 10/10 [02:57<00:00, 17.71s/it]\n"
     ]
    },
    {
     "name": "stdout",
     "output_type": "stream",
     "text": [
      "---------- 19page ----------\n"
     ]
    },
    {
     "name": "stderr",
     "output_type": "stream",
     "text": [
      "100%|██████████████████████████████████████████████████████████████████████████████████| 10/10 [02:59<00:00, 17.93s/it]\n"
     ]
    },
    {
     "name": "stdout",
     "output_type": "stream",
     "text": [
      "---------- 20page ----------\n"
     ]
    },
    {
     "name": "stderr",
     "output_type": "stream",
     "text": [
      "100%|██████████████████████████████████████████████████████████████████████████████████| 10/10 [02:56<00:00, 17.64s/it]\n"
     ]
    },
    {
     "name": "stdout",
     "output_type": "stream",
     "text": [
      "---------- 21page ----------\n"
     ]
    },
    {
     "name": "stderr",
     "output_type": "stream",
     "text": [
      "100%|██████████████████████████████████████████████████████████████████████████████████| 10/10 [02:51<00:00, 17.13s/it]\n"
     ]
    },
    {
     "name": "stdout",
     "output_type": "stream",
     "text": [
      "---------- 22page ----------\n"
     ]
    },
    {
     "name": "stderr",
     "output_type": "stream",
     "text": [
      "100%|██████████████████████████████████████████████████████████████████████████████████| 10/10 [02:48<00:00, 16.88s/it]\n"
     ]
    },
    {
     "name": "stdout",
     "output_type": "stream",
     "text": [
      "---------- 23page ----------\n"
     ]
    },
    {
     "name": "stderr",
     "output_type": "stream",
     "text": [
      "100%|██████████████████████████████████████████████████████████████████████████████████| 10/10 [03:06<00:00, 18.67s/it]\n"
     ]
    },
    {
     "name": "stdout",
     "output_type": "stream",
     "text": [
      "---------- 24page ----------\n"
     ]
    },
    {
     "name": "stderr",
     "output_type": "stream",
     "text": [
      "100%|██████████████████████████████████████████████████████████████████████████████████| 10/10 [02:48<00:00, 16.81s/it]\n"
     ]
    },
    {
     "name": "stdout",
     "output_type": "stream",
     "text": [
      "---------- 25page ----------\n"
     ]
    },
    {
     "name": "stderr",
     "output_type": "stream",
     "text": [
      "100%|██████████████████████████████████████████████████████████████████████████████████| 10/10 [02:55<00:00, 17.59s/it]\n"
     ]
    },
    {
     "name": "stdout",
     "output_type": "stream",
     "text": [
      "---------- 26page ----------\n"
     ]
    },
    {
     "name": "stderr",
     "output_type": "stream",
     "text": [
      "100%|██████████████████████████████████████████████████████████████████████████████████| 10/10 [02:59<00:00, 17.95s/it]\n"
     ]
    },
    {
     "name": "stdout",
     "output_type": "stream",
     "text": [
      "---------- 27page ----------\n"
     ]
    },
    {
     "name": "stderr",
     "output_type": "stream",
     "text": [
      "100%|██████████████████████████████████████████████████████████████████████████████████| 10/10 [02:52<00:00, 17.29s/it]\n"
     ]
    },
    {
     "name": "stdout",
     "output_type": "stream",
     "text": [
      "---------- 28page ----------\n"
     ]
    },
    {
     "name": "stderr",
     "output_type": "stream",
     "text": [
      "100%|██████████████████████████████████████████████████████████████████████████████████| 10/10 [02:47<00:00, 16.76s/it]\n"
     ]
    },
    {
     "name": "stdout",
     "output_type": "stream",
     "text": [
      "---------- 29page ----------\n"
     ]
    },
    {
     "name": "stderr",
     "output_type": "stream",
     "text": [
      "100%|██████████████████████████████████████████████████████████████████████████████████| 10/10 [02:50<00:00, 17.01s/it]\n"
     ]
    },
    {
     "name": "stdout",
     "output_type": "stream",
     "text": [
      "---------- 30page ----------\n"
     ]
    },
    {
     "name": "stderr",
     "output_type": "stream",
     "text": [
      "100%|██████████████████████████████████████████████████████████████████████████████████| 10/10 [02:56<00:00, 17.62s/it]\n"
     ]
    },
    {
     "name": "stdout",
     "output_type": "stream",
     "text": [
      "---------- 31page ----------\n"
     ]
    },
    {
     "name": "stderr",
     "output_type": "stream",
     "text": [
      "100%|██████████████████████████████████████████████████████████████████████████████████| 10/10 [03:05<00:00, 18.57s/it]\n"
     ]
    },
    {
     "name": "stdout",
     "output_type": "stream",
     "text": [
      "---------- 32page ----------\n"
     ]
    },
    {
     "name": "stderr",
     "output_type": "stream",
     "text": [
      " 30%|████████████████████████▉                                                          | 3/10 [01:01<02:24, 20.60s/it]\n"
     ]
    },
    {
     "ename": "NoSuchElementException",
     "evalue": "Message: no such element: Unable to locate element: {\"method\":\"xpath\",\"selector\":\"/html/body/div[2]/div[1]/div[1]/div/div[1]/div[1]/div/div[2]/div/div/ul/li[4]/div[1]/em\"}\n  (Session info: chrome=114.0.5735.134)\nStacktrace:\nBacktrace:\n\tGetHandleVerifier [0x00A5A813+48355]\n\t(No symbol) [0x009EC4B1]\n\t(No symbol) [0x008F5358]\n\t(No symbol) [0x009209A5]\n\t(No symbol) [0x00920B3B]\n\t(No symbol) [0x0094E232]\n\t(No symbol) [0x0093A784]\n\t(No symbol) [0x0094C922]\n\t(No symbol) [0x0093A536]\n\t(No symbol) [0x009182DC]\n\t(No symbol) [0x009193DD]\n\tGetHandleVerifier [0x00CBAABD+2539405]\n\tGetHandleVerifier [0x00CFA78F+2800735]\n\tGetHandleVerifier [0x00CF456C+2775612]\n\tGetHandleVerifier [0x00AE51E0+616112]\n\t(No symbol) [0x009F5F8C]\n\t(No symbol) [0x009F2328]\n\t(No symbol) [0x009F240B]\n\t(No symbol) [0x009E4FF7]\n\tBaseThreadInitThunk [0x76D77D59+25]\n\tRtlInitializeExceptionChain [0x77A8B74B+107]\n\tRtlClearBits [0x77A8B6CF+191]\n",
     "output_type": "error",
     "traceback": [
      "\u001b[1;31m---------------------------------------------------------------------------\u001b[0m",
      "\u001b[1;31mNoSuchElementException\u001b[0m                    Traceback (most recent call last)",
      "Cell \u001b[1;32mIn[3], line 19\u001b[0m, in \u001b[0;36mcheck_condition\u001b[1;34m(condition)\u001b[0m\n\u001b[0;32m     18\u001b[0m \u001b[38;5;28;01mtry\u001b[39;00m:\n\u001b[1;32m---> 19\u001b[0m     botton \u001b[38;5;241m=\u001b[39m \u001b[43mdriver\u001b[49m\u001b[38;5;241;43m.\u001b[39;49m\u001b[43mfind_element\u001b[49m\u001b[43m(\u001b[49m\u001b[43mBy\u001b[49m\u001b[38;5;241;43m.\u001b[39;49m\u001b[43mXPATH\u001b[49m\u001b[43m,\u001b[49m\u001b[43m \u001b[49m\u001b[38;5;124;43mf\u001b[39;49m\u001b[38;5;124;43m'\u001b[39;49m\u001b[38;5;124;43m/html/body/div[2]/div[1]/div[1]/div/div[1]/div[1]/div/div[2]/div/div/ul/li[\u001b[39;49m\u001b[38;5;132;43;01m{\u001b[39;49;00m\u001b[43mi\u001b[49m\u001b[38;5;132;43;01m}\u001b[39;49;00m\u001b[38;5;124;43m]/div[2]/div/button\u001b[39;49m\u001b[38;5;124;43m'\u001b[39;49m\u001b[43m)\u001b[49m\n\u001b[0;32m     20\u001b[0m     botton\u001b[38;5;241m.\u001b[39mclick()\n",
      "File \u001b[1;32mc:\\users\\horya\\appdata\\local\\programs\\python\\python38\\lib\\site-packages\\selenium\\webdriver\\remote\\webdriver.py:830\u001b[0m, in \u001b[0;36mWebDriver.find_element\u001b[1;34m(self, by, value)\u001b[0m\n\u001b[0;32m    828\u001b[0m     value \u001b[38;5;241m=\u001b[39m \u001b[38;5;124mf\u001b[39m\u001b[38;5;124m'\u001b[39m\u001b[38;5;124m[name=\u001b[39m\u001b[38;5;124m\"\u001b[39m\u001b[38;5;132;01m{\u001b[39;00mvalue\u001b[38;5;132;01m}\u001b[39;00m\u001b[38;5;124m\"\u001b[39m\u001b[38;5;124m]\u001b[39m\u001b[38;5;124m'\u001b[39m\n\u001b[1;32m--> 830\u001b[0m \u001b[38;5;28;01mreturn\u001b[39;00m \u001b[38;5;28;43mself\u001b[39;49m\u001b[38;5;241;43m.\u001b[39;49m\u001b[43mexecute\u001b[49m\u001b[43m(\u001b[49m\u001b[43mCommand\u001b[49m\u001b[38;5;241;43m.\u001b[39;49m\u001b[43mFIND_ELEMENT\u001b[49m\u001b[43m,\u001b[49m\u001b[43m \u001b[49m\u001b[43m{\u001b[49m\u001b[38;5;124;43m\"\u001b[39;49m\u001b[38;5;124;43musing\u001b[39;49m\u001b[38;5;124;43m\"\u001b[39;49m\u001b[43m:\u001b[49m\u001b[43m \u001b[49m\u001b[43mby\u001b[49m\u001b[43m,\u001b[49m\u001b[43m \u001b[49m\u001b[38;5;124;43m\"\u001b[39;49m\u001b[38;5;124;43mvalue\u001b[39;49m\u001b[38;5;124;43m\"\u001b[39;49m\u001b[43m:\u001b[49m\u001b[43m \u001b[49m\u001b[43mvalue\u001b[49m\u001b[43m}\u001b[49m\u001b[43m)\u001b[49m[\u001b[38;5;124m\"\u001b[39m\u001b[38;5;124mvalue\u001b[39m\u001b[38;5;124m\"\u001b[39m]\n",
      "File \u001b[1;32mc:\\users\\horya\\appdata\\local\\programs\\python\\python38\\lib\\site-packages\\selenium\\webdriver\\remote\\webdriver.py:440\u001b[0m, in \u001b[0;36mWebDriver.execute\u001b[1;34m(self, driver_command, params)\u001b[0m\n\u001b[0;32m    439\u001b[0m \u001b[38;5;28;01mif\u001b[39;00m response:\n\u001b[1;32m--> 440\u001b[0m     \u001b[38;5;28;43mself\u001b[39;49m\u001b[38;5;241;43m.\u001b[39;49m\u001b[43merror_handler\u001b[49m\u001b[38;5;241;43m.\u001b[39;49m\u001b[43mcheck_response\u001b[49m\u001b[43m(\u001b[49m\u001b[43mresponse\u001b[49m\u001b[43m)\u001b[49m\n\u001b[0;32m    441\u001b[0m     response[\u001b[38;5;124m\"\u001b[39m\u001b[38;5;124mvalue\u001b[39m\u001b[38;5;124m\"\u001b[39m] \u001b[38;5;241m=\u001b[39m \u001b[38;5;28mself\u001b[39m\u001b[38;5;241m.\u001b[39m_unwrap_value(response\u001b[38;5;241m.\u001b[39mget(\u001b[38;5;124m\"\u001b[39m\u001b[38;5;124mvalue\u001b[39m\u001b[38;5;124m\"\u001b[39m, \u001b[38;5;28;01mNone\u001b[39;00m))\n",
      "File \u001b[1;32mc:\\users\\horya\\appdata\\local\\programs\\python\\python38\\lib\\site-packages\\selenium\\webdriver\\remote\\errorhandler.py:245\u001b[0m, in \u001b[0;36mErrorHandler.check_response\u001b[1;34m(self, response)\u001b[0m\n\u001b[0;32m    244\u001b[0m     \u001b[38;5;28;01mraise\u001b[39;00m exception_class(message, screen, stacktrace, alert_text)  \u001b[38;5;66;03m# type: ignore[call-arg]  # mypy is not smart enough here\u001b[39;00m\n\u001b[1;32m--> 245\u001b[0m \u001b[38;5;28;01mraise\u001b[39;00m exception_class(message, screen, stacktrace)\n",
      "\u001b[1;31mNoSuchElementException\u001b[0m: Message: no such element: Unable to locate element: {\"method\":\"xpath\",\"selector\":\"/html/body/div[2]/div[1]/div[1]/div/div[1]/div[1]/div/div[2]/div/div/ul/li[1]/div[2]/div/button\"}\n  (Session info: chrome=114.0.5735.134)\nStacktrace:\nBacktrace:\n\tGetHandleVerifier [0x00A5A813+48355]\n\t(No symbol) [0x009EC4B1]\n\t(No symbol) [0x008F5358]\n\t(No symbol) [0x009209A5]\n\t(No symbol) [0x00920B3B]\n\t(No symbol) [0x0094E232]\n\t(No symbol) [0x0093A784]\n\t(No symbol) [0x0094C922]\n\t(No symbol) [0x0093A536]\n\t(No symbol) [0x009182DC]\n\t(No symbol) [0x009193DD]\n\tGetHandleVerifier [0x00CBAABD+2539405]\n\tGetHandleVerifier [0x00CFA78F+2800735]\n\tGetHandleVerifier [0x00CF456C+2775612]\n\tGetHandleVerifier [0x00AE51E0+616112]\n\t(No symbol) [0x009F5F8C]\n\t(No symbol) [0x009F2328]\n\t(No symbol) [0x009F240B]\n\t(No symbol) [0x009E4FF7]\n\tBaseThreadInitThunk [0x76D77D59+25]\n\tRtlInitializeExceptionChain [0x77A8B74B+107]\n\tRtlClearBits [0x77A8B6CF+191]\n",
      "\nDuring handling of the above exception, another exception occurred:\n",
      "\u001b[1;31mNoSuchElementException\u001b[0m                    Traceback (most recent call last)",
      "Cell \u001b[1;32mIn[3], line 27\u001b[0m, in \u001b[0;36mcheck_condition\u001b[1;34m(condition)\u001b[0m\n\u001b[0;32m     26\u001b[0m \u001b[38;5;28;01mexcept\u001b[39;00m:\n\u001b[1;32m---> 27\u001b[0m     result \u001b[38;5;241m=\u001b[39m \u001b[43mdriver\u001b[49m\u001b[38;5;241;43m.\u001b[39;49m\u001b[43mfind_element\u001b[49m\u001b[43m(\u001b[49m\u001b[43mBy\u001b[49m\u001b[38;5;241;43m.\u001b[39;49m\u001b[43mXPATH\u001b[49m\u001b[43m,\u001b[49m\u001b[43m \u001b[49m\u001b[38;5;124;43mf\u001b[39;49m\u001b[38;5;124;43m'\u001b[39;49m\u001b[38;5;124;43m/html/body/div[2]/div[1]/div[1]/div/div[1]/div[1]/div/div[2]/div/div/ul/li[\u001b[39;49m\u001b[38;5;132;43;01m{\u001b[39;49;00m\u001b[43mi\u001b[49m\u001b[38;5;132;43;01m}\u001b[39;49;00m\u001b[38;5;124;43m]/div[2]\u001b[39;49m\u001b[38;5;124;43m'\u001b[39;49m\u001b[43m)\u001b[49m\u001b[38;5;241m.\u001b[39mtext\n\u001b[0;32m     29\u001b[0m \u001b[38;5;66;03m#추출 후 다른곳을 클릭해서 열었던 페이지를 지운다.\u001b[39;00m\n\u001b[0;32m     30\u001b[0m \u001b[38;5;28;01mfinally\u001b[39;00m:\n",
      "File \u001b[1;32mc:\\users\\horya\\appdata\\local\\programs\\python\\python38\\lib\\site-packages\\selenium\\webdriver\\remote\\webdriver.py:830\u001b[0m, in \u001b[0;36mWebDriver.find_element\u001b[1;34m(self, by, value)\u001b[0m\n\u001b[0;32m    828\u001b[0m     value \u001b[38;5;241m=\u001b[39m \u001b[38;5;124mf\u001b[39m\u001b[38;5;124m'\u001b[39m\u001b[38;5;124m[name=\u001b[39m\u001b[38;5;124m\"\u001b[39m\u001b[38;5;132;01m{\u001b[39;00mvalue\u001b[38;5;132;01m}\u001b[39;00m\u001b[38;5;124m\"\u001b[39m\u001b[38;5;124m]\u001b[39m\u001b[38;5;124m'\u001b[39m\n\u001b[1;32m--> 830\u001b[0m \u001b[38;5;28;01mreturn\u001b[39;00m \u001b[38;5;28;43mself\u001b[39;49m\u001b[38;5;241;43m.\u001b[39;49m\u001b[43mexecute\u001b[49m\u001b[43m(\u001b[49m\u001b[43mCommand\u001b[49m\u001b[38;5;241;43m.\u001b[39;49m\u001b[43mFIND_ELEMENT\u001b[49m\u001b[43m,\u001b[49m\u001b[43m \u001b[49m\u001b[43m{\u001b[49m\u001b[38;5;124;43m\"\u001b[39;49m\u001b[38;5;124;43musing\u001b[39;49m\u001b[38;5;124;43m\"\u001b[39;49m\u001b[43m:\u001b[49m\u001b[43m \u001b[49m\u001b[43mby\u001b[49m\u001b[43m,\u001b[49m\u001b[43m \u001b[49m\u001b[38;5;124;43m\"\u001b[39;49m\u001b[38;5;124;43mvalue\u001b[39;49m\u001b[38;5;124;43m\"\u001b[39;49m\u001b[43m:\u001b[49m\u001b[43m \u001b[49m\u001b[43mvalue\u001b[49m\u001b[43m}\u001b[49m\u001b[43m)\u001b[49m[\u001b[38;5;124m\"\u001b[39m\u001b[38;5;124mvalue\u001b[39m\u001b[38;5;124m\"\u001b[39m]\n",
      "File \u001b[1;32mc:\\users\\horya\\appdata\\local\\programs\\python\\python38\\lib\\site-packages\\selenium\\webdriver\\remote\\webdriver.py:440\u001b[0m, in \u001b[0;36mWebDriver.execute\u001b[1;34m(self, driver_command, params)\u001b[0m\n\u001b[0;32m    439\u001b[0m \u001b[38;5;28;01mif\u001b[39;00m response:\n\u001b[1;32m--> 440\u001b[0m     \u001b[38;5;28;43mself\u001b[39;49m\u001b[38;5;241;43m.\u001b[39;49m\u001b[43merror_handler\u001b[49m\u001b[38;5;241;43m.\u001b[39;49m\u001b[43mcheck_response\u001b[49m\u001b[43m(\u001b[49m\u001b[43mresponse\u001b[49m\u001b[43m)\u001b[49m\n\u001b[0;32m    441\u001b[0m     response[\u001b[38;5;124m\"\u001b[39m\u001b[38;5;124mvalue\u001b[39m\u001b[38;5;124m\"\u001b[39m] \u001b[38;5;241m=\u001b[39m \u001b[38;5;28mself\u001b[39m\u001b[38;5;241m.\u001b[39m_unwrap_value(response\u001b[38;5;241m.\u001b[39mget(\u001b[38;5;124m\"\u001b[39m\u001b[38;5;124mvalue\u001b[39m\u001b[38;5;124m\"\u001b[39m, \u001b[38;5;28;01mNone\u001b[39;00m))\n",
      "File \u001b[1;32mc:\\users\\horya\\appdata\\local\\programs\\python\\python38\\lib\\site-packages\\selenium\\webdriver\\remote\\errorhandler.py:245\u001b[0m, in \u001b[0;36mErrorHandler.check_response\u001b[1;34m(self, response)\u001b[0m\n\u001b[0;32m    244\u001b[0m     \u001b[38;5;28;01mraise\u001b[39;00m exception_class(message, screen, stacktrace, alert_text)  \u001b[38;5;66;03m# type: ignore[call-arg]  # mypy is not smart enough here\u001b[39;00m\n\u001b[1;32m--> 245\u001b[0m \u001b[38;5;28;01mraise\u001b[39;00m exception_class(message, screen, stacktrace)\n",
      "\u001b[1;31mNoSuchElementException\u001b[0m: Message: no such element: Unable to locate element: {\"method\":\"xpath\",\"selector\":\"/html/body/div[2]/div[1]/div[1]/div/div[1]/div[1]/div/div[2]/div/div/ul/li[1]/div[2]\"}\n  (Session info: chrome=114.0.5735.134)\nStacktrace:\nBacktrace:\n\tGetHandleVerifier [0x00A5A813+48355]\n\t(No symbol) [0x009EC4B1]\n\t(No symbol) [0x008F5358]\n\t(No symbol) [0x009209A5]\n\t(No symbol) [0x00920B3B]\n\t(No symbol) [0x0094E232]\n\t(No symbol) [0x0093A784]\n\t(No symbol) [0x0094C922]\n\t(No symbol) [0x0093A536]\n\t(No symbol) [0x009182DC]\n\t(No symbol) [0x009193DD]\n\tGetHandleVerifier [0x00CBAABD+2539405]\n\tGetHandleVerifier [0x00CFA78F+2800735]\n\tGetHandleVerifier [0x00CF456C+2775612]\n\tGetHandleVerifier [0x00AE51E0+616112]\n\t(No symbol) [0x009F5F8C]\n\t(No symbol) [0x009F2328]\n\t(No symbol) [0x009F240B]\n\t(No symbol) [0x009E4FF7]\n\tBaseThreadInitThunk [0x76D77D59+25]\n\tRtlInitializeExceptionChain [0x77A8B74B+107]\n\tRtlClearBits [0x77A8B6CF+191]\n",
      "\nDuring handling of the above exception, another exception occurred:\n",
      "\u001b[1;31mNoSuchElementException\u001b[0m                    Traceback (most recent call last)",
      "Cell \u001b[1;32mIn[18], line 57\u001b[0m\n\u001b[0;32m     54\u001b[0m driver\u001b[38;5;241m.\u001b[39mget(recruit_url)\n\u001b[0;32m     55\u001b[0m driver\u001b[38;5;241m.\u001b[39mimplicitly_wait(\u001b[38;5;241m2\u001b[39m)\n\u001b[1;32m---> 57\u001b[0m emptype \u001b[38;5;241m=\u001b[39m \u001b[43mcheck_condition\u001b[49m\u001b[43m(\u001b[49m\u001b[38;5;124;43m'\u001b[39;49m\u001b[38;5;124;43m고용형태\u001b[39;49m\u001b[38;5;124;43m'\u001b[39;49m\u001b[43m)\u001b[49m\n\u001b[0;32m     58\u001b[0m time\u001b[38;5;241m.\u001b[39msleep(\u001b[38;5;241m0.5\u001b[39m)\n\u001b[0;32m     60\u001b[0m career \u001b[38;5;241m=\u001b[39m check_condition(\u001b[38;5;124m'\u001b[39m\u001b[38;5;124m경력\u001b[39m\u001b[38;5;124m'\u001b[39m)\n",
      "Cell \u001b[1;32mIn[3], line 31\u001b[0m, in \u001b[0;36mcheck_condition\u001b[1;34m(condition)\u001b[0m\n\u001b[0;32m     27\u001b[0m     result \u001b[38;5;241m=\u001b[39m driver\u001b[38;5;241m.\u001b[39mfind_element(By\u001b[38;5;241m.\u001b[39mXPATH, \u001b[38;5;124mf\u001b[39m\u001b[38;5;124m'\u001b[39m\u001b[38;5;124m/html/body/div[2]/div[1]/div[1]/div/div[1]/div[1]/div/div[2]/div/div/ul/li[\u001b[39m\u001b[38;5;132;01m{\u001b[39;00mi\u001b[38;5;132;01m}\u001b[39;00m\u001b[38;5;124m]/div[2]\u001b[39m\u001b[38;5;124m'\u001b[39m)\u001b[38;5;241m.\u001b[39mtext\n\u001b[0;32m     29\u001b[0m \u001b[38;5;66;03m#추출 후 다른곳을 클릭해서 열었던 페이지를 지운다.\u001b[39;00m\n\u001b[0;32m     30\u001b[0m \u001b[38;5;28;01mfinally\u001b[39;00m:\n\u001b[1;32m---> 31\u001b[0m     button \u001b[38;5;241m=\u001b[39m \u001b[43mdriver\u001b[49m\u001b[38;5;241;43m.\u001b[39;49m\u001b[43mfind_element\u001b[49m\u001b[43m(\u001b[49m\u001b[43mBy\u001b[49m\u001b[38;5;241;43m.\u001b[39;49m\u001b[43mXPATH\u001b[49m\u001b[43m,\u001b[49m\u001b[43m \u001b[49m\u001b[38;5;124;43m'\u001b[39;49m\u001b[38;5;124;43m/html/body/div[2]/div[1]/div[1]/div/div[1]/div[1]/div/div[2]/div/div/ul/li[4]/div[1]/em\u001b[39;49m\u001b[38;5;124;43m'\u001b[39;49m\u001b[43m)\u001b[49m\n\u001b[0;32m     32\u001b[0m     button\u001b[38;5;241m.\u001b[39mclick()\n\u001b[0;32m     34\u001b[0m \u001b[38;5;28;01mreturn\u001b[39;00m result\n",
      "File \u001b[1;32mc:\\users\\horya\\appdata\\local\\programs\\python\\python38\\lib\\site-packages\\selenium\\webdriver\\remote\\webdriver.py:830\u001b[0m, in \u001b[0;36mWebDriver.find_element\u001b[1;34m(self, by, value)\u001b[0m\n\u001b[0;32m    827\u001b[0m     by \u001b[38;5;241m=\u001b[39m By\u001b[38;5;241m.\u001b[39mCSS_SELECTOR\n\u001b[0;32m    828\u001b[0m     value \u001b[38;5;241m=\u001b[39m \u001b[38;5;124mf\u001b[39m\u001b[38;5;124m'\u001b[39m\u001b[38;5;124m[name=\u001b[39m\u001b[38;5;124m\"\u001b[39m\u001b[38;5;132;01m{\u001b[39;00mvalue\u001b[38;5;132;01m}\u001b[39;00m\u001b[38;5;124m\"\u001b[39m\u001b[38;5;124m]\u001b[39m\u001b[38;5;124m'\u001b[39m\n\u001b[1;32m--> 830\u001b[0m \u001b[38;5;28;01mreturn\u001b[39;00m \u001b[38;5;28;43mself\u001b[39;49m\u001b[38;5;241;43m.\u001b[39;49m\u001b[43mexecute\u001b[49m\u001b[43m(\u001b[49m\u001b[43mCommand\u001b[49m\u001b[38;5;241;43m.\u001b[39;49m\u001b[43mFIND_ELEMENT\u001b[49m\u001b[43m,\u001b[49m\u001b[43m \u001b[49m\u001b[43m{\u001b[49m\u001b[38;5;124;43m\"\u001b[39;49m\u001b[38;5;124;43musing\u001b[39;49m\u001b[38;5;124;43m\"\u001b[39;49m\u001b[43m:\u001b[49m\u001b[43m \u001b[49m\u001b[43mby\u001b[49m\u001b[43m,\u001b[49m\u001b[43m \u001b[49m\u001b[38;5;124;43m\"\u001b[39;49m\u001b[38;5;124;43mvalue\u001b[39;49m\u001b[38;5;124;43m\"\u001b[39;49m\u001b[43m:\u001b[49m\u001b[43m \u001b[49m\u001b[43mvalue\u001b[49m\u001b[43m}\u001b[49m\u001b[43m)\u001b[49m[\u001b[38;5;124m\"\u001b[39m\u001b[38;5;124mvalue\u001b[39m\u001b[38;5;124m\"\u001b[39m]\n",
      "File \u001b[1;32mc:\\users\\horya\\appdata\\local\\programs\\python\\python38\\lib\\site-packages\\selenium\\webdriver\\remote\\webdriver.py:440\u001b[0m, in \u001b[0;36mWebDriver.execute\u001b[1;34m(self, driver_command, params)\u001b[0m\n\u001b[0;32m    438\u001b[0m response \u001b[38;5;241m=\u001b[39m \u001b[38;5;28mself\u001b[39m\u001b[38;5;241m.\u001b[39mcommand_executor\u001b[38;5;241m.\u001b[39mexecute(driver_command, params)\n\u001b[0;32m    439\u001b[0m \u001b[38;5;28;01mif\u001b[39;00m response:\n\u001b[1;32m--> 440\u001b[0m     \u001b[38;5;28;43mself\u001b[39;49m\u001b[38;5;241;43m.\u001b[39;49m\u001b[43merror_handler\u001b[49m\u001b[38;5;241;43m.\u001b[39;49m\u001b[43mcheck_response\u001b[49m\u001b[43m(\u001b[49m\u001b[43mresponse\u001b[49m\u001b[43m)\u001b[49m\n\u001b[0;32m    441\u001b[0m     response[\u001b[38;5;124m\"\u001b[39m\u001b[38;5;124mvalue\u001b[39m\u001b[38;5;124m\"\u001b[39m] \u001b[38;5;241m=\u001b[39m \u001b[38;5;28mself\u001b[39m\u001b[38;5;241m.\u001b[39m_unwrap_value(response\u001b[38;5;241m.\u001b[39mget(\u001b[38;5;124m\"\u001b[39m\u001b[38;5;124mvalue\u001b[39m\u001b[38;5;124m\"\u001b[39m, \u001b[38;5;28;01mNone\u001b[39;00m))\n\u001b[0;32m    442\u001b[0m     \u001b[38;5;28;01mreturn\u001b[39;00m response\n",
      "File \u001b[1;32mc:\\users\\horya\\appdata\\local\\programs\\python\\python38\\lib\\site-packages\\selenium\\webdriver\\remote\\errorhandler.py:245\u001b[0m, in \u001b[0;36mErrorHandler.check_response\u001b[1;34m(self, response)\u001b[0m\n\u001b[0;32m    243\u001b[0m         alert_text \u001b[38;5;241m=\u001b[39m value[\u001b[38;5;124m\"\u001b[39m\u001b[38;5;124malert\u001b[39m\u001b[38;5;124m\"\u001b[39m]\u001b[38;5;241m.\u001b[39mget(\u001b[38;5;124m\"\u001b[39m\u001b[38;5;124mtext\u001b[39m\u001b[38;5;124m\"\u001b[39m)\n\u001b[0;32m    244\u001b[0m     \u001b[38;5;28;01mraise\u001b[39;00m exception_class(message, screen, stacktrace, alert_text)  \u001b[38;5;66;03m# type: ignore[call-arg]  # mypy is not smart enough here\u001b[39;00m\n\u001b[1;32m--> 245\u001b[0m \u001b[38;5;28;01mraise\u001b[39;00m exception_class(message, screen, stacktrace)\n",
      "\u001b[1;31mNoSuchElementException\u001b[0m: Message: no such element: Unable to locate element: {\"method\":\"xpath\",\"selector\":\"/html/body/div[2]/div[1]/div[1]/div/div[1]/div[1]/div/div[2]/div/div/ul/li[4]/div[1]/em\"}\n  (Session info: chrome=114.0.5735.134)\nStacktrace:\nBacktrace:\n\tGetHandleVerifier [0x00A5A813+48355]\n\t(No symbol) [0x009EC4B1]\n\t(No symbol) [0x008F5358]\n\t(No symbol) [0x009209A5]\n\t(No symbol) [0x00920B3B]\n\t(No symbol) [0x0094E232]\n\t(No symbol) [0x0093A784]\n\t(No symbol) [0x0094C922]\n\t(No symbol) [0x0093A536]\n\t(No symbol) [0x009182DC]\n\t(No symbol) [0x009193DD]\n\tGetHandleVerifier [0x00CBAABD+2539405]\n\tGetHandleVerifier [0x00CFA78F+2800735]\n\tGetHandleVerifier [0x00CF456C+2775612]\n\tGetHandleVerifier [0x00AE51E0+616112]\n\t(No symbol) [0x009F5F8C]\n\t(No symbol) [0x009F2328]\n\t(No symbol) [0x009F240B]\n\t(No symbol) [0x009E4FF7]\n\tBaseThreadInitThunk [0x76D77D59+25]\n\tRtlInitializeExceptionChain [0x77A8B74B+107]\n\tRtlClearBits [0x77A8B6CF+191]\n"
     ]
    }
   ],
   "source": [
    "\n",
    "#긁어올 메인페이지 띄우고 main_url경로 초기화\n",
    "driver.get(\"https://job.incruit.com/jobdb_list/searchjob.asp?occ3=17111&articlecount=10\")\n",
    "driver.implicitly_wait(3)\n",
    "current_main_url = driver.current_url\n",
    "\n",
    "p = 1 \n",
    "while True:\n",
    "    print('-'*10, f'{p}page', '-'*10)\n",
    "    if p != 1: # page가 1이 아니면\n",
    "        try:\n",
    "            driver.get(current_main_url)\n",
    "            driver.implicitly_wait(3)\n",
    "            \n",
    "            driver.find_element(By.CLASS_NAME, 'next_n').click()\n",
    "            driver.implicitly_wait(3)\n",
    "            \n",
    "        #끝 페이지에 도달하게 되면 while문 종료    \n",
    "        except:\n",
    "            break\n",
    "        \n",
    "    # 현재 메인 페이지(공고리스트) url저장\n",
    "    current_main_url = driver.current_url\n",
    "    \n",
    "    # 해당 페이지의 공고 개수\n",
    "    \n",
    "    if p == 1:\n",
    "        j = 2\n",
    "        \n",
    "    else:\n",
    "        j = 1\n",
    "\n",
    "    num = len(driver.find_elements(By.XPATH, f'/html/body/div[2]/div[1]/div/div[2]/div[{j}]/div[2]/ul'))\n",
    "    \n",
    "    for i in tqdm(range(1, num + 1)):\n",
    "\n",
    "        driver.get(current_main_url)\n",
    "        driver.implicitly_wait(3)\n",
    "        \n",
    "        recruit_url = driver.find_element(By.XPATH, f'/html/body/div[2]/div[1]/div/div[2]/div[{j}]/div[2]/ul[{i}]/li/div[2]/div[1]/a').get_attribute('href')\n",
    "        head = driver.find_element(By.XPATH, f'/html/body/div[2]/div[1]/div/div[2]/div[{j}]/div[2]/ul[{i}]/li/div[2]').text.split('\\n')[0][:-4] # 뒤에 스크랩 붙는거 빼주는 용도의 slice\n",
    "        job_tag = driver.find_element(By.XPATH, f'/html/body/div[2]/div[1]/div/div[2]/div[{j}]/div[2]/ul[{i}]/li/div[2]').text.split('\\n')[2]\n",
    "\n",
    "        c = driver.find_element(By.XPATH, f'/html/body/div[2]/div[1]/div/div[2]/div[{j}]/div[2]/ul[{i}]/li/div[1]').text.split('\\n')\n",
    "        corp = re.sub(r\" (관심기업)\", '', c[0])\n",
    "        \n",
    "        # 나중에 공백 split 해줌\n",
    "        if len(c) >= 2:\n",
    "            corp_tag = driver.find_element(By.XPATH, f'/html/body/div[2]/div[1]/div/div[2]/div[{j}]/div[2]/ul[{i}]/li/div[1]').text.split('\\n')[1]\n",
    "        else:\n",
    "            corp_tag = ''\n",
    "\n",
    "        driver.implicitly_wait(1)\n",
    "\n",
    "        driver.get(recruit_url)\n",
    "        driver.implicitly_wait(2)\n",
    "        \n",
    "        #공고 없음의 에러이미지가 있다면 넘어간다.\n",
    "        if driver.find_elements(By.CLASS_NAME, 'error-img'):\n",
    "            continue\n",
    "\n",
    "        emptype = check_condition('고용형태')\n",
    "        time.sleep(0.5)\n",
    "\n",
    "        career = check_condition('경력')\n",
    "        time.sleep(0.5)\n",
    "\n",
    "        location = check_condition('근무지역')\n",
    "        time.sleep(0.5)\n",
    "\n",
    "        education = check_condition('학력')\n",
    "        time.sleep(0.5)\n",
    "\n",
    "        salary = check_condition('급여조건')\n",
    "        time.sleep(0.5)\n",
    "\n",
    "        preferred = check_condition('우대사항')\n",
    "        time.sleep(0.5)\n",
    "        \n",
    "        company_field = driver.find_element(By.XPATH, '//*[@id=\"local_m03\"]/div/div/ul[1]/li[3]/div[2]/em').text\n",
    "            \n",
    "        try:\n",
    "            body_url = driver.find_element(By.XPATH, '//*[@id=\"ifrmJobCont\"]').get_attribute('src')\n",
    "            \n",
    "        #body에 해당하는 xpath가 존재하지 않으면 내용자체가 없는 공고로 의미 없는 데이터라 생각하여 미수집    \n",
    "        except:\n",
    "            continue\n",
    "            \n",
    "        driver.get(body_url)\n",
    "        driver.implicitly_wait(2)\n",
    "\n",
    "        body_text = text_recruit()\n",
    "        time.sleep(0.5)\n",
    "        \n",
    "        body_img = image_recruit()\n",
    "\n",
    "        new_row = {'직무명': list(jl.items())[0][0], '채용공고명': head, '해시태그': job_tag,\n",
    "                   '채용공고상세_text': body_text, '채용공고상세_img' : body_img, '채용공고상세_url' : None,\n",
    "                   '고용형태' : emptype, '경력' : career, '근무지역': location,\n",
    "                   '학력' : education, '급여조건' : salary, '우대사항' : preferred,\n",
    "                   '회사명': corp, '회사분야': company_field, '출처': recruit_url}\n",
    "\n",
    "        df = pd.concat([df, pd.DataFrame(new_row, index=[0])], ignore_index=True)\n",
    "    \n",
    "    p += 1\n",
    "    \n",
    "#=['직무명', '채용공고명', '해시태그','채용공고상세','고용형태', '경력', '근무지역', '학력', '급여조건', '우대사항',\n",
    "#                             '회사명', '회사분야', '출처']\n",
    "# driver.find_element(By.XPATH, '/html/body/div[2]/div[1]/div/div[2]/div[2]/div[2]')"
   ]
  },
  {
   "cell_type": "code",
   "execution_count": 36,
   "id": "766ee836-1484-4128-b668-b2dfd595756e",
   "metadata": {},
   "outputs": [
    {
     "name": "stdout",
     "output_type": "stream",
     "text": [
      "공고없음\n"
     ]
    }
   ],
   "source": [
    "if driver.find_elements(By.CLASS_NAME, 'error-img'):\n",
    "    print('공고없음')"
   ]
  },
  {
   "cell_type": "code",
   "execution_count": 37,
   "id": "2558bd53-17f1-4050-83c3-9cf2c28921a9",
   "metadata": {},
   "outputs": [],
   "source": [
    "chrome_options = Options()\n",
    "chrome_options.add_experimental_option(\"detach\", True) #창을 보면서 작업할 수 있음\n",
    "service = Service(executable_path=ChromeDriverManager().install())\n",
    "driver = webdriver.Chrome(service=service, options=chrome_options)"
   ]
  },
  {
   "cell_type": "code",
   "execution_count": null,
   "id": "973ba859-4a34-4445-a9cb-693cc68aa346",
   "metadata": {},
   "outputs": [],
   "source": [
    "https://job.incruit.com/jobdb_info/jobpost.asp?job=2108310001407"
   ]
  },
  {
   "cell_type": "code",
   "execution_count": 38,
   "id": "9dbea593-2a6b-41b0-b8b7-426dba254324",
   "metadata": {},
   "outputs": [],
   "source": [
    "driver.get('https://job.incruit.com/jobdb_info/jobpost.asp?job=2108310001407')"
   ]
  },
  {
   "cell_type": "code",
   "execution_count": 39,
   "id": "99d55343-b1b7-4b0e-bcde-9a2d0e60e288",
   "metadata": {},
   "outputs": [
    {
     "data": {
      "text/plain": [
       "[]"
      ]
     },
     "execution_count": 39,
     "metadata": {},
     "output_type": "execute_result"
    }
   ],
   "source": [
    "driver.find_elements(By.CLASS_NAME, 'error-img')"
   ]
  },
  {
   "cell_type": "code",
   "execution_count": 29,
   "id": "36e1ab46-6d28-422e-85d8-58831a5bd395",
   "metadata": {
    "collapsed": true,
    "jupyter": {
     "outputs_hidden": true
    },
    "tags": []
   },
   "outputs": [
    {
     "ename": "NoSuchElementException",
     "evalue": "Message: no such element: Unable to locate element: {\"method\":\"xpath\",\"selector\":\"//*[@id=\"ifrmJobCont\"]\"}\n  (Session info: chrome=114.0.5735.134)\nStacktrace:\nBacktrace:\n\tGetHandleVerifier [0x00A5A813+48355]\n\t(No symbol) [0x009EC4B1]\n\t(No symbol) [0x008F5358]\n\t(No symbol) [0x009209A5]\n\t(No symbol) [0x00920B3B]\n\t(No symbol) [0x0094E232]\n\t(No symbol) [0x0093A784]\n\t(No symbol) [0x0094C922]\n\t(No symbol) [0x0093A536]\n\t(No symbol) [0x009182DC]\n\t(No symbol) [0x009193DD]\n\tGetHandleVerifier [0x00CBAABD+2539405]\n\tGetHandleVerifier [0x00CFA78F+2800735]\n\tGetHandleVerifier [0x00CF456C+2775612]\n\tGetHandleVerifier [0x00AE51E0+616112]\n\t(No symbol) [0x009F5F8C]\n\t(No symbol) [0x009F2328]\n\t(No symbol) [0x009F240B]\n\t(No symbol) [0x009E4FF7]\n\tBaseThreadInitThunk [0x76D77D59+25]\n\tRtlInitializeExceptionChain [0x77A8B74B+107]\n\tRtlClearBits [0x77A8B6CF+191]\n",
     "output_type": "error",
     "traceback": [
      "\u001b[1;31m---------------------------------------------------------------------------\u001b[0m",
      "\u001b[1;31mNoSuchElementException\u001b[0m                    Traceback (most recent call last)",
      "Cell \u001b[1;32mIn[29], line 1\u001b[0m\n\u001b[1;32m----> 1\u001b[0m \u001b[43mdriver\u001b[49m\u001b[38;5;241;43m.\u001b[39;49m\u001b[43mfind_element\u001b[49m\u001b[43m(\u001b[49m\u001b[43mBy\u001b[49m\u001b[38;5;241;43m.\u001b[39;49m\u001b[43mXPATH\u001b[49m\u001b[43m,\u001b[49m\u001b[43m \u001b[49m\u001b[38;5;124;43m'\u001b[39;49m\u001b[38;5;124;43m//*[@id=\u001b[39;49m\u001b[38;5;124;43m\"\u001b[39;49m\u001b[38;5;124;43mifrmJobCont\u001b[39;49m\u001b[38;5;124;43m\"\u001b[39;49m\u001b[38;5;124;43m]\u001b[39;49m\u001b[38;5;124;43m'\u001b[39;49m\u001b[43m)\u001b[49m\n",
      "File \u001b[1;32mc:\\users\\horya\\appdata\\local\\programs\\python\\python38\\lib\\site-packages\\selenium\\webdriver\\remote\\webdriver.py:830\u001b[0m, in \u001b[0;36mWebDriver.find_element\u001b[1;34m(self, by, value)\u001b[0m\n\u001b[0;32m    827\u001b[0m     by \u001b[38;5;241m=\u001b[39m By\u001b[38;5;241m.\u001b[39mCSS_SELECTOR\n\u001b[0;32m    828\u001b[0m     value \u001b[38;5;241m=\u001b[39m \u001b[38;5;124mf\u001b[39m\u001b[38;5;124m'\u001b[39m\u001b[38;5;124m[name=\u001b[39m\u001b[38;5;124m\"\u001b[39m\u001b[38;5;132;01m{\u001b[39;00mvalue\u001b[38;5;132;01m}\u001b[39;00m\u001b[38;5;124m\"\u001b[39m\u001b[38;5;124m]\u001b[39m\u001b[38;5;124m'\u001b[39m\n\u001b[1;32m--> 830\u001b[0m \u001b[38;5;28;01mreturn\u001b[39;00m \u001b[38;5;28;43mself\u001b[39;49m\u001b[38;5;241;43m.\u001b[39;49m\u001b[43mexecute\u001b[49m\u001b[43m(\u001b[49m\u001b[43mCommand\u001b[49m\u001b[38;5;241;43m.\u001b[39;49m\u001b[43mFIND_ELEMENT\u001b[49m\u001b[43m,\u001b[49m\u001b[43m \u001b[49m\u001b[43m{\u001b[49m\u001b[38;5;124;43m\"\u001b[39;49m\u001b[38;5;124;43musing\u001b[39;49m\u001b[38;5;124;43m\"\u001b[39;49m\u001b[43m:\u001b[49m\u001b[43m \u001b[49m\u001b[43mby\u001b[49m\u001b[43m,\u001b[49m\u001b[43m \u001b[49m\u001b[38;5;124;43m\"\u001b[39;49m\u001b[38;5;124;43mvalue\u001b[39;49m\u001b[38;5;124;43m\"\u001b[39;49m\u001b[43m:\u001b[49m\u001b[43m \u001b[49m\u001b[43mvalue\u001b[49m\u001b[43m}\u001b[49m\u001b[43m)\u001b[49m[\u001b[38;5;124m\"\u001b[39m\u001b[38;5;124mvalue\u001b[39m\u001b[38;5;124m\"\u001b[39m]\n",
      "File \u001b[1;32mc:\\users\\horya\\appdata\\local\\programs\\python\\python38\\lib\\site-packages\\selenium\\webdriver\\remote\\webdriver.py:440\u001b[0m, in \u001b[0;36mWebDriver.execute\u001b[1;34m(self, driver_command, params)\u001b[0m\n\u001b[0;32m    438\u001b[0m response \u001b[38;5;241m=\u001b[39m \u001b[38;5;28mself\u001b[39m\u001b[38;5;241m.\u001b[39mcommand_executor\u001b[38;5;241m.\u001b[39mexecute(driver_command, params)\n\u001b[0;32m    439\u001b[0m \u001b[38;5;28;01mif\u001b[39;00m response:\n\u001b[1;32m--> 440\u001b[0m     \u001b[38;5;28;43mself\u001b[39;49m\u001b[38;5;241;43m.\u001b[39;49m\u001b[43merror_handler\u001b[49m\u001b[38;5;241;43m.\u001b[39;49m\u001b[43mcheck_response\u001b[49m\u001b[43m(\u001b[49m\u001b[43mresponse\u001b[49m\u001b[43m)\u001b[49m\n\u001b[0;32m    441\u001b[0m     response[\u001b[38;5;124m\"\u001b[39m\u001b[38;5;124mvalue\u001b[39m\u001b[38;5;124m\"\u001b[39m] \u001b[38;5;241m=\u001b[39m \u001b[38;5;28mself\u001b[39m\u001b[38;5;241m.\u001b[39m_unwrap_value(response\u001b[38;5;241m.\u001b[39mget(\u001b[38;5;124m\"\u001b[39m\u001b[38;5;124mvalue\u001b[39m\u001b[38;5;124m\"\u001b[39m, \u001b[38;5;28;01mNone\u001b[39;00m))\n\u001b[0;32m    442\u001b[0m     \u001b[38;5;28;01mreturn\u001b[39;00m response\n",
      "File \u001b[1;32mc:\\users\\horya\\appdata\\local\\programs\\python\\python38\\lib\\site-packages\\selenium\\webdriver\\remote\\errorhandler.py:245\u001b[0m, in \u001b[0;36mErrorHandler.check_response\u001b[1;34m(self, response)\u001b[0m\n\u001b[0;32m    243\u001b[0m         alert_text \u001b[38;5;241m=\u001b[39m value[\u001b[38;5;124m\"\u001b[39m\u001b[38;5;124malert\u001b[39m\u001b[38;5;124m\"\u001b[39m]\u001b[38;5;241m.\u001b[39mget(\u001b[38;5;124m\"\u001b[39m\u001b[38;5;124mtext\u001b[39m\u001b[38;5;124m\"\u001b[39m)\n\u001b[0;32m    244\u001b[0m     \u001b[38;5;28;01mraise\u001b[39;00m exception_class(message, screen, stacktrace, alert_text)  \u001b[38;5;66;03m# type: ignore[call-arg]  # mypy is not smart enough here\u001b[39;00m\n\u001b[1;32m--> 245\u001b[0m \u001b[38;5;28;01mraise\u001b[39;00m exception_class(message, screen, stacktrace)\n",
      "\u001b[1;31mNoSuchElementException\u001b[0m: Message: no such element: Unable to locate element: {\"method\":\"xpath\",\"selector\":\"//*[@id=\"ifrmJobCont\"]\"}\n  (Session info: chrome=114.0.5735.134)\nStacktrace:\nBacktrace:\n\tGetHandleVerifier [0x00A5A813+48355]\n\t(No symbol) [0x009EC4B1]\n\t(No symbol) [0x008F5358]\n\t(No symbol) [0x009209A5]\n\t(No symbol) [0x00920B3B]\n\t(No symbol) [0x0094E232]\n\t(No symbol) [0x0093A784]\n\t(No symbol) [0x0094C922]\n\t(No symbol) [0x0093A536]\n\t(No symbol) [0x009182DC]\n\t(No symbol) [0x009193DD]\n\tGetHandleVerifier [0x00CBAABD+2539405]\n\tGetHandleVerifier [0x00CFA78F+2800735]\n\tGetHandleVerifier [0x00CF456C+2775612]\n\tGetHandleVerifier [0x00AE51E0+616112]\n\t(No symbol) [0x009F5F8C]\n\t(No symbol) [0x009F2328]\n\t(No symbol) [0x009F240B]\n\t(No symbol) [0x009E4FF7]\n\tBaseThreadInitThunk [0x76D77D59+25]\n\tRtlInitializeExceptionChain [0x77A8B74B+107]\n\tRtlClearBits [0x77A8B6CF+191]\n"
     ]
    }
   ],
   "source": [
    "driver.find_element(By.XPATH, '//*[@id=\"ifrmJobCont\"]')"
   ]
  },
  {
   "cell_type": "code",
   "execution_count": 47,
   "id": "7430452b-7716-4249-84d1-d366d286318b",
   "metadata": {
    "tags": []
   },
   "outputs": [],
   "source": [
    "df.to_csv('C:/datafile/크롤링_incruit_sample.csv', encoding = 'utf-8-sig', index = False)"
   ]
  },
  {
   "cell_type": "code",
   "execution_count": 44,
   "id": "09f0a17e-f707-483b-8be7-733b5fd17bfe",
   "metadata": {},
   "outputs": [
    {
     "data": {
      "text/html": [
       "<div>\n",
       "<style scoped>\n",
       "    .dataframe tbody tr th:only-of-type {\n",
       "        vertical-align: middle;\n",
       "    }\n",
       "\n",
       "    .dataframe tbody tr th {\n",
       "        vertical-align: top;\n",
       "    }\n",
       "\n",
       "    .dataframe thead th {\n",
       "        text-align: right;\n",
       "    }\n",
       "</style>\n",
       "<table border=\"1\" class=\"dataframe\">\n",
       "  <thead>\n",
       "    <tr style=\"text-align: right;\">\n",
       "      <th></th>\n",
       "      <th>직무명</th>\n",
       "      <th>채용공고명</th>\n",
       "      <th>해시태그</th>\n",
       "      <th>채용공고상세_text</th>\n",
       "      <th>채용공고상세_img</th>\n",
       "      <th>채용공고상세_url</th>\n",
       "      <th>고용형태</th>\n",
       "      <th>경력</th>\n",
       "      <th>근무지역</th>\n",
       "      <th>학력</th>\n",
       "      <th>급여조건</th>\n",
       "      <th>우대사항</th>\n",
       "      <th>회사명</th>\n",
       "      <th>회사분야</th>\n",
       "      <th>출처</th>\n",
       "    </tr>\n",
       "  </thead>\n",
       "  <tbody>\n",
       "    <tr>\n",
       "      <th>0</th>\n",
       "      <td>웹개발</td>\n",
       "      <td>[SK마이크로웍스/SK마이크로웍스솔루션즈] 2023년도 3분기 신입/경력 구성원 영입</td>\n",
       "      <td>웹디자인, 생산관리, 연구원·연구개발, 전자·반도체, 웹프로그래머, HTML·퍼블리...</td>\n",
       "      <td>※ SK그룹 공채와 중복 지원 가능 (대졸 초임 4,800 여 만원)</td>\n",
       "      <td>https://f.incru.it/recruiter/jobpost/000496085...</td>\n",
       "      <td>None</td>\n",
       "      <td>정규직</td>\n",
       "      <td>신입/경력(연차무관)</td>\n",
       "      <td>충남 &gt; 전지역, 충북 &gt; 전지역, 진천군, 경기 &gt; 전지역, 수원시 팔달구, 수원...</td>\n",
       "      <td>대졸이상</td>\n",
       "      <td>회사내규</td>\n",
       "      <td>None</td>\n",
       "      <td>SK마이크로웍스솔루션즈 주식회사</td>\n",
       "      <td>전기·전자·반도체</td>\n",
       "      <td>https://job.incruit.com/jobdb_info/jobpost.asp...</td>\n",
       "    </tr>\n",
       "    <tr>\n",
       "      <th>1</th>\n",
       "      <td>웹개발</td>\n",
       "      <td>23년 6월 비상교육 직무별 신입/경력 대규모 인재채용</td>\n",
       "      <td>빅데이터·AI(인공지능), 응용프로그래머, ERP·시스템분석·설계, 마케팅, 경영·...</td>\n",
       "      <td></td>\n",
       "      <td>https://c.incru.it/newjobpost/2023/06_visang/v...</td>\n",
       "      <td>None</td>\n",
       "      <td>정규직</td>\n",
       "      <td>신입/경력(연차무관)</td>\n",
       "      <td>서울 &gt; 구로구, 전지역, 전국 &gt; 전지역</td>\n",
       "      <td>학력무관</td>\n",
       "      <td>회사내규</td>\n",
       "      <td>None</td>\n",
       "      <td>(주)비상교육</td>\n",
       "      <td>교육·연구및개발</td>\n",
       "      <td>https://job.incruit.com/jobdb_info/jobpost.asp...</td>\n",
       "    </tr>\n",
       "    <tr>\n",
       "      <th>2</th>\n",
       "      <td>웹개발</td>\n",
       "      <td>2023년 IBK연금보험 경력직 공개채용 (퇴직연금 연금계리·퇴직연금영업·자산운용 ...</td>\n",
       "      <td>전산·IT기술지원, 금융사무·심사·추심, 세무·회계, 경영·기획·전략, 일반사무·사...</td>\n",
       "      <td>모집분야 및 모집인원, 담당업무 (세부내용은 아래의 모집분야별 직무기술서 참조) 퇴...</td>\n",
       "      <td>https://c.incru.it/newjobpost/2023/06_ibk/ibk....</td>\n",
       "      <td>None</td>\n",
       "      <td>정규직</td>\n",
       "      <td>경력4년이상</td>\n",
       "      <td>서울 &gt; 중구, 전지역, 전국 &gt; 전지역, 경기 &gt; 전지역, 인천 &gt; 전지역, 전국...</td>\n",
       "      <td>학력무관</td>\n",
       "      <td>회사내규</td>\n",
       "      <td>None</td>\n",
       "      <td>아이비케이연금보험(주)</td>\n",
       "      <td>보험·연금</td>\n",
       "      <td>https://job.incruit.com/jobdb_info/jobpost.asp...</td>\n",
       "    </tr>\n",
       "    <tr>\n",
       "      <th>3</th>\n",
       "      <td>웹개발</td>\n",
       "      <td>코인 거래소 개발자 채용 공고 / 경력</td>\n",
       "      <td>웹프로그래머, ERP·시스템분석·설계, 응용프로그래머</td>\n",
       "      <td>빅파크 코인 거래소 개발자 채용 공고 / 경력  모집부문 및 자격요건 모집부문 담당...</td>\n",
       "      <td>None</td>\n",
       "      <td>None</td>\n",
       "      <td>정규직</td>\n",
       "      <td>신입/경력(연차무관)</td>\n",
       "      <td>경기 &gt; 부천시</td>\n",
       "      <td>학력무관</td>\n",
       "      <td>월급 5,000,000원</td>\n",
       "      <td>None</td>\n",
       "      <td>빅파크</td>\n",
       "      <td>쇼핑몰·전자상거래·오픈마켓</td>\n",
       "      <td>https://job.incruit.com/jobdb_info/jobpost.asp...</td>\n",
       "    </tr>\n",
       "    <tr>\n",
       "      <th>4</th>\n",
       "      <td>웹개발</td>\n",
       "      <td>전기 사용 모니터링 앱/웹 개발 경력 채용</td>\n",
       "      <td>HTML·퍼블리싱·UI개발, 웹프로그래머</td>\n",
       "      <td>아이씨케이 전기 사용 모니터링 앱/웹 개발 경력 채용  모집부문 및 자격요건 모집부...</td>\n",
       "      <td>None</td>\n",
       "      <td>None</td>\n",
       "      <td>정규직 [수습기간: 1개월], 계약직 [근무기간: 협의 | 정규직 전환검토], 프리...</td>\n",
       "      <td>경력1년이상</td>\n",
       "      <td>서울 &gt; 중랑구</td>\n",
       "      <td>초대졸이상</td>\n",
       "      <td>협의</td>\n",
       "      <td>전공계열 : 공학계열, 자연과학계열</td>\n",
       "      <td>아이씨케이</td>\n",
       "      <td>전기·전자·반도체</td>\n",
       "      <td>https://job.incruit.com/jobdb_info/jobpost.asp...</td>\n",
       "    </tr>\n",
       "    <tr>\n",
       "      <th>...</th>\n",
       "      <td>...</td>\n",
       "      <td>...</td>\n",
       "      <td>...</td>\n",
       "      <td>...</td>\n",
       "      <td>...</td>\n",
       "      <td>...</td>\n",
       "      <td>...</td>\n",
       "      <td>...</td>\n",
       "      <td>...</td>\n",
       "      <td>...</td>\n",
       "      <td>...</td>\n",
       "      <td>...</td>\n",
       "      <td>...</td>\n",
       "      <td>...</td>\n",
       "      <td>...</td>\n",
       "    </tr>\n",
       "    <tr>\n",
       "      <th>302</th>\n",
       "      <td>웹개발</td>\n",
       "      <td>[파크앤소프트] WEB(Java, Spring) 개발자를 모십니다.</td>\n",
       "      <td>웹프로그래머, 데이터베이스·DBA</td>\n",
       "      <td>(주)파크앤소프트 [파크앤소프트] WEB(Java, Spring) 개발자를 모십니다...</td>\n",
       "      <td>None</td>\n",
       "      <td>None</td>\n",
       "      <td>정규직 [수습기간: 0개월]</td>\n",
       "      <td>경력3년이상</td>\n",
       "      <td>서울 &gt; 송파구</td>\n",
       "      <td>학력무관</td>\n",
       "      <td>협의</td>\n",
       "      <td>[OFFICE 문서] 워드프로세서 류</td>\n",
       "      <td>(주)파크앤소프트</td>\n",
       "      <td>소프트웨어·솔루션·ASP</td>\n",
       "      <td>https://job.incruit.com/jobdb_info/jobpost.asp...</td>\n",
       "    </tr>\n",
       "    <tr>\n",
       "      <th>303</th>\n",
       "      <td>웹개발</td>\n",
       "      <td>[메가존클라우드] Technical Account Manager, AWS</td>\n",
       "      <td>ERP·시스템분석·설계, 전산·IT기술지원, 응용프로그래머, 웹프로그래머</td>\n",
       "      <td>[Cloud Technology]센터를 소개합니다! CTC(Cloud Technol...</td>\n",
       "      <td>None</td>\n",
       "      <td>None</td>\n",
       "      <td>정규직</td>\n",
       "      <td>경력6~10년</td>\n",
       "      <td>서울 &gt; 강남구</td>\n",
       "      <td>학력무관</td>\n",
       "      <td>회사내규</td>\n",
       "      <td>None</td>\n",
       "      <td>메가존(주)</td>\n",
       "      <td>웹에이젼시·IT컨설팅</td>\n",
       "      <td>https://job.incruit.com/jobdb_info/jobpost.asp...</td>\n",
       "    </tr>\n",
       "    <tr>\n",
       "      <th>304</th>\n",
       "      <td>웹개발</td>\n",
       "      <td>[메가존클라우드] Web Publisher</td>\n",
       "      <td>빅데이터·AI(인공지능), 웹프로그래머</td>\n",
       "      <td>[Hybrid &amp; AI Platform Center]를 소개합니다! 메가존클라우드의...</td>\n",
       "      <td>None</td>\n",
       "      <td>None</td>\n",
       "      <td>정규직</td>\n",
       "      <td>경력3년이상</td>\n",
       "      <td>서울 &gt; 강남구</td>\n",
       "      <td>학력무관</td>\n",
       "      <td>회사내규</td>\n",
       "      <td>None</td>\n",
       "      <td>메가존(주)</td>\n",
       "      <td>웹에이젼시·IT컨설팅</td>\n",
       "      <td>https://job.incruit.com/jobdb_info/jobpost.asp...</td>\n",
       "    </tr>\n",
       "    <tr>\n",
       "      <th>305</th>\n",
       "      <td>웹개발</td>\n",
       "      <td>그룹웨어 개발 및 클라우드 컨설팅 기술지원 모집</td>\n",
       "      <td>웹프로그래머, 응용프로그래머</td>\n",
       "      <td>가온아이 Java 웹개발 신입/경력 모집합니다. 모집부문 및 자격요건     모집분...</td>\n",
       "      <td>https://i.incru.it/jobTemplet/temp2018/img/tem...</td>\n",
       "      <td>None</td>\n",
       "      <td>정규직</td>\n",
       "      <td>신입/경력(연차무관)</td>\n",
       "      <td>서울 &gt; 강남구</td>\n",
       "      <td>고졸이상</td>\n",
       "      <td>협의</td>\n",
       "      <td>None</td>\n",
       "      <td>가온아이</td>\n",
       "      <td>소프트웨어·솔루션·ASP</td>\n",
       "      <td>https://job.incruit.com/jobdb_info/jobpost.asp...</td>\n",
       "    </tr>\n",
       "    <tr>\n",
       "      <th>306</th>\n",
       "      <td>웹개발</td>\n",
       "      <td>[텐일레븐] 2022 전문연구요원 모집</td>\n",
       "      <td>응용프로그래머, 빅데이터·AI(인공지능), 소프트웨어·하드웨어, 건축·공간·CAD·...</td>\n",
       "      <td>(주)텐일레븐 [텐일레븐] 2022 전문연구요원 모집 모집부문 및 자격요건 모집부문...</td>\n",
       "      <td>None</td>\n",
       "      <td>None</td>\n",
       "      <td>정규직, 병역특례 [전문연구요원 | 전직가능]</td>\n",
       "      <td>신입/경력(연차무관)</td>\n",
       "      <td>서울 &gt; 마포구, 전지역</td>\n",
       "      <td>석사이상</td>\n",
       "      <td>협의</td>\n",
       "      <td>None</td>\n",
       "      <td>(주)텐일레븐</td>\n",
       "      <td>소프트웨어·솔루션·ASP</td>\n",
       "      <td>https://job.incruit.com/jobdb_info/jobpost.asp...</td>\n",
       "    </tr>\n",
       "  </tbody>\n",
       "</table>\n",
       "<p>307 rows × 15 columns</p>\n",
       "</div>"
      ],
      "text/plain": [
       "     직무명                                              채용공고명  \\\n",
       "0    웹개발    [SK마이크로웍스/SK마이크로웍스솔루션즈] 2023년도 3분기 신입/경력 구성원 영입   \n",
       "1    웹개발                     23년 6월 비상교육 직무별 신입/경력 대규모 인재채용   \n",
       "2    웹개발  2023년 IBK연금보험 경력직 공개채용 (퇴직연금 연금계리·퇴직연금영업·자산운용 ...   \n",
       "3    웹개발                              코인 거래소 개발자 채용 공고 / 경력   \n",
       "4    웹개발                            전기 사용 모니터링 앱/웹 개발 경력 채용   \n",
       "..   ...                                                ...   \n",
       "302  웹개발              [파크앤소프트] WEB(Java, Spring) 개발자를 모십니다.   \n",
       "303  웹개발           [메가존클라우드] Technical Account Manager, AWS   \n",
       "304  웹개발                            [메가존클라우드] Web Publisher   \n",
       "305  웹개발                         그룹웨어 개발 및 클라우드 컨설팅 기술지원 모집   \n",
       "306  웹개발                              [텐일레븐] 2022 전문연구요원 모집   \n",
       "\n",
       "                                                  해시태그  \\\n",
       "0    웹디자인, 생산관리, 연구원·연구개발, 전자·반도체, 웹프로그래머, HTML·퍼블리...   \n",
       "1    빅데이터·AI(인공지능), 응용프로그래머, ERP·시스템분석·설계, 마케팅, 경영·...   \n",
       "2    전산·IT기술지원, 금융사무·심사·추심, 세무·회계, 경영·기획·전략, 일반사무·사...   \n",
       "3                        웹프로그래머, ERP·시스템분석·설계, 응용프로그래머   \n",
       "4                               HTML·퍼블리싱·UI개발, 웹프로그래머   \n",
       "..                                                 ...   \n",
       "302                                 웹프로그래머, 데이터베이스·DBA   \n",
       "303           ERP·시스템분석·설계, 전산·IT기술지원, 응용프로그래머, 웹프로그래머   \n",
       "304                              빅데이터·AI(인공지능), 웹프로그래머   \n",
       "305                                    웹프로그래머, 응용프로그래머   \n",
       "306  응용프로그래머, 빅데이터·AI(인공지능), 소프트웨어·하드웨어, 건축·공간·CAD·...   \n",
       "\n",
       "                                           채용공고상세_text  \\\n",
       "0              ※ SK그룹 공채와 중복 지원 가능 (대졸 초임 4,800 여 만원)    \n",
       "1                                                        \n",
       "2    모집분야 및 모집인원, 담당업무 (세부내용은 아래의 모집분야별 직무기술서 참조) 퇴...   \n",
       "3    빅파크 코인 거래소 개발자 채용 공고 / 경력  모집부문 및 자격요건 모집부문 담당...   \n",
       "4    아이씨케이 전기 사용 모니터링 앱/웹 개발 경력 채용  모집부문 및 자격요건 모집부...   \n",
       "..                                                 ...   \n",
       "302  (주)파크앤소프트 [파크앤소프트] WEB(Java, Spring) 개발자를 모십니다...   \n",
       "303  [Cloud Technology]센터를 소개합니다! CTC(Cloud Technol...   \n",
       "304  [Hybrid & AI Platform Center]를 소개합니다! 메가존클라우드의...   \n",
       "305  가온아이 Java 웹개발 신입/경력 모집합니다. 모집부문 및 자격요건     모집분...   \n",
       "306  (주)텐일레븐 [텐일레븐] 2022 전문연구요원 모집 모집부문 및 자격요건 모집부문...   \n",
       "\n",
       "                                            채용공고상세_img 채용공고상세_url  \\\n",
       "0    https://f.incru.it/recruiter/jobpost/000496085...       None   \n",
       "1    https://c.incru.it/newjobpost/2023/06_visang/v...       None   \n",
       "2    https://c.incru.it/newjobpost/2023/06_ibk/ibk....       None   \n",
       "3                                                 None       None   \n",
       "4                                                 None       None   \n",
       "..                                                 ...        ...   \n",
       "302                                               None       None   \n",
       "303                                               None       None   \n",
       "304                                               None       None   \n",
       "305  https://i.incru.it/jobTemplet/temp2018/img/tem...       None   \n",
       "306                                               None       None   \n",
       "\n",
       "                                                  고용형태           경력  \\\n",
       "0                                                  정규직  신입/경력(연차무관)   \n",
       "1                                                  정규직  신입/경력(연차무관)   \n",
       "2                                                  정규직       경력4년이상   \n",
       "3                                                  정규직  신입/경력(연차무관)   \n",
       "4    정규직 [수습기간: 1개월], 계약직 [근무기간: 협의 | 정규직 전환검토], 프리...       경력1년이상   \n",
       "..                                                 ...          ...   \n",
       "302                                    정규직 [수습기간: 0개월]       경력3년이상   \n",
       "303                                                정규직      경력6~10년   \n",
       "304                                                정규직       경력3년이상   \n",
       "305                                                정규직  신입/경력(연차무관)   \n",
       "306                          정규직, 병역특례 [전문연구요원 | 전직가능]  신입/경력(연차무관)   \n",
       "\n",
       "                                                  근무지역     학력           급여조건  \\\n",
       "0    충남 > 전지역, 충북 > 전지역, 진천군, 경기 > 전지역, 수원시 팔달구, 수원...   대졸이상           회사내규   \n",
       "1                              서울 > 구로구, 전지역, 전국 > 전지역   학력무관           회사내규   \n",
       "2    서울 > 중구, 전지역, 전국 > 전지역, 경기 > 전지역, 인천 > 전지역, 전국...   학력무관           회사내규   \n",
       "3                                             경기 > 부천시   학력무관  월급 5,000,000원   \n",
       "4                                             서울 > 중랑구  초대졸이상             협의   \n",
       "..                                                 ...    ...            ...   \n",
       "302                                           서울 > 송파구   학력무관             협의   \n",
       "303                                           서울 > 강남구   학력무관           회사내규   \n",
       "304                                           서울 > 강남구   학력무관           회사내규   \n",
       "305                                           서울 > 강남구   고졸이상             협의   \n",
       "306                                      서울 > 마포구, 전지역   석사이상             협의   \n",
       "\n",
       "                     우대사항                회사명            회사분야  \\\n",
       "0                    None  SK마이크로웍스솔루션즈 주식회사       전기·전자·반도체   \n",
       "1                    None            (주)비상교육        교육·연구및개발   \n",
       "2                    None       아이비케이연금보험(주)           보험·연금   \n",
       "3                    None                빅파크  쇼핑몰·전자상거래·오픈마켓   \n",
       "4     전공계열 : 공학계열, 자연과학계열              아이씨케이       전기·전자·반도체   \n",
       "..                    ...                ...             ...   \n",
       "302  [OFFICE 문서] 워드프로세서 류          (주)파크앤소프트   소프트웨어·솔루션·ASP   \n",
       "303                  None             메가존(주)     웹에이젼시·IT컨설팅   \n",
       "304                  None             메가존(주)     웹에이젼시·IT컨설팅   \n",
       "305                  None               가온아이   소프트웨어·솔루션·ASP   \n",
       "306                  None            (주)텐일레븐   소프트웨어·솔루션·ASP   \n",
       "\n",
       "                                                    출처  \n",
       "0    https://job.incruit.com/jobdb_info/jobpost.asp...  \n",
       "1    https://job.incruit.com/jobdb_info/jobpost.asp...  \n",
       "2    https://job.incruit.com/jobdb_info/jobpost.asp...  \n",
       "3    https://job.incruit.com/jobdb_info/jobpost.asp...  \n",
       "4    https://job.incruit.com/jobdb_info/jobpost.asp...  \n",
       "..                                                 ...  \n",
       "302  https://job.incruit.com/jobdb_info/jobpost.asp...  \n",
       "303  https://job.incruit.com/jobdb_info/jobpost.asp...  \n",
       "304  https://job.incruit.com/jobdb_info/jobpost.asp...  \n",
       "305  https://job.incruit.com/jobdb_info/jobpost.asp...  \n",
       "306  https://job.incruit.com/jobdb_info/jobpost.asp...  \n",
       "\n",
       "[307 rows x 15 columns]"
      ]
     },
     "execution_count": 44,
     "metadata": {},
     "output_type": "execute_result"
    }
   ],
   "source": [
    "df"
   ]
  },
  {
   "cell_type": "code",
   "execution_count": null,
   "id": "ba292403-ba29-4960-8d56-87c5c263dc5e",
   "metadata": {},
   "outputs": [],
   "source": []
  }
 ],
 "metadata": {
  "kernelspec": {
   "display_name": "Python 3 (ipykernel)",
   "language": "python",
   "name": "python3"
  },
  "language_info": {
   "codemirror_mode": {
    "name": "ipython",
    "version": 3
   },
   "file_extension": ".py",
   "mimetype": "text/x-python",
   "name": "python",
   "nbconvert_exporter": "python",
   "pygments_lexer": "ipython3",
   "version": "3.8.6"
  }
 },
 "nbformat": 4,
 "nbformat_minor": 5
}
