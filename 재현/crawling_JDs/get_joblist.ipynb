{
 "cells": [
  {
   "cell_type": "code",
   "execution_count": null,
   "id": "320fbf37-c994-4216-96a6-980496d14f01",
   "metadata": {},
   "outputs": [],
   "source": [
    "from selenium import webdriver\n",
    "from selenium.webdriver.chrome.service import Service\n",
    "from selenium.webdriver.chrome.options import Options\n",
    "from webdriver_manager.chrome import ChromeDriverManager\n",
    "from selenium.webdriver.common.by import By\n",
    "from selenium.webdriver.support.ui import WebDriverWait\n",
    "from selenium.webdriver.support import expected_conditions as EC\n",
    "import datetime\n",
    "import time\n",
    "import pandas as pd\n",
    "import numpy as np\n",
    "from tqdm import tqdm\n",
    "\n",
    "import re"
   ]
  },
  {
   "cell_type": "code",
   "execution_count": null,
   "id": "6504cb38-ce22-4ba0-8656-64d2a3327a3a",
   "metadata": {},
   "outputs": [],
   "source": [
    "acc = 150 # 인터넷,it,통신,모바일,게임 "
   ]
  },
  {
   "cell_type": "code",
   "execution_count": null,
   "id": "f925e902-ab7e-4735-9556-e67b22578b43",
   "metadata": {},
   "outputs": [],
   "source": [
    "# 원티드, 잡플래닛, 점핏을 사용함에 있어서 해당 code cell은 사용하지 않을 예정\n",
    "incruit_occu_list = ['웹프로그래머', '응용프로그래머', '시스템프로그래머', '데이터베이스', '데이터베이스·DBA', '네트워크·서버·보안', 'ERP·시스템분석·설계',\n",
    "            '컨텐츠·사이트운영', '웹디자인', '통신·모바일', '소프트웨어·하드웨어', '전산·IT기술지원', '멀티미디어(동영상·음향)', '게임(Game)',\n",
    "            '빅데이터·AI(인공지능)', 'HTML·퍼블리싱·UI개발']\n",
    "\n",
    "incruit_occu_code = [574, 375, 579, 405, 390, 435, 420, 598, 410, 530, 578, 400, 415, 535, 632, 633]"
   ]
  },
  {
   "cell_type": "code",
   "execution_count": null,
   "id": "b753e68a-dac2-426f-969a-d0bf0744fdce",
   "metadata": {},
   "outputs": [],
   "source": [
    "url = \"https://job.incruit.com/jobdb_list/searchjob.asp?cate=occu\"\n",
    "\n",
    "def get_job_list(url, acc):\n",
    "\n",
    "    job_list = []\n",
    "\n",
    "    driver.get(url)\n",
    "    button_open = driver.find_element(By.XPATH, f'//*[@id=\"occ1_list_{acc}\"]') #인터넷It통신모바일게임 직종 선택\n",
    "    button_open.click()\n",
    "    driver.implicitly_wait(2)\n",
    "\n",
    "    # 직종 클릭 및 초기화버튼은 없어도 스크래핑하는데 문제는 없음 따라서 나중에 필요하다면 없애고 코드를 간결화 할 수 있음\n",
    "    # 현 단계에서는 잘 돌아가는지 확인하기 위해 클릭 단계를 진행\n",
    "    i = 0\n",
    "    for code in incruit_occu_code:\n",
    "        i += 1\n",
    "\n",
    "        button_open = driver.find_element(By.XPATH, f'//*[@id=\"occ2_list_{acc}_{code}\"]') #세부직종 선택\n",
    "        button_open.click()\n",
    "        driver.implicitly_wait(3)\n",
    "\n",
    "        # 해당 세부직종 코드 안의 직무 개수 반환\n",
    "        job_middle_class = driver.find_element(By.XPATH, f'//*[@id=\"occ2_list_{acc}_{code}\"]').get_attribute('data-item-name')\n",
    "        tmp = driver.find_elements(By.ID, f'occ3_ul_{code}') \n",
    "        job_num = len(tmp[0].text.split('\\n'))\n",
    "        \n",
    "        for n in range(2, job_num+1):\n",
    "            job = driver.find_element(By.XPATH, f'/html/body/div[2]/div[1]/div/div[1]/div/div/div/div[2]/div[1]/div[2]/div[4]/ul/li[{n}]/label')\n",
    "            driver.implicitly_wait(3)\n",
    "    \n",
    "            job_name = re.sub(r' \\(\\d+\\)', '', job.text) # 직무명, (개수)는 없앰\n",
    "            recruit_cnt = int(re.sub(r\"[\\(, \\)]\", '', job.text.split(' ')[-1]))\n",
    "            job_code = int(job.get_attribute('data-item').replace('occ3_', '')) #직무코드\n",
    "\n",
    "            job_list.append((job_middle_class, job_name, job_code, recruit_cnt))\n",
    "\n",
    "\n",
    "        if i == 8: #인크루트는 직종 선택을 10개를 초과하지 못하게 되어있기 때문에 그 전에 초기화를 눌러서 해소\n",
    "            button_open = driver.find_element(By.XPATH, '//*[@id=\"incruit_contents\"]/div[1]/div/div/div/div[3]/div[1]/button[1]')\n",
    "            button_open.click()\n",
    "            driver.implicitly_wait(2)\n",
    "\n",
    "            i = 0\n",
    "    \n",
    "    return pd.DataFrame(job_list, columns = ['직업중분류', '직업소분류', 'code', '공고수'])\n",
    "\n"
   ]
  },
  {
   "cell_type": "code",
   "execution_count": null,
   "id": "e4c47694-3685-494d-b9a0-74a36b046fde",
   "metadata": {},
   "outputs": [],
   "source": [
    "#창 띄우기\n",
    "\n",
    "chrome_options = Options()\n",
    "chrome_options.add_experimental_option(\"detach\", True) #창을 보면서 작업할 수 있음\n",
    "service = Service(executable_path=ChromeDriverManager().install())\n",
    "driver = webdriver.Chrome(service=service, options=chrome_options)\n",
    "# driver.maximize_window()"
   ]
  },
  {
   "cell_type": "code",
   "execution_count": null,
   "id": "e6f8d1f6-d6fc-4ed1-b981-ade6450ba6af",
   "metadata": {},
   "outputs": [],
   "source": [
    "jl = get_job_list(url, 150)\n",
    "# 총 직무수 305개"
   ]
  },
  {
   "cell_type": "code",
   "execution_count": null,
   "id": "ed5faa23-4b9b-47ef-bc9e-97ed695ba72c",
   "metadata": {},
   "outputs": [],
   "source": [
    "jl.to_csv('C:/datafile/incruit_개발직군.csv', encoding = 'utf-8-sig', index = False)"
   ]
  }
 ],
 "metadata": {
  "kernelspec": {
   "display_name": "Python 3 (ipykernel)",
   "language": "python",
   "name": "python3"
  },
  "language_info": {
   "codemirror_mode": {
    "name": "ipython",
    "version": 3
   },
   "file_extension": ".py",
   "mimetype": "text/x-python",
   "name": "python",
   "nbconvert_exporter": "python",
   "pygments_lexer": "ipython3",
   "version": "3.8.6"
  }
 },
 "nbformat": 4,
 "nbformat_minor": 5
}
