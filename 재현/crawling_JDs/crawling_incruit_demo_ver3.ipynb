{
 "cells": [
  {
   "cell_type": "code",
   "execution_count": 1,
   "id": "aa22382b-f229-4065-918d-37fce2466b3c",
   "metadata": {},
   "outputs": [
    {
     "name": "stdout",
     "output_type": "stream",
     "text": [
      "Requirement already satisfied: flake8 in c:\\users\\horya\\appdata\\local\\programs\\python\\python38\\lib\\site-packages (6.0.0)\n",
      "Requirement already satisfied: mccabe<0.8.0,>=0.7.0 in c:\\users\\horya\\appdata\\local\\programs\\python\\python38\\lib\\site-packages (from flake8) (0.7.0)\n",
      "Requirement already satisfied: pycodestyle<2.11.0,>=2.10.0 in c:\\users\\horya\\appdata\\local\\programs\\python\\python38\\lib\\site-packages (from flake8) (2.10.0)\n",
      "Requirement already satisfied: pyflakes<3.1.0,>=3.0.0 in c:\\users\\horya\\appdata\\local\\programs\\python\\python38\\lib\\site-packages (from flake8) (3.0.1)\n",
      "Requirement already satisfied: pycodestyle in c:\\users\\horya\\appdata\\local\\programs\\python\\python38\\lib\\site-packages (2.10.0)\n",
      "Collecting pycodestyle_magic\n",
      "  Downloading pycodestyle_magic-0.5-py2.py3-none-any.whl (9.5 kB)\n",
      "Installing collected packages: pycodestyle_magic\n",
      "Successfully installed pycodestyle_magic-0.5\n"
     ]
    }
   ],
   "source": [
    "!pip install flake8\n",
    "!pip install pycodestyle\n",
    "!pip install pycodestyle_magic"
   ]
  },
  {
   "cell_type": "code",
   "execution_count": 2,
   "id": "1ed4fc1e-7bc9-429b-bfbf-6dedec740410",
   "metadata": {},
   "outputs": [],
   "source": [
    "%load_ext pycodestyle_magic"
   ]
  },
  {
   "cell_type": "code",
   "execution_count": 8,
   "id": "54063ff2-6a30-4cd0-873f-5fb12464d023",
   "metadata": {},
   "outputs": [],
   "source": [
    "%flake8_off"
   ]
  },
  {
   "cell_type": "code",
   "execution_count": 2,
   "id": "2eecf4c4-9d2d-4217-b679-a2002973a675",
   "metadata": {},
   "outputs": [],
   "source": [
    "from selenium import webdriver\n",
    "from selenium.webdriver.chrome.service import Service\n",
    "from selenium.webdriver.chrome.options import Options\n",
    "from webdriver_manager.chrome import ChromeDriverManager\n",
    "from selenium.webdriver.common.by import By\n",
    "from selenium.webdriver.support.ui import WebDriverWait\n",
    "from selenium.webdriver.support import expected_conditions as EC\n",
    "import datetime\n",
    "import time\n",
    "import pandas as pd\n",
    "import numpy as np\n",
    "from tqdm import tqdm\n",
    "\n",
    "import re"
   ]
  },
  {
   "cell_type": "code",
   "execution_count": null,
   "id": "5870e3cf-89a8-46da-8d5f-0b8abb5c8d51",
   "metadata": {},
   "outputs": [],
   "source": []
  },
  {
   "cell_type": "code",
   "execution_count": 28,
   "id": "3efb0448-9674-48c0-a5fe-8af83e6c0464",
   "metadata": {},
   "outputs": [
    {
     "data": {
      "text/html": [
       "<div>\n",
       "<style scoped>\n",
       "    .dataframe tbody tr th:only-of-type {\n",
       "        vertical-align: middle;\n",
       "    }\n",
       "\n",
       "    .dataframe tbody tr th {\n",
       "        vertical-align: top;\n",
       "    }\n",
       "\n",
       "    .dataframe thead th {\n",
       "        text-align: right;\n",
       "    }\n",
       "</style>\n",
       "<table border=\"1\" class=\"dataframe\">\n",
       "  <thead>\n",
       "    <tr style=\"text-align: right;\">\n",
       "      <th></th>\n",
       "      <th>직업중분류</th>\n",
       "      <th>직업소분류</th>\n",
       "      <th>code</th>\n",
       "      <th>공고수</th>\n",
       "    </tr>\n",
       "  </thead>\n",
       "  <tbody>\n",
       "    <tr>\n",
       "      <th>0</th>\n",
       "      <td>웹프로그래머</td>\n",
       "      <td>웹개발</td>\n",
       "      <td>17111</td>\n",
       "      <td>666</td>\n",
       "    </tr>\n",
       "    <tr>\n",
       "      <th>1</th>\n",
       "      <td>웹프로그래머</td>\n",
       "      <td>ASP</td>\n",
       "      <td>14340</td>\n",
       "      <td>60</td>\n",
       "    </tr>\n",
       "    <tr>\n",
       "      <th>2</th>\n",
       "      <td>웹프로그래머</td>\n",
       "      <td>CGI·Perl</td>\n",
       "      <td>14420</td>\n",
       "      <td>38</td>\n",
       "    </tr>\n",
       "    <tr>\n",
       "      <th>3</th>\n",
       "      <td>웹프로그래머</td>\n",
       "      <td>HTML·DHTML·mHTML</td>\n",
       "      <td>14610</td>\n",
       "      <td>137</td>\n",
       "    </tr>\n",
       "    <tr>\n",
       "      <th>4</th>\n",
       "      <td>웹프로그래머</td>\n",
       "      <td>JSP</td>\n",
       "      <td>14690</td>\n",
       "      <td>199</td>\n",
       "    </tr>\n",
       "  </tbody>\n",
       "</table>\n",
       "</div>"
      ],
      "text/plain": [
       "    직업중분류             직업소분류   code  공고수\n",
       "0  웹프로그래머               웹개발  17111  666\n",
       "1  웹프로그래머               ASP  14340   60\n",
       "2  웹프로그래머          CGI·Perl  14420   38\n",
       "3  웹프로그래머  HTML·DHTML·mHTML  14610  137\n",
       "4  웹프로그래머               JSP  14690  199"
      ]
     },
     "execution_count": 28,
     "metadata": {},
     "output_type": "execute_result"
    }
   ],
   "source": [
    "df_개발 = pd.read_csv('C:/datafile/incruit_개발직군.csv')\n",
    "\n",
    "df_개발.head()"
   ]
  },
  {
   "cell_type": "code",
   "execution_count": 29,
   "id": "8c193630-0f68-42b0-9e80-902b00a03cef",
   "metadata": {},
   "outputs": [],
   "source": [
    "def get_code_s(job_name_s):\n",
    "    return df_개발.query(f\"직업소분류 == '{job_name_s}'\").code.values[0]\n"
   ]
  },
  {
   "cell_type": "code",
   "execution_count": 30,
   "id": "d42d0f17-926e-4002-8fde-4db0d372c4b9",
   "metadata": {},
   "outputs": [],
   "source": [
    "cond = {'고용형태' : 1, '경력' : 2, '근무지역' : 3, '학력' : 4, '급여조건' : 5, '우대사항' : 6}\n",
    "\n",
    "def check_condition(condition): #\n",
    "    \n",
    "    i = cond[condition]\n",
    "    \n",
    "     # i값에 대해 실행이 되는지 확인\n",
    "    try:\n",
    "        driver.find_element(By.XPATH, f'/html/body/div[2]/div[1]/div[1]/div/div[1]/div[1]/div/div[2]/div/div/ul/li[{i}]')\n",
    "        \n",
    "    except:\n",
    "        # i값이 없어 에러가 났다면 None을 return\n",
    "        return None\n",
    "    \n",
    "    # i값에 대해 실행이 잘 되었다면 다음을 수행\n",
    "    else: \n",
    "        #버튼을 클릭해 나오는 페이지가 있는지를 확인해서 있다면 버튼 클릭시 나오는 추가 텍스트를 추출\n",
    "        try:\n",
    "            botton = driver.find_element(By.XPATH, f'/html/body/div[2]/div[1]/div[1]/div/div[1]/div[1]/div/div[2]/div/div/ul/li[{i}]/div[2]/div/button')\n",
    "            botton.click()\n",
    "\n",
    "            #list형태로 반환이 되므로 join을 해주어야 dataFrame을 만들 때 두세줄씩 추가가 안됨\n",
    "            result = driver.find_element(By.XPATH, f'/html/body/div[2]/div[1]/div[1]/div/div[1]/div[1]/div/div[2]/div/div/ul/li[{i}]/div[2]/div/div/ul').text.split('\\n')\n",
    "            result = ', '.join(result)\n",
    "        #버튼페이지가 없다면 텍스트 추출\n",
    "        except:\n",
    "            result = driver.find_element(By.XPATH, f'/html/body/div[2]/div[1]/div[1]/div/div[1]/div[1]/div/div[2]/div/div/ul/li[{i}]/div[2]').text\n",
    "        \n",
    "        #추출 후 다른곳을 클릭해서 열었던 페이지를 지운다.\n",
    "        finally:\n",
    "            button = driver.find_element(By.XPATH, '/html/body/div[2]/div[1]/div[1]/div/div[1]/div[1]/div/div[2]/div/div/ul/li[4]/div[1]/em')\n",
    "            button.click()\n",
    "        \n",
    "        return result"
   ]
  },
  {
   "cell_type": "code",
   "execution_count": 31,
   "id": "10bff921-3321-4974-b56f-30c2b4d9deb5",
   "metadata": {},
   "outputs": [],
   "source": [
    "def image_recruit():\n",
    "    urllist = []\n",
    "    \n",
    "    try:\n",
    "        els = driver.find_elements(By.TAG_NAME, 'img')\n",
    "    \n",
    "    except:\n",
    "        return None\n",
    "    \n",
    "    else:\n",
    "        for el in els:\n",
    "            urllist.append(el.get_attribute('src'))\n",
    "    \n",
    "        return ', '.join(urllist) if urllist else None"
   ]
  },
  {
   "cell_type": "code",
   "execution_count": 32,
   "id": "da2e5925-b498-41fd-85a5-0bf988088270",
   "metadata": {},
   "outputs": [],
   "source": [
    "def text_recruit():\n",
    "    \n",
    "    txt = driver.find_element(By.XPATH, '/html/body/div').text\n",
    "    txt = txt.replace('\\n', ' ')\n",
    "    return txt"
   ]
  },
  {
   "cell_type": "code",
   "execution_count": 33,
   "id": "69f48cb2-bb35-4e2f-a916-40b6841fed3e",
   "metadata": {},
   "outputs": [],
   "source": [
    "# 무한로딩이 걸릴 시 n회 추가로 재수행\n",
    "def loading_pass(url, n):\n",
    "    success = False\n",
    "    for i in range(n+1):\n",
    "        try:\n",
    "            driver.get(url)\n",
    "            driver.implicitly_wait(20)\n",
    "            \n",
    "        except:\n",
    "            continue\n",
    "            \n",
    "        else:\n",
    "            success = True\n",
    "            break\n",
    "        \n",
    "    return success"
   ]
  },
  {
   "cell_type": "code",
   "execution_count": 34,
   "id": "95ec7fd8-7e00-4eb1-827b-a1694f74d420",
   "metadata": {},
   "outputs": [],
   "source": [
    "def check_company():\n",
    "    try:\n",
    "        driver.find_element(By.XPATH, '/html/body/div[2]/div[1]/div[1]/div/div[5]/div/h3')\n",
    "        \n",
    "    except:\n",
    "        return (None, None, None)\n",
    "    \n",
    "    else:\n",
    "        try:\n",
    "            company_size = driver.find_element(By.XPATH, '//*[@id=\"local_m03\"]/div/div/ul[1]/li[2]/div[2]/em').text\n",
    "        except:\n",
    "            company_size = None\n",
    "            \n",
    "        try:\n",
    "            company_field = driver.find_element(By.XPATH, '//*[@id=\"local_m03\"]/div/div/ul[1]/li[3]/div[2]/em').text\n",
    "        except:\n",
    "            company_field = None\n",
    "        \n",
    "        try:\n",
    "            company_benefit = driver.find_element(By.XPATH, '//*[@id=\"local_m03\"]/div/div/ul[2]/li[1]/div[2]/em').text\n",
    "        except:\n",
    "            company_benefit = None\n",
    "            \n",
    "        return (company_size, company_field, company_benefit)"
   ]
  },
  {
   "cell_type": "code",
   "execution_count": 39,
   "id": "c4fea946-b68f-4430-a62c-1ecd20265259",
   "metadata": {},
   "outputs": [],
   "source": [
    "code = get_code_s('DBA')\n",
    "\n",
    "#긁어올 메인페이지 띄우고 main_url경로 초기화\n",
    "result = pd.DataFrame(columns=['직무중분류', '직무소분류', '채용공고명', '채용기한', '해시태그','채용공고상세_text', '채용공고상세_img', '채용공고상세_url', '고용형태', '경력', '근무지역', '학력', '급여조건', '우대사항',\n",
    "                        '회사명', '회사규모', '회사분야', '복리후생', '출처'])\n",
    "failed_page = pd.DataFrame(columns=['직무중분류', '직무소분류', '공고명', 'url'])\n",
    "\n",
    "driver.get(f\"https://job.incruit.com/jobdb_list/searchjob.asp?occ3={code}\")\n",
    "driver.implicitly_wait(15)\n",
    "current_main_url = driver.current_url\n",
    "\n",
    "p = 1 \n",
    "while True:\n",
    "    print('-'*10, f'{p}page', '-'*10)\n",
    "    if p != 1: # page가 1이 아니면\n",
    "        try:\n",
    "            loading_pass(current_main_url, 2)\n",
    "\n",
    "            driver.find_element(By.CLASS_NAME, 'next_n').click()\n",
    "            driver.implicitly_wait(15)\n",
    "\n",
    "        #끝 페이지에 도달하게 되면 while문 종료    \n",
    "        except:\n",
    "            break\n",
    "\n",
    "    # 현재 메인 페이지(공고리스트) url저장\n",
    "    current_main_url = driver.current_url\n",
    "\n",
    "    # 해당 페이지의 공고 개수\n",
    "\n",
    "    if p == 1:\n",
    "        j = 2\n",
    "\n",
    "    else:\n",
    "        j = 1\n",
    "\n",
    "    num = len(driver.find_elements(By.XPATH, f'/html/body/div[2]/div[1]/div/div[2]/div[{j}]/div[2]/ul'))\n",
    "\n",
    "    for i in tqdm(range(1, num + 1)):\n",
    "\n",
    "        loading_pass(current_main_url, 2)\n",
    "\n",
    "        recruit_url = driver.find_element(By.XPATH, f'/html/body/div[2]/div[1]/div/div[2]/div[{j}]/div[2]/ul[{i}]/li/div[2]/div[1]/a').get_attribute('href')\n",
    "        head = driver.find_element(By.XPATH, f'/html/body/div[2]/div[1]/div/div[2]/div[{j}]/div[2]/ul[{i}]/li/div[2]').text.split('\\n')[0][:-4] # 뒤에 스크랩 붙는거 빼주는 용도의 slice\n",
    "        # 교육과정은 공고에서 제외\n",
    "        if '교육생' in head:\n",
    "            continue\n",
    "\n",
    "        job_tag = driver.find_element(By.XPATH, f'/html/body/div[2]/div[1]/div/div[2]/div[{j}]/div[2]/ul[{i}]/li/div[2]').text.split('\\n')[2]\n",
    "        due_date = driver.find_element(By.XPATH, f'/html/body/div[2]/div[1]/div/div[2]/div[{j}]/div[2]/ul[{i}]/li/div[3]/div[1]/span[1]').text\n",
    "        c = driver.find_element(By.XPATH, f'/html/body/div[2]/div[1]/div/div[2]/div[{j}]/div[2]/ul[{i}]/li/div[1]').text.split('\\n')\n",
    "        corp = re.sub(r\" (관심기업)\", '', c[0])\n",
    "\n",
    "        # 나중에 공백 split 해줌\n",
    "        if len(c) >= 2:\n",
    "            corp_tag = driver.find_element(By.XPATH, f'/html/body/div[2]/div[1]/div/div[2]/div[{j}]/div[2]/ul[{i}]/li/div[1]').text.split('\\n')[1]\n",
    "        else:\n",
    "            corp_tag = ''\n",
    "\n",
    "        #공고상세 페이지 로딩이 길어질 경우 3번 재시도하고 안되면 해당공고는 건너뛴다.\n",
    "        success = loading_pass(recruit_url, 3)\n",
    "        #로딩이 길어져 수집에 실패한 경우 실패 url을 남겨 저장\n",
    "        if not success:\n",
    "            failed_new_row = {'직무중분류' : df_개발.query(f'code == {code}')['직업중분류'].values[0], \n",
    "                   '직무소분류': df_개발.query(f'code == {code}')['직업소분류'].values[0], \n",
    "                   '채용공고명': head, '출처': recruit_url}\n",
    "            failed_page = pd.concat([failed_page, pd.DataFrame(failed_new_row, index=[0])], ignore_index=True)\n",
    "            continue\n",
    "\n",
    "        #공고 없음의 에러이미지가 있다면 넘어간다.\n",
    "        if driver.find_elements(By.CLASS_NAME, 'error-img'):\n",
    "            continue\n",
    "\n",
    "        emptype = check_condition('고용형태')\n",
    "        career = check_condition('경력')\n",
    "        location = check_condition('근무지역')\n",
    "        education = check_condition('학력')\n",
    "        salary = check_condition('급여조건')\n",
    "        preferred = check_condition('우대사항')\n",
    "        time.sleep(0.5)\n",
    "\n",
    "        company_size, company_field, company_benefit = check_company()\n",
    "\n",
    "        try:\n",
    "            body_url = driver.find_element(By.XPATH, '//*[@id=\"ifrmJobCont\"]').get_attribute('src')\n",
    "\n",
    "        #body에 해당하는 xpath가 존재하지 않으면 내용자체가 없는 공고로 의미 없는 데이터라 생각하여 미수집    \n",
    "        except:\n",
    "            continue\n",
    "\n",
    "        success = loading_pass(body_url, 3)\n",
    "        if not success:\n",
    "            failed_new_row = {'직무중분류' : df_개발.query(f'code == {code}')['직업중분류'].values[0], \n",
    "                   '직무소분류': df_개발.query(f'code == {code}')['직업소분류'].values[0], \n",
    "                   '채용공고명': head, '출처': recruit_url}\n",
    "            failed_page = pd.concat([failed_page, pd.DataFrame(failed_new_row, index=[0])], ignore_index=True)\n",
    "            continue\n",
    "\n",
    "        body_text = text_recruit()\n",
    "\n",
    "        body_img = image_recruit()\n",
    "\n",
    "        new_row = {'직무중분류' : df_개발.query(f'code == {code}')['직업중분류'].values[0], \n",
    "                   '직무소분류': df_개발.query(f'code == {code}')['직업소분류'].values[0], \n",
    "                   '채용공고명': head, '채용기한' : due_date, '해시태그': job_tag,\n",
    "                   '채용공고상세_text': body_text, '채용공고상세_img' : body_img, '채용공고상세_url' : None,\n",
    "                   '고용형태' : emptype, '경력' : career, '근무지역': location,\n",
    "                   '학력' : education, '급여조건' : salary, '우대사항' : preferred,\n",
    "                   '회사명': corp, '회사규모' : company_size, '회사분야': company_field, \n",
    "                   '복리후생' : company_benefit, '출처': recruit_url}\n",
    "\n",
    "        result = pd.concat([result, pd.DataFrame(new_row, index=[0])], ignore_index=True)\n",
    "\n",
    "    p += 1\n",
    "print('----------Finish----------')\n",
    "driver.quit()\n"
   ]
  },
  {
   "cell_type": "code",
   "execution_count": 13,
   "id": "a1e7ec2d-1dd8-4762-bdaf-85bc3bc12d47",
   "metadata": {},
   "outputs": [
    {
     "data": {
      "text/plain": [
       "'웹프로그래머'"
      ]
     },
     "execution_count": 13,
     "metadata": {},
     "output_type": "execute_result"
    }
   ],
   "source": [
    "x = 14340\n",
    "\n",
    "df_개발.query(f'code == {x}')['직업중분류'].values[0]"
   ]
  },
  {
   "cell_type": "code",
   "execution_count": 61,
   "id": "e5e601a5-929c-44cc-ae94-31504fee4719",
   "metadata": {},
   "outputs": [
    {
     "name": "stderr",
     "output_type": "stream",
     "text": [
      "[WDM] - Downloading:  86%|████████████████████████████████████████████████▏       | 5.41M/6.30M [00:00<00:00, 20.6MB/s]"
     ]
    }
   ],
   "source": [
    "#창 띄우기\n",
    "\n",
    "chrome_options = Options()\n",
    "chrome_options.add_experimental_option(\"detach\", True) #창을 보면서 작업할 수 있음\n",
    "service = Service(executable_path=ChromeDriverManager().install())\n",
    "driver = webdriver.Chrome(service=service, options=chrome_options)\n",
    "driver.set_page_load_timeout(20) # 무한로딩 탈출을 위한 장치\n",
    "# driver.maximize_window()"
   ]
  },
  {
   "cell_type": "code",
   "execution_count": 43,
   "id": "1ecf7efc-0429-4fdd-95b9-6f203cdd1fcf",
   "metadata": {
    "tags": []
   },
   "outputs": [
    {
     "name": "stdout",
     "output_type": "stream",
     "text": [
      "---------- 1page ----------\n"
     ]
    },
    {
     "name": "stderr",
     "output_type": "stream",
     "text": [
      "100%|███████████████████████████████████████████████████████████████████████████████| 60/60 [2:25:21<00:00, 145.36s/it]\n"
     ]
    },
    {
     "name": "stdout",
     "output_type": "stream",
     "text": [
      "---------- 2page ----------\n"
     ]
    },
    {
     "name": "stderr",
     "output_type": "stream",
     "text": [
      "100%|███████████████████████████████████████████████████████████████████████████████| 50/50 [2:23:55<00:00, 172.71s/it]\n"
     ]
    },
    {
     "name": "stdout",
     "output_type": "stream",
     "text": [
      "---------- 3page ----------\n",
      "----------Finish----------\n"
     ]
    }
   ],
   "source": [
    "df_successed, df_failed = crawling(get_code_s('PHP'))"
   ]
  },
  {
   "cell_type": "code",
   "execution_count": 50,
   "id": "89764584-05dc-47cc-b803-04fd15294a4d",
   "metadata": {},
   "outputs": [],
   "source": [
    "df_successed.to_csv('C:/Users/horya/git/AIvengers_data/재현/incruit_PHP개발.csv', encoding = 'utf-8-sig')"
   ]
  },
  {
   "cell_type": "code",
   "execution_count": 55,
   "id": "287c391e-108f-464e-9b1e-46a3221b1f6a",
   "metadata": {},
   "outputs": [
    {
     "name": "stdout",
     "output_type": "stream",
     "text": [
      "---------- 1page ----------\n"
     ]
    },
    {
     "name": "stderr",
     "output_type": "stream",
     "text": [
      "100%|███████████████████████████████████████████████████████████████████████████████| 60/60 [2:29:15<00:00, 149.26s/it]\n"
     ]
    },
    {
     "name": "stdout",
     "output_type": "stream",
     "text": [
      "---------- 2page ----------\n"
     ]
    },
    {
     "name": "stderr",
     "output_type": "stream",
     "text": [
      "100%|███████████████████████████████████████████████████████████████████████████████| 60/60 [2:45:58<00:00, 165.97s/it]\n"
     ]
    },
    {
     "name": "stdout",
     "output_type": "stream",
     "text": [
      "---------- 3page ----------\n"
     ]
    },
    {
     "name": "stderr",
     "output_type": "stream",
     "text": [
      " 91%|█████████████████████████████████████████████████████████████████████████▋       | 10/11 [29:35<02:57, 177.53s/it]\n"
     ]
    },
    {
     "ename": "NoSuchElementException",
     "evalue": "Message: no such element: Unable to locate element: {\"method\":\"xpath\",\"selector\":\"/html/body/div[2]/div[1]/div/div[2]/div[1]/div[2]/ul[11]/li/div[2]/div[1]/a\"}\n  (Session info: chrome=114.0.5735.199)\nStacktrace:\nBacktrace:\n\tGetHandleVerifier [0x010EA813+48355]\n\t(No symbol) [0x0107C4B1]\n\t(No symbol) [0x00F85358]\n\t(No symbol) [0x00FB09A5]\n\t(No symbol) [0x00FB0B3B]\n\t(No symbol) [0x00FDE232]\n\t(No symbol) [0x00FCA784]\n\t(No symbol) [0x00FDC922]\n\t(No symbol) [0x00FCA536]\n\t(No symbol) [0x00FA82DC]\n\t(No symbol) [0x00FA93DD]\n\tGetHandleVerifier [0x0134AABD+2539405]\n\tGetHandleVerifier [0x0138A78F+2800735]\n\tGetHandleVerifier [0x0138456C+2775612]\n\tGetHandleVerifier [0x011751E0+616112]\n\t(No symbol) [0x01085F8C]\n\t(No symbol) [0x01082328]\n\t(No symbol) [0x0108240B]\n\t(No symbol) [0x01074FF7]\n\tBaseThreadInitThunk [0x75F67D59+25]\n\tRtlInitializeExceptionChain [0x7744B74B+107]\n\tRtlClearBits [0x7744B6CF+191]\n",
     "output_type": "error",
     "traceback": [
      "\u001b[1;31m---------------------------------------------------------------------------\u001b[0m",
      "\u001b[1;31mNoSuchElementException\u001b[0m                    Traceback (most recent call last)",
      "Cell \u001b[1;32mIn[55], line 1\u001b[0m\n\u001b[1;32m----> 1\u001b[0m df_successed, df_failed \u001b[38;5;241m=\u001b[39m \u001b[43mcrawling\u001b[49m\u001b[43m(\u001b[49m\u001b[43mget_code_s\u001b[49m\u001b[43m(\u001b[49m\u001b[38;5;124;43m'\u001b[39;49m\u001b[38;5;124;43mDBA\u001b[39;49m\u001b[38;5;124;43m'\u001b[39;49m\u001b[43m)\u001b[49m\u001b[43m)\u001b[49m\n",
      "Cell \u001b[1;32mIn[39], line 42\u001b[0m, in \u001b[0;36mcrawling\u001b[1;34m(code)\u001b[0m\n\u001b[0;32m     38\u001b[0m \u001b[38;5;28;01mfor\u001b[39;00m i \u001b[38;5;129;01min\u001b[39;00m tqdm(\u001b[38;5;28mrange\u001b[39m(\u001b[38;5;241m1\u001b[39m, num \u001b[38;5;241m+\u001b[39m \u001b[38;5;241m1\u001b[39m)):\n\u001b[0;32m     40\u001b[0m     loading_pass(current_main_url, \u001b[38;5;241m2\u001b[39m)\n\u001b[1;32m---> 42\u001b[0m     recruit_url \u001b[38;5;241m=\u001b[39m \u001b[43mdriver\u001b[49m\u001b[38;5;241;43m.\u001b[39;49m\u001b[43mfind_element\u001b[49m\u001b[43m(\u001b[49m\u001b[43mBy\u001b[49m\u001b[38;5;241;43m.\u001b[39;49m\u001b[43mXPATH\u001b[49m\u001b[43m,\u001b[49m\u001b[43m \u001b[49m\u001b[38;5;124;43mf\u001b[39;49m\u001b[38;5;124;43m'\u001b[39;49m\u001b[38;5;124;43m/html/body/div[2]/div[1]/div/div[2]/div[\u001b[39;49m\u001b[38;5;132;43;01m{\u001b[39;49;00m\u001b[43mj\u001b[49m\u001b[38;5;132;43;01m}\u001b[39;49;00m\u001b[38;5;124;43m]/div[2]/ul[\u001b[39;49m\u001b[38;5;132;43;01m{\u001b[39;49;00m\u001b[43mi\u001b[49m\u001b[38;5;132;43;01m}\u001b[39;49;00m\u001b[38;5;124;43m]/li/div[2]/div[1]/a\u001b[39;49m\u001b[38;5;124;43m'\u001b[39;49m\u001b[43m)\u001b[49m\u001b[38;5;241m.\u001b[39mget_attribute(\u001b[38;5;124m'\u001b[39m\u001b[38;5;124mhref\u001b[39m\u001b[38;5;124m'\u001b[39m)\n\u001b[0;32m     43\u001b[0m     head \u001b[38;5;241m=\u001b[39m driver\u001b[38;5;241m.\u001b[39mfind_element(By\u001b[38;5;241m.\u001b[39mXPATH, \u001b[38;5;124mf\u001b[39m\u001b[38;5;124m'\u001b[39m\u001b[38;5;124m/html/body/div[2]/div[1]/div/div[2]/div[\u001b[39m\u001b[38;5;132;01m{\u001b[39;00mj\u001b[38;5;132;01m}\u001b[39;00m\u001b[38;5;124m]/div[2]/ul[\u001b[39m\u001b[38;5;132;01m{\u001b[39;00mi\u001b[38;5;132;01m}\u001b[39;00m\u001b[38;5;124m]/li/div[2]\u001b[39m\u001b[38;5;124m'\u001b[39m)\u001b[38;5;241m.\u001b[39mtext\u001b[38;5;241m.\u001b[39msplit(\u001b[38;5;124m'\u001b[39m\u001b[38;5;130;01m\\n\u001b[39;00m\u001b[38;5;124m'\u001b[39m)[\u001b[38;5;241m0\u001b[39m][:\u001b[38;5;241m-\u001b[39m\u001b[38;5;241m4\u001b[39m] \u001b[38;5;66;03m# 뒤에 스크랩 붙는거 빼주는 용도의 slice\u001b[39;00m\n\u001b[0;32m     44\u001b[0m     \u001b[38;5;66;03m# 교육과정은 공고에서 제외\u001b[39;00m\n",
      "File \u001b[1;32mc:\\users\\horya\\appdata\\local\\programs\\python\\python38\\lib\\site-packages\\selenium\\webdriver\\remote\\webdriver.py:830\u001b[0m, in \u001b[0;36mWebDriver.find_element\u001b[1;34m(self, by, value)\u001b[0m\n\u001b[0;32m    827\u001b[0m     by \u001b[38;5;241m=\u001b[39m By\u001b[38;5;241m.\u001b[39mCSS_SELECTOR\n\u001b[0;32m    828\u001b[0m     value \u001b[38;5;241m=\u001b[39m \u001b[38;5;124mf\u001b[39m\u001b[38;5;124m'\u001b[39m\u001b[38;5;124m[name=\u001b[39m\u001b[38;5;124m\"\u001b[39m\u001b[38;5;132;01m{\u001b[39;00mvalue\u001b[38;5;132;01m}\u001b[39;00m\u001b[38;5;124m\"\u001b[39m\u001b[38;5;124m]\u001b[39m\u001b[38;5;124m'\u001b[39m\n\u001b[1;32m--> 830\u001b[0m \u001b[38;5;28;01mreturn\u001b[39;00m \u001b[38;5;28;43mself\u001b[39;49m\u001b[38;5;241;43m.\u001b[39;49m\u001b[43mexecute\u001b[49m\u001b[43m(\u001b[49m\u001b[43mCommand\u001b[49m\u001b[38;5;241;43m.\u001b[39;49m\u001b[43mFIND_ELEMENT\u001b[49m\u001b[43m,\u001b[49m\u001b[43m \u001b[49m\u001b[43m{\u001b[49m\u001b[38;5;124;43m\"\u001b[39;49m\u001b[38;5;124;43musing\u001b[39;49m\u001b[38;5;124;43m\"\u001b[39;49m\u001b[43m:\u001b[49m\u001b[43m \u001b[49m\u001b[43mby\u001b[49m\u001b[43m,\u001b[49m\u001b[43m \u001b[49m\u001b[38;5;124;43m\"\u001b[39;49m\u001b[38;5;124;43mvalue\u001b[39;49m\u001b[38;5;124;43m\"\u001b[39;49m\u001b[43m:\u001b[49m\u001b[43m \u001b[49m\u001b[43mvalue\u001b[49m\u001b[43m}\u001b[49m\u001b[43m)\u001b[49m[\u001b[38;5;124m\"\u001b[39m\u001b[38;5;124mvalue\u001b[39m\u001b[38;5;124m\"\u001b[39m]\n",
      "File \u001b[1;32mc:\\users\\horya\\appdata\\local\\programs\\python\\python38\\lib\\site-packages\\selenium\\webdriver\\remote\\webdriver.py:440\u001b[0m, in \u001b[0;36mWebDriver.execute\u001b[1;34m(self, driver_command, params)\u001b[0m\n\u001b[0;32m    438\u001b[0m response \u001b[38;5;241m=\u001b[39m \u001b[38;5;28mself\u001b[39m\u001b[38;5;241m.\u001b[39mcommand_executor\u001b[38;5;241m.\u001b[39mexecute(driver_command, params)\n\u001b[0;32m    439\u001b[0m \u001b[38;5;28;01mif\u001b[39;00m response:\n\u001b[1;32m--> 440\u001b[0m     \u001b[38;5;28;43mself\u001b[39;49m\u001b[38;5;241;43m.\u001b[39;49m\u001b[43merror_handler\u001b[49m\u001b[38;5;241;43m.\u001b[39;49m\u001b[43mcheck_response\u001b[49m\u001b[43m(\u001b[49m\u001b[43mresponse\u001b[49m\u001b[43m)\u001b[49m\n\u001b[0;32m    441\u001b[0m     response[\u001b[38;5;124m\"\u001b[39m\u001b[38;5;124mvalue\u001b[39m\u001b[38;5;124m\"\u001b[39m] \u001b[38;5;241m=\u001b[39m \u001b[38;5;28mself\u001b[39m\u001b[38;5;241m.\u001b[39m_unwrap_value(response\u001b[38;5;241m.\u001b[39mget(\u001b[38;5;124m\"\u001b[39m\u001b[38;5;124mvalue\u001b[39m\u001b[38;5;124m\"\u001b[39m, \u001b[38;5;28;01mNone\u001b[39;00m))\n\u001b[0;32m    442\u001b[0m     \u001b[38;5;28;01mreturn\u001b[39;00m response\n",
      "File \u001b[1;32mc:\\users\\horya\\appdata\\local\\programs\\python\\python38\\lib\\site-packages\\selenium\\webdriver\\remote\\errorhandler.py:245\u001b[0m, in \u001b[0;36mErrorHandler.check_response\u001b[1;34m(self, response)\u001b[0m\n\u001b[0;32m    243\u001b[0m         alert_text \u001b[38;5;241m=\u001b[39m value[\u001b[38;5;124m\"\u001b[39m\u001b[38;5;124malert\u001b[39m\u001b[38;5;124m\"\u001b[39m]\u001b[38;5;241m.\u001b[39mget(\u001b[38;5;124m\"\u001b[39m\u001b[38;5;124mtext\u001b[39m\u001b[38;5;124m\"\u001b[39m)\n\u001b[0;32m    244\u001b[0m     \u001b[38;5;28;01mraise\u001b[39;00m exception_class(message, screen, stacktrace, alert_text)  \u001b[38;5;66;03m# type: ignore[call-arg]  # mypy is not smart enough here\u001b[39;00m\n\u001b[1;32m--> 245\u001b[0m \u001b[38;5;28;01mraise\u001b[39;00m exception_class(message, screen, stacktrace)\n",
      "\u001b[1;31mNoSuchElementException\u001b[0m: Message: no such element: Unable to locate element: {\"method\":\"xpath\",\"selector\":\"/html/body/div[2]/div[1]/div/div[2]/div[1]/div[2]/ul[11]/li/div[2]/div[1]/a\"}\n  (Session info: chrome=114.0.5735.199)\nStacktrace:\nBacktrace:\n\tGetHandleVerifier [0x010EA813+48355]\n\t(No symbol) [0x0107C4B1]\n\t(No symbol) [0x00F85358]\n\t(No symbol) [0x00FB09A5]\n\t(No symbol) [0x00FB0B3B]\n\t(No symbol) [0x00FDE232]\n\t(No symbol) [0x00FCA784]\n\t(No symbol) [0x00FDC922]\n\t(No symbol) [0x00FCA536]\n\t(No symbol) [0x00FA82DC]\n\t(No symbol) [0x00FA93DD]\n\tGetHandleVerifier [0x0134AABD+2539405]\n\tGetHandleVerifier [0x0138A78F+2800735]\n\tGetHandleVerifier [0x0138456C+2775612]\n\tGetHandleVerifier [0x011751E0+616112]\n\t(No symbol) [0x01085F8C]\n\t(No symbol) [0x01082328]\n\t(No symbol) [0x0108240B]\n\t(No symbol) [0x01074FF7]\n\tBaseThreadInitThunk [0x75F67D59+25]\n\tRtlInitializeExceptionChain [0x7744B74B+107]\n\tRtlClearBits [0x7744B6CF+191]\n"
     ]
    }
   ],
   "source": [
    "df_successed, df_failed = crawling(get_code_s('DBA'))"
   ]
  },
  {
   "cell_type": "code",
   "execution_count": 70,
   "id": "f276b1b2-b983-4914-bbe0-7edc111a2555",
   "metadata": {
    "tags": []
   },
   "outputs": [],
   "source": [
    "driver.quit()"
   ]
  },
  {
   "cell_type": "code",
   "execution_count": 67,
   "id": "00068aad-58c5-483f-816f-23a04794fa27",
   "metadata": {
    "collapsed": true,
    "jupyter": {
     "outputs_hidden": true
    },
    "tags": []
   },
   "outputs": [
    {
     "ename": "NoSuchElementException",
     "evalue": "Message: no such element: Unable to locate element: {\"method\":\"xpath\",\"selector\":\"/html/body/div[2]/div[1]/div/div[2]/div[1]/div[2]/ul[11]/li/div[2]/div[1]/a\"}\n  (Session info: chrome=114.0.5735.199)\nStacktrace:\nBacktrace:\n\tGetHandleVerifier [0x010EA813+48355]\n\t(No symbol) [0x0107C4B1]\n\t(No symbol) [0x00F85358]\n\t(No symbol) [0x00FB09A5]\n\t(No symbol) [0x00FB0B3B]\n\t(No symbol) [0x00FDE232]\n\t(No symbol) [0x00FCA784]\n\t(No symbol) [0x00FDC922]\n\t(No symbol) [0x00FCA536]\n\t(No symbol) [0x00FA82DC]\n\t(No symbol) [0x00FA93DD]\n\tGetHandleVerifier [0x0134AABD+2539405]\n\tGetHandleVerifier [0x0138A78F+2800735]\n\tGetHandleVerifier [0x0138456C+2775612]\n\tGetHandleVerifier [0x011751E0+616112]\n\t(No symbol) [0x01085F8C]\n\t(No symbol) [0x01082328]\n\t(No symbol) [0x0108240B]\n\t(No symbol) [0x01074FF7]\n\tBaseThreadInitThunk [0x75F67D59+25]\n\tRtlInitializeExceptionChain [0x7744B74B+107]\n\tRtlClearBits [0x7744B6CF+191]\n",
     "output_type": "error",
     "traceback": [
      "\u001b[1;31m---------------------------------------------------------------------------\u001b[0m",
      "\u001b[1;31mNoSuchElementException\u001b[0m                    Traceback (most recent call last)",
      "Cell \u001b[1;32mIn[67], line 1\u001b[0m\n\u001b[1;32m----> 1\u001b[0m \u001b[43mdriver\u001b[49m\u001b[38;5;241;43m.\u001b[39;49m\u001b[43mfind_element\u001b[49m\u001b[43m(\u001b[49m\u001b[43mBy\u001b[49m\u001b[38;5;241;43m.\u001b[39;49m\u001b[43mXPATH\u001b[49m\u001b[43m,\u001b[49m\u001b[43m \u001b[49m\u001b[38;5;124;43mf\u001b[39;49m\u001b[38;5;124;43m'\u001b[39;49m\u001b[38;5;124;43m/html/body/div[2]/div[1]/div/div[2]/div[1]/div[2]/ul[11]/li/div[2]/div[1]/a\u001b[39;49m\u001b[38;5;124;43m'\u001b[39;49m\u001b[43m)\u001b[49m\u001b[38;5;241m.\u001b[39mget_attribute(\u001b[38;5;124m'\u001b[39m\u001b[38;5;124mhref\u001b[39m\u001b[38;5;124m'\u001b[39m)\n",
      "File \u001b[1;32mc:\\users\\horya\\appdata\\local\\programs\\python\\python38\\lib\\site-packages\\selenium\\webdriver\\remote\\webdriver.py:830\u001b[0m, in \u001b[0;36mWebDriver.find_element\u001b[1;34m(self, by, value)\u001b[0m\n\u001b[0;32m    827\u001b[0m     by \u001b[38;5;241m=\u001b[39m By\u001b[38;5;241m.\u001b[39mCSS_SELECTOR\n\u001b[0;32m    828\u001b[0m     value \u001b[38;5;241m=\u001b[39m \u001b[38;5;124mf\u001b[39m\u001b[38;5;124m'\u001b[39m\u001b[38;5;124m[name=\u001b[39m\u001b[38;5;124m\"\u001b[39m\u001b[38;5;132;01m{\u001b[39;00mvalue\u001b[38;5;132;01m}\u001b[39;00m\u001b[38;5;124m\"\u001b[39m\u001b[38;5;124m]\u001b[39m\u001b[38;5;124m'\u001b[39m\n\u001b[1;32m--> 830\u001b[0m \u001b[38;5;28;01mreturn\u001b[39;00m \u001b[38;5;28;43mself\u001b[39;49m\u001b[38;5;241;43m.\u001b[39;49m\u001b[43mexecute\u001b[49m\u001b[43m(\u001b[49m\u001b[43mCommand\u001b[49m\u001b[38;5;241;43m.\u001b[39;49m\u001b[43mFIND_ELEMENT\u001b[49m\u001b[43m,\u001b[49m\u001b[43m \u001b[49m\u001b[43m{\u001b[49m\u001b[38;5;124;43m\"\u001b[39;49m\u001b[38;5;124;43musing\u001b[39;49m\u001b[38;5;124;43m\"\u001b[39;49m\u001b[43m:\u001b[49m\u001b[43m \u001b[49m\u001b[43mby\u001b[49m\u001b[43m,\u001b[49m\u001b[43m \u001b[49m\u001b[38;5;124;43m\"\u001b[39;49m\u001b[38;5;124;43mvalue\u001b[39;49m\u001b[38;5;124;43m\"\u001b[39;49m\u001b[43m:\u001b[49m\u001b[43m \u001b[49m\u001b[43mvalue\u001b[49m\u001b[43m}\u001b[49m\u001b[43m)\u001b[49m[\u001b[38;5;124m\"\u001b[39m\u001b[38;5;124mvalue\u001b[39m\u001b[38;5;124m\"\u001b[39m]\n",
      "File \u001b[1;32mc:\\users\\horya\\appdata\\local\\programs\\python\\python38\\lib\\site-packages\\selenium\\webdriver\\remote\\webdriver.py:440\u001b[0m, in \u001b[0;36mWebDriver.execute\u001b[1;34m(self, driver_command, params)\u001b[0m\n\u001b[0;32m    438\u001b[0m response \u001b[38;5;241m=\u001b[39m \u001b[38;5;28mself\u001b[39m\u001b[38;5;241m.\u001b[39mcommand_executor\u001b[38;5;241m.\u001b[39mexecute(driver_command, params)\n\u001b[0;32m    439\u001b[0m \u001b[38;5;28;01mif\u001b[39;00m response:\n\u001b[1;32m--> 440\u001b[0m     \u001b[38;5;28;43mself\u001b[39;49m\u001b[38;5;241;43m.\u001b[39;49m\u001b[43merror_handler\u001b[49m\u001b[38;5;241;43m.\u001b[39;49m\u001b[43mcheck_response\u001b[49m\u001b[43m(\u001b[49m\u001b[43mresponse\u001b[49m\u001b[43m)\u001b[49m\n\u001b[0;32m    441\u001b[0m     response[\u001b[38;5;124m\"\u001b[39m\u001b[38;5;124mvalue\u001b[39m\u001b[38;5;124m\"\u001b[39m] \u001b[38;5;241m=\u001b[39m \u001b[38;5;28mself\u001b[39m\u001b[38;5;241m.\u001b[39m_unwrap_value(response\u001b[38;5;241m.\u001b[39mget(\u001b[38;5;124m\"\u001b[39m\u001b[38;5;124mvalue\u001b[39m\u001b[38;5;124m\"\u001b[39m, \u001b[38;5;28;01mNone\u001b[39;00m))\n\u001b[0;32m    442\u001b[0m     \u001b[38;5;28;01mreturn\u001b[39;00m response\n",
      "File \u001b[1;32mc:\\users\\horya\\appdata\\local\\programs\\python\\python38\\lib\\site-packages\\selenium\\webdriver\\remote\\errorhandler.py:245\u001b[0m, in \u001b[0;36mErrorHandler.check_response\u001b[1;34m(self, response)\u001b[0m\n\u001b[0;32m    243\u001b[0m         alert_text \u001b[38;5;241m=\u001b[39m value[\u001b[38;5;124m\"\u001b[39m\u001b[38;5;124malert\u001b[39m\u001b[38;5;124m\"\u001b[39m]\u001b[38;5;241m.\u001b[39mget(\u001b[38;5;124m\"\u001b[39m\u001b[38;5;124mtext\u001b[39m\u001b[38;5;124m\"\u001b[39m)\n\u001b[0;32m    244\u001b[0m     \u001b[38;5;28;01mraise\u001b[39;00m exception_class(message, screen, stacktrace, alert_text)  \u001b[38;5;66;03m# type: ignore[call-arg]  # mypy is not smart enough here\u001b[39;00m\n\u001b[1;32m--> 245\u001b[0m \u001b[38;5;28;01mraise\u001b[39;00m exception_class(message, screen, stacktrace)\n",
      "\u001b[1;31mNoSuchElementException\u001b[0m: Message: no such element: Unable to locate element: {\"method\":\"xpath\",\"selector\":\"/html/body/div[2]/div[1]/div/div[2]/div[1]/div[2]/ul[11]/li/div[2]/div[1]/a\"}\n  (Session info: chrome=114.0.5735.199)\nStacktrace:\nBacktrace:\n\tGetHandleVerifier [0x010EA813+48355]\n\t(No symbol) [0x0107C4B1]\n\t(No symbol) [0x00F85358]\n\t(No symbol) [0x00FB09A5]\n\t(No symbol) [0x00FB0B3B]\n\t(No symbol) [0x00FDE232]\n\t(No symbol) [0x00FCA784]\n\t(No symbol) [0x00FDC922]\n\t(No symbol) [0x00FCA536]\n\t(No symbol) [0x00FA82DC]\n\t(No symbol) [0x00FA93DD]\n\tGetHandleVerifier [0x0134AABD+2539405]\n\tGetHandleVerifier [0x0138A78F+2800735]\n\tGetHandleVerifier [0x0138456C+2775612]\n\tGetHandleVerifier [0x011751E0+616112]\n\t(No symbol) [0x01085F8C]\n\t(No symbol) [0x01082328]\n\t(No symbol) [0x0108240B]\n\t(No symbol) [0x01074FF7]\n\tBaseThreadInitThunk [0x75F67D59+25]\n\tRtlInitializeExceptionChain [0x7744B74B+107]\n\tRtlClearBits [0x7744B6CF+191]\n"
     ]
    }
   ],
   "source": [
    "driver.find_element(By.XPATH, f'/html/body/div[2]/div[1]/div/div[2]/div[1]/div[2]/ul[11]/li/div[2]/div[1]/a').get_attribute('href')"
   ]
  },
  {
   "cell_type": "code",
   "execution_count": 69,
   "id": "f1bb9c03-23f6-4909-b58c-e4f04ff2db7f",
   "metadata": {},
   "outputs": [
    {
     "data": {
      "text/plain": [
       "10"
      ]
     },
     "execution_count": 69,
     "metadata": {},
     "output_type": "execute_result"
    }
   ],
   "source": [
    "len(driver.find_elements(By.XPATH, f'/html/body/div[2]/div[1]/div/div[2]/div[1]/div[2]/ul'))"
   ]
  },
  {
   "cell_type": "code",
   "execution_count": 68,
   "id": "dbb1abe6-7866-4551-8b02-3895f3be2f4e",
   "metadata": {},
   "outputs": [],
   "source": [
    "driver.get('https://job.incruit.com/jobdb_list/searchjob.asp?occ3=16182&page=3')"
   ]
  },
  {
   "cell_type": "code",
   "execution_count": 19,
   "id": "da884a8c-3f1f-4dea-a4ab-6cd1f28b951a",
   "metadata": {},
   "outputs": [
    {
     "name": "stdout",
     "output_type": "stream",
     "text": [
      "ok\n"
     ]
    }
   ],
   "source": [
    "try:\n",
    "    driver.find_element(By.XPATH, '/html/body/div[2]/div[1]/div[1]/div/div[5]/div/h3').text\n",
    "except:\n",
    "    print('None')\n",
    "else:\n",
    "    print('ok')"
   ]
  },
  {
   "cell_type": "code",
   "execution_count": 22,
   "id": "490d04b6-0d2d-45e1-81d8-14d23c2ef40e",
   "metadata": {},
   "outputs": [
    {
     "data": {
      "text/plain": [
       "'주5일근무, 인센티브, 우수사원포상, 장기근속자포상, 식대지원, 교통지원'"
      ]
     },
     "execution_count": 22,
     "metadata": {},
     "output_type": "execute_result"
    }
   ],
   "source": [
    "driver.find_element(By.XPATH, '//*[@id=\"local_m03\"]/div/div/ul[2]/li[1]/div[2]/em').text"
   ]
  },
  {
   "cell_type": "code",
   "execution_count": null,
   "id": "5d69350d-91ae-43cd-a3f7-e6dd488d6221",
   "metadata": {},
   "outputs": [],
   "source": []
  }
 ],
 "metadata": {
  "kernelspec": {
   "display_name": "Python 3 (ipykernel)",
   "language": "python",
   "name": "python3"
  },
  "language_info": {
   "codemirror_mode": {
    "name": "ipython",
    "version": 3
   },
   "file_extension": ".py",
   "mimetype": "text/x-python",
   "name": "python",
   "nbconvert_exporter": "python",
   "pygments_lexer": "ipython3",
   "version": "3.8.6"
  }
 },
 "nbformat": 4,
 "nbformat_minor": 5
}
