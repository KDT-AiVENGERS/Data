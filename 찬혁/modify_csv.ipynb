{
 "cells": [
  {
   "attachments": {},
   "cell_type": "markdown",
   "metadata": {},
   "source": [
    "- 사이트별로 직무내용이 너무 상이함, 구분을 지어주기가 쉽지 않음  \n",
    "-> 학습에 의해 판단되므로 직무내용을 굳이 안넣어도 될 것 같음"
   ]
  },
  {
   "cell_type": "code",
   "execution_count": 46,
   "metadata": {},
   "outputs": [],
   "source": [
    "import pandas as pd\n",
    "import numpy as np\n",
    "import re"
   ]
  },
  {
   "attachments": {},
   "cell_type": "markdown",
   "metadata": {},
   "source": [
    "### 원티드 데이터 전처리\n",
    "- 직무명, 채용공고명, 자격요건, 우대사항, 혜택 및 복지, 기술스택 ・ 툴, 회사명, 출처  \n",
    " -> 회사명, 지원기간, 공고명, 직무내용, 자격요건, 우대조건, 경력조건, 기술 스택, 출처 URL, 복지"
   ]
  },
  {
   "cell_type": "code",
   "execution_count": 47,
   "metadata": {},
   "outputs": [
    {
     "data": {
      "text/html": [
       "<div>\n",
       "<style scoped>\n",
       "    .dataframe tbody tr th:only-of-type {\n",
       "        vertical-align: middle;\n",
       "    }\n",
       "\n",
       "    .dataframe tbody tr th {\n",
       "        vertical-align: top;\n",
       "    }\n",
       "\n",
       "    .dataframe thead th {\n",
       "        text-align: right;\n",
       "    }\n",
       "</style>\n",
       "<table border=\"1\" class=\"dataframe\">\n",
       "  <thead>\n",
       "    <tr style=\"text-align: right;\">\n",
       "      <th></th>\n",
       "      <th>직무명</th>\n",
       "      <th>채용공고명</th>\n",
       "      <th>해시태그</th>\n",
       "      <th>회사소개</th>\n",
       "      <th>주요업무</th>\n",
       "      <th>자격요건</th>\n",
       "      <th>우대사항</th>\n",
       "      <th>혜택 및 복지</th>\n",
       "      <th>기술스택 ・ 툴</th>\n",
       "      <th>근무지역</th>\n",
       "      <th>회사명</th>\n",
       "      <th>회사분야</th>\n",
       "      <th>출처</th>\n",
       "    </tr>\n",
       "  </thead>\n",
       "  <tbody>\n",
       "    <tr>\n",
       "      <th>0</th>\n",
       "      <td>웹 개발자</td>\n",
       "      <td>Python Developer (백엔드 주니어)</td>\n",
       "      <td>#퇴사율5%이하#51~300명#설립4~9년#육아휴직#출산휴가#스톡옵션#건강검진#교육...</td>\n",
       "      <td>- 간단소개\\r\\n혜움랩스는 세무,재무,경리 등 AI기반 비서형 금융 서비스를 Fa...</td>\n",
       "      <td>• 세무 알고리즘 자동화 설계 및 개발\\r\\n• 세무팀과 커뮤니케이션\\r\\n• AW...</td>\n",
       "      <td>• 최소 2년 이상 혹은 그에 준하는 해당 업무 경험\\r\\n• Python(필수),...</td>\n",
       "      <td>• MSA 기반의 시스템 개발 경험이 있으신 분\\r\\n• AWS 를 활용한 개발, ...</td>\n",
       "      <td># 몰입을 위한\\r\\n• 액면가 스톡옵션의 기회가 열려있습니다. (2023년 7월 ...</td>\n",
       "      <td>Github\\r\\nJavaScript\\r\\nTypeScript\\r\\nReact.js...</td>\n",
       "      <td>서울.한국</td>\n",
       "      <td>혜움랩스</td>\n",
       "      <td>IT, 컨텐츠</td>\n",
       "      <td>https://www.wanted.co.kr/wd/167436</td>\n",
       "    </tr>\n",
       "    <tr>\n",
       "      <th>1</th>\n",
       "      <td>웹 개발자</td>\n",
       "      <td>프론트엔드 개발자 (주니어)</td>\n",
       "      <td>#퇴사율5%이하#51~300명#설립4~9년#육아휴직#출산휴가#스톡옵션#건강검진#교육...</td>\n",
       "      <td>- 간단소개\\r\\n혜움랩스는 세무,재무,경리 등 AI기반 비서형 금융 서비스를 Fa...</td>\n",
       "      <td>• 세무 관련 서비스 및 플랫폼의 프론트엔드 에플리케이션 개발\\r\\n• 요구사항 분...</td>\n",
       "      <td>• HTML / CSS / JavaScript 에 대한 이해\\r\\n• 컴퓨터 사이언...</td>\n",
       "      <td>• Vue.js, React.js, Angular 등 SPA 개발 경험이 있는 분\\...</td>\n",
       "      <td># 몰입을 위한\\r\\n• 액면가 스톡옵션의 기회가 열려있습니다. (2023년 7월 ...</td>\n",
       "      <td>Github\\r\\nJavaScript\\r\\nTypeScript\\r\\nReact.js...</td>\n",
       "      <td>서울.한국</td>\n",
       "      <td>혜움랩스</td>\n",
       "      <td>IT, 컨텐츠</td>\n",
       "      <td>https://www.wanted.co.kr/wd/167433</td>\n",
       "    </tr>\n",
       "  </tbody>\n",
       "</table>\n",
       "</div>"
      ],
      "text/plain": [
       "     직무명                       채용공고명  \\\n",
       "0  웹 개발자  Python Developer (백엔드 주니어)   \n",
       "1  웹 개발자             프론트엔드 개발자 (주니어)   \n",
       "\n",
       "                                                해시태그  \\\n",
       "0  #퇴사율5%이하#51~300명#설립4~9년#육아휴직#출산휴가#스톡옵션#건강검진#교육...   \n",
       "1  #퇴사율5%이하#51~300명#설립4~9년#육아휴직#출산휴가#스톡옵션#건강검진#교육...   \n",
       "\n",
       "                                                회사소개  \\\n",
       "0  - 간단소개\\r\\n혜움랩스는 세무,재무,경리 등 AI기반 비서형 금융 서비스를 Fa...   \n",
       "1  - 간단소개\\r\\n혜움랩스는 세무,재무,경리 등 AI기반 비서형 금융 서비스를 Fa...   \n",
       "\n",
       "                                                주요업무  \\\n",
       "0  • 세무 알고리즘 자동화 설계 및 개발\\r\\n• 세무팀과 커뮤니케이션\\r\\n• AW...   \n",
       "1  • 세무 관련 서비스 및 플랫폼의 프론트엔드 에플리케이션 개발\\r\\n• 요구사항 분...   \n",
       "\n",
       "                                                자격요건  \\\n",
       "0  • 최소 2년 이상 혹은 그에 준하는 해당 업무 경험\\r\\n• Python(필수),...   \n",
       "1  • HTML / CSS / JavaScript 에 대한 이해\\r\\n• 컴퓨터 사이언...   \n",
       "\n",
       "                                                우대사항  \\\n",
       "0  • MSA 기반의 시스템 개발 경험이 있으신 분\\r\\n• AWS 를 활용한 개발, ...   \n",
       "1  • Vue.js, React.js, Angular 등 SPA 개발 경험이 있는 분\\...   \n",
       "\n",
       "                                             혜택 및 복지  \\\n",
       "0  # 몰입을 위한\\r\\n• 액면가 스톡옵션의 기회가 열려있습니다. (2023년 7월 ...   \n",
       "1  # 몰입을 위한\\r\\n• 액면가 스톡옵션의 기회가 열려있습니다. (2023년 7월 ...   \n",
       "\n",
       "                                            기술스택 ・ 툴   근무지역   회사명     회사분야  \\\n",
       "0  Github\\r\\nJavaScript\\r\\nTypeScript\\r\\nReact.js...  서울.한국  혜움랩스  IT, 컨텐츠   \n",
       "1  Github\\r\\nJavaScript\\r\\nTypeScript\\r\\nReact.js...  서울.한국  혜움랩스  IT, 컨텐츠   \n",
       "\n",
       "                                   출처  \n",
       "0  https://www.wanted.co.kr/wd/167436  \n",
       "1  https://www.wanted.co.kr/wd/167433  "
      ]
     },
     "execution_count": 47,
     "metadata": {},
     "output_type": "execute_result"
    }
   ],
   "source": [
    "wanted = pd.read_csv('./sample_data/wanted.csv')\n",
    "wanted.head(2)"
   ]
  },
  {
   "attachments": {},
   "cell_type": "markdown",
   "metadata": {},
   "source": [
    "- column확인 후 필요없는 column제거\n",
    "- 정해진 frame의 column_name으로 변경\n",
    "- ```회사명, 지원기간, 공고명, 직무내용, 자격요건, 우대조건, 경력조건, 기술 스택, 출처 URL, 복지```"
   ]
  },
  {
   "cell_type": "code",
   "execution_count": 48,
   "metadata": {},
   "outputs": [
    {
     "data": {
      "text/plain": [
       "직무명         8095\n",
       "채용공고명       8074\n",
       "해시태그        8090\n",
       "회사소개        8089\n",
       "주요업무        8090\n",
       "자격요건        8084\n",
       "우대사항        7888\n",
       "혜택 및 복지     8078\n",
       "기술스택 ・ 툴    5838\n",
       "근무지역        8090\n",
       "회사명         8090\n",
       "회사분야        8090\n",
       "출처          8095\n",
       "dtype: int64"
      ]
     },
     "execution_count": 48,
     "metadata": {},
     "output_type": "execute_result"
    }
   ],
   "source": [
    "wanted.count()"
   ]
  },
  {
   "attachments": {},
   "cell_type": "markdown",
   "metadata": {},
   "source": [
    "- 우대사항, 기술스택 부분에 nan값 존재  \n",
    "-> 행별로 단어를 체크하는 관점에서 크게문제가 안될 것 같기도 함"
   ]
  },
  {
   "cell_type": "code",
   "execution_count": 49,
   "metadata": {},
   "outputs": [
    {
     "data": {
      "text/plain": [
       "Index(['직무명', '채용공고명', '해시태그', '회사소개', '주요업무', '자격요건', '우대사항', '혜택 및 복지',\n",
       "       '기술스택 ・ 툴', '근무지역', '회사명', '회사분야', '출처'],\n",
       "      dtype='object')"
      ]
     },
     "execution_count": 49,
     "metadata": {},
     "output_type": "execute_result"
    }
   ],
   "source": [
    "wanted.columns"
   ]
  },
  {
   "cell_type": "code",
   "execution_count": 50,
   "metadata": {},
   "outputs": [
    {
     "data": {
      "text/plain": [
       "Index(['직무명', '채용공고명', '주요업무', '자격요건', '우대사항', '혜택 및 복지', '기술스택 ・ 툴', '회사명',\n",
       "       '출처'],\n",
       "      dtype='object')"
      ]
     },
     "execution_count": 50,
     "metadata": {},
     "output_type": "execute_result"
    }
   ],
   "source": [
    "wanted = wanted.drop(['해시태그','근무지역','회사분야','회사소개'],axis=1)\n",
    "wanted.columns"
   ]
  },
  {
   "cell_type": "code",
   "execution_count": 51,
   "metadata": {},
   "outputs": [
    {
     "data": {
      "text/plain": [
       "Index(['직무내용', '공고명', '주요업무', '자격요건', '우대조건', '복지', '기술 스택', '회사명', '출처 URL'], dtype='object')"
      ]
     },
     "execution_count": 51,
     "metadata": {},
     "output_type": "execute_result"
    }
   ],
   "source": [
    "wanted.rename(columns={'직무명':'직무내용','채용공고명':'공고명','기술스택 ・ 툴':'기술 스택', '혜택 및 복지':'복지','출처':'출처 URL','우대사항':'우대조건',}, inplace=True)\n",
    "wanted.columns"
   ]
  },
  {
   "attachments": {},
   "cell_type": "markdown",
   "metadata": {},
   "source": [
    "- 지원기간은 이야기 해봐야 할 듯, 경력조건은 자격요건의 내용에서 추출\n",
    "\n",
    "### wanted 패턴\n",
    "- 경력 n년 이상\n",
    "- 경력 n년이상\n",
    "- n~k년\n",
    "- n년~k년"
   ]
  },
  {
   "cell_type": "code",
   "execution_count": 52,
   "metadata": {},
   "outputs": [],
   "source": [
    "def extract_years(string, patterns):\n",
    "    for pattern in patterns:\n",
    "        match = re.search(pattern, string)\n",
    "        if match:\n",
    "            if '~' in pattern:\n",
    "                start_year = match.group(1)\n",
    "                end_year = match.group(2)\n",
    "                return f\"{start_year}~{end_year}년\"\n",
    "            else:\n",
    "                return f'{match.group(1)}년 이상'\n",
    "    \n",
    "    return \"경력 무관\""
   ]
  },
  {
   "cell_type": "code",
   "execution_count": 53,
   "metadata": {},
   "outputs": [],
   "source": [
    "max_count = wanted['자격요건'].count()\n",
    "wanted['경력조건'] = None\n",
    "patterns = [r'(\\d+)년 이상', r'(\\d+)년이상', r'(\\d+)~(\\d+)년', r'(\\d+)년~(\\d+)년']\n",
    "\n",
    "for i in range(0, 50):\n",
    "    wanted['경력조건'][i] = extract_years(wanted['자격요건'][i], patterns)\n",
    "\n",
    "#wanted['경력조건'][:50]"
   ]
  },
  {
   "attachments": {},
   "cell_type": "markdown",
   "metadata": {},
   "source": [
    "- ```회사명, 지원기간, 공고명, 직무내용, 자격요건, 우대조건, 경력조건, 기술 스택, 출처 URL, 복지```"
   ]
  },
  {
   "cell_type": "code",
   "execution_count": 54,
   "metadata": {},
   "outputs": [
    {
     "data": {
      "text/html": [
       "<div>\n",
       "<style scoped>\n",
       "    .dataframe tbody tr th:only-of-type {\n",
       "        vertical-align: middle;\n",
       "    }\n",
       "\n",
       "    .dataframe tbody tr th {\n",
       "        vertical-align: top;\n",
       "    }\n",
       "\n",
       "    .dataframe thead th {\n",
       "        text-align: right;\n",
       "    }\n",
       "</style>\n",
       "<table border=\"1\" class=\"dataframe\">\n",
       "  <thead>\n",
       "    <tr style=\"text-align: right;\">\n",
       "      <th></th>\n",
       "      <th>회사명</th>\n",
       "      <th>지원기간</th>\n",
       "      <th>공고명</th>\n",
       "      <th>직무내용</th>\n",
       "      <th>자격요건</th>\n",
       "      <th>우대조건</th>\n",
       "      <th>경력조건</th>\n",
       "      <th>기술 스택</th>\n",
       "      <th>출처 URL</th>\n",
       "      <th>복지</th>\n",
       "    </tr>\n",
       "  </thead>\n",
       "  <tbody>\n",
       "    <tr>\n",
       "      <th>0</th>\n",
       "      <td>혜움랩스</td>\n",
       "      <td>NaN</td>\n",
       "      <td>Python Developer (백엔드 주니어)</td>\n",
       "      <td>웹 개발자</td>\n",
       "      <td>• 최소 2년 이상 혹은 그에 준하는 해당 업무 경험\\r\\n• Python(필수),...</td>\n",
       "      <td>• MSA 기반의 시스템 개발 경험이 있으신 분\\r\\n• AWS 를 활용한 개발, ...</td>\n",
       "      <td>2년 이상</td>\n",
       "      <td>Github\\r\\nJavaScript\\r\\nTypeScript\\r\\nReact.js...</td>\n",
       "      <td>https://www.wanted.co.kr/wd/167436</td>\n",
       "      <td># 몰입을 위한\\r\\n• 액면가 스톡옵션의 기회가 열려있습니다. (2023년 7월 ...</td>\n",
       "    </tr>\n",
       "    <tr>\n",
       "      <th>1</th>\n",
       "      <td>혜움랩스</td>\n",
       "      <td>NaN</td>\n",
       "      <td>프론트엔드 개발자 (주니어)</td>\n",
       "      <td>웹 개발자</td>\n",
       "      <td>• HTML / CSS / JavaScript 에 대한 이해\\r\\n• 컴퓨터 사이언...</td>\n",
       "      <td>• Vue.js, React.js, Angular 등 SPA 개발 경험이 있는 분\\...</td>\n",
       "      <td>경력 무관</td>\n",
       "      <td>Github\\r\\nJavaScript\\r\\nTypeScript\\r\\nReact.js...</td>\n",
       "      <td>https://www.wanted.co.kr/wd/167433</td>\n",
       "      <td># 몰입을 위한\\r\\n• 액면가 스톡옵션의 기회가 열려있습니다. (2023년 7월 ...</td>\n",
       "    </tr>\n",
       "  </tbody>\n",
       "</table>\n",
       "</div>"
      ],
      "text/plain": [
       "    회사명  지원기간                         공고명   직무내용  \\\n",
       "0  혜움랩스   NaN  Python Developer (백엔드 주니어)  웹 개발자   \n",
       "1  혜움랩스   NaN             프론트엔드 개발자 (주니어)  웹 개발자   \n",
       "\n",
       "                                                자격요건  \\\n",
       "0  • 최소 2년 이상 혹은 그에 준하는 해당 업무 경험\\r\\n• Python(필수),...   \n",
       "1  • HTML / CSS / JavaScript 에 대한 이해\\r\\n• 컴퓨터 사이언...   \n",
       "\n",
       "                                                우대조건   경력조건  \\\n",
       "0  • MSA 기반의 시스템 개발 경험이 있으신 분\\r\\n• AWS 를 활용한 개발, ...  2년 이상   \n",
       "1  • Vue.js, React.js, Angular 등 SPA 개발 경험이 있는 분\\...  경력 무관   \n",
       "\n",
       "                                               기술 스택  \\\n",
       "0  Github\\r\\nJavaScript\\r\\nTypeScript\\r\\nReact.js...   \n",
       "1  Github\\r\\nJavaScript\\r\\nTypeScript\\r\\nReact.js...   \n",
       "\n",
       "                               출처 URL  \\\n",
       "0  https://www.wanted.co.kr/wd/167436   \n",
       "1  https://www.wanted.co.kr/wd/167433   \n",
       "\n",
       "                                                  복지  \n",
       "0  # 몰입을 위한\\r\\n• 액면가 스톡옵션의 기회가 열려있습니다. (2023년 7월 ...  \n",
       "1  # 몰입을 위한\\r\\n• 액면가 스톡옵션의 기회가 열려있습니다. (2023년 7월 ...  "
      ]
     },
     "execution_count": 54,
     "metadata": {},
     "output_type": "execute_result"
    }
   ],
   "source": [
    "new_order = ['회사명', '지원기간', '공고명', '직무내용', '자격요건', '우대조건', '경력조건', '기술 스택', '출처 URL', '복지']\n",
    "wanted = wanted.reindex(columns=new_order)\n",
    "wanted.head(2)"
   ]
  },
  {
   "attachments": {},
   "cell_type": "markdown",
   "metadata": {},
   "source": [
    "### 잡플래닛 데이터 전처리"
   ]
  },
  {
   "cell_type": "code",
   "execution_count": 55,
   "metadata": {},
   "outputs": [
    {
     "data": {
      "text/html": [
       "<div>\n",
       "<style scoped>\n",
       "    .dataframe tbody tr th:only-of-type {\n",
       "        vertical-align: middle;\n",
       "    }\n",
       "\n",
       "    .dataframe tbody tr th {\n",
       "        vertical-align: top;\n",
       "    }\n",
       "\n",
       "    .dataframe thead th {\n",
       "        text-align: right;\n",
       "    }\n",
       "</style>\n",
       "<table border=\"1\" class=\"dataframe\">\n",
       "  <thead>\n",
       "    <tr style=\"text-align: right;\">\n",
       "      <th></th>\n",
       "      <th>href</th>\n",
       "      <th>title</th>\n",
       "      <th>company_name</th>\n",
       "      <th>job_location</th>\n",
       "      <th>job_classification</th>\n",
       "      <th>due_date</th>\n",
       "      <th>work_experience</th>\n",
       "      <th>skills</th>\n",
       "      <th>company_intro</th>\n",
       "      <th>main_task</th>\n",
       "      <th>qualification</th>\n",
       "      <th>preference</th>\n",
       "      <th>procedure</th>\n",
       "      <th>benefits</th>\n",
       "      <th>job_location_detail</th>\n",
       "      <th>detail_description</th>\n",
       "    </tr>\n",
       "  </thead>\n",
       "  <tbody>\n",
       "    <tr>\n",
       "      <th>0</th>\n",
       "      <td>https://www.jobplanet.co.kr/job/search?posting...</td>\n",
       "      <td>DB 관리 (카드IS 3팀)</td>\n",
       "      <td>롯데정보통신(주)</td>\n",
       "      <td>서울</td>\n",
       "      <td>데이터 엔지니어</td>\n",
       "      <td>2023.07.03 D-7</td>\n",
       "      <td>3년 이상</td>\n",
       "      <td>SQL, MYSQL, DB, 데이터베이스</td>\n",
       "      <td>오늘을 새롭게, 내일을 이롭게. 롯데\\r\\n\\r\\n롯데와 함께 비전을 공유할 수 있...</td>\n",
       "      <td>ㆍSQL 튜닝\\r\\nㆍDatabase Admin\\r\\nㆍDB Performance 튜닝</td>\n",
       "      <td>ㆍ경력 3년 이상\\r\\nㆍOracle Database 운영/백업/모니터링/장애처리 ...</td>\n",
       "      <td>ㆍSQL 튜닝\\r\\nㆍOGG 솔루션 운영 경험\\r\\nㆍ금융권 대용량 DB시스템 운영...</td>\n",
       "      <td>지원서접수 &gt; 서류전형 &gt; 직무테스트/인성진단(온라인) &gt; 면접전형 &gt; 평판조회 &gt;...</td>\n",
       "      <td>ㆍ복지포인트 및 경조지원\\r\\nㆍ건강검진\\r\\nㆍ학자금/교육지원 등 다양한 복리후생...</td>\n",
       "      <td>서울 금천구 가산동 533-2 롯데센터 15층</td>\n",
       "      <td>&lt;section class=\"recruitment-detail\"&gt;&lt;div class...</td>\n",
       "    </tr>\n",
       "    <tr>\n",
       "      <th>1</th>\n",
       "      <td>https://www.jobplanet.co.kr/job/search?posting...</td>\n",
       "      <td>DB &amp; 데이터 Engineer</td>\n",
       "      <td>(주)비트나인</td>\n",
       "      <td>서울</td>\n",
       "      <td>데이터 엔지니어</td>\n",
       "      <td>2023.06.26 오늘 마감</td>\n",
       "      <td>경력무관</td>\n",
       "      <td>데이터, DB, rdbms, 데이터엔지니어</td>\n",
       "      <td>비트나인에서 엔터프라이즈 사업부 영업대표 담당자를 모집합니다.\\r\\n\\r\\n2013...</td>\n",
       "      <td>· 당사 DBMS제품 설치구축, 트러블슈팅, 튜닝 기술지원\\r\\n· RDBMS(Ag...</td>\n",
       "      <td>· 학력 : 4년재 대학 졸업 이상\\r\\n· 경력 : 해당 DBMS 분야의 엔지니어...</td>\n",
       "      <td>· DBMS에 대한 애정과 역량을 발휘하고 싶은 경력자\\r\\n· DBMS QA(DB...</td>\n",
       "      <td>NaN</td>\n",
       "      <td>• 복지포인트를 지원해줘요(가족식비,여가비,취미활동비 등 연240만원 수준)\\r\\n...</td>\n",
       "      <td>서울 강남구 테헤란로 516, 4층</td>\n",
       "      <td>&lt;section class=\"recruitment-detail\"&gt;&lt;div class...</td>\n",
       "    </tr>\n",
       "  </tbody>\n",
       "</table>\n",
       "</div>"
      ],
      "text/plain": [
       "                                                href              title  \\\n",
       "0  https://www.jobplanet.co.kr/job/search?posting...    DB 관리 (카드IS 3팀)   \n",
       "1  https://www.jobplanet.co.kr/job/search?posting...  DB & 데이터 Engineer   \n",
       "\n",
       "  company_name job_location job_classification          due_date  \\\n",
       "0    롯데정보통신(주)           서울           데이터 엔지니어    2023.07.03 D-7   \n",
       "1      (주)비트나인           서울           데이터 엔지니어  2023.06.26 오늘 마감   \n",
       "\n",
       "  work_experience                   skills  \\\n",
       "0           3년 이상   SQL, MYSQL, DB, 데이터베이스   \n",
       "1            경력무관  데이터, DB, rdbms, 데이터엔지니어   \n",
       "\n",
       "                                       company_intro  \\\n",
       "0  오늘을 새롭게, 내일을 이롭게. 롯데\\r\\n\\r\\n롯데와 함께 비전을 공유할 수 있...   \n",
       "1  비트나인에서 엔터프라이즈 사업부 영업대표 담당자를 모집합니다.\\r\\n\\r\\n2013...   \n",
       "\n",
       "                                           main_task  \\\n",
       "0   ㆍSQL 튜닝\\r\\nㆍDatabase Admin\\r\\nㆍDB Performance 튜닝   \n",
       "1  · 당사 DBMS제품 설치구축, 트러블슈팅, 튜닝 기술지원\\r\\n· RDBMS(Ag...   \n",
       "\n",
       "                                       qualification  \\\n",
       "0  ㆍ경력 3년 이상\\r\\nㆍOracle Database 운영/백업/모니터링/장애처리 ...   \n",
       "1  · 학력 : 4년재 대학 졸업 이상\\r\\n· 경력 : 해당 DBMS 분야의 엔지니어...   \n",
       "\n",
       "                                          preference  \\\n",
       "0  ㆍSQL 튜닝\\r\\nㆍOGG 솔루션 운영 경험\\r\\nㆍ금융권 대용량 DB시스템 운영...   \n",
       "1  · DBMS에 대한 애정과 역량을 발휘하고 싶은 경력자\\r\\n· DBMS QA(DB...   \n",
       "\n",
       "                                           procedure  \\\n",
       "0  지원서접수 > 서류전형 > 직무테스트/인성진단(온라인) > 면접전형 > 평판조회 >...   \n",
       "1                                                NaN   \n",
       "\n",
       "                                            benefits  \\\n",
       "0  ㆍ복지포인트 및 경조지원\\r\\nㆍ건강검진\\r\\nㆍ학자금/교육지원 등 다양한 복리후생...   \n",
       "1  • 복지포인트를 지원해줘요(가족식비,여가비,취미활동비 등 연240만원 수준)\\r\\n...   \n",
       "\n",
       "         job_location_detail  \\\n",
       "0  서울 금천구 가산동 533-2 롯데센터 15층   \n",
       "1        서울 강남구 테헤란로 516, 4층   \n",
       "\n",
       "                                  detail_description  \n",
       "0  <section class=\"recruitment-detail\"><div class...  \n",
       "1  <section class=\"recruitment-detail\"><div class...  "
      ]
     },
     "execution_count": 55,
     "metadata": {},
     "output_type": "execute_result"
    }
   ],
   "source": [
    "jobplanet = pd.read_csv('./sample_data/jobplanet.csv')\n",
    "jobplanet.head(2)"
   ]
  },
  {
   "attachments": {},
   "cell_type": "markdown",
   "metadata": {},
   "source": [
    "- column확인 후 필요없는 column제거\n",
    "- 정해진 frame의 column_name으로 변경\n",
    "- ```회사명, 지원기간, 공고명, 직무내용, 자격요건, 우대조건, 경력조건, 기술 스택, 출처 URL, 복지```"
   ]
  },
  {
   "cell_type": "code",
   "execution_count": 56,
   "metadata": {},
   "outputs": [
    {
     "data": {
      "text/plain": [
       "Index(['href', 'title', 'company_name', 'job_location', 'job_classification',\n",
       "       'due_date', 'work_experience', 'skills', 'company_intro', 'main_task',\n",
       "       'qualification', 'preference', 'procedure', 'benefits',\n",
       "       'job_location_detail', 'detail_description'],\n",
       "      dtype='object')"
      ]
     },
     "execution_count": 56,
     "metadata": {},
     "output_type": "execute_result"
    }
   ],
   "source": [
    "jobplanet.columns"
   ]
  },
  {
   "cell_type": "code",
   "execution_count": 57,
   "metadata": {},
   "outputs": [
    {
     "data": {
      "text/plain": [
       "0      <section class=\"recruitment-detail\"><div class...\n",
       "1      <section class=\"recruitment-detail\"><div class...\n",
       "2      <section class=\"recruitment-detail\"><div class...\n",
       "3      <section class=\"recruitment-detail\"><div class...\n",
       "4      <section class=\"recruitment-detail\"><div class...\n",
       "                             ...                        \n",
       "103    <section class=\"recruitment-detail\"><div class...\n",
       "104    <section class=\"recruitment-detail\"><div class...\n",
       "105    <section class=\"recruitment-detail\"><div class...\n",
       "106    <section class=\"recruitment-detail\"><div class...\n",
       "107    <section class=\"recruitment-detail\"><div class...\n",
       "Name: detail_description, Length: 108, dtype: object"
      ]
     },
     "execution_count": 57,
     "metadata": {},
     "output_type": "execute_result"
    }
   ],
   "source": [
    "jobplanet['detail_description']"
   ]
  },
  {
   "cell_type": "code",
   "execution_count": 58,
   "metadata": {},
   "outputs": [
    {
     "data": {
      "text/plain": [
       "Index(['href', 'title', 'company_name', 'job_classification', 'due_date',\n",
       "       'work_experience', 'skills', 'main_task', 'qualification', 'preference',\n",
       "       'benefits', 'detail_description'],\n",
       "      dtype='object')"
      ]
     },
     "execution_count": 58,
     "metadata": {},
     "output_type": "execute_result"
    }
   ],
   "source": [
    "jobplanet = jobplanet.drop(['job_location','company_intro','procedure','job_location_detail'],axis=1)\n",
    "jobplanet.columns"
   ]
  },
  {
   "cell_type": "code",
   "execution_count": 59,
   "metadata": {},
   "outputs": [
    {
     "data": {
      "text/plain": [
       "Index(['출처 URL', '공고명', '회사명', '직무내용', '지원기간', '경력조건', '기술 스택', '주요 업무',\n",
       "       '자격요건', '우대조건', '복지', 'detail_description'],\n",
       "      dtype='object')"
      ]
     },
     "execution_count": 59,
     "metadata": {},
     "output_type": "execute_result"
    }
   ],
   "source": [
    "jobplanet.rename(columns={'href': '출처 URL', \n",
    "                          'title': '공고명',\n",
    "                          'company_name':'회사명',\n",
    "                          'job_classification':'직무내용',\n",
    "                          'due_date':'지원기간',\n",
    "                          'work_experience':'경력조건',\n",
    "                          'skills':'기술 스택',\n",
    "                          'main_task':'주요 업무',\n",
    "                          'qualification':'자격요건',\n",
    "                          'preference':'우대조건',\n",
    "                          'benefits':'복지'\n",
    "                          }, inplace=True)\n",
    "jobplanet.columns"
   ]
  },
  {
   "cell_type": "code",
   "execution_count": 60,
   "metadata": {},
   "outputs": [
    {
     "data": {
      "text/html": [
       "<div>\n",
       "<style scoped>\n",
       "    .dataframe tbody tr th:only-of-type {\n",
       "        vertical-align: middle;\n",
       "    }\n",
       "\n",
       "    .dataframe tbody tr th {\n",
       "        vertical-align: top;\n",
       "    }\n",
       "\n",
       "    .dataframe thead th {\n",
       "        text-align: right;\n",
       "    }\n",
       "</style>\n",
       "<table border=\"1\" class=\"dataframe\">\n",
       "  <thead>\n",
       "    <tr style=\"text-align: right;\">\n",
       "      <th></th>\n",
       "      <th>회사명</th>\n",
       "      <th>지원기간</th>\n",
       "      <th>공고명</th>\n",
       "      <th>직무내용</th>\n",
       "      <th>자격요건</th>\n",
       "      <th>우대조건</th>\n",
       "      <th>경력조건</th>\n",
       "      <th>기술 스택</th>\n",
       "      <th>출처 URL</th>\n",
       "      <th>복지</th>\n",
       "    </tr>\n",
       "  </thead>\n",
       "  <tbody>\n",
       "    <tr>\n",
       "      <th>0</th>\n",
       "      <td>롯데정보통신(주)</td>\n",
       "      <td>2023.07.03 D-7</td>\n",
       "      <td>DB 관리 (카드IS 3팀)</td>\n",
       "      <td>데이터 엔지니어</td>\n",
       "      <td>ㆍ경력 3년 이상\\r\\nㆍOracle Database 운영/백업/모니터링/장애처리 ...</td>\n",
       "      <td>ㆍSQL 튜닝\\r\\nㆍOGG 솔루션 운영 경험\\r\\nㆍ금융권 대용량 DB시스템 운영...</td>\n",
       "      <td>3년 이상</td>\n",
       "      <td>SQL, MYSQL, DB, 데이터베이스</td>\n",
       "      <td>https://www.jobplanet.co.kr/job/search?posting...</td>\n",
       "      <td>ㆍ복지포인트 및 경조지원\\r\\nㆍ건강검진\\r\\nㆍ학자금/교육지원 등 다양한 복리후생...</td>\n",
       "    </tr>\n",
       "    <tr>\n",
       "      <th>1</th>\n",
       "      <td>(주)비트나인</td>\n",
       "      <td>2023.06.26 오늘 마감</td>\n",
       "      <td>DB &amp; 데이터 Engineer</td>\n",
       "      <td>데이터 엔지니어</td>\n",
       "      <td>· 학력 : 4년재 대학 졸업 이상\\r\\n· 경력 : 해당 DBMS 분야의 엔지니어...</td>\n",
       "      <td>· DBMS에 대한 애정과 역량을 발휘하고 싶은 경력자\\r\\n· DBMS QA(DB...</td>\n",
       "      <td>경력무관</td>\n",
       "      <td>데이터, DB, rdbms, 데이터엔지니어</td>\n",
       "      <td>https://www.jobplanet.co.kr/job/search?posting...</td>\n",
       "      <td>• 복지포인트를 지원해줘요(가족식비,여가비,취미활동비 등 연240만원 수준)\\r\\n...</td>\n",
       "    </tr>\n",
       "  </tbody>\n",
       "</table>\n",
       "</div>"
      ],
      "text/plain": [
       "         회사명              지원기간                공고명      직무내용  \\\n",
       "0  롯데정보통신(주)    2023.07.03 D-7    DB 관리 (카드IS 3팀)  데이터 엔지니어   \n",
       "1    (주)비트나인  2023.06.26 오늘 마감  DB & 데이터 Engineer  데이터 엔지니어   \n",
       "\n",
       "                                                자격요건  \\\n",
       "0  ㆍ경력 3년 이상\\r\\nㆍOracle Database 운영/백업/모니터링/장애처리 ...   \n",
       "1  · 학력 : 4년재 대학 졸업 이상\\r\\n· 경력 : 해당 DBMS 분야의 엔지니어...   \n",
       "\n",
       "                                                우대조건   경력조건  \\\n",
       "0  ㆍSQL 튜닝\\r\\nㆍOGG 솔루션 운영 경험\\r\\nㆍ금융권 대용량 DB시스템 운영...  3년 이상   \n",
       "1  · DBMS에 대한 애정과 역량을 발휘하고 싶은 경력자\\r\\n· DBMS QA(DB...   경력무관   \n",
       "\n",
       "                     기술 스택                                             출처 URL  \\\n",
       "0   SQL, MYSQL, DB, 데이터베이스  https://www.jobplanet.co.kr/job/search?posting...   \n",
       "1  데이터, DB, rdbms, 데이터엔지니어  https://www.jobplanet.co.kr/job/search?posting...   \n",
       "\n",
       "                                                  복지  \n",
       "0  ㆍ복지포인트 및 경조지원\\r\\nㆍ건강검진\\r\\nㆍ학자금/교육지원 등 다양한 복리후생...  \n",
       "1  • 복지포인트를 지원해줘요(가족식비,여가비,취미활동비 등 연240만원 수준)\\r\\n...  "
      ]
     },
     "execution_count": 60,
     "metadata": {},
     "output_type": "execute_result"
    }
   ],
   "source": [
    "new_order = ['회사명', '지원기간', '공고명', '직무내용', '자격요건', '우대조건', '경력조건', '기술 스택', '출처 URL', '복지']\n",
    "jobplanet = jobplanet.reindex(columns=new_order)\n",
    "jobplanet.head(2)"
   ]
  },
  {
   "cell_type": "code",
   "execution_count": 62,
   "metadata": {},
   "outputs": [],
   "source": [
    "jobplanet['지원기간'] = jobplanet['지원기간'].str.split('\\xa0').str[0]"
   ]
  },
  {
   "cell_type": "code",
   "execution_count": 63,
   "metadata": {},
   "outputs": [
    {
     "data": {
      "text/plain": [
       "array(['2023.07.03', '2023.06.26', '2023.07.21', '2023.06.30',\n",
       "       '2023.09.20', '2023.09.26', '2023.09.19', '2023.07.14',\n",
       "       '2023.09.15', '2023.09.14', '2023.09.13', '2023.09.09',\n",
       "       '2023.07.09', '2023.09.07', '2023.07.04', '2023.08.31',\n",
       "       '2023.08.25', '2023.08.26', '2023.08.24', '2023.08.23',\n",
       "       '2023.08.29', '2023.08.19', '2023.08.18', '2023.08.17',\n",
       "       '2023.08.13', '2023.08.16', '2023.08.21', '2023.08.09',\n",
       "       '2023.08.22', '2023.08.27', '2023.08.15', '2023.07.12',\n",
       "       '2023.10.29', '2023.07.17', '2023.08.02', '2023.07.11',\n",
       "       '2023.09.24', '2023.09.02', '2023.09.06', '2023.07.13',\n",
       "       '2023.07.28', '2023.07.18', '2023.07.19', '2023.09.21',\n",
       "       '2023.09.22', '2023.07.01', '2023.08.10', '2023.09.11',\n",
       "       '2023.08.14', '2023.07.31', '2023.09.27'], dtype=object)"
      ]
     },
     "execution_count": 63,
     "metadata": {},
     "output_type": "execute_result"
    }
   ],
   "source": [
    "jobplanet['지원기간'].unique()"
   ]
  },
  {
   "cell_type": "code",
   "execution_count": 64,
   "metadata": {},
   "outputs": [
    {
     "data": {
      "text/plain": [
       "회사명       8198\n",
       "지원기간       108\n",
       "공고명       8182\n",
       "직무내용      8203\n",
       "자격요건      8192\n",
       "우대조건      7994\n",
       "경력조건       158\n",
       "기술 스택     5946\n",
       "출처 URL    8203\n",
       "복지        8185\n",
       "dtype: int64"
      ]
     },
     "execution_count": 64,
     "metadata": {},
     "output_type": "execute_result"
    }
   ],
   "source": [
    "result = pd.concat([wanted, jobplanet], axis=0)\n",
    "result.count()"
   ]
  },
  {
   "attachments": {},
   "cell_type": "markdown",
   "metadata": {},
   "source": [
    "### 점핏 데이터 전처리\n",
    "\n",
    "- 크롤링 문제 확인으로 직무내용 별로 csv 파일 생성 후 concat\n",
    "- 지원기간과 경력조건 data만 맞추기"
   ]
  },
  {
   "cell_type": "code",
   "execution_count": 35,
   "metadata": {},
   "outputs": [],
   "source": [
    "jumpit = pd.DataFrame()\n",
    "\n",
    "for i in range(1, 22):\n",
    "    if i == 14:\n",
    "        continue\n",
    "    df = pd.read_csv(f'./jumpit_data/크롤링_점핏_{i}.csv')\n",
    "    jumpit = pd.concat([jumpit, df])"
   ]
  },
  {
   "cell_type": "code",
   "execution_count": 36,
   "metadata": {},
   "outputs": [
    {
     "data": {
      "text/html": [
       "<div>\n",
       "<style scoped>\n",
       "    .dataframe tbody tr th:only-of-type {\n",
       "        vertical-align: middle;\n",
       "    }\n",
       "\n",
       "    .dataframe tbody tr th {\n",
       "        vertical-align: top;\n",
       "    }\n",
       "\n",
       "    .dataframe thead th {\n",
       "        text-align: right;\n",
       "    }\n",
       "</style>\n",
       "<table border=\"1\" class=\"dataframe\">\n",
       "  <thead>\n",
       "    <tr style=\"text-align: right;\">\n",
       "      <th></th>\n",
       "      <th>회사명</th>\n",
       "      <th>지원기간</th>\n",
       "      <th>공고명</th>\n",
       "      <th>직무내용</th>\n",
       "      <th>자격요건</th>\n",
       "      <th>우대조건</th>\n",
       "      <th>경력조건</th>\n",
       "      <th>기술 스택</th>\n",
       "      <th>출처 URL</th>\n",
       "      <th>복지</th>\n",
       "    </tr>\n",
       "  </thead>\n",
       "  <tbody>\n",
       "    <tr>\n",
       "      <th>0</th>\n",
       "      <td>미디어로그</td>\n",
       "      <td>마감일\\n상시</td>\n",
       "      <td>미디어로그(LG그룹) 웹 하드 3.0 SM 경력 채용</td>\n",
       "      <td>서버/백엔드 개발자</td>\n",
       "      <td>• Java, Spring, Spring Boot, JSP 개발 스킬 필수\\n• O...</td>\n",
       "      <td>• LG U+ SI/SM 업무 경험\\n• 서버 간 연동 처리 경험 (restful,...</td>\n",
       "      <td>경력\\n경력 10~15년</td>\n",
       "      <td>Java\\nJSP\\nSpring Boot\\nMariaDB\\nOracle\\nLinux</td>\n",
       "      <td>https://www.jumpit.co.kr/position/16607</td>\n",
       "      <td>• 통신비 지원\\n- U+유모바일 음성무제한 요금제 지원\\n\\n• 자녀 학비 지원\\...</td>\n",
       "    </tr>\n",
       "    <tr>\n",
       "      <th>1</th>\n",
       "      <td>지바이크</td>\n",
       "      <td>마감일\\n상시</td>\n",
       "      <td>[지쿠터] PHP / Laravel</td>\n",
       "      <td>서버/백엔드 개발자</td>\n",
       "      <td>• 해당 경력 3년 이상\\n• Laravel 사용 경험이 있으신 분\\n• 코드리뷰에...</td>\n",
       "      <td>• 대규모 트래픽 서비스 환경에서 개발 및 운영 경험이 있으신 분\\n• 대용량 배치...</td>\n",
       "      <td>경력\\n경력 3~10년</td>\n",
       "      <td>Laravel\\nApache HTTP Server\\nREST API\\nPHP\\nRD...</td>\n",
       "      <td>https://www.jumpit.co.kr/position/1583</td>\n",
       "      <td>• 영어이름으로 실현하는 수평적 조직문화!\\n 지쿠터엔 직위 직급 없이 영문 닉네임...</td>\n",
       "    </tr>\n",
       "    <tr>\n",
       "      <th>2</th>\n",
       "      <td>데이터비</td>\n",
       "      <td>마감일\\n상시</td>\n",
       "      <td>백엔드 엔지니어 (NodeJS)</td>\n",
       "      <td>서버/백엔드 개발자</td>\n",
       "      <td>• 결제 기능 개발 경험\\n• AdonisJS 프레임워크를 활용한 개발 경험\\n• ...</td>\n",
       "      <td>• 데이터와 소프트웨어 기술이 사람간의 의사소통을 더 원활하게 도울 수 있다고 믿는...</td>\n",
       "      <td>경력\\n신입~10년</td>\n",
       "      <td>Node.js\\nAWS\\nPython\\nAdonisJS</td>\n",
       "      <td>https://www.jumpit.co.kr/position/16273</td>\n",
       "      <td>[보상 및 근무 조건]\\n• 머신러닝, 딥러닝 인프라(GPU 등)에 대한 아낌없는 ...</td>\n",
       "    </tr>\n",
       "    <tr>\n",
       "      <th>3</th>\n",
       "      <td>미디어로그</td>\n",
       "      <td>마감일\\n상시</td>\n",
       "      <td>미디어로그(LG그룹) 풀스택 개발자 (사내 업무 시스템)</td>\n",
       "      <td>서버/백엔드 개발자</td>\n",
       "      <td>• Java / Spring framework 개발 스킬 필수 (3년 차 이상)\\n...</td>\n",
       "      <td>• LINUX 경험\\n• 컴퓨터 공학 관련 전공 또는 관련 학위</td>\n",
       "      <td>경력\\n경력 5~10년</td>\n",
       "      <td>Java\\nSpring Framework\\nNoSql\\nLinux</td>\n",
       "      <td>https://www.jumpit.co.kr/position/16187</td>\n",
       "      <td>• 통신비 지원\\n- U+유모바일 음성무제한 요금제 지원\\n\\n• 자녀 학비 지원\\...</td>\n",
       "    </tr>\n",
       "    <tr>\n",
       "      <th>4</th>\n",
       "      <td>내몸랩</td>\n",
       "      <td>마감일\\n상시</td>\n",
       "      <td>백엔드, 서버 개발자(경력 3년 이상)</td>\n",
       "      <td>서버/백엔드 개발자</td>\n",
       "      <td>• Backend 개발 경력 3년 이상 혹은 그에 준하는 실력을 보유한 분\\n• J...</td>\n",
       "      <td>• Web RTC등의 스트리밍 서비스 개발 경험이 있는 분\\n• 네트워크/앱 보안에...</td>\n",
       "      <td>경력\\n경력 3~6년</td>\n",
       "      <td>JavaScript\\nSpring Data JPA\\nJava</td>\n",
       "      <td>https://www.jumpit.co.kr/position/11720</td>\n",
       "      <td>• 원거리 출퇴근자 재택 근무 및 선택적 탄력근무제\\n• 4대 보험가입, 근로기준법...</td>\n",
       "    </tr>\n",
       "    <tr>\n",
       "      <th>5</th>\n",
       "      <td>포스트보이저영업소</td>\n",
       "      <td>마감일\\n상시</td>\n",
       "      <td>Java/ Kotlin 개발자</td>\n",
       "      <td>서버/백엔드 개발자</td>\n",
       "      <td>• Java 또는 Kotlin 개발 경력 5년 이상\\n• Linux에서 웹 서비스 ...</td>\n",
       "      <td>• MSA 개발/운영 경험\\n• Go, Rust, Koltin 개발 경험\\n• 대용...</td>\n",
       "      <td>경력\\n경력 5~10년</td>\n",
       "      <td>Java\\nLinux\\nKotlin\\nREST API\\nAWS\\nGCP\\nGit\\n...</td>\n",
       "      <td>https://www.jumpit.co.kr/position/13204</td>\n",
       "      <td>• 산전/산후휴가 / 육아휴가\\n• 유급휴가 / 경조휴가 / 기념일 반차\\n• 법정...</td>\n",
       "    </tr>\n",
       "    <tr>\n",
       "      <th>6</th>\n",
       "      <td>위허들링</td>\n",
       "      <td>마감일\\n상시</td>\n",
       "      <td>위잇딜라이트 백엔드 개발자</td>\n",
       "      <td>서버/백엔드 개발자</td>\n",
       "      <td>• Python 기반 Restful API(Django &amp; Django Rest F...</td>\n",
       "      <td>• 아래 경험들을 해보셨다면 위잇딜라이트는 우대합니다.\\n - Django &amp; Dj...</td>\n",
       "      <td>경력\\n경력 3~10년</td>\n",
       "      <td>Python\\nDjango\\nPostgreSQL\\nAWS\\nGit\\nGitLab\\n...</td>\n",
       "      <td>https://www.jumpit.co.kr/position/4713</td>\n",
       "      <td>• 주 35시간, 하루 7시간 근무 (표준근무시간 10:00-18:00)\\n• 근로...</td>\n",
       "    </tr>\n",
       "    <tr>\n",
       "      <th>7</th>\n",
       "      <td>더블미디어</td>\n",
       "      <td>마감일\\n상시</td>\n",
       "      <td>백엔드 개발자 모집</td>\n",
       "      <td>서버/백엔드 개발자</td>\n",
       "      <td>• (백엔드 담당 A) TypeScript, Node,js, NestJS, ORM에...</td>\n",
       "      <td>• OAuth2 서버 구축 및 서비스 적용 경험이 있으신 분\\n• CICD 에 능숙...</td>\n",
       "      <td>경력\\n경력 2~10년</td>\n",
       "      <td>TypeScript\\nNestJS\\nGolang</td>\n",
       "      <td>https://www.jumpit.co.kr/position/14733</td>\n",
       "      <td>• 사내 카페 및 간식코너 (라면,과자,커피,음료 등)\\n• 성과급 제도\\n• 각종...</td>\n",
       "    </tr>\n",
       "    <tr>\n",
       "      <th>8</th>\n",
       "      <td>로보코리아</td>\n",
       "      <td>마감일\\n상시</td>\n",
       "      <td>백엔드 엔지니어</td>\n",
       "      <td>서버/백엔드 개발자</td>\n",
       "      <td>• 새로운 기술 및 트렌드에 대해 끊임없이 관심을 갖고 이를 활용 하시는 분\\n• ...</td>\n",
       "      <td>• 글로벌 서비스를 위한 인프라 아키텍처 설계, 개발 경험이 있으신 분\\n• 애자일...</td>\n",
       "      <td>경력\\n경력 3~10년</td>\n",
       "      <td>TypeScript\\nNestJS\\nMongoDB\\nNoSql\\nMSA\\nDatad...</td>\n",
       "      <td>https://www.jumpit.co.kr/position/7827</td>\n",
       "      <td>1. 자율과 효율의 근무 환경을 제공합니다.\\n• 오전 09:00 - 10:30 유...</td>\n",
       "    </tr>\n",
       "    <tr>\n",
       "      <th>9</th>\n",
       "      <td>렌딧</td>\n",
       "      <td>마감일\\n2023-07-31</td>\n",
       "      <td>Senior Back-end Engineer</td>\n",
       "      <td>서버/백엔드 개발자</td>\n",
       "      <td>• 관련 업무 경력 3년 이상\\n• Kotlin, Java 기반 웹 어플리케이션 프...</td>\n",
       "      <td>• AWS를 활용한 서비스 개발/운영 경험이 있으신 분\\n• 알고리즘, 성능최적화,...</td>\n",
       "      <td>경력\\n경력 3~20년</td>\n",
       "      <td>Kotlin\\nJava\\nSpring Boot\\nSpring Framework\\nA...</td>\n",
       "      <td>https://www.jumpit.co.kr/position/14158</td>\n",
       "      <td>[개발자의 성장을 돕는 활동]\\n• 개인성장을 위한 도서 구입, 온라인 강의 수강 ...</td>\n",
       "    </tr>\n",
       "  </tbody>\n",
       "</table>\n",
       "</div>"
      ],
      "text/plain": [
       "         회사명             지원기간                              공고명        직무내용  \\\n",
       "0      미디어로그          마감일\\n상시    미디어로그(LG그룹) 웹 하드 3.0 SM 경력 채용  서버/백엔드 개발자   \n",
       "1       지바이크          마감일\\n상시              [지쿠터] PHP / Laravel  서버/백엔드 개발자   \n",
       "2       데이터비          마감일\\n상시                백엔드 엔지니어 (NodeJS)  서버/백엔드 개발자   \n",
       "3      미디어로그          마감일\\n상시  미디어로그(LG그룹) 풀스택 개발자 (사내 업무 시스템)  서버/백엔드 개발자   \n",
       "4        내몸랩          마감일\\n상시            백엔드, 서버 개발자(경력 3년 이상)  서버/백엔드 개발자   \n",
       "5  포스트보이저영업소          마감일\\n상시                 Java/ Kotlin 개발자  서버/백엔드 개발자   \n",
       "6       위허들링          마감일\\n상시                   위잇딜라이트 백엔드 개발자  서버/백엔드 개발자   \n",
       "7      더블미디어          마감일\\n상시                       백엔드 개발자 모집  서버/백엔드 개발자   \n",
       "8      로보코리아          마감일\\n상시                         백엔드 엔지니어  서버/백엔드 개발자   \n",
       "9         렌딧  마감일\\n2023-07-31         Senior Back-end Engineer  서버/백엔드 개발자   \n",
       "\n",
       "                                                자격요건  \\\n",
       "0  • Java, Spring, Spring Boot, JSP 개발 스킬 필수\\n• O...   \n",
       "1  • 해당 경력 3년 이상\\n• Laravel 사용 경험이 있으신 분\\n• 코드리뷰에...   \n",
       "2  • 결제 기능 개발 경험\\n• AdonisJS 프레임워크를 활용한 개발 경험\\n• ...   \n",
       "3  • Java / Spring framework 개발 스킬 필수 (3년 차 이상)\\n...   \n",
       "4  • Backend 개발 경력 3년 이상 혹은 그에 준하는 실력을 보유한 분\\n• J...   \n",
       "5  • Java 또는 Kotlin 개발 경력 5년 이상\\n• Linux에서 웹 서비스 ...   \n",
       "6  • Python 기반 Restful API(Django & Django Rest F...   \n",
       "7  • (백엔드 담당 A) TypeScript, Node,js, NestJS, ORM에...   \n",
       "8  • 새로운 기술 및 트렌드에 대해 끊임없이 관심을 갖고 이를 활용 하시는 분\\n• ...   \n",
       "9  • 관련 업무 경력 3년 이상\\n• Kotlin, Java 기반 웹 어플리케이션 프...   \n",
       "\n",
       "                                                우대조건           경력조건  \\\n",
       "0  • LG U+ SI/SM 업무 경험\\n• 서버 간 연동 처리 경험 (restful,...  경력\\n경력 10~15년   \n",
       "1  • 대규모 트래픽 서비스 환경에서 개발 및 운영 경험이 있으신 분\\n• 대용량 배치...   경력\\n경력 3~10년   \n",
       "2  • 데이터와 소프트웨어 기술이 사람간의 의사소통을 더 원활하게 도울 수 있다고 믿는...     경력\\n신입~10년   \n",
       "3                • LINUX 경험\\n• 컴퓨터 공학 관련 전공 또는 관련 학위   경력\\n경력 5~10년   \n",
       "4  • Web RTC등의 스트리밍 서비스 개발 경험이 있는 분\\n• 네트워크/앱 보안에...    경력\\n경력 3~6년   \n",
       "5  • MSA 개발/운영 경험\\n• Go, Rust, Koltin 개발 경험\\n• 대용...   경력\\n경력 5~10년   \n",
       "6  • 아래 경험들을 해보셨다면 위잇딜라이트는 우대합니다.\\n - Django & Dj...   경력\\n경력 3~10년   \n",
       "7  • OAuth2 서버 구축 및 서비스 적용 경험이 있으신 분\\n• CICD 에 능숙...   경력\\n경력 2~10년   \n",
       "8  • 글로벌 서비스를 위한 인프라 아키텍처 설계, 개발 경험이 있으신 분\\n• 애자일...   경력\\n경력 3~10년   \n",
       "9  • AWS를 활용한 서비스 개발/운영 경험이 있으신 분\\n• 알고리즘, 성능최적화,...   경력\\n경력 3~20년   \n",
       "\n",
       "                                               기술 스택  \\\n",
       "0     Java\\nJSP\\nSpring Boot\\nMariaDB\\nOracle\\nLinux   \n",
       "1  Laravel\\nApache HTTP Server\\nREST API\\nPHP\\nRD...   \n",
       "2                     Node.js\\nAWS\\nPython\\nAdonisJS   \n",
       "3               Java\\nSpring Framework\\nNoSql\\nLinux   \n",
       "4                  JavaScript\\nSpring Data JPA\\nJava   \n",
       "5  Java\\nLinux\\nKotlin\\nREST API\\nAWS\\nGCP\\nGit\\n...   \n",
       "6  Python\\nDjango\\nPostgreSQL\\nAWS\\nGit\\nGitLab\\n...   \n",
       "7                         TypeScript\\nNestJS\\nGolang   \n",
       "8  TypeScript\\nNestJS\\nMongoDB\\nNoSql\\nMSA\\nDatad...   \n",
       "9  Kotlin\\nJava\\nSpring Boot\\nSpring Framework\\nA...   \n",
       "\n",
       "                                    출처 URL  \\\n",
       "0  https://www.jumpit.co.kr/position/16607   \n",
       "1   https://www.jumpit.co.kr/position/1583   \n",
       "2  https://www.jumpit.co.kr/position/16273   \n",
       "3  https://www.jumpit.co.kr/position/16187   \n",
       "4  https://www.jumpit.co.kr/position/11720   \n",
       "5  https://www.jumpit.co.kr/position/13204   \n",
       "6   https://www.jumpit.co.kr/position/4713   \n",
       "7  https://www.jumpit.co.kr/position/14733   \n",
       "8   https://www.jumpit.co.kr/position/7827   \n",
       "9  https://www.jumpit.co.kr/position/14158   \n",
       "\n",
       "                                                  복지  \n",
       "0  • 통신비 지원\\n- U+유모바일 음성무제한 요금제 지원\\n\\n• 자녀 학비 지원\\...  \n",
       "1  • 영어이름으로 실현하는 수평적 조직문화!\\n 지쿠터엔 직위 직급 없이 영문 닉네임...  \n",
       "2  [보상 및 근무 조건]\\n• 머신러닝, 딥러닝 인프라(GPU 등)에 대한 아낌없는 ...  \n",
       "3  • 통신비 지원\\n- U+유모바일 음성무제한 요금제 지원\\n\\n• 자녀 학비 지원\\...  \n",
       "4  • 원거리 출퇴근자 재택 근무 및 선택적 탄력근무제\\n• 4대 보험가입, 근로기준법...  \n",
       "5  • 산전/산후휴가 / 육아휴가\\n• 유급휴가 / 경조휴가 / 기념일 반차\\n• 법정...  \n",
       "6  • 주 35시간, 하루 7시간 근무 (표준근무시간 10:00-18:00)\\n• 근로...  \n",
       "7  • 사내 카페 및 간식코너 (라면,과자,커피,음료 등)\\n• 성과급 제도\\n• 각종...  \n",
       "8  1. 자율과 효율의 근무 환경을 제공합니다.\\n• 오전 09:00 - 10:30 유...  \n",
       "9  [개발자의 성장을 돕는 활동]\\n• 개인성장을 위한 도서 구입, 온라인 강의 수강 ...  "
      ]
     },
     "execution_count": 36,
     "metadata": {},
     "output_type": "execute_result"
    }
   ],
   "source": [
    "jumpit.head(10)"
   ]
  },
  {
   "cell_type": "code",
   "execution_count": 37,
   "metadata": {},
   "outputs": [
    {
     "data": {
      "text/plain": [
       "회사명       3190\n",
       "지원기간      3190\n",
       "공고명       3190\n",
       "직무내용      3190\n",
       "자격요건      3190\n",
       "우대조건      3190\n",
       "경력조건      3190\n",
       "기술 스택     3190\n",
       "출처 URL    3190\n",
       "복지        3190\n",
       "dtype: int64"
      ]
     },
     "execution_count": 37,
     "metadata": {},
     "output_type": "execute_result"
    }
   ],
   "source": [
    "jumpit.count()"
   ]
  },
  {
   "attachments": {},
   "cell_type": "markdown",
   "metadata": {},
   "source": [
    "- 근무지역, 지도보기 등 오류내용 껴있는 부분 노가다 수정\n",
    "- 마감일 단어제거, ```'-' -> '.'```형태 변화"
   ]
  },
  {
   "cell_type": "code",
   "execution_count": 38,
   "metadata": {},
   "outputs": [],
   "source": [
    "#지원기간 column 오류내용 수정\n",
    "\n",
    "jumpit.loc[jumpit['지원기간'] == '근무지역\\n서울특별시 성동구 하왕십리동 286-2, 2층\\n지도보기·주소복사'] = '상시'\n",
    "jumpit.loc[jumpit['지원기간'] == '근무지역\\n본점 : 서울 영등포구 은행로3 901호, 연구소 : 대구 수성구 알파시티1로170 DIP 310호\\n지도보기·주소복사'] = '상시'\n",
    "jumpit.loc[jumpit['지원기간'] == '근무지역\\n부산시 해운대구 우동 센텀중앙로48 에이스하이테크1212 또는 서울 강남 지사 근무 (구직자 선택사항)\\n지도보기·주소복사'] = '상시'\n",
    "jumpit.loc[jumpit['지원기간'] == '근무지역\\n서울시 구로구 디지털로26길 111 제이앤케이디지털타워 612호\\n지도보기·주소복사'] = '상시'\n",
    "jumpit.loc[jumpit['지원기간'] == '근무지역\\n서울 마포구 성암로 330, 621호\\n지도보기·주소복사'] = '상시'\n",
    "jumpit.loc[jumpit['지원기간'] == '근무지역\\n서울시 금천구 가산디지털1로 145 에이스하이엔드타워3차 1704호\\n지도보기·주소복사'] = '상시'\n",
    "jumpit.loc[jumpit['지원기간'] == '근무지역\\n부산시 해운대구 우동 센텀중앙로48 에이스하이테크1212 또는 서울 강남 근무 (구직자 선택사항)\\n지도보기·주소복사'] = '상시'\n",
    "jumpit.loc[jumpit['지원기간'] == '근무지역\\n서울시 강남구 남부순환로 2645, 501-5호\\n지도보기·주소복사'] = '상시'\n",
    "jumpit.loc[jumpit['지원기간'] == '근무지역\\n대구광역시 달서구 성서공단북로 65길29\\n지도보기·주소복사'] = '상시'\n",
    "jumpit.loc[jumpit['지원기간'] == '근무지역\\n서울 종로구 사직로 130, 602호\\n지도보기·주소복사'] = '상시'"
   ]
  },
  {
   "cell_type": "code",
   "execution_count": 39,
   "metadata": {},
   "outputs": [
    {
     "data": {
      "text/html": [
       "<div>\n",
       "<style scoped>\n",
       "    .dataframe tbody tr th:only-of-type {\n",
       "        vertical-align: middle;\n",
       "    }\n",
       "\n",
       "    .dataframe tbody tr th {\n",
       "        vertical-align: top;\n",
       "    }\n",
       "\n",
       "    .dataframe thead th {\n",
       "        text-align: right;\n",
       "    }\n",
       "</style>\n",
       "<table border=\"1\" class=\"dataframe\">\n",
       "  <thead>\n",
       "    <tr style=\"text-align: right;\">\n",
       "      <th></th>\n",
       "      <th>회사명</th>\n",
       "      <th>지원기간</th>\n",
       "      <th>공고명</th>\n",
       "      <th>직무내용</th>\n",
       "      <th>자격요건</th>\n",
       "      <th>우대조건</th>\n",
       "      <th>경력조건</th>\n",
       "      <th>기술 스택</th>\n",
       "      <th>출처 URL</th>\n",
       "      <th>복지</th>\n",
       "    </tr>\n",
       "  </thead>\n",
       "  <tbody>\n",
       "  </tbody>\n",
       "</table>\n",
       "</div>"
      ],
      "text/plain": [
       "Empty DataFrame\n",
       "Columns: [회사명, 지원기간, 공고명, 직무내용, 자격요건, 우대조건, 경력조건, 기술 스택, 출처 URL, 복지]\n",
       "Index: []"
      ]
     },
     "execution_count": 39,
     "metadata": {},
     "output_type": "execute_result"
    }
   ],
   "source": [
    "# 주소검색 확인용 코드\n",
    "\n",
    "jumpit.loc[jumpit['지원기간'] == '근무지역\\n서울 종로구 사직로 130, 602호\\n지도보기·주소복사']"
   ]
  },
  {
   "cell_type": "code",
   "execution_count": 40,
   "metadata": {},
   "outputs": [],
   "source": [
    "#마감일\\n 삭제와 '-' -> '.' replace\n",
    "\n",
    "jumpit['지원기간'] = jumpit['지원기간'].str.replace('마감일\\n', '').str.replace('-','.')"
   ]
  },
  {
   "cell_type": "code",
   "execution_count": 41,
   "metadata": {},
   "outputs": [
    {
     "data": {
      "text/plain": [
       "array(['상시', '2023.07.31', '2023.08.31', '2023.08.01', '2023.07.21',\n",
       "       '2023.08.16', '2023.07.24', '2023.08.04', '2023.07.28',\n",
       "       '2023.07.26', '2023.08.03', '2023.07.23', '2023.07.17',\n",
       "       '2023.12.31', '2023.09.07', '2023.08.07', '2023.07.29',\n",
       "       '2023.07.16', '2023.09.30', '2023.09.13', '2023.11.30',\n",
       "       '2023.07.20', '2023.07.30', '2023.08.11', '2023.07.18',\n",
       "       '2023.08.21', '2023.09.12', '2023.08.06', '2023.08.02',\n",
       "       '2023.08.12', '2023.10.09', '2023.10.03', '2023.08.22',\n",
       "       '2023.09.08', '2023.08.23', '2023.08.17', '2023.08.09',\n",
       "       '2023.09.11', '2023.08.15', '2023.08.08', '2023.07.25',\n",
       "       '2023.08.28', '2023.08.10', '2023.07.19', '2023.08.13',\n",
       "       '2023.10.02', '2023.09.29', '2023.09.27', '2023.12.01',\n",
       "       '2023.08.05', '2023.09.06'], dtype=object)"
      ]
     },
     "execution_count": 41,
     "metadata": {},
     "output_type": "execute_result"
    }
   ],
   "source": [
    "jumpit['지원기간'].unique()"
   ]
  },
  {
   "attachments": {},
   "cell_type": "markdown",
   "metadata": {},
   "source": [
    "- 경력 조건 부분 ```경력\\n``` 제거\n",
    "- 신입~n년 부분 1~n 년으로 변경"
   ]
  },
  {
   "cell_type": "code",
   "execution_count": 42,
   "metadata": {},
   "outputs": [],
   "source": [
    "jumpit['경력조건'] = jumpit['경력조건'].str.replace('경력\\n', '')\n",
    "jumpit['경력조건'] = jumpit['경력조건'].str.replace('신입~', '경력 1~')"
   ]
  },
  {
   "cell_type": "code",
   "execution_count": 43,
   "metadata": {},
   "outputs": [
    {
     "data": {
      "text/plain": [
       "array(['경력 10~15년', '경력 3~10년', '경력 1~10년', '경력 5~10년', '경력 3~6년',\n",
       "       '경력 2~10년', '경력 3~20년', '경력 1~7년', '경력 2~6년', '경력 2~20년',\n",
       "       '경력 5~20년', '경력 5~12년', '경력 7~15년', '경력 10~20년', '경력 5~15년',\n",
       "       '경력 1~5년', '경력 3~7년', '경력 3~15년', '경력 1~3년', '경력 2~9년', '경력 3~5년',\n",
       "       '경력 7~20년', '경력 1~2년', '경력 3~12년', '경력 4~6년', '경력 2~7년',\n",
       "       '경력 1~20년', '경력 4~15년', '경력 7~10년', '경력 2~15년', '경력 4~10년',\n",
       "       '경력 6~20년', '경력 1~15년', '경력 6~15년', '경력 10~18년', '경력 2~5년',\n",
       "       '경력 3~8년', '경력 5~8년', '경력 4~11년', '경력 2~8년', '경력 6~16년',\n",
       "       '경력 3~11년', '경력 8~15년', '경력 6~8년', '경력 2~3년', '경력 5~7년',\n",
       "       '경력 2~12년', '경력 5~13년', '경력 3~9년', '경력 4~7년', '경력 1~8년',\n",
       "       '경력 7~25년', '신입', '경력 10~14년', '경력 3~4년', '경력 8~13년', '경력 4~20년',\n",
       "       '경력 1~4년', '경력 6~17년', '경력 2~16년', '경력 4~12년', '상시', '경력 4~9년',\n",
       "       '경력 8~10년', '경력 1~13년', '경력 4~8년', '경력 3~19년', '경력 5~14년',\n",
       "       '경력 5~11년', '경력 6~10년', '경력 1~16년', '경력 8~20년', '경력 5~9년',\n",
       "       '경력 6~9년', '경력 3~13년', '경력 3~30년', '경력 1~9년', '경력 4~13년',\n",
       "       '경력 6~13년', '경력 6~12년', '경력 1~6년', '경력 2~4년', '경력 4~5년',\n",
       "       '경력 2~25년', '경력 9~20년', '경력 1~21년', '경력 5~16년', '경력 7~19년',\n",
       "       '경력 5~17년', '경력 7~16년', '경력 3~18년', '경력 4~30년', '경력 5~6년',\n",
       "       '경력 9~15년', '경력 17~20년', '경력 12~20년', '경력 1~19년', '경력 7~30년',\n",
       "       '경력 2~30년', '경력 3~16년', '경력 6~11년', '경력 1~12년', '경력 7~17년',\n",
       "       '경력 7~12년', '경력 1~25년', '경력 10~25년', '경력 5~30년', '경력 3~14년',\n",
       "       '경력 1~11년', '경력 10~30년', '경력 11~25년', '경력 8~16년', '경력 10~13년',\n",
       "       '경력 1~14년', '경력 1~30년', '경력 1~22년', '경력 15~20년', '경력 8~12년',\n",
       "       '경력 7~11년', '경력 3~25년'], dtype=object)"
      ]
     },
     "execution_count": 43,
     "metadata": {},
     "output_type": "execute_result"
    }
   ],
   "source": [
    "jumpit['경력조건'].unique()"
   ]
  },
  {
   "cell_type": "code",
   "execution_count": 44,
   "metadata": {},
   "outputs": [
    {
     "data": {
      "text/html": [
       "<div>\n",
       "<style scoped>\n",
       "    .dataframe tbody tr th:only-of-type {\n",
       "        vertical-align: middle;\n",
       "    }\n",
       "\n",
       "    .dataframe tbody tr th {\n",
       "        vertical-align: top;\n",
       "    }\n",
       "\n",
       "    .dataframe thead th {\n",
       "        text-align: right;\n",
       "    }\n",
       "</style>\n",
       "<table border=\"1\" class=\"dataframe\">\n",
       "  <thead>\n",
       "    <tr style=\"text-align: right;\">\n",
       "      <th></th>\n",
       "      <th>회사명</th>\n",
       "      <th>지원기간</th>\n",
       "      <th>공고명</th>\n",
       "      <th>직무내용</th>\n",
       "      <th>자격요건</th>\n",
       "      <th>우대조건</th>\n",
       "      <th>경력조건</th>\n",
       "      <th>기술 스택</th>\n",
       "      <th>출처 URL</th>\n",
       "      <th>복지</th>\n",
       "    </tr>\n",
       "  </thead>\n",
       "  <tbody>\n",
       "    <tr>\n",
       "      <th>0</th>\n",
       "      <td>미디어로그</td>\n",
       "      <td>상시</td>\n",
       "      <td>미디어로그(LG그룹) 웹 하드 3.0 SM 경력 채용</td>\n",
       "      <td>서버/백엔드 개발자</td>\n",
       "      <td>• Java, Spring, Spring Boot, JSP 개발 스킬 필수\\n• O...</td>\n",
       "      <td>• LG U+ SI/SM 업무 경험\\n• 서버 간 연동 처리 경험 (restful,...</td>\n",
       "      <td>경력 10~15년</td>\n",
       "      <td>Java\\nJSP\\nSpring Boot\\nMariaDB\\nOracle\\nLinux</td>\n",
       "      <td>https://www.jumpit.co.kr/position/16607</td>\n",
       "      <td>• 통신비 지원\\n- U+유모바일 음성무제한 요금제 지원\\n\\n• 자녀 학비 지원\\...</td>\n",
       "    </tr>\n",
       "    <tr>\n",
       "      <th>1</th>\n",
       "      <td>지바이크</td>\n",
       "      <td>상시</td>\n",
       "      <td>[지쿠터] PHP / Laravel</td>\n",
       "      <td>서버/백엔드 개발자</td>\n",
       "      <td>• 해당 경력 3년 이상\\n• Laravel 사용 경험이 있으신 분\\n• 코드리뷰에...</td>\n",
       "      <td>• 대규모 트래픽 서비스 환경에서 개발 및 운영 경험이 있으신 분\\n• 대용량 배치...</td>\n",
       "      <td>경력 3~10년</td>\n",
       "      <td>Laravel\\nApache HTTP Server\\nREST API\\nPHP\\nRD...</td>\n",
       "      <td>https://www.jumpit.co.kr/position/1583</td>\n",
       "      <td>• 영어이름으로 실현하는 수평적 조직문화!\\n 지쿠터엔 직위 직급 없이 영문 닉네임...</td>\n",
       "    </tr>\n",
       "    <tr>\n",
       "      <th>2</th>\n",
       "      <td>데이터비</td>\n",
       "      <td>상시</td>\n",
       "      <td>백엔드 엔지니어 (NodeJS)</td>\n",
       "      <td>서버/백엔드 개발자</td>\n",
       "      <td>• 결제 기능 개발 경험\\n• AdonisJS 프레임워크를 활용한 개발 경험\\n• ...</td>\n",
       "      <td>• 데이터와 소프트웨어 기술이 사람간의 의사소통을 더 원활하게 도울 수 있다고 믿는...</td>\n",
       "      <td>경력 1~10년</td>\n",
       "      <td>Node.js\\nAWS\\nPython\\nAdonisJS</td>\n",
       "      <td>https://www.jumpit.co.kr/position/16273</td>\n",
       "      <td>[보상 및 근무 조건]\\n• 머신러닝, 딥러닝 인프라(GPU 등)에 대한 아낌없는 ...</td>\n",
       "    </tr>\n",
       "    <tr>\n",
       "      <th>3</th>\n",
       "      <td>미디어로그</td>\n",
       "      <td>상시</td>\n",
       "      <td>미디어로그(LG그룹) 풀스택 개발자 (사내 업무 시스템)</td>\n",
       "      <td>서버/백엔드 개발자</td>\n",
       "      <td>• Java / Spring framework 개발 스킬 필수 (3년 차 이상)\\n...</td>\n",
       "      <td>• LINUX 경험\\n• 컴퓨터 공학 관련 전공 또는 관련 학위</td>\n",
       "      <td>경력 5~10년</td>\n",
       "      <td>Java\\nSpring Framework\\nNoSql\\nLinux</td>\n",
       "      <td>https://www.jumpit.co.kr/position/16187</td>\n",
       "      <td>• 통신비 지원\\n- U+유모바일 음성무제한 요금제 지원\\n\\n• 자녀 학비 지원\\...</td>\n",
       "    </tr>\n",
       "    <tr>\n",
       "      <th>4</th>\n",
       "      <td>내몸랩</td>\n",
       "      <td>상시</td>\n",
       "      <td>백엔드, 서버 개발자(경력 3년 이상)</td>\n",
       "      <td>서버/백엔드 개발자</td>\n",
       "      <td>• Backend 개발 경력 3년 이상 혹은 그에 준하는 실력을 보유한 분\\n• J...</td>\n",
       "      <td>• Web RTC등의 스트리밍 서비스 개발 경험이 있는 분\\n• 네트워크/앱 보안에...</td>\n",
       "      <td>경력 3~6년</td>\n",
       "      <td>JavaScript\\nSpring Data JPA\\nJava</td>\n",
       "      <td>https://www.jumpit.co.kr/position/11720</td>\n",
       "      <td>• 원거리 출퇴근자 재택 근무 및 선택적 탄력근무제\\n• 4대 보험가입, 근로기준법...</td>\n",
       "    </tr>\n",
       "    <tr>\n",
       "      <th>5</th>\n",
       "      <td>포스트보이저영업소</td>\n",
       "      <td>상시</td>\n",
       "      <td>Java/ Kotlin 개발자</td>\n",
       "      <td>서버/백엔드 개발자</td>\n",
       "      <td>• Java 또는 Kotlin 개발 경력 5년 이상\\n• Linux에서 웹 서비스 ...</td>\n",
       "      <td>• MSA 개발/운영 경험\\n• Go, Rust, Koltin 개발 경험\\n• 대용...</td>\n",
       "      <td>경력 5~10년</td>\n",
       "      <td>Java\\nLinux\\nKotlin\\nREST API\\nAWS\\nGCP\\nGit\\n...</td>\n",
       "      <td>https://www.jumpit.co.kr/position/13204</td>\n",
       "      <td>• 산전/산후휴가 / 육아휴가\\n• 유급휴가 / 경조휴가 / 기념일 반차\\n• 법정...</td>\n",
       "    </tr>\n",
       "    <tr>\n",
       "      <th>6</th>\n",
       "      <td>위허들링</td>\n",
       "      <td>상시</td>\n",
       "      <td>위잇딜라이트 백엔드 개발자</td>\n",
       "      <td>서버/백엔드 개발자</td>\n",
       "      <td>• Python 기반 Restful API(Django &amp; Django Rest F...</td>\n",
       "      <td>• 아래 경험들을 해보셨다면 위잇딜라이트는 우대합니다.\\n - Django &amp; Dj...</td>\n",
       "      <td>경력 3~10년</td>\n",
       "      <td>Python\\nDjango\\nPostgreSQL\\nAWS\\nGit\\nGitLab\\n...</td>\n",
       "      <td>https://www.jumpit.co.kr/position/4713</td>\n",
       "      <td>• 주 35시간, 하루 7시간 근무 (표준근무시간 10:00-18:00)\\n• 근로...</td>\n",
       "    </tr>\n",
       "    <tr>\n",
       "      <th>7</th>\n",
       "      <td>더블미디어</td>\n",
       "      <td>상시</td>\n",
       "      <td>백엔드 개발자 모집</td>\n",
       "      <td>서버/백엔드 개발자</td>\n",
       "      <td>• (백엔드 담당 A) TypeScript, Node,js, NestJS, ORM에...</td>\n",
       "      <td>• OAuth2 서버 구축 및 서비스 적용 경험이 있으신 분\\n• CICD 에 능숙...</td>\n",
       "      <td>경력 2~10년</td>\n",
       "      <td>TypeScript\\nNestJS\\nGolang</td>\n",
       "      <td>https://www.jumpit.co.kr/position/14733</td>\n",
       "      <td>• 사내 카페 및 간식코너 (라면,과자,커피,음료 등)\\n• 성과급 제도\\n• 각종...</td>\n",
       "    </tr>\n",
       "    <tr>\n",
       "      <th>8</th>\n",
       "      <td>로보코리아</td>\n",
       "      <td>상시</td>\n",
       "      <td>백엔드 엔지니어</td>\n",
       "      <td>서버/백엔드 개발자</td>\n",
       "      <td>• 새로운 기술 및 트렌드에 대해 끊임없이 관심을 갖고 이를 활용 하시는 분\\n• ...</td>\n",
       "      <td>• 글로벌 서비스를 위한 인프라 아키텍처 설계, 개발 경험이 있으신 분\\n• 애자일...</td>\n",
       "      <td>경력 3~10년</td>\n",
       "      <td>TypeScript\\nNestJS\\nMongoDB\\nNoSql\\nMSA\\nDatad...</td>\n",
       "      <td>https://www.jumpit.co.kr/position/7827</td>\n",
       "      <td>1. 자율과 효율의 근무 환경을 제공합니다.\\n• 오전 09:00 - 10:30 유...</td>\n",
       "    </tr>\n",
       "    <tr>\n",
       "      <th>9</th>\n",
       "      <td>렌딧</td>\n",
       "      <td>2023.07.31</td>\n",
       "      <td>Senior Back-end Engineer</td>\n",
       "      <td>서버/백엔드 개발자</td>\n",
       "      <td>• 관련 업무 경력 3년 이상\\n• Kotlin, Java 기반 웹 어플리케이션 프...</td>\n",
       "      <td>• AWS를 활용한 서비스 개발/운영 경험이 있으신 분\\n• 알고리즘, 성능최적화,...</td>\n",
       "      <td>경력 3~20년</td>\n",
       "      <td>Kotlin\\nJava\\nSpring Boot\\nSpring Framework\\nA...</td>\n",
       "      <td>https://www.jumpit.co.kr/position/14158</td>\n",
       "      <td>[개발자의 성장을 돕는 활동]\\n• 개인성장을 위한 도서 구입, 온라인 강의 수강 ...</td>\n",
       "    </tr>\n",
       "  </tbody>\n",
       "</table>\n",
       "</div>"
      ],
      "text/plain": [
       "         회사명        지원기간                              공고명        직무내용  \\\n",
       "0      미디어로그          상시    미디어로그(LG그룹) 웹 하드 3.0 SM 경력 채용  서버/백엔드 개발자   \n",
       "1       지바이크          상시              [지쿠터] PHP / Laravel  서버/백엔드 개발자   \n",
       "2       데이터비          상시                백엔드 엔지니어 (NodeJS)  서버/백엔드 개발자   \n",
       "3      미디어로그          상시  미디어로그(LG그룹) 풀스택 개발자 (사내 업무 시스템)  서버/백엔드 개발자   \n",
       "4        내몸랩          상시            백엔드, 서버 개발자(경력 3년 이상)  서버/백엔드 개발자   \n",
       "5  포스트보이저영업소          상시                 Java/ Kotlin 개발자  서버/백엔드 개발자   \n",
       "6       위허들링          상시                   위잇딜라이트 백엔드 개발자  서버/백엔드 개발자   \n",
       "7      더블미디어          상시                       백엔드 개발자 모집  서버/백엔드 개발자   \n",
       "8      로보코리아          상시                         백엔드 엔지니어  서버/백엔드 개발자   \n",
       "9         렌딧  2023.07.31         Senior Back-end Engineer  서버/백엔드 개발자   \n",
       "\n",
       "                                                자격요건  \\\n",
       "0  • Java, Spring, Spring Boot, JSP 개발 스킬 필수\\n• O...   \n",
       "1  • 해당 경력 3년 이상\\n• Laravel 사용 경험이 있으신 분\\n• 코드리뷰에...   \n",
       "2  • 결제 기능 개발 경험\\n• AdonisJS 프레임워크를 활용한 개발 경험\\n• ...   \n",
       "3  • Java / Spring framework 개발 스킬 필수 (3년 차 이상)\\n...   \n",
       "4  • Backend 개발 경력 3년 이상 혹은 그에 준하는 실력을 보유한 분\\n• J...   \n",
       "5  • Java 또는 Kotlin 개발 경력 5년 이상\\n• Linux에서 웹 서비스 ...   \n",
       "6  • Python 기반 Restful API(Django & Django Rest F...   \n",
       "7  • (백엔드 담당 A) TypeScript, Node,js, NestJS, ORM에...   \n",
       "8  • 새로운 기술 및 트렌드에 대해 끊임없이 관심을 갖고 이를 활용 하시는 분\\n• ...   \n",
       "9  • 관련 업무 경력 3년 이상\\n• Kotlin, Java 기반 웹 어플리케이션 프...   \n",
       "\n",
       "                                                우대조건       경력조건  \\\n",
       "0  • LG U+ SI/SM 업무 경험\\n• 서버 간 연동 처리 경험 (restful,...  경력 10~15년   \n",
       "1  • 대규모 트래픽 서비스 환경에서 개발 및 운영 경험이 있으신 분\\n• 대용량 배치...   경력 3~10년   \n",
       "2  • 데이터와 소프트웨어 기술이 사람간의 의사소통을 더 원활하게 도울 수 있다고 믿는...   경력 1~10년   \n",
       "3                • LINUX 경험\\n• 컴퓨터 공학 관련 전공 또는 관련 학위   경력 5~10년   \n",
       "4  • Web RTC등의 스트리밍 서비스 개발 경험이 있는 분\\n• 네트워크/앱 보안에...    경력 3~6년   \n",
       "5  • MSA 개발/운영 경험\\n• Go, Rust, Koltin 개발 경험\\n• 대용...   경력 5~10년   \n",
       "6  • 아래 경험들을 해보셨다면 위잇딜라이트는 우대합니다.\\n - Django & Dj...   경력 3~10년   \n",
       "7  • OAuth2 서버 구축 및 서비스 적용 경험이 있으신 분\\n• CICD 에 능숙...   경력 2~10년   \n",
       "8  • 글로벌 서비스를 위한 인프라 아키텍처 설계, 개발 경험이 있으신 분\\n• 애자일...   경력 3~10년   \n",
       "9  • AWS를 활용한 서비스 개발/운영 경험이 있으신 분\\n• 알고리즘, 성능최적화,...   경력 3~20년   \n",
       "\n",
       "                                               기술 스택  \\\n",
       "0     Java\\nJSP\\nSpring Boot\\nMariaDB\\nOracle\\nLinux   \n",
       "1  Laravel\\nApache HTTP Server\\nREST API\\nPHP\\nRD...   \n",
       "2                     Node.js\\nAWS\\nPython\\nAdonisJS   \n",
       "3               Java\\nSpring Framework\\nNoSql\\nLinux   \n",
       "4                  JavaScript\\nSpring Data JPA\\nJava   \n",
       "5  Java\\nLinux\\nKotlin\\nREST API\\nAWS\\nGCP\\nGit\\n...   \n",
       "6  Python\\nDjango\\nPostgreSQL\\nAWS\\nGit\\nGitLab\\n...   \n",
       "7                         TypeScript\\nNestJS\\nGolang   \n",
       "8  TypeScript\\nNestJS\\nMongoDB\\nNoSql\\nMSA\\nDatad...   \n",
       "9  Kotlin\\nJava\\nSpring Boot\\nSpring Framework\\nA...   \n",
       "\n",
       "                                    출처 URL  \\\n",
       "0  https://www.jumpit.co.kr/position/16607   \n",
       "1   https://www.jumpit.co.kr/position/1583   \n",
       "2  https://www.jumpit.co.kr/position/16273   \n",
       "3  https://www.jumpit.co.kr/position/16187   \n",
       "4  https://www.jumpit.co.kr/position/11720   \n",
       "5  https://www.jumpit.co.kr/position/13204   \n",
       "6   https://www.jumpit.co.kr/position/4713   \n",
       "7  https://www.jumpit.co.kr/position/14733   \n",
       "8   https://www.jumpit.co.kr/position/7827   \n",
       "9  https://www.jumpit.co.kr/position/14158   \n",
       "\n",
       "                                                  복지  \n",
       "0  • 통신비 지원\\n- U+유모바일 음성무제한 요금제 지원\\n\\n• 자녀 학비 지원\\...  \n",
       "1  • 영어이름으로 실현하는 수평적 조직문화!\\n 지쿠터엔 직위 직급 없이 영문 닉네임...  \n",
       "2  [보상 및 근무 조건]\\n• 머신러닝, 딥러닝 인프라(GPU 등)에 대한 아낌없는 ...  \n",
       "3  • 통신비 지원\\n- U+유모바일 음성무제한 요금제 지원\\n\\n• 자녀 학비 지원\\...  \n",
       "4  • 원거리 출퇴근자 재택 근무 및 선택적 탄력근무제\\n• 4대 보험가입, 근로기준법...  \n",
       "5  • 산전/산후휴가 / 육아휴가\\n• 유급휴가 / 경조휴가 / 기념일 반차\\n• 법정...  \n",
       "6  • 주 35시간, 하루 7시간 근무 (표준근무시간 10:00-18:00)\\n• 근로...  \n",
       "7  • 사내 카페 및 간식코너 (라면,과자,커피,음료 등)\\n• 성과급 제도\\n• 각종...  \n",
       "8  1. 자율과 효율의 근무 환경을 제공합니다.\\n• 오전 09:00 - 10:30 유...  \n",
       "9  [개발자의 성장을 돕는 활동]\\n• 개인성장을 위한 도서 구입, 온라인 강의 수강 ...  "
      ]
     },
     "execution_count": 44,
     "metadata": {},
     "output_type": "execute_result"
    }
   ],
   "source": [
    "jumpit.head(10)"
   ]
  },
  {
   "cell_type": "code",
   "execution_count": 45,
   "metadata": {},
   "outputs": [],
   "source": [
    "jumpit.to_csv('jumpit.csv',index = False)"
   ]
  },
  {
   "attachments": {},
   "cell_type": "markdown",
   "metadata": {},
   "source": [
    "- 전체 concat"
   ]
  },
  {
   "cell_type": "code",
   "execution_count": 65,
   "metadata": {},
   "outputs": [
    {
     "data": {
      "text/plain": [
       "회사명       11388\n",
       "지원기간       3298\n",
       "공고명       11372\n",
       "직무내용      11393\n",
       "자격요건      11382\n",
       "우대조건      11184\n",
       "경력조건       3348\n",
       "기술 스택      9136\n",
       "출처 URL    11393\n",
       "복지        11375\n",
       "dtype: int64"
      ]
     },
     "execution_count": 65,
     "metadata": {},
     "output_type": "execute_result"
    }
   ],
   "source": [
    "result = pd.concat([result, jumpit], axis=0)\n",
    "result.count()"
   ]
  },
  {
   "cell_type": "code",
   "execution_count": 66,
   "metadata": {},
   "outputs": [],
   "source": [
    "result.to_csv('result.csv',index = False)"
   ]
  },
  {
   "cell_type": "code",
   "execution_count": null,
   "metadata": {},
   "outputs": [],
   "source": []
  }
 ],
 "metadata": {
  "kernelspec": {
   "display_name": "base",
   "language": "python",
   "name": "python3"
  },
  "language_info": {
   "codemirror_mode": {
    "name": "ipython",
    "version": 3
   },
   "file_extension": ".py",
   "mimetype": "text/x-python",
   "name": "python",
   "nbconvert_exporter": "python",
   "pygments_lexer": "ipython3",
   "version": "3.8.3"
  },
  "orig_nbformat": 4,
  "vscode": {
   "interpreter": {
    "hash": "ad2bdc8ecc057115af97d19610ffacc2b4e99fae6737bb82f5d7fb13d2f2c186"
   }
  }
 },
 "nbformat": 4,
 "nbformat_minor": 2
}
