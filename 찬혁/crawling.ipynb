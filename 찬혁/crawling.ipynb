{
 "cells": [
  {
   "cell_type": "code",
   "execution_count": 7,
   "metadata": {},
   "outputs": [],
   "source": [
    "from selenium import webdriver\n",
    "from selenium.webdriver.common.by import By\n",
    "\n",
    "from tqdm import notebook\n",
    "import datetime\n",
    "import time\n",
    "import pandas as pd"
   ]
  },
  {
   "cell_type": "code",
   "execution_count": 8,
   "metadata": {},
   "outputs": [],
   "source": [
    "#드라이버 불러온 후 전체화면 크기로 설정\n",
    "driver = webdriver.Chrome('./chromedriver.exe')\n",
    "driver.maximize_window()"
   ]
  },
  {
   "attachments": {},
   "cell_type": "markdown",
   "metadata": {},
   "source": [
    "### CSV update 코드  \n",
    "- ```file_name```과 ```header(column)```으로 들어갈 값을 작성"
   ]
  },
  {
   "cell_type": "code",
   "execution_count": 9,
   "metadata": {},
   "outputs": [],
   "source": [
    "def update_csv(f_name, data_list):\n",
    "    df = pd.DataFrame(data_list)\n",
    "    df.to_csv(f_name, index=False, encoding = 'utf-8-sig',mode='a')"
   ]
  },
  {
   "attachments": {},
   "cell_type": "markdown",
   "metadata": {},
   "source": [
    "### jumpit site 크롤링 코드  \n",
    "- Category 1~21까지 반복하며 나오는 공고들을 하나씩 클릭\n",
    "-> CSV 형태로 저장 **[col: 회사이름,기술스택, 주요업무, ...]**\n",
    "- 인터넷 성능에 따라 ```implicityly_wait()```의 시간을 조정하면 될 것 같습니다."
   ]
  },
  {
   "cell_type": "code",
   "execution_count": 47,
   "metadata": {},
   "outputs": [],
   "source": [
    "def jumpit_crawling(start_category, start_xpath_location):\n",
    "\n",
    "    Category_name = [0,'서버/백엔드 개발자','프론트엔드 개발자','웹 풀스택 개발자', '안드로이드 개발자','게임 클라이언트 개발자', '게임 서버 개발자', 'DBA','인공지능/머신러닝', 'devops/시스템 엔지니어',\n",
    "                     '정보보안 담당자','QA 엔지니어', '개발 PM','HW/임베디드',0,'SW/솔루션','IOS 개발자','웹퍼블리셔','크로스플랫폼 앱개발자','빅데이터 엔지니어','VR/AR/3D','기술지원','블록체인']\n",
    "    crawling_data = []\n",
    "    max_category = 22\n",
    "    max_crawling_data = 1000\n",
    "\n",
    "    URL = 'https://www.jumpit.co.kr/positions'\n",
    "    for jobCategory in range(start_category,max_category+1):\n",
    "        \n",
    "        if jobCategory == 14:\n",
    "            continue\n",
    "\n",
    "        driver.get(URL + f'?jobCategory={jobCategory}') \n",
    "        driver.implicitly_wait(time_to_wait=2)\n",
    "        \n",
    "        xpath_location = start_xpath_location\n",
    "\n",
    "        csv_name = '크롤링_점핏_ver02.csv'\n",
    "\n",
    "        #직무명\n",
    "        job = Category_name[jobCategory]\n",
    "\n",
    "        #페이지의 공고들을 반복하여 클릭해서 들어감\n",
    "        for i in notebook.tqdm(range(max_crawling_data), desc = f'{max_crawling_data}개 크롤링'):\n",
    "            xpath_location += 1\n",
    "            driver.implicitly_wait(time_to_wait=5)\n",
    "\n",
    "            #회사명, 채용공고명\n",
    "            try:\n",
    "                company_name = driver.find_element_by_xpath(f'//*[@id=\"root\"]/main/div/div[1]/section/div[{xpath_location}]/a/div[3]/div').text\n",
    "                field_recruitment = driver.find_element_by_xpath(f'//*[@id=\"root\"]/main/div/div[1]/section/div[{xpath_location}]/a/div[3]/h2').text\n",
    "            \n",
    "            except:\n",
    "                update_csv(csv_name, crawling_data)  \n",
    "                print(f'Exception {len(crawling_data)} topic -> CSV file update')\n",
    "                break\n",
    "\n",
    "            #공고 클릭\n",
    "            driver.find_element(By.XPATH, f'//*[@id=\"root\"]/main/div/div[1]/section/div[{xpath_location}]').click()\n",
    "            driver.implicitly_wait(time_to_wait=3)\n",
    "\n",
    "\n",
    "            #직무명, 회사명, 채용공고명, 기술스택, 주요업무, 자격요건, 우대사항, 복지 및 혜택, 경력, 학력, 마감일, 근무지역 dict_data 저장\n",
    "            topic_dic = {'직무명':job,'회사명':company_name,'채용공고명':field_recruitment}\n",
    "\n",
    "            for i in range(1, 6):\n",
    "                topic = driver.find_element_by_xpath(f'//*[@id=\"root\"]/main/div/div[2]/div/section[2]/dl[{i}]/dt').text\n",
    "                element = driver.find_element_by_xpath(f'//*[@id=\"root\"]/main/div/div[2]/div/section[2]/dl[{i}]/dd/pre').text\n",
    "\n",
    "                topic_dic[topic] = element\n",
    "            \n",
    "            data = driver.find_element_by_xpath(f'//*[@id=\"root\"]/main/div/div[2]/div/section[3]').text.split('\\n')[1:-1]\n",
    "            for i in range(0, len(data), 2):\n",
    "                topic_dic[data[i]] = data[i+1]\n",
    "\n",
    "            crawling_data.append(topic_dic)\n",
    "\n",
    "\n",
    "            #20개에 한 번씩 저장\n",
    "            if len(crawling_data) == 20:\n",
    "                update_csv(csv_name, crawling_data)  \n",
    "                print('20 topic -> CSV file update')\n",
    "                crawling_data = []\n",
    "                \n",
    "            driver.back()\n",
    "            driver.implicitly_wait(time_to_wait=3)\n",
    "        \n",
    "        if len(crawling_data) < 20:\n",
    "            update_csv(csv_name, crawling_data)  \n",
    "            print(f'remainder {len(crawling_data)}  topic -> CSV file update')\n",
    "            print(f'{job} Category 끝')\n",
    "            crawling_data = []"
   ]
  },
  {
   "attachments": {},
   "cell_type": "markdown",
   "metadata": {},
   "source": [
    "### 데이터 수집 및 시간 측정"
   ]
  },
  {
   "cell_type": "code",
   "execution_count": 60,
   "metadata": {},
   "outputs": [
    {
     "data": {
      "application/vnd.jupyter.widget-view+json": {
       "model_id": "a809b42763cf4c49b3ae2446b3f9669b",
       "version_major": 2,
       "version_minor": 0
      },
      "text/plain": [
       "HBox(children=(FloatProgress(value=0.0, description='1000개 크롤링', max=1000.0, style=ProgressStyle(description_w…"
      ]
     },
     "metadata": {},
     "output_type": "display_data"
    },
    {
     "name": "stdout",
     "output_type": "stream",
     "text": [
      "20 topic -> CSV file update\n",
      "20 topic -> CSV file update\n",
      "Exception 12 topic -> CSV file update\n",
      "\n",
      "remainder 12  topic -> CSV file update\n",
      "블록체인 Category 끝\n",
      "0:00:44.013188\n"
     ]
    }
   ],
   "source": [
    "#수행해야할 category_number와 xpath_location 입력\n",
    "\n",
    "start = time.time()\n",
    "jumpit_crawling(22, 0)\n",
    "end = time.time()\n",
    "\n",
    "result = datetime.timedelta(seconds=end-start)\n",
    "print(result)"
   ]
  }
 ],
 "metadata": {
  "kernelspec": {
   "display_name": "base",
   "language": "python",
   "name": "python3"
  },
  "language_info": {
   "codemirror_mode": {
    "name": "ipython",
    "version": 3
   },
   "file_extension": ".py",
   "mimetype": "text/x-python",
   "name": "python",
   "nbconvert_exporter": "python",
   "pygments_lexer": "ipython3",
   "version": "3.8.3 (default, Jul  2 2020, 17:30:36) [MSC v.1916 64 bit (AMD64)]"
  },
  "orig_nbformat": 4,
  "vscode": {
   "interpreter": {
    "hash": "ad2bdc8ecc057115af97d19610ffacc2b4e99fae6737bb82f5d7fb13d2f2c186"
   }
  }
 },
 "nbformat": 4,
 "nbformat_minor": 2
}
