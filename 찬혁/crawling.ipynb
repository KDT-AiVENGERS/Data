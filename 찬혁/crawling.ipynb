{
 "cells": [
  {
   "cell_type": "code",
   "execution_count": 1,
   "metadata": {},
   "outputs": [],
   "source": [
    "from selenium import webdriver\n",
    "from selenium.webdriver.common.by import By\n",
    "\n",
    "from tqdm import notebook\n",
    "import datetime\n",
    "import time\n",
    "import pandas as pd"
   ]
  },
  {
   "cell_type": "code",
   "execution_count": 2,
   "metadata": {},
   "outputs": [],
   "source": [
    "#드라이버 불러온 후 전체화면 크기로 설정\n",
    "driver = webdriver.Chrome('./chromedriver.exe')\n",
    "driver.maximize_window()"
   ]
  },
  {
   "attachments": {},
   "cell_type": "markdown",
   "metadata": {},
   "source": [
    "### CSV update 코드  \n",
    "- ```file_name```과 ```header(column)```으로 들어갈 값을 작성"
   ]
  },
  {
   "cell_type": "code",
   "execution_count": 3,
   "metadata": {},
   "outputs": [],
   "source": [
    "def update_csv(f_name, data_list):\n",
    "    df = pd.DataFrame(data_list, index=[0])\n",
    "    df.to_csv(f_name, index=False, encoding = 'utf-8-sig',mode='a')\n"
   ]
  },
  {
   "attachments": {},
   "cell_type": "markdown",
   "metadata": {},
   "source": [
    "### jumpit site 크롤링 코드  \n",
    "- Category 1~21까지 반복하며 나오는 공고들을 하나씩 클릭\n",
    "-> CSV 형태로 저장 **[col: 회사이름,기술스택, 주요업무, ...]**\n",
    "- 인터넷 성능에 따라 ```implicityly_wait()```의 시간을 조정하면 될 것 같습니다."
   ]
  },
  {
   "cell_type": "code",
   "execution_count": 11,
   "metadata": {},
   "outputs": [],
   "source": [
    "def jumpit_crawling(start_category, start_xpath_location):\n",
    "\n",
    "    Category_name = [0,'서버/백엔드 개발자','프론트엔드 개발자','웹 풀스택 개발자', '안드로이드 개발자','게임 클라이언트 개발자', '게임 서버 개발자', 'DBA','인공지능/머신러닝', 'devops/시스템 엔지니어',\n",
    "                     '정보보안 담당자','QA 엔지니어', '개발 PM','HW/임베디드',0,'SW/솔루션','IOS 개발자','웹퍼블리셔','크로스플랫폼 앱개발자','빅데이터 엔지니어','VR/AR/3D','기술지원','블록체인']\n",
    "    max_category = 22\n",
    "    max_crawling_data = 1000\n",
    "\n",
    "    URL = 'https://www.jumpit.co.kr/positions'\n",
    "    for jobCategory in range(start_category,max_category+1):\n",
    "        \n",
    "        if jobCategory == 14:\n",
    "            continue\n",
    "\n",
    "        driver.get(URL + f'?jobCategory={jobCategory}') \n",
    "        driver.implicitly_wait(time_to_wait=5)\n",
    "        \n",
    "        xpath_location = start_xpath_location\n",
    "\n",
    "        csv_name = f'크롤링_점핏_{jobCategory}.csv'\n",
    "        df = pd.DataFrame(columns = ['회사명', '지원기간', '공고명', '직무내용', '자격요건', '우대조건', '경력조건', '기술 스택', '출처 URL', '복지'])\n",
    "\n",
    "        #직무명\n",
    "        job = Category_name[jobCategory]\n",
    "\n",
    "        #페이지의 공고들을 반복하여 클릭해서 들어감\n",
    "        for i in notebook.tqdm(range(max_crawling_data), desc = f'{max_crawling_data}개 크롤링'):\n",
    "            xpath_location += 1\n",
    "            driver.implicitly_wait(time_to_wait=5)\n",
    "\n",
    "            #회사명, 채용공고명\n",
    "            try:\n",
    "                company_name = driver.find_element_by_xpath(f'//*[@id=\"root\"]/main/div/div[1]/section/div[{xpath_location}]/a/div[3]/div').text\n",
    "                field_recruitment = driver.find_element_by_xpath(f'//*[@id=\"root\"]/main/div/div[1]/section/div[{xpath_location}]/a/div[3]/h2').text\n",
    "            \n",
    "            except:\n",
    "                df = pd.concat([df, pd.DataFrame(new_row, index=[0])], ignore_index=True)\n",
    "                df.to_csv(csv_name, index=False)\n",
    "                break\n",
    "\n",
    "            #공고 클릭\n",
    "            driver.find_element(By.XPATH, f'//*[@id=\"root\"]/main/div/div[1]/section/div[{xpath_location}]').click()\n",
    "            driver.implicitly_wait(time_to_wait=5)\n",
    "\n",
    "            url = driver.current_url\n",
    "            skill = driver.find_element_by_xpath(f'//*[@id=\"root\"]/main/div/div[2]/div/section[2]/dl[1]/dd').text\n",
    "            qualification = driver.find_element_by_xpath(f'//*[@id=\"root\"]/main/div/div[2]/div/section[2]/dl[3]/dd').text\n",
    "            preference = driver.find_element_by_xpath(f'//*[@id=\"root\"]/main/div/div[2]/div/section[2]/dl[4]/dd').text\n",
    "            benefit = driver.find_element_by_xpath(f'//*[@id=\"root\"]/main/div/div[2]/div/section[2]/dl[5]/dd').text\n",
    "            career = driver.find_element_by_xpath(f'//*[@id=\"root\"]/main/div/div[2]/div/section[3]/dl[1]').text\n",
    "            deadline = driver.find_element_by_xpath(f'//*[@id=\"root\"]/main/div/div[2]/div/section[3]/dl[3]').text\n",
    "\n",
    "            new_row = {'회사명':company_name,'지원기간':deadline,'공고명':field_recruitment,'직무내용':job,\n",
    "                       '자격요건':qualification,'우대조건':preference,'경력조건':career,'기술 스택':skill,\n",
    "                       '출처 URL':url, '복지':benefit}\n",
    "\n",
    "            df = pd.concat([df, pd.DataFrame(new_row, index=[0])], ignore_index=True)\n",
    "\n",
    "            #30개에 한 번씩 저장\n",
    "            if len(df) % 30 == 0:\n",
    "                df.to_csv(csv_name, index=False)\n",
    "                print('+30 topic -> CSV file update')\n",
    "\n",
    "            driver.back()\n",
    "            driver.implicitly_wait(time_to_wait=3)\n",
    "        \n",
    "        if len(df) % 30 != 0:\n",
    "            df.to_csv(csv_name, index=False)\n",
    "            print(f'remainder {len(df)%30}  topic -> CSV file update')\n",
    "            print(f'{job} Category 끝')\n",
    "            driver.implicitly_wait(time_to_wait=3)"
   ]
  },
  {
   "attachments": {},
   "cell_type": "markdown",
   "metadata": {},
   "source": [
    "### 데이터 수집 및 시간 측정"
   ]
  },
  {
   "cell_type": "code",
   "execution_count": 13,
   "metadata": {},
   "outputs": [
    {
     "data": {
      "application/vnd.jupyter.widget-view+json": {
       "model_id": "a8e8119698ca4abf848f78b326b5f066",
       "version_major": 2,
       "version_minor": 0
      },
      "text/plain": [
       "HBox(children=(FloatProgress(value=0.0, description='1000개 크롤링', max=1000.0, style=ProgressStyle(description_w…"
      ]
     },
     "metadata": {},
     "output_type": "display_data"
    },
    {
     "name": "stdout",
     "output_type": "stream",
     "text": [
      "+30 topic -> CSV file update\n",
      "+30 topic -> CSV file update\n",
      "\n",
      "remainder 19  topic -> CSV file update\n",
      "크로스플랫폼 앱개발자 Category 끝\n"
     ]
    },
    {
     "data": {
      "application/vnd.jupyter.widget-view+json": {
       "model_id": "30db053c8484405abb337a8898ca958a",
       "version_major": 2,
       "version_minor": 0
      },
      "text/plain": [
       "HBox(children=(FloatProgress(value=0.0, description='1000개 크롤링', max=1000.0, style=ProgressStyle(description_w…"
      ]
     },
     "metadata": {},
     "output_type": "display_data"
    },
    {
     "name": "stdout",
     "output_type": "stream",
     "text": [
      "+30 topic -> CSV file update\n",
      "+30 topic -> CSV file update\n",
      "+30 topic -> CSV file update\n",
      "\n",
      "remainder 4  topic -> CSV file update\n",
      "빅데이터 엔지니어 Category 끝\n"
     ]
    },
    {
     "data": {
      "application/vnd.jupyter.widget-view+json": {
       "model_id": "5595238991384fbfba4440473cd2f7a0",
       "version_major": 2,
       "version_minor": 0
      },
      "text/plain": [
       "HBox(children=(FloatProgress(value=0.0, description='1000개 크롤링', max=1000.0, style=ProgressStyle(description_w…"
      ]
     },
     "metadata": {},
     "output_type": "display_data"
    },
    {
     "name": "stdout",
     "output_type": "stream",
     "text": [
      "\n",
      "remainder 28  topic -> CSV file update\n",
      "VR/AR/3D Category 끝\n"
     ]
    },
    {
     "data": {
      "application/vnd.jupyter.widget-view+json": {
       "model_id": "f7d7f136ba694093a78d7b5e1afd054c",
       "version_major": 2,
       "version_minor": 0
      },
      "text/plain": [
       "HBox(children=(FloatProgress(value=0.0, description='1000개 크롤링', max=1000.0, style=ProgressStyle(description_w…"
      ]
     },
     "metadata": {},
     "output_type": "display_data"
    },
    {
     "name": "stdout",
     "output_type": "stream",
     "text": [
      "+30 topic -> CSV file update\n",
      "+30 topic -> CSV file update\n",
      "+30 topic -> CSV file update\n",
      "\n",
      "remainder 4  topic -> CSV file update\n",
      "기술지원 Category 끝\n"
     ]
    },
    {
     "data": {
      "application/vnd.jupyter.widget-view+json": {
       "model_id": "f6bf32abed41463ebbc02f8f0c2d48f2",
       "version_major": 2,
       "version_minor": 0
      },
      "text/plain": [
       "HBox(children=(FloatProgress(value=0.0, description='1000개 크롤링', max=1000.0, style=ProgressStyle(description_w…"
      ]
     },
     "metadata": {},
     "output_type": "display_data"
    },
    {
     "name": "stdout",
     "output_type": "stream",
     "text": [
      "+30 topic -> CSV file update\n",
      "\n",
      "remainder 25  topic -> CSV file update\n",
      "블록체인 Category 끝\n",
      "0:05:02.713888\n"
     ]
    }
   ],
   "source": [
    "#수행해야할 category_number와 xpath_location 입력\n",
    "\n",
    "start = time.time()\n",
    "jumpit_crawling(18, 0)\n",
    "end = time.time()\n",
    "\n",
    "result = datetime.timedelta(seconds=end-start)\n",
    "print(result)"
   ]
  },
  {
   "cell_type": "code",
   "execution_count": null,
   "metadata": {},
   "outputs": [],
   "source": []
  }
 ],
 "metadata": {
  "kernelspec": {
   "display_name": "base",
   "language": "python",
   "name": "python3"
  },
  "language_info": {
   "codemirror_mode": {
    "name": "ipython",
    "version": 3
   },
   "file_extension": ".py",
   "mimetype": "text/x-python",
   "name": "python",
   "nbconvert_exporter": "python",
   "pygments_lexer": "ipython3",
   "version": "3.8.3"
  },
  "orig_nbformat": 4,
  "vscode": {
   "interpreter": {
    "hash": "ad2bdc8ecc057115af97d19610ffacc2b4e99fae6737bb82f5d7fb13d2f2c186"
   }
  }
 },
 "nbformat": 4,
 "nbformat_minor": 2
}
