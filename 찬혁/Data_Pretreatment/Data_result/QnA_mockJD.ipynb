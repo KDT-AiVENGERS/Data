{
 "cells": [
  {
   "cell_type": "code",
   "execution_count": 2,
   "metadata": {},
   "outputs": [],
   "source": [
    "import pandas as pd"
   ]
  },
  {
   "cell_type": "code",
   "execution_count": 58,
   "metadata": {},
   "outputs": [],
   "source": [
    "#QnA를 통해 받은 answer를 데이터프레임에 입력합니다.\n",
    "def QnA(question,answer,answer_cnt):\n",
    "    match question:\n",
    "        case '나를 잘 표현하는 것을 고르세요.':\n",
    "            jd_dic['자격요건']+=answer\n",
    "            jd_dic['회사소개']+=answer\n",
    "        \n",
    "        case '보유중인 기술 스택이 있는 경우 고르세요.':\n",
    "            if answer[0] == '없음':\n",
    "                pass\n",
    "            \n",
    "            else:\n",
    "                jd_dic['자격요건']+=answer\n",
    "                jd_dic['우대조건']+=answer\n",
    "            \n",
    "        case '프로젝트 경험이 있는 경우, 기재해주세요':\n",
    "\n",
    "            return 3\n",
    "        \n",
    "        #최대 benefit list의 index로 버튼을 만들어야 함\n",
    "        case '가장 중요한 복지나 회사 분위기는? (3개 선택)':\n",
    "            #input을 받는 것만 index로 들어오는 방식\n",
    "            #[1,3,4,5]\n",
    "            benefit_list = ['장비','휴가','출퇴근','식사','수습','건강검진','인센티브','계발']\n",
    "            for i in answer:\n",
    "                if i == 4:\n",
    "                    jd_dic['복지'].remove('수습')\n",
    "\n",
    "                else: \n",
    "                    jd_dic['복지'] += [benefit_list[i]]\n",
    "        \n",
    "        case '개발 관련해서 관심있는 업무 키워드를 입력해주세요.':\n",
    "\n",
    "            answer = [x.strip() for x in answer.split(',')]\n",
    "            jd_dic['주요업무'] += answer\n",
    "\n",
    "\n",
    "        case '개발 외에 관심있는 분야가 있으면 작성해 주세요.':\n",
    "\n",
    "            answer = [x.strip() for x in answer.split(',')]\n",
    "            jd_dic['회사소개'] += answer\n",
    "            \n"
   ]
  },
  {
   "cell_type": "code",
   "execution_count": 59,
   "metadata": {},
   "outputs": [
    {
     "name": "stdout",
     "output_type": "stream",
     "text": [
      "{'자격요건': '꼼꼼한, 책임감, 적극적, 주체적, ', '우대조건': '', '복지': '휴가, 출퇴근, 식사, 건강검진', '회사소개': '꼼꼼한, 책임감, 적극적, 주체적, 화장품, 식품, 컨설팅, 금융', '주요업무': '프론트엔드, 백엔드, ai'}\n"
     ]
    },
    {
     "ename": "ValueError",
     "evalue": "If using all scalar values, you must pass an index",
     "output_type": "error",
     "traceback": [
      "\u001b[0;31m---------------------------------------------------------------------------\u001b[0m",
      "\u001b[0;31mValueError\u001b[0m                                Traceback (most recent call last)",
      "Cell \u001b[0;32mIn[59], line 27\u001b[0m\n\u001b[1;32m     23\u001b[0m \u001b[39mprint\u001b[39m(jd_dic)\n\u001b[1;32m     24\u001b[0m \u001b[39m# QnA('프로젝트 경험이 있는 경우, 기재해주세요',answer,answer_cnt)\u001b[39;00m\n\u001b[1;32m     25\u001b[0m \u001b[39m# QnA('Q-4',answer,answer_cnt)\u001b[39;00m\n\u001b[0;32m---> 27\u001b[0m mock_JD \u001b[39m=\u001b[39m pd\u001b[39m.\u001b[39;49mDataFrame(jd_dic)\n\u001b[1;32m     28\u001b[0m mock_JD\n",
      "File \u001b[0;32m~/miniforge3/envs/light/lib/python3.10/site-packages/pandas/core/frame.py:709\u001b[0m, in \u001b[0;36mDataFrame.__init__\u001b[0;34m(self, data, index, columns, dtype, copy)\u001b[0m\n\u001b[1;32m    703\u001b[0m     mgr \u001b[39m=\u001b[39m \u001b[39mself\u001b[39m\u001b[39m.\u001b[39m_init_mgr(\n\u001b[1;32m    704\u001b[0m         data, axes\u001b[39m=\u001b[39m{\u001b[39m\"\u001b[39m\u001b[39mindex\u001b[39m\u001b[39m\"\u001b[39m: index, \u001b[39m\"\u001b[39m\u001b[39mcolumns\u001b[39m\u001b[39m\"\u001b[39m: columns}, dtype\u001b[39m=\u001b[39mdtype, copy\u001b[39m=\u001b[39mcopy\n\u001b[1;32m    705\u001b[0m     )\n\u001b[1;32m    707\u001b[0m \u001b[39melif\u001b[39;00m \u001b[39misinstance\u001b[39m(data, \u001b[39mdict\u001b[39m):\n\u001b[1;32m    708\u001b[0m     \u001b[39m# GH#38939 de facto copy defaults to False only in non-dict cases\u001b[39;00m\n\u001b[0;32m--> 709\u001b[0m     mgr \u001b[39m=\u001b[39m dict_to_mgr(data, index, columns, dtype\u001b[39m=\u001b[39;49mdtype, copy\u001b[39m=\u001b[39;49mcopy, typ\u001b[39m=\u001b[39;49mmanager)\n\u001b[1;32m    710\u001b[0m \u001b[39melif\u001b[39;00m \u001b[39misinstance\u001b[39m(data, ma\u001b[39m.\u001b[39mMaskedArray):\n\u001b[1;32m    711\u001b[0m     \u001b[39mfrom\u001b[39;00m \u001b[39mnumpy\u001b[39;00m\u001b[39m.\u001b[39;00m\u001b[39mma\u001b[39;00m \u001b[39mimport\u001b[39;00m mrecords\n",
      "File \u001b[0;32m~/miniforge3/envs/light/lib/python3.10/site-packages/pandas/core/internals/construction.py:481\u001b[0m, in \u001b[0;36mdict_to_mgr\u001b[0;34m(data, index, columns, dtype, typ, copy)\u001b[0m\n\u001b[1;32m    477\u001b[0m     \u001b[39melse\u001b[39;00m:\n\u001b[1;32m    478\u001b[0m         \u001b[39m# dtype check to exclude e.g. range objects, scalars\u001b[39;00m\n\u001b[1;32m    479\u001b[0m         arrays \u001b[39m=\u001b[39m [x\u001b[39m.\u001b[39mcopy() \u001b[39mif\u001b[39;00m \u001b[39mhasattr\u001b[39m(x, \u001b[39m\"\u001b[39m\u001b[39mdtype\u001b[39m\u001b[39m\"\u001b[39m) \u001b[39melse\u001b[39;00m x \u001b[39mfor\u001b[39;00m x \u001b[39min\u001b[39;00m arrays]\n\u001b[0;32m--> 481\u001b[0m \u001b[39mreturn\u001b[39;00m arrays_to_mgr(arrays, columns, index, dtype\u001b[39m=\u001b[39;49mdtype, typ\u001b[39m=\u001b[39;49mtyp, consolidate\u001b[39m=\u001b[39;49mcopy)\n",
      "File \u001b[0;32m~/miniforge3/envs/light/lib/python3.10/site-packages/pandas/core/internals/construction.py:115\u001b[0m, in \u001b[0;36marrays_to_mgr\u001b[0;34m(arrays, columns, index, dtype, verify_integrity, typ, consolidate)\u001b[0m\n\u001b[1;32m    112\u001b[0m \u001b[39mif\u001b[39;00m verify_integrity:\n\u001b[1;32m    113\u001b[0m     \u001b[39m# figure out the index, if necessary\u001b[39;00m\n\u001b[1;32m    114\u001b[0m     \u001b[39mif\u001b[39;00m index \u001b[39mis\u001b[39;00m \u001b[39mNone\u001b[39;00m:\n\u001b[0;32m--> 115\u001b[0m         index \u001b[39m=\u001b[39m _extract_index(arrays)\n\u001b[1;32m    116\u001b[0m     \u001b[39melse\u001b[39;00m:\n\u001b[1;32m    117\u001b[0m         index \u001b[39m=\u001b[39m ensure_index(index)\n",
      "File \u001b[0;32m~/miniforge3/envs/light/lib/python3.10/site-packages/pandas/core/internals/construction.py:645\u001b[0m, in \u001b[0;36m_extract_index\u001b[0;34m(data)\u001b[0m\n\u001b[1;32m    642\u001b[0m         \u001b[39mraise\u001b[39;00m \u001b[39mValueError\u001b[39;00m(\u001b[39m\"\u001b[39m\u001b[39mPer-column arrays must each be 1-dimensional\u001b[39m\u001b[39m\"\u001b[39m)\n\u001b[1;32m    644\u001b[0m \u001b[39mif\u001b[39;00m \u001b[39mnot\u001b[39;00m indexes \u001b[39mand\u001b[39;00m \u001b[39mnot\u001b[39;00m raw_lengths:\n\u001b[0;32m--> 645\u001b[0m     \u001b[39mraise\u001b[39;00m \u001b[39mValueError\u001b[39;00m(\u001b[39m\"\u001b[39m\u001b[39mIf using all scalar values, you must pass an index\u001b[39m\u001b[39m\"\u001b[39m)\n\u001b[1;32m    647\u001b[0m \u001b[39mif\u001b[39;00m have_series:\n\u001b[1;32m    648\u001b[0m     index \u001b[39m=\u001b[39m union_indexes(indexes)\n",
      "\u001b[0;31mValueError\u001b[0m: If using all scalar values, you must pass an index"
     ]
    }
   ],
   "source": [
    "# QnA(질문 순서)\n",
    "jd_dic = {'자격요건':[],'우대조건':[],'복지':['수습'],'회사소개':[],'주요업무':[]}\n",
    "\n",
    "answer = [['꼼꼼한','책임감','적극적','주체적'],\n",
    "          [''],\n",
    "          [1,2,3,4,5],\n",
    "          '프론트엔드, 백엔드, ai',\n",
    "          '화장품, 식품, 컨설팅, 금융']\n",
    "\n",
    "answer_cnt = 5\n",
    "a = '프론트엔드, 백엔드, ai'\n",
    "\n",
    "\n",
    "\n",
    "QnA('나를 잘 표현하는 것을 고르세요.',answer[0],answer_cnt)\n",
    "QnA('보유중인 기술 스택이 있는 경우 고르세요.',answer[1],answer_cnt)\n",
    "QnA('가장 중요한 복지나 회사 분위기는? (3개 선택)',answer[2],answer_cnt)\n",
    "QnA('개발 관련해서 관심있는 업무 키워드를 입력해주세요.',answer[3],answer_cnt)\n",
    "QnA('개발 외에 관심있는 분야가 있으면 작성해 주세요.',answer[4],answer_cnt)\n",
    "\n",
    "for key in jd_dic:\n",
    "    jd_dic[key] = ', '.join(jd_dic[key])\n",
    "    \n",
    "print(jd_dic)\n",
    "\n",
    "# QnA('프로젝트 경험이 있는 경우, 기재해주세요',answer,answer_cnt)\n",
    "# QnA('Q-4',answer,answer_cnt)\n",
    "\n",
    "mock_JD = pd.DataFrame(jd_dic)\n",
    "mock_JD\n"
   ]
  },
  {
   "cell_type": "code",
   "execution_count": null,
   "metadata": {},
   "outputs": [],
   "source": []
  }
 ],
 "metadata": {
  "kernelspec": {
   "display_name": "light",
   "language": "python",
   "name": "python3"
  },
  "language_info": {
   "codemirror_mode": {
    "name": "ipython",
    "version": 3
   },
   "file_extension": ".py",
   "mimetype": "text/x-python",
   "name": "python",
   "nbconvert_exporter": "python",
   "pygments_lexer": "ipython3",
   "version": "3.10.12"
  },
  "orig_nbformat": 4,
  "vscode": {
   "interpreter": {
    "hash": "8446771abbccdf322c4d5534b1ed011552624c6f62a6e9facbc7811aeae3b3cd"
   }
  }
 },
 "nbformat": 4,
 "nbformat_minor": 2
}
