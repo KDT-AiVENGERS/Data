{
 "cells": [
  {
   "cell_type": "code",
   "execution_count": 2,
   "metadata": {},
   "outputs": [],
   "source": [
    "import pandas as pd"
   ]
  },
  {
   "cell_type": "code",
   "execution_count": 1,
   "metadata": {},
   "outputs": [
    {
     "name": "stdout",
     "output_type": "stream",
     "text": [
      "1\n"
     ]
    }
   ],
   "source": [
    "jd_dic = {'자격요건':[],'우대조건':[],'복지':[],'회사소개':[],'주요업무':[]}\n",
    "\n",
    "#QnA를 통해 받은 input값을\n",
    "def QnA(question,answer,answer_cnt):\n",
    "    match question:\n",
    "        case '나를 잘 표현하는 것을 고르세요.':\n",
    "            jd_dic['자격요건']+=answer\n",
    "            jd_dic['회사소개']+=answer\n",
    "        \n",
    "        case '보유중인 기술 스택이 있는 경우 고르세요.':\n",
    "            if input[0] == '없음':\n",
    "                pass\n",
    "            \n",
    "            else:\n",
    "                jd_dic['자격요건']+=answer\n",
    "                jd_dic['우대조건']+=answer\n",
    "            \n",
    "        case '프로젝트 경험이 있는 경우, 기재해주세요':\n",
    "\n",
    "            return 3\n",
    "\n",
    "#QnA 결과를 가지고 JD를 만드는 작업        \n",
    "def make_JD():\n",
    "    return\n",
    "        \n",
    "# QnA(질문 순서)\n",
    "answer = ['a','b','c']\n",
    "answer_cnt = 5\n",
    "\n",
    "print(QnA('Q-1'))\n",
    "QnA('나를 잘 표현하는 것을 고르세요',answer,answer_cnt)\n",
    "QnA('보유중인 기술 스택이 있는 경우 고르세요',answer,answer_cnt)\n",
    "QnA('프로젝트 경험이 있는 경우, 기재해주세요',answer,answer_cnt)\n",
    "QnA('Q-4',answer,answer_cnt)\n",
    "\n",
    "mock_JD = pd.DataFrame(column=['자격요건', '우대조건','복지','회사소개','주요업무'])\n"
   ]
  },
  {
   "cell_type": "code",
   "execution_count": null,
   "metadata": {},
   "outputs": [],
   "source": []
  }
 ],
 "metadata": {
  "kernelspec": {
   "display_name": "bert",
   "language": "python",
   "name": "python3"
  },
  "language_info": {
   "codemirror_mode": {
    "name": "ipython",
    "version": 3
   },
   "file_extension": ".py",
   "mimetype": "text/x-python",
   "name": "python",
   "nbconvert_exporter": "python",
   "pygments_lexer": "ipython3",
   "version": "3.10.12"
  },
  "orig_nbformat": 4
 },
 "nbformat": 4,
 "nbformat_minor": 2
}
