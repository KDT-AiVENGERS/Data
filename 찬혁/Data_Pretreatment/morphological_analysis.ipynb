{
 "cells": [
  {
   "cell_type": "code",
   "execution_count": 13,
   "metadata": {},
   "outputs": [],
   "source": [
    "import pandas as pd\n",
    "import re\n",
    "from konlpy.tag import Okt,Hannanum"
   ]
  },
  {
   "cell_type": "code",
   "execution_count": 25,
   "metadata": {},
   "outputs": [
    {
     "name": "stdout",
     "output_type": "stream",
     "text": [
      "0.6.0\n"
     ]
    }
   ],
   "source": [
    "import konlpy\n",
    "print(konlpy.__version__)"
   ]
  },
  {
   "cell_type": "code",
   "execution_count": 14,
   "metadata": {},
   "outputs": [],
   "source": [
    "result_csv = pd.read_csv('result.csv')"
   ]
  },
  {
   "attachments": {},
   "cell_type": "markdown",
   "metadata": {},
   "source": [
    "- Hannanum은 사용자 사전에 영어 등록이 불가  \n",
    "- 영어 형태소 분석기로 nltk 사용: React.js 같은 단어가 잘 뽑힘  \n",
    "-> ```영어는 nltk를 사용하여 분석하고 한글은 Hannanum을 사용해 분석'```\n",
    "\n",
    "- 7.18: 전체 반복 돌면서 두 가지 형태소 분석기를 사용하여 하나는 영어, 하나는 한글만 뽑아봄\n",
    "-> 문맥적인 순서 issue 발생\n",
    "- 7.19: 결과적으로 한국어 형태소 분석기 Okt를 사용하기로 결정"
   ]
  },
  {
   "cell_type": "code",
   "execution_count": 15,
   "metadata": {},
   "outputs": [],
   "source": [
    "# 형태소 분석 함수 정의\n",
    "def tokenize(text):\n",
    "    okt = Okt()\n",
    "    # 정규표현식을 사용하여 특수문자 제거\n",
    "    if type(text) is not float:\n",
    "        text = re.sub(r'[-•·*,\\r\\n\\(\\)\\[\\]\\/:ㆍ\\<\\>＜＞［］]', '', text)\n",
    "        tokens = okt.morphs(text)  # 형태소만 문자열로 추출\n",
    "        return tokens"
   ]
  },
  {
   "cell_type": "code",
   "execution_count": 16,
   "metadata": {},
   "outputs": [
    {
     "data": {
      "text/plain": [
       "11393"
      ]
     },
     "execution_count": 16,
     "metadata": {},
     "output_type": "execute_result"
    }
   ],
   "source": [
    "len(result_csv)"
   ]
  },
  {
   "cell_type": "code",
   "execution_count": null,
   "metadata": {},
   "outputs": [],
   "source": [
    "#경력 조건 추가 해야함\n",
    "columns = ['공고명','자격요건','우대조건','기술 스택','복지']\n",
    "for column in columns:\n",
    "    result_csv = result_csv[result_csv[column].apply(lambda x: isinstance(x, str))]\n",
    "len(result_csv)\n",
    "\n",
    "result_csv[columns] = result_csv[columns].applymap(tokenize)\n",
    "result_csv.head(30)"
   ]
  },
  {
   "cell_type": "code",
   "execution_count": 18,
   "metadata": {},
   "outputs": [],
   "source": [
    "result_csv.to_csv('morp_result_del_ver(1).csv',index = False)"
   ]
  },
  {
   "cell_type": "code",
   "execution_count": 19,
   "metadata": {},
   "outputs": [],
   "source": [
    "test = pd.read_csv('morp_result.csv')"
   ]
  },
  {
   "cell_type": "code",
   "execution_count": 24,
   "metadata": {},
   "outputs": [
    {
     "ename": "IndexError",
     "evalue": "only integers, slices (`:`), ellipsis (`...`), numpy.newaxis (`None`) and integer or boolean arrays are valid indices",
     "output_type": "error",
     "traceback": [
      "\u001b[1;31m---------------------------------------------------------------------------\u001b[0m",
      "\u001b[1;31mIndexError\u001b[0m                                Traceback (most recent call last)",
      "\u001b[1;32m<ipython-input-24-cfe67f1d26b3>\u001b[0m in \u001b[0;36m<module>\u001b[1;34m\u001b[0m\n\u001b[1;32m----> 1\u001b[1;33m \u001b[0mtest\u001b[0m\u001b[1;33m=\u001b[0m \u001b[1;33m[\u001b[0m\u001b[0mtest\u001b[0m\u001b[1;33m[\u001b[0m\u001b[1;34m'복지'\u001b[0m\u001b[1;33m]\u001b[0m\u001b[1;33m.\u001b[0m\u001b[0munique\u001b[0m\u001b[1;33m(\u001b[0m\u001b[1;33m)\u001b[0m\u001b[1;33m]\u001b[0m\u001b[1;33m\u001b[0m\u001b[1;33m\u001b[0m\u001b[0m\n\u001b[0m\u001b[0;32m      2\u001b[0m \u001b[0mtest\u001b[0m\u001b[1;33m.\u001b[0m\u001b[0mhead\u001b[0m\u001b[1;33m(\u001b[0m\u001b[1;33m)\u001b[0m\u001b[1;33m\u001b[0m\u001b[1;33m\u001b[0m\u001b[0m\n",
      "\u001b[1;31mIndexError\u001b[0m: only integers, slices (`:`), ellipsis (`...`), numpy.newaxis (`None`) and integer or boolean arrays are valid indices"
     ]
    }
   ],
   "source": [
    "test= test['복지'].unique()\n"
   ]
  },
  {
   "attachments": {},
   "cell_type": "markdown",
   "metadata": {},
   "source": [
    "- 자격요건을 통해 기술스택이 nan 값인 부분을 채워야 할까?(보류)  \n",
    "-> ```추후에 필요하면 추가```\n",
    "- 기술 스택 종류 파악"
   ]
  },
  {
   "cell_type": "code",
   "execution_count": null,
   "metadata": {},
   "outputs": [],
   "source": [
    "result_csv['기술 스택'] = result_csv['기술 스택'].str.replace('[•·*,\\r\\n\\(\\)\\[\\]\\/:ㆍ\\<\\>＜＞［］]', ' ', regex = True)\n",
    "word_list = result_csv['기술 스택'].unique()\n",
    "print(word_list)\n",
    "\n",
    "word_set = set()\n",
    "\n",
    "for skill_words in word_list:\n",
    "    if type(skill_words) is not float:\n",
    "        english_list = [word.capitalize() for word in skill_words.split() if re.match(r'[ㄱ-ㅎ가-힣]+', word) == None]\n",
    "        word_set.update(english_list)\n",
    "\n",
    "# 쓸데없는거 제거해야할 듯\n",
    "print('기술 스택 종류: ',len(word_set))\n",
    "print(word_set)\n",
    "cnt = result_csv[result_csv['기술 스택'].isna() == True]['자격요건'].count()\n",
    "print('전체 개수: ',cnt)"
   ]
  },
  {
   "cell_type": "code",
   "execution_count": null,
   "metadata": {},
   "outputs": [],
   "source": []
  }
 ],
 "metadata": {
  "kernelspec": {
   "display_name": "base",
   "language": "python",
   "name": "python3"
  },
  "language_info": {
   "codemirror_mode": {
    "name": "ipython",
    "version": 3
   },
   "file_extension": ".py",
   "mimetype": "text/x-python",
   "name": "python",
   "nbconvert_exporter": "python",
   "pygments_lexer": "ipython3",
   "version": "3.8.3 (default, Jul  2 2020, 17:30:36) [MSC v.1916 64 bit (AMD64)]"
  },
  "orig_nbformat": 4,
  "vscode": {
   "interpreter": {
    "hash": "ad2bdc8ecc057115af97d19610ffacc2b4e99fae6737bb82f5d7fb13d2f2c186"
   }
  }
 },
 "nbformat": 4,
 "nbformat_minor": 2
}
