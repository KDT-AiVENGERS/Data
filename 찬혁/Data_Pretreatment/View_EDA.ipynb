{
 "cells": [
  {
   "cell_type": "code",
   "execution_count": 4,
   "metadata": {},
   "outputs": [
    {
     "name": "stderr",
     "output_type": "stream",
     "text": [
      "b'Skipping line 22: expected 12 fields, saw 13\\nSkipping line 23: expected 12 fields, saw 13\\nSkipping line 24: expected 12 fields, saw 13\\nSkipping line 25: expected 12 fields, saw 13\\nSkipping line 26: expected 12 fields, saw 13\\nSkipping line 27: expected 12 fields, saw 13\\nSkipping line 28: expected 12 fields, saw 13\\nSkipping line 29: expected 12 fields, saw 13\\nSkipping line 30: expected 12 fields, saw 13\\nSkipping line 31: expected 12 fields, saw 13\\nSkipping line 32: expected 12 fields, saw 13\\nSkipping line 33: expected 12 fields, saw 13\\nSkipping line 34: expected 12 fields, saw 13\\nSkipping line 35: expected 12 fields, saw 13\\nSkipping line 36: expected 12 fields, saw 13\\nSkipping line 37: expected 12 fields, saw 13\\nSkipping line 38: expected 12 fields, saw 13\\nSkipping line 39: expected 12 fields, saw 13\\nSkipping line 40: expected 12 fields, saw 13\\nSkipping line 41: expected 12 fields, saw 13\\nSkipping line 42: expected 12 fields, saw 13\\nSkipping line 169: expected 12 fields, saw 13\\nSkipping line 170: expected 12 fields, saw 13\\nSkipping line 171: expected 12 fields, saw 13\\nSkipping line 172: expected 12 fields, saw 13\\nSkipping line 173: expected 12 fields, saw 13\\nSkipping line 174: expected 12 fields, saw 13\\nSkipping line 175: expected 12 fields, saw 13\\nSkipping line 176: expected 12 fields, saw 13\\nSkipping line 177: expected 12 fields, saw 13\\nSkipping line 178: expected 12 fields, saw 13\\nSkipping line 179: expected 12 fields, saw 13\\nSkipping line 180: expected 12 fields, saw 13\\nSkipping line 181: expected 12 fields, saw 13\\nSkipping line 182: expected 12 fields, saw 13\\nSkipping line 183: expected 12 fields, saw 13\\nSkipping line 184: expected 12 fields, saw 13\\nSkipping line 185: expected 12 fields, saw 13\\nSkipping line 186: expected 12 fields, saw 13\\nSkipping line 187: expected 12 fields, saw 13\\nSkipping line 188: expected 12 fields, saw 13\\nSkipping line 189: expected 12 fields, saw 13\\nSkipping line 337: expected 12 fields, saw 13\\nSkipping line 338: expected 12 fields, saw 13\\nSkipping line 339: expected 12 fields, saw 13\\nSkipping line 340: expected 12 fields, saw 13\\nSkipping line 341: expected 12 fields, saw 13\\nSkipping line 342: expected 12 fields, saw 13\\nSkipping line 343: expected 12 fields, saw 13\\nSkipping line 344: expected 12 fields, saw 13\\nSkipping line 345: expected 12 fields, saw 13\\nSkipping line 346: expected 12 fields, saw 13\\nSkipping line 347: expected 12 fields, saw 13\\nSkipping line 348: expected 12 fields, saw 13\\nSkipping line 349: expected 12 fields, saw 13\\nSkipping line 350: expected 12 fields, saw 13\\nSkipping line 351: expected 12 fields, saw 13\\nSkipping line 352: expected 12 fields, saw 13\\nSkipping line 353: expected 12 fields, saw 13\\nSkipping line 354: expected 12 fields, saw 13\\nSkipping line 355: expected 12 fields, saw 13\\nSkipping line 356: expected 12 fields, saw 13\\nSkipping line 357: expected 12 fields, saw 13\\nSkipping line 442: expected 12 fields, saw 13\\nSkipping line 443: expected 12 fields, saw 13\\nSkipping line 444: expected 12 fields, saw 13\\nSkipping line 445: expected 12 fields, saw 13\\nSkipping line 446: expected 12 fields, saw 13\\nSkipping line 447: expected 12 fields, saw 13\\nSkipping line 448: expected 12 fields, saw 13\\nSkipping line 449: expected 12 fields, saw 13\\nSkipping line 450: expected 12 fields, saw 13\\nSkipping line 451: expected 12 fields, saw 13\\nSkipping line 452: expected 12 fields, saw 13\\nSkipping line 453: expected 12 fields, saw 13\\nSkipping line 454: expected 12 fields, saw 13\\nSkipping line 455: expected 12 fields, saw 13\\nSkipping line 456: expected 12 fields, saw 13\\nSkipping line 457: expected 12 fields, saw 13\\nSkipping line 458: expected 12 fields, saw 13\\nSkipping line 459: expected 12 fields, saw 13\\nSkipping line 460: expected 12 fields, saw 13\\nSkipping line 461: expected 12 fields, saw 13\\nSkipping line 462: expected 12 fields, saw 13\\nSkipping line 706: expected 12 fields, saw 13\\nSkipping line 707: expected 12 fields, saw 13\\nSkipping line 708: expected 12 fields, saw 13\\nSkipping line 709: expected 12 fields, saw 13\\nSkipping line 710: expected 12 fields, saw 13\\nSkipping line 711: expected 12 fields, saw 13\\nSkipping line 712: expected 12 fields, saw 13\\nSkipping line 713: expected 12 fields, saw 13\\nSkipping line 714: expected 12 fields, saw 13\\nSkipping line 715: expected 12 fields, saw 13\\nSkipping line 716: expected 12 fields, saw 13\\nSkipping line 717: expected 12 fields, saw 13\\nSkipping line 718: expected 12 fields, saw 13\\nSkipping line 719: expected 12 fields, saw 13\\nSkipping line 720: expected 12 fields, saw 13\\nSkipping line 721: expected 12 fields, saw 13\\nSkipping line 722: expected 12 fields, saw 13\\nSkipping line 723: expected 12 fields, saw 13\\nSkipping line 724: expected 12 fields, saw 13\\nSkipping line 725: expected 12 fields, saw 13\\nSkipping line 726: expected 12 fields, saw 13\\nSkipping line 853: expected 12 fields, saw 13\\nSkipping line 854: expected 12 fields, saw 13\\nSkipping line 855: expected 12 fields, saw 13\\nSkipping line 856: expected 12 fields, saw 13\\nSkipping line 857: expected 12 fields, saw 13\\nSkipping line 858: expected 12 fields, saw 13\\nSkipping line 859: expected 12 fields, saw 13\\nSkipping line 860: expected 12 fields, saw 13\\nSkipping line 861: expected 12 fields, saw 13\\nSkipping line 862: expected 12 fields, saw 13\\nSkipping line 863: expected 12 fields, saw 13\\nSkipping line 864: expected 12 fields, saw 13\\nSkipping line 865: expected 12 fields, saw 13\\nSkipping line 866: expected 12 fields, saw 13\\nSkipping line 867: expected 12 fields, saw 13\\nSkipping line 868: expected 12 fields, saw 13\\nSkipping line 869: expected 12 fields, saw 13\\nSkipping line 870: expected 12 fields, saw 13\\nSkipping line 871: expected 12 fields, saw 13\\nSkipping line 872: expected 12 fields, saw 13\\nSkipping line 873: expected 12 fields, saw 13\\nSkipping line 916: expected 12 fields, saw 13\\nSkipping line 917: expected 12 fields, saw 13\\nSkipping line 918: expected 12 fields, saw 13\\nSkipping line 919: expected 12 fields, saw 13\\nSkipping line 920: expected 12 fields, saw 13\\nSkipping line 921: expected 12 fields, saw 13\\nSkipping line 922: expected 12 fields, saw 13\\nSkipping line 923: expected 12 fields, saw 13\\nSkipping line 924: expected 12 fields, saw 13\\nSkipping line 925: expected 12 fields, saw 13\\nSkipping line 926: expected 12 fields, saw 13\\nSkipping line 927: expected 12 fields, saw 13\\nSkipping line 928: expected 12 fields, saw 13\\nSkipping line 929: expected 12 fields, saw 13\\nSkipping line 930: expected 12 fields, saw 13\\nSkipping line 931: expected 12 fields, saw 13\\nSkipping line 932: expected 12 fields, saw 13\\nSkipping line 933: expected 12 fields, saw 13\\nSkipping line 934: expected 12 fields, saw 13\\nSkipping line 935: expected 12 fields, saw 13\\nSkipping line 936: expected 12 fields, saw 13\\nSkipping line 979: expected 12 fields, saw 13\\nSkipping line 980: expected 12 fields, saw 13\\nSkipping line 981: expected 12 fields, saw 13\\nSkipping line 982: expected 12 fields, saw 13\\nSkipping line 983: expected 12 fields, saw 13\\nSkipping line 984: expected 12 fields, saw 13\\nSkipping line 985: expected 12 fields, saw 13\\nSkipping line 986: expected 12 fields, saw 13\\nSkipping line 987: expected 12 fields, saw 13\\nSkipping line 988: expected 12 fields, saw 13\\nSkipping line 989: expected 12 fields, saw 13\\nSkipping line 990: expected 12 fields, saw 13\\nSkipping line 991: expected 12 fields, saw 13\\nSkipping line 992: expected 12 fields, saw 13\\nSkipping line 993: expected 12 fields, saw 13\\nSkipping line 994: expected 12 fields, saw 13\\nSkipping line 995: expected 12 fields, saw 13\\nSkipping line 996: expected 12 fields, saw 13\\nSkipping line 997: expected 12 fields, saw 13\\nSkipping line 998: expected 12 fields, saw 13\\nSkipping line 999: expected 12 fields, saw 13\\nSkipping line 1048: expected 12 fields, saw 13\\nSkipping line 1049: expected 12 fields, saw 13\\nSkipping line 1050: expected 12 fields, saw 13\\nSkipping line 1051: expected 12 fields, saw 13\\nSkipping line 1052: expected 12 fields, saw 13\\nSkipping line 1053: expected 12 fields, saw 13\\nSkipping line 1054: expected 12 fields, saw 13\\nSkipping line 1055: expected 12 fields, saw 13\\nSkipping line 1056: expected 12 fields, saw 13\\nSkipping line 1057: expected 12 fields, saw 13\\nSkipping line 1058: expected 12 fields, saw 13\\nSkipping line 1059: expected 12 fields, saw 13\\nSkipping line 1060: expected 12 fields, saw 13\\nSkipping line 1061: expected 12 fields, saw 13\\nSkipping line 1062: expected 12 fields, saw 13\\nSkipping line 1063: expected 12 fields, saw 13\\nSkipping line 1064: expected 12 fields, saw 13\\nSkipping line 1065: expected 12 fields, saw 13\\nSkipping line 1066: expected 12 fields, saw 13\\nSkipping line 1067: expected 12 fields, saw 13\\nSkipping line 1068: expected 12 fields, saw 13\\nSkipping line 1474: expected 12 fields, saw 13\\nSkipping line 1475: expected 12 fields, saw 13\\nSkipping line 1476: expected 12 fields, saw 13\\nSkipping line 1477: expected 12 fields, saw 13\\nSkipping line 1478: expected 12 fields, saw 13\\nSkipping line 1479: expected 12 fields, saw 13\\nSkipping line 1480: expected 12 fields, saw 13\\nSkipping line 1481: expected 12 fields, saw 13\\nSkipping line 1482: expected 12 fields, saw 13\\nSkipping line 1483: expected 12 fields, saw 13\\nSkipping line 1484: expected 12 fields, saw 13\\nSkipping line 1485: expected 12 fields, saw 13\\nSkipping line 1486: expected 12 fields, saw 13\\nSkipping line 1487: expected 12 fields, saw 13\\nSkipping line 1488: expected 12 fields, saw 13\\nSkipping line 1489: expected 12 fields, saw 13\\nSkipping line 1490: expected 12 fields, saw 13\\nSkipping line 1491: expected 12 fields, saw 13\\nSkipping line 1492: expected 12 fields, saw 13\\nSkipping line 1493: expected 12 fields, saw 13\\nSkipping line 1494: expected 12 fields, saw 13\\nSkipping line 1596: expected 12 fields, saw 13\\nSkipping line 1597: expected 12 fields, saw 13\\nSkipping line 1598: expected 12 fields, saw 13\\nSkipping line 1599: expected 12 fields, saw 13\\nSkipping line 1600: expected 12 fields, saw 13\\nSkipping line 1601: expected 12 fields, saw 13\\nSkipping line 1602: expected 12 fields, saw 13\\nSkipping line 1603: expected 12 fields, saw 13\\nSkipping line 1604: expected 12 fields, saw 13\\nSkipping line 1605: expected 12 fields, saw 13\\nSkipping line 1606: expected 12 fields, saw 13\\nSkipping line 1607: expected 12 fields, saw 13\\nSkipping line 1608: expected 12 fields, saw 13\\nSkipping line 1609: expected 12 fields, saw 13\\nSkipping line 1610: expected 12 fields, saw 13\\nSkipping line 1611: expected 12 fields, saw 13\\nSkipping line 1612: expected 12 fields, saw 13\\nSkipping line 1613: expected 12 fields, saw 13\\nSkipping line 1614: expected 12 fields, saw 13\\nSkipping line 1615: expected 12 fields, saw 13\\nSkipping line 1616: expected 12 fields, saw 13\\nSkipping line 1659: expected 12 fields, saw 13\\nSkipping line 1660: expected 12 fields, saw 13\\nSkipping line 1661: expected 12 fields, saw 13\\nSkipping line 1662: expected 12 fields, saw 13\\nSkipping line 1663: expected 12 fields, saw 13\\nSkipping line 1664: expected 12 fields, saw 13\\nSkipping line 1665: expected 12 fields, saw 13\\nSkipping line 1666: expected 12 fields, saw 13\\nSkipping line 1667: expected 12 fields, saw 13\\nSkipping line 1668: expected 12 fields, saw 13\\nSkipping line 1669: expected 12 fields, saw 13\\nSkipping line 1670: expected 12 fields, saw 13\\nSkipping line 1671: expected 12 fields, saw 13\\nSkipping line 1672: expected 12 fields, saw 13\\nSkipping line 1673: expected 12 fields, saw 13\\nSkipping line 1674: expected 12 fields, saw 13\\nSkipping line 1675: expected 12 fields, saw 13\\nSkipping line 1676: expected 12 fields, saw 13\\nSkipping line 1677: expected 12 fields, saw 13\\nSkipping line 1678: expected 12 fields, saw 13\\nSkipping line 1679: expected 12 fields, saw 13\\nSkipping line 1680: expected 12 fields, saw 13\\nSkipping line 1681: expected 12 fields, saw 13\\nSkipping line 1682: expected 12 fields, saw 13\\nSkipping line 1683: expected 12 fields, saw 13\\nSkipping line 1684: expected 12 fields, saw 13\\nSkipping line 1685: expected 12 fields, saw 13\\nSkipping line 1686: expected 12 fields, saw 13\\nSkipping line 1687: expected 12 fields, saw 13\\nSkipping line 1688: expected 12 fields, saw 13\\nSkipping line 1689: expected 12 fields, saw 13\\nSkipping line 1690: expected 12 fields, saw 13\\nSkipping line 1691: expected 12 fields, saw 13\\nSkipping line 1692: expected 12 fields, saw 13\\nSkipping line 1693: expected 12 fields, saw 13\\nSkipping line 1694: expected 12 fields, saw 13\\nSkipping line 1695: expected 12 fields, saw 13\\nSkipping line 1696: expected 12 fields, saw 13\\nSkipping line 1697: expected 12 fields, saw 13\\nSkipping line 1698: expected 12 fields, saw 13\\nSkipping line 1699: expected 12 fields, saw 13\\nSkipping line 1700: expected 12 fields, saw 13\\nSkipping line 1701: expected 12 fields, saw 13\\nSkipping line 1702: expected 12 fields, saw 13\\nSkipping line 1703: expected 12 fields, saw 13\\nSkipping line 1704: expected 12 fields, saw 13\\nSkipping line 1705: expected 12 fields, saw 13\\nSkipping line 1706: expected 12 fields, saw 13\\nSkipping line 1707: expected 12 fields, saw 13\\nSkipping line 1708: expected 12 fields, saw 13\\nSkipping line 1709: expected 12 fields, saw 13\\nSkipping line 1710: expected 12 fields, saw 13\\nSkipping line 1711: expected 12 fields, saw 13\\nSkipping line 1712: expected 12 fields, saw 13\\nSkipping line 1713: expected 12 fields, saw 13\\nSkipping line 1714: expected 12 fields, saw 13\\nSkipping line 1715: expected 12 fields, saw 13\\nSkipping line 1716: expected 12 fields, saw 13\\nSkipping line 1717: expected 12 fields, saw 13\\nSkipping line 1718: expected 12 fields, saw 13\\nSkipping line 1719: expected 12 fields, saw 13\\nSkipping line 1720: expected 12 fields, saw 13\\nSkipping line 1721: expected 12 fields, saw 13\\nSkipping line 1722: expected 12 fields, saw 13\\nSkipping line 1723: expected 12 fields, saw 13\\nSkipping line 1724: expected 12 fields, saw 13\\nSkipping line 1725: expected 12 fields, saw 13\\nSkipping line 1726: expected 12 fields, saw 13\\nSkipping line 1727: expected 12 fields, saw 13\\nSkipping line 1728: expected 12 fields, saw 13\\nSkipping line 1729: expected 12 fields, saw 13\\nSkipping line 1730: expected 12 fields, saw 13\\nSkipping line 1731: expected 12 fields, saw 13\\nSkipping line 1732: expected 12 fields, saw 13\\nSkipping line 1733: expected 12 fields, saw 13\\nSkipping line 1734: expected 12 fields, saw 13\\nSkipping line 1735: expected 12 fields, saw 13\\nSkipping line 1736: expected 12 fields, saw 13\\nSkipping line 1737: expected 12 fields, saw 13\\nSkipping line 1738: expected 12 fields, saw 13\\nSkipping line 1739: expected 12 fields, saw 13\\nSkipping line 1740: expected 12 fields, saw 13\\nSkipping line 1741: expected 12 fields, saw 13\\nSkipping line 1742: expected 12 fields, saw 13\\nSkipping line 1764: expected 12 fields, saw 13\\nSkipping line 1765: expected 12 fields, saw 13\\nSkipping line 1766: expected 12 fields, saw 13\\nSkipping line 1767: expected 12 fields, saw 13\\nSkipping line 1768: expected 12 fields, saw 13\\nSkipping line 1769: expected 12 fields, saw 13\\nSkipping line 1770: expected 12 fields, saw 13\\nSkipping line 1771: expected 12 fields, saw 13\\nSkipping line 1772: expected 12 fields, saw 13\\nSkipping line 1773: expected 12 fields, saw 13\\nSkipping line 1774: expected 12 fields, saw 13\\nSkipping line 1775: expected 12 fields, saw 13\\nSkipping line 1776: expected 12 fields, saw 13\\nSkipping line 1777: expected 12 fields, saw 13\\nSkipping line 1778: expected 12 fields, saw 13\\nSkipping line 1779: expected 12 fields, saw 13\\nSkipping line 1780: expected 12 fields, saw 13\\nSkipping line 1781: expected 12 fields, saw 13\\nSkipping line 1782: expected 12 fields, saw 13\\nSkipping line 1783: expected 12 fields, saw 13\\nSkipping line 1784: expected 12 fields, saw 13\\nSkipping line 2013: expected 12 fields, saw 13\\nSkipping line 2014: expected 12 fields, saw 13\\nSkipping line 2015: expected 12 fields, saw 13\\nSkipping line 2016: expected 12 fields, saw 13\\nSkipping line 2017: expected 12 fields, saw 13\\nSkipping line 2018: expected 12 fields, saw 13\\nSkipping line 2019: expected 12 fields, saw 13\\nSkipping line 2020: expected 12 fields, saw 13\\nSkipping line 2021: expected 12 fields, saw 13\\nSkipping line 2022: expected 12 fields, saw 13\\nSkipping line 2023: expected 12 fields, saw 13\\nSkipping line 2024: expected 12 fields, saw 13\\nSkipping line 2025: expected 12 fields, saw 13\\nSkipping line 2026: expected 12 fields, saw 13\\nSkipping line 2027: expected 12 fields, saw 13\\nSkipping line 2028: expected 12 fields, saw 13\\nSkipping line 2029: expected 12 fields, saw 13\\nSkipping line 2030: expected 12 fields, saw 13\\nSkipping line 2031: expected 12 fields, saw 13\\nSkipping line 2032: expected 12 fields, saw 13\\nSkipping line 2033: expected 12 fields, saw 13\\nSkipping line 2321: expected 12 fields, saw 14\\nSkipping line 2322: expected 12 fields, saw 14\\nSkipping line 2323: expected 12 fields, saw 14\\nSkipping line 2324: expected 12 fields, saw 14\\nSkipping line 2325: expected 12 fields, saw 14\\nSkipping line 2326: expected 12 fields, saw 14\\nSkipping line 2327: expected 12 fields, saw 14\\nSkipping line 2328: expected 12 fields, saw 14\\nSkipping line 2329: expected 12 fields, saw 14\\nSkipping line 2330: expected 12 fields, saw 14\\nSkipping line 2331: expected 12 fields, saw 14\\nSkipping line 2332: expected 12 fields, saw 14\\nSkipping line 2333: expected 12 fields, saw 14\\nSkipping line 2334: expected 12 fields, saw 14\\nSkipping line 2335: expected 12 fields, saw 14\\nSkipping line 2336: expected 12 fields, saw 14\\nSkipping line 2337: expected 12 fields, saw 14\\nSkipping line 2338: expected 12 fields, saw 14\\nSkipping line 2339: expected 12 fields, saw 14\\nSkipping line 2340: expected 12 fields, saw 14\\nSkipping line 2341: expected 12 fields, saw 14\\nSkipping line 2342: expected 12 fields, saw 13\\nSkipping line 2343: expected 12 fields, saw 13\\nSkipping line 2344: expected 12 fields, saw 13\\nSkipping line 2345: expected 12 fields, saw 13\\nSkipping line 2346: expected 12 fields, saw 13\\nSkipping line 2347: expected 12 fields, saw 13\\nSkipping line 2348: expected 12 fields, saw 13\\nSkipping line 2349: expected 12 fields, saw 13\\nSkipping line 2350: expected 12 fields, saw 13\\nSkipping line 2351: expected 12 fields, saw 13\\nSkipping line 2352: expected 12 fields, saw 13\\nSkipping line 2353: expected 12 fields, saw 13\\nSkipping line 2354: expected 12 fields, saw 13\\nSkipping line 2355: expected 12 fields, saw 13\\nSkipping line 2356: expected 12 fields, saw 13\\nSkipping line 2357: expected 12 fields, saw 13\\nSkipping line 2358: expected 12 fields, saw 13\\nSkipping line 2359: expected 12 fields, saw 13\\nSkipping line 2360: expected 12 fields, saw 13\\nSkipping line 2361: expected 12 fields, saw 13\\nSkipping line 2362: expected 12 fields, saw 13\\nSkipping line 2405: expected 12 fields, saw 13\\nSkipping line 2406: expected 12 fields, saw 13\\nSkipping line 2407: expected 12 fields, saw 13\\nSkipping line 2408: expected 12 fields, saw 13\\nSkipping line 2409: expected 12 fields, saw 13\\nSkipping line 2410: expected 12 fields, saw 13\\nSkipping line 2411: expected 12 fields, saw 13\\nSkipping line 2412: expected 12 fields, saw 13\\nSkipping line 2413: expected 12 fields, saw 13\\nSkipping line 2414: expected 12 fields, saw 13\\nSkipping line 2415: expected 12 fields, saw 13\\nSkipping line 2416: expected 12 fields, saw 13\\nSkipping line 2417: expected 12 fields, saw 13\\nSkipping line 2418: expected 12 fields, saw 13\\nSkipping line 2419: expected 12 fields, saw 13\\nSkipping line 2420: expected 12 fields, saw 13\\nSkipping line 2421: expected 12 fields, saw 13\\nSkipping line 2422: expected 12 fields, saw 13\\nSkipping line 2423: expected 12 fields, saw 13\\nSkipping line 2424: expected 12 fields, saw 13\\nSkipping line 2425: expected 12 fields, saw 13\\nSkipping line 2594: expected 12 fields, saw 13\\nSkipping line 2595: expected 12 fields, saw 13\\nSkipping line 2596: expected 12 fields, saw 13\\nSkipping line 2597: expected 12 fields, saw 13\\nSkipping line 2598: expected 12 fields, saw 13\\nSkipping line 2599: expected 12 fields, saw 13\\nSkipping line 2600: expected 12 fields, saw 13\\nSkipping line 2601: expected 12 fields, saw 13\\nSkipping line 2602: expected 12 fields, saw 13\\nSkipping line 2603: expected 12 fields, saw 13\\nSkipping line 2604: expected 12 fields, saw 13\\nSkipping line 2605: expected 12 fields, saw 13\\nSkipping line 2606: expected 12 fields, saw 13\\nSkipping line 2607: expected 12 fields, saw 13\\nSkipping line 2608: expected 12 fields, saw 13\\nSkipping line 2609: expected 12 fields, saw 13\\nSkipping line 2610: expected 12 fields, saw 13\\nSkipping line 2611: expected 12 fields, saw 13\\nSkipping line 2612: expected 12 fields, saw 13\\nSkipping line 2613: expected 12 fields, saw 13\\nSkipping line 2614: expected 12 fields, saw 13\\nSkipping line 2863: expected 12 fields, saw 13\\nSkipping line 2864: expected 12 fields, saw 13\\nSkipping line 2865: expected 12 fields, saw 13\\nSkipping line 2866: expected 12 fields, saw 13\\nSkipping line 2867: expected 12 fields, saw 13\\nSkipping line 2868: expected 12 fields, saw 13\\nSkipping line 2869: expected 12 fields, saw 13\\nSkipping line 2870: expected 12 fields, saw 13\\nSkipping line 2871: expected 12 fields, saw 13\\nSkipping line 2872: expected 12 fields, saw 13\\nSkipping line 2873: expected 12 fields, saw 13\\nSkipping line 2874: expected 12 fields, saw 13\\nSkipping line 2875: expected 12 fields, saw 13\\nSkipping line 2876: expected 12 fields, saw 13\\nSkipping line 2877: expected 12 fields, saw 13\\nSkipping line 2878: expected 12 fields, saw 13\\nSkipping line 2879: expected 12 fields, saw 13\\nSkipping line 2880: expected 12 fields, saw 13\\nSkipping line 2881: expected 12 fields, saw 13\\nSkipping line 2882: expected 12 fields, saw 13\\nSkipping line 2883: expected 12 fields, saw 13\\nSkipping line 2905: expected 12 fields, saw 13\\nSkipping line 2906: expected 12 fields, saw 13\\nSkipping line 2907: expected 12 fields, saw 13\\nSkipping line 2908: expected 12 fields, saw 13\\nSkipping line 2909: expected 12 fields, saw 13\\nSkipping line 2910: expected 12 fields, saw 13\\nSkipping line 2911: expected 12 fields, saw 13\\nSkipping line 2912: expected 12 fields, saw 13\\nSkipping line 2913: expected 12 fields, saw 13\\nSkipping line 2914: expected 12 fields, saw 13\\nSkipping line 2915: expected 12 fields, saw 13\\nSkipping line 2916: expected 12 fields, saw 13\\nSkipping line 2917: expected 12 fields, saw 13\\nSkipping line 2918: expected 12 fields, saw 13\\nSkipping line 2919: expected 12 fields, saw 13\\nSkipping line 2920: expected 12 fields, saw 13\\nSkipping line 2921: expected 12 fields, saw 13\\nSkipping line 2922: expected 12 fields, saw 13\\nSkipping line 2923: expected 12 fields, saw 13\\nSkipping line 2924: expected 12 fields, saw 13\\nSkipping line 2925: expected 12 fields, saw 13\\nSkipping line 3100: expected 12 fields, saw 13\\nSkipping line 3101: expected 12 fields, saw 13\\nSkipping line 3102: expected 12 fields, saw 13\\nSkipping line 3103: expected 12 fields, saw 13\\nSkipping line 3104: expected 12 fields, saw 13\\nSkipping line 3105: expected 12 fields, saw 13\\nSkipping line 3106: expected 12 fields, saw 13\\nSkipping line 3107: expected 12 fields, saw 13\\nSkipping line 3108: expected 12 fields, saw 13\\nSkipping line 3109: expected 12 fields, saw 13\\nSkipping line 3110: expected 12 fields, saw 13\\nSkipping line 3111: expected 12 fields, saw 13\\nSkipping line 3112: expected 12 fields, saw 13\\nSkipping line 3113: expected 12 fields, saw 13\\nSkipping line 3114: expected 12 fields, saw 13\\nSkipping line 3115: expected 12 fields, saw 13\\nSkipping line 3116: expected 12 fields, saw 13\\nSkipping line 3117: expected 12 fields, saw 13\\nSkipping line 3118: expected 12 fields, saw 13\\nSkipping line 3119: expected 12 fields, saw 13\\nSkipping line 3120: expected 12 fields, saw 13\\nSkipping line 3142: expected 12 fields, saw 13\\nSkipping line 3143: expected 12 fields, saw 13\\nSkipping line 3144: expected 12 fields, saw 13\\nSkipping line 3145: expected 12 fields, saw 13\\nSkipping line 3146: expected 12 fields, saw 13\\nSkipping line 3147: expected 12 fields, saw 13\\nSkipping line 3148: expected 12 fields, saw 13\\nSkipping line 3149: expected 12 fields, saw 13\\nSkipping line 3150: expected 12 fields, saw 13\\nSkipping line 3151: expected 12 fields, saw 13\\nSkipping line 3152: expected 12 fields, saw 13\\nSkipping line 3153: expected 12 fields, saw 13\\nSkipping line 3154: expected 12 fields, saw 13\\nSkipping line 3155: expected 12 fields, saw 13\\nSkipping line 3156: expected 12 fields, saw 13\\nSkipping line 3157: expected 12 fields, saw 13\\nSkipping line 3158: expected 12 fields, saw 13\\nSkipping line 3159: expected 12 fields, saw 13\\nSkipping line 3160: expected 12 fields, saw 13\\nSkipping line 3161: expected 12 fields, saw 13\\nSkipping line 3162: expected 12 fields, saw 13\\nSkipping line 3245: expected 12 fields, saw 13\\nSkipping line 3246: expected 12 fields, saw 13\\nSkipping line 3247: expected 12 fields, saw 13\\nSkipping line 3248: expected 12 fields, saw 13\\nSkipping line 3249: expected 12 fields, saw 13\\nSkipping line 3250: expected 12 fields, saw 13\\nSkipping line 3251: expected 12 fields, saw 13\\nSkipping line 3252: expected 12 fields, saw 13\\nSkipping line 3253: expected 12 fields, saw 13\\nSkipping line 3254: expected 12 fields, saw 13\\nSkipping line 3255: expected 12 fields, saw 13\\nSkipping line 3256: expected 12 fields, saw 13\\nSkipping line 3257: expected 12 fields, saw 13\\nSkipping line 3258: expected 12 fields, saw 13\\nSkipping line 3259: expected 12 fields, saw 13\\nSkipping line 3260: expected 12 fields, saw 13\\nSkipping line 3261: expected 12 fields, saw 13\\nSkipping line 3262: expected 12 fields, saw 13\\nSkipping line 3263: expected 12 fields, saw 13\\nSkipping line 3264: expected 12 fields, saw 13\\nSkipping line 3265: expected 12 fields, saw 13\\n'\n"
     ]
    },
    {
     "data": {
      "text/html": [
       "<div>\n",
       "<style scoped>\n",
       "    .dataframe tbody tr th:only-of-type {\n",
       "        vertical-align: middle;\n",
       "    }\n",
       "\n",
       "    .dataframe tbody tr th {\n",
       "        vertical-align: top;\n",
       "    }\n",
       "\n",
       "    .dataframe thead th {\n",
       "        text-align: right;\n",
       "    }\n",
       "</style>\n",
       "<table border=\"1\" class=\"dataframe\">\n",
       "  <thead>\n",
       "    <tr style=\"text-align: right;\">\n",
       "      <th></th>\n",
       "      <th>직무명</th>\n",
       "      <th>회사명</th>\n",
       "      <th>채용공고명</th>\n",
       "      <th>기술스택</th>\n",
       "      <th>주요업무</th>\n",
       "      <th>자격요건</th>\n",
       "      <th>우대사항</th>\n",
       "      <th>복지 및 혜택</th>\n",
       "      <th>경력</th>\n",
       "      <th>학력</th>\n",
       "      <th>마감일</th>\n",
       "      <th>근무지역</th>\n",
       "    </tr>\n",
       "  </thead>\n",
       "  <tbody>\n",
       "    <tr>\n",
       "      <th>0</th>\n",
       "      <td>서버/백엔드 개발자</td>\n",
       "      <td>로보코리아</td>\n",
       "      <td>백엔드 엔지니어</td>\n",
       "      <td>TypeScript\\nNestJS\\nMongoDB\\nNoSql\\nMSA\\nDatad...</td>\n",
       "      <td>• LOVO의 다양한 음성합성 기술 기반 서비스를 위한 확장성 있고 안정적인 백엔드...</td>\n",
       "      <td>• 새로운 기술 및 트렌드에 대해 끊임없이 관심을 갖고 이를 활용 하시는 분\\n• ...</td>\n",
       "      <td>• 글로벌 서비스를 위한 인프라 아키텍처 설계, 개발 경험이 있으신 분\\n• 애자일...</td>\n",
       "      <td>1. 자율과 효율의 근무 환경을 제공합니다.\\n• 오전 09:00 - 10:30 유...</td>\n",
       "      <td>경력 3~10년</td>\n",
       "      <td>무관</td>\n",
       "      <td>상시</td>\n",
       "      <td>서울 강남구 테헤란로25길 7, 6층</td>\n",
       "    </tr>\n",
       "    <tr>\n",
       "      <th>1</th>\n",
       "      <td>서버/백엔드 개발자</td>\n",
       "      <td>마이카페이지</td>\n",
       "      <td>django 백엔드 개발자</td>\n",
       "      <td>Django\\nReact\\nReact Native\\nAmazon EC2\\nJavaS...</td>\n",
       "      <td>• KB진단중고차 진단 및 영상제작 대행 [ 개발 ]\\n• KB차차차 플랫폼 영상촬...</td>\n",
       "      <td>• React 개발 경험 있으신 분\\n• Django 프로젝트 경험 있으신 분\\n•...</td>\n",
       "      <td>• 개인적으로 서비스 운영 해본 경험이 있거나 하고 있으신 분\\n• 영상 스트리밍 ...</td>\n",
       "      <td>• 야근 발생 시 특근수당 지급\\n• 명절 생일 상여금 및 선물\\n• 탄력 근무제 ...</td>\n",
       "      <td>경력 1~3년</td>\n",
       "      <td>무관</td>\n",
       "      <td>상시</td>\n",
       "      <td>서울특별시 서초구 157314웅진타워</td>\n",
       "    </tr>\n",
       "    <tr>\n",
       "      <th>2</th>\n",
       "      <td>서버/백엔드 개발자</td>\n",
       "      <td>데이터비</td>\n",
       "      <td>백엔드 엔지니어 (NodeJS)</td>\n",
       "      <td>Node.js\\nAWS\\nPython\\nAdonisJS</td>\n",
       "      <td>영어 문법 검사기 ‘엔그램’ 서비스 백엔드 개발\\n\\n• 웹서비스에 대한 이해\\n•...</td>\n",
       "      <td>• 결제 기능 개발 경험\\n• AdonisJS 프레임워크를 활용한 개발 경험\\n• ...</td>\n",
       "      <td>• 데이터와 소프트웨어 기술이 사람간의 의사소통을 더 원활하게 도울 수 있다고 믿는...</td>\n",
       "      <td>[보상 및 근무 조건]\\n• 머신러닝, 딥러닝 인프라(GPU 등)에 대한 아낌없는 ...</td>\n",
       "      <td>신입~10년</td>\n",
       "      <td>대학교졸업(4년) 이상</td>\n",
       "      <td>상시</td>\n",
       "      <td>서울 마포구 백범로31길 21 서울창업허브 별관 404호</td>\n",
       "    </tr>\n",
       "    <tr>\n",
       "      <th>3</th>\n",
       "      <td>서버/백엔드 개발자</td>\n",
       "      <td>넛지헬스케어</td>\n",
       "      <td>[캐시워크] 백엔드/서버 개발자</td>\n",
       "      <td>Node.js\\nNoSql\\nCachet\\nAWS\\nREST API\\nGit\\nTy...</td>\n",
       "      <td>• 앱 다운로드 1000만 이상 / 동시 접속자 100만의 대규모 서비스의 서버 운...</td>\n",
       "      <td>• 백엔드 개발 경력 3년 이상이신 분\\n• Node.js로 상용 서비스 배포해 본...</td>\n",
       "      <td>• 모바일 B2C 서비스 개발 경력이 있는 분\\n• Typescript 사용 경험이...</td>\n",
       "      <td>• 프리미엄 프라이데이 운영 (매월 마지막 주 금요일 오전 근무만)\\n• 죠샌드위치...</td>\n",
       "      <td>경력 3~10년</td>\n",
       "      <td>고등학교졸업 이상</td>\n",
       "      <td>상시</td>\n",
       "      <td>서울 강남구 역삼로1길 8</td>\n",
       "    </tr>\n",
       "    <tr>\n",
       "      <th>4</th>\n",
       "      <td>서버/백엔드 개발자</td>\n",
       "      <td>데이터비</td>\n",
       "      <td>백엔드 엔지니어 (Python)</td>\n",
       "      <td>Python\\nREST API\\nAmazon RDS for PostgreSQL\\nR...</td>\n",
       "      <td>• 영어 문법 검사기 ‘엔그램’ 서비스 백엔드 개발</td>\n",
       "      <td>• 비동기처리에 대한 이해\\n• 네트워크 및 웹서비스에 대한 이해\\n• 텍스트 데이...</td>\n",
       "      <td>• 데이터와 소프트웨어 기술이 사람간의 의사소통을 더 원활하게 도울 수 있다고 믿는...</td>\n",
       "      <td>[보상 및 근무 조건]\\n• 머신러닝, 딥러닝 인프라(GPU 등)에 대한 아낌없는 ...</td>\n",
       "      <td>신입~10년</td>\n",
       "      <td>대학교졸업(4년) 이상</td>\n",
       "      <td>상시</td>\n",
       "      <td>서울 마포구 백범로31길 21 서울창업허브 별관 404호</td>\n",
       "    </tr>\n",
       "  </tbody>\n",
       "</table>\n",
       "</div>"
      ],
      "text/plain": [
       "          직무명     회사명              채용공고명  \\\n",
       "0  서버/백엔드 개발자   로보코리아           백엔드 엔지니어   \n",
       "1  서버/백엔드 개발자  마이카페이지     django 백엔드 개발자   \n",
       "2  서버/백엔드 개발자    데이터비  백엔드 엔지니어 (NodeJS)   \n",
       "3  서버/백엔드 개발자  넛지헬스케어  [캐시워크] 백엔드/서버 개발자   \n",
       "4  서버/백엔드 개발자    데이터비  백엔드 엔지니어 (Python)   \n",
       "\n",
       "                                                기술스택  \\\n",
       "0  TypeScript\\nNestJS\\nMongoDB\\nNoSql\\nMSA\\nDatad...   \n",
       "1  Django\\nReact\\nReact Native\\nAmazon EC2\\nJavaS...   \n",
       "2                     Node.js\\nAWS\\nPython\\nAdonisJS   \n",
       "3  Node.js\\nNoSql\\nCachet\\nAWS\\nREST API\\nGit\\nTy...   \n",
       "4  Python\\nREST API\\nAmazon RDS for PostgreSQL\\nR...   \n",
       "\n",
       "                                                주요업무  \\\n",
       "0  • LOVO의 다양한 음성합성 기술 기반 서비스를 위한 확장성 있고 안정적인 백엔드...   \n",
       "1  • KB진단중고차 진단 및 영상제작 대행 [ 개발 ]\\n• KB차차차 플랫폼 영상촬...   \n",
       "2  영어 문법 검사기 ‘엔그램’ 서비스 백엔드 개발\\n\\n• 웹서비스에 대한 이해\\n•...   \n",
       "3  • 앱 다운로드 1000만 이상 / 동시 접속자 100만의 대규모 서비스의 서버 운...   \n",
       "4                       • 영어 문법 검사기 ‘엔그램’ 서비스 백엔드 개발   \n",
       "\n",
       "                                                자격요건  \\\n",
       "0  • 새로운 기술 및 트렌드에 대해 끊임없이 관심을 갖고 이를 활용 하시는 분\\n• ...   \n",
       "1  • React 개발 경험 있으신 분\\n• Django 프로젝트 경험 있으신 분\\n•...   \n",
       "2  • 결제 기능 개발 경험\\n• AdonisJS 프레임워크를 활용한 개발 경험\\n• ...   \n",
       "3  • 백엔드 개발 경력 3년 이상이신 분\\n• Node.js로 상용 서비스 배포해 본...   \n",
       "4  • 비동기처리에 대한 이해\\n• 네트워크 및 웹서비스에 대한 이해\\n• 텍스트 데이...   \n",
       "\n",
       "                                                우대사항  \\\n",
       "0  • 글로벌 서비스를 위한 인프라 아키텍처 설계, 개발 경험이 있으신 분\\n• 애자일...   \n",
       "1  • 개인적으로 서비스 운영 해본 경험이 있거나 하고 있으신 분\\n• 영상 스트리밍 ...   \n",
       "2  • 데이터와 소프트웨어 기술이 사람간의 의사소통을 더 원활하게 도울 수 있다고 믿는...   \n",
       "3  • 모바일 B2C 서비스 개발 경력이 있는 분\\n• Typescript 사용 경험이...   \n",
       "4  • 데이터와 소프트웨어 기술이 사람간의 의사소통을 더 원활하게 도울 수 있다고 믿는...   \n",
       "\n",
       "                                             복지 및 혜택        경력            학력  \\\n",
       "0  1. 자율과 효율의 근무 환경을 제공합니다.\\n• 오전 09:00 - 10:30 유...  경력 3~10년            무관   \n",
       "1  • 야근 발생 시 특근수당 지급\\n• 명절 생일 상여금 및 선물\\n• 탄력 근무제 ...   경력 1~3년            무관   \n",
       "2  [보상 및 근무 조건]\\n• 머신러닝, 딥러닝 인프라(GPU 등)에 대한 아낌없는 ...    신입~10년  대학교졸업(4년) 이상   \n",
       "3  • 프리미엄 프라이데이 운영 (매월 마지막 주 금요일 오전 근무만)\\n• 죠샌드위치...  경력 3~10년     고등학교졸업 이상   \n",
       "4  [보상 및 근무 조건]\\n• 머신러닝, 딥러닝 인프라(GPU 등)에 대한 아낌없는 ...    신입~10년  대학교졸업(4년) 이상   \n",
       "\n",
       "  마감일                             근무지역  \n",
       "0  상시             서울 강남구 테헤란로25길 7, 6층  \n",
       "1  상시             서울특별시 서초구 157314웅진타워  \n",
       "2  상시  서울 마포구 백범로31길 21 서울창업허브 별관 404호  \n",
       "3  상시                   서울 강남구 역삼로1길 8  \n",
       "4  상시  서울 마포구 백범로31길 21 서울창업허브 별관 404호  "
      ]
     },
     "execution_count": 4,
     "metadata": {},
     "output_type": "execute_result"
    }
   ],
   "source": [
    "import pandas as pd\n",
    "import seaborn as sns\n",
    "import matplotlib.pyplot as plt\n",
    "from matplotlib import rc\n",
    "\n",
    "df = pd.read_csv('크롤링_점핏_ver02.csv', error_bad_lines=False)\n",
    "df.head()"
   ]
  },
  {
   "cell_type": "code",
   "execution_count": 5,
   "metadata": {},
   "outputs": [
    {
     "data": {
      "text/plain": [
       "직무명         0\n",
       "회사명         0\n",
       "채용공고명       0\n",
       "기술스택        0\n",
       "주요업무        0\n",
       "자격요건        0\n",
       "우대사항        0\n",
       "복지 및 혜택     0\n",
       "경력          0\n",
       "학력         14\n",
       "마감일         0\n",
       "근무지역        0\n",
       "dtype: int64"
      ]
     },
     "execution_count": 5,
     "metadata": {},
     "output_type": "execute_result"
    }
   ],
   "source": [
    "df.isnull().sum()"
   ]
  },
  {
   "cell_type": "code",
   "execution_count": 6,
   "metadata": {},
   "outputs": [
    {
     "data": {
      "text/plain": [
       "2838"
      ]
     },
     "execution_count": 6,
     "metadata": {},
     "output_type": "execute_result"
    }
   ],
   "source": [
    "len(df)"
   ]
  },
  {
   "cell_type": "code",
   "execution_count": 7,
   "metadata": {},
   "outputs": [
    {
     "data": {
      "text/plain": [
       "서버/백엔드 개발자         570\n",
       "SW/솔루션             436\n",
       "프론트엔드 개발자          264\n",
       "웹 풀스택 개발자          216\n",
       "devops/시스템 엔지니어    174\n",
       "직무명                152\n",
       "개발 PM              118\n",
       "QA 엔지니어             98\n",
       "안드로이드 개발자           98\n",
       "크로스플랫폼 앱개발자         80\n",
       "게임 클라이언트 개발자        74\n",
       "기술지원                70\n",
       "정보보안 담당자            64\n",
       "블록체인                64\n",
       "빅데이터 엔지니어           62\n",
       "인공지능/머신러닝           60\n",
       "DBA                 56\n",
       "IOS 개발자             56\n",
       "게임 서버 개발자           34\n",
       "VR/AR/3D            34\n",
       "HW/임베디드             32\n",
       "웹퍼블리셔               26\n",
       "Name: 직무명, dtype: int64"
      ]
     },
     "execution_count": 7,
     "metadata": {},
     "output_type": "execute_result"
    }
   ],
   "source": [
    "df['직무명'].value_counts()"
   ]
  },
  {
   "cell_type": "code",
   "execution_count": 9,
   "metadata": {},
   "outputs": [
    {
     "data": {
      "image/png": "[encoded data removed]",
      "text/plain": [
       "<Figure size 1080x720 with 1 Axes>"
      ]
     },
     "metadata": {
      "needs_background": "light"
     },
     "output_type": "display_data"
    }
   ],
   "source": [
    "\t\t\t\n",
    "plt.rcParams['axes.unicode_minus'] = False \n",
    "plt.figure(figsize=(15,10))\n",
    "job_count = df['직무명'].value_counts().sort_values(ascending=False)\n",
    "sns.barplot(x=job_count.values, y=job_count.index)\n",
    "# 막대 오른쪽 끝에 값을 표시하는 로직 추가\n",
    "for i, v in enumerate(job_count.values):\n",
    "    plt.text(v + 3, i, str(v), color='black', va='center')"
   ]
  },
  {
   "cell_type": "code",
   "execution_count": null,
   "metadata": {},
   "outputs": [],
   "source": []
  }
 ],
 "metadata": {
  "kernelspec": {
   "display_name": "base",
   "language": "python",
   "name": "python3"
  },
  "language_info": {
   "codemirror_mode": {
    "name": "ipython",
    "version": 3
   },
   "file_extension": ".py",
   "mimetype": "text/x-python",
   "name": "python",
   "nbconvert_exporter": "python",
   "pygments_lexer": "ipython3",
   "version": "3.8.3"
  },
  "orig_nbformat": 4,
  "vscode": {
   "interpreter": {
    "hash": "ad2bdc8ecc057115af97d19610ffacc2b4e99fae6737bb82f5d7fb13d2f2c186"
   }
  }
 },
 "nbformat": 4,
 "nbformat_minor": 2
}
