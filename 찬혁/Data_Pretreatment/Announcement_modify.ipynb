{
 "cells": [
  {
   "attachments": {},
   "cell_type": "markdown",
   "metadata": {},
   "source": [
    "## Data Crawling\n",
    "- 사이트별로 직무내용이 너무 상이함, 구분을 지어주기가 쉽지 않음  \n",
    "-> 학습에 의해 판단되므로 직무내용을 굳이 안넣어도 될 것 같음  \n",
    "-> ```회사소개, 주요업무 column 추가``` 아래의 내용과 같이 모든 column 통일  \n",
    "```회사명, 지원기간, 공고명, 직무내용, 자격요건, 우대조건, 경력조건, 기술 스택, 출처 URL, 복지, 회사소개, 주요업무```"
   ]
  },
  {
   "cell_type": "code",
   "execution_count": 2,
   "metadata": {},
   "outputs": [],
   "source": [
    "import pandas as pd\n",
    "import numpy as np\n",
    "import re"
   ]
  },
  {
   "attachments": {},
   "cell_type": "markdown",
   "metadata": {},
   "source": [
    "### 원티드 데이터 전처리\n",
    "- column확인 후 필요없는 column제거 후 정해진 frame의 column name으로 변경\n",
    "- 정해진 frame의 column_name으로 변경\n",
    "- ```회사명, 지원기간, 공고명, 직무내용, 자격요건, 우대조건, 경력조건, 기술 스택, 출처 URL, 복지, 회사소개, 주요업무```"
   ]
  },
  {
   "cell_type": "code",
   "execution_count": 3,
   "metadata": {},
   "outputs": [
    {
     "data": {
      "text/html": [
       "<div>\n",
       "<style scoped>\n",
       "    .dataframe tbody tr th:only-of-type {\n",
       "        vertical-align: middle;\n",
       "    }\n",
       "\n",
       "    .dataframe tbody tr th {\n",
       "        vertical-align: top;\n",
       "    }\n",
       "\n",
       "    .dataframe thead th {\n",
       "        text-align: right;\n",
       "    }\n",
       "</style>\n",
       "<table border=\"1\" class=\"dataframe\">\n",
       "  <thead>\n",
       "    <tr style=\"text-align: right;\">\n",
       "      <th></th>\n",
       "      <th>직무명</th>\n",
       "      <th>채용공고명</th>\n",
       "      <th>해시태그</th>\n",
       "      <th>회사소개</th>\n",
       "      <th>주요업무</th>\n",
       "      <th>자격요건</th>\n",
       "      <th>우대사항</th>\n",
       "      <th>혜택 및 복지</th>\n",
       "      <th>기술스택 ・ 툴</th>\n",
       "      <th>근무지역</th>\n",
       "      <th>회사명</th>\n",
       "      <th>회사분야</th>\n",
       "      <th>출처</th>\n",
       "    </tr>\n",
       "  </thead>\n",
       "  <tbody>\n",
       "    <tr>\n",
       "      <th>0</th>\n",
       "      <td>웹 개발자</td>\n",
       "      <td>Python Developer (백엔드 주니어)</td>\n",
       "      <td>#퇴사율5%이하#51~300명#설립4~9년#육아휴직#출산휴가#스톡옵션#건강검진#교육...</td>\n",
       "      <td>- 간단소개\\r\\n혜움랩스는 세무,재무,경리 등 AI기반 비서형 금융 서비스를 Fa...</td>\n",
       "      <td>• 세무 알고리즘 자동화 설계 및 개발\\r\\n• 세무팀과 커뮤니케이션\\r\\n• AW...</td>\n",
       "      <td>• 최소 2년 이상 혹은 그에 준하는 해당 업무 경험\\r\\n• Python(필수),...</td>\n",
       "      <td>• MSA 기반의 시스템 개발 경험이 있으신 분\\r\\n• AWS 를 활용한 개발, ...</td>\n",
       "      <td># 몰입을 위한\\r\\n• 액면가 스톡옵션의 기회가 열려있습니다. (2023년 7월 ...</td>\n",
       "      <td>Github\\r\\nJavaScript\\r\\nTypeScript\\r\\nReact.js...</td>\n",
       "      <td>서울.한국</td>\n",
       "      <td>혜움랩스</td>\n",
       "      <td>IT, 컨텐츠</td>\n",
       "      <td>https://www.wanted.co.kr/wd/167436</td>\n",
       "    </tr>\n",
       "  </tbody>\n",
       "</table>\n",
       "</div>"
      ],
      "text/plain": [
       "     직무명                       채용공고명  \\\n",
       "0  웹 개발자  Python Developer (백엔드 주니어)   \n",
       "\n",
       "                                                해시태그  \\\n",
       "0  #퇴사율5%이하#51~300명#설립4~9년#육아휴직#출산휴가#스톡옵션#건강검진#교육...   \n",
       "\n",
       "                                                회사소개  \\\n",
       "0  - 간단소개\\r\\n혜움랩스는 세무,재무,경리 등 AI기반 비서형 금융 서비스를 Fa...   \n",
       "\n",
       "                                                주요업무  \\\n",
       "0  • 세무 알고리즘 자동화 설계 및 개발\\r\\n• 세무팀과 커뮤니케이션\\r\\n• AW...   \n",
       "\n",
       "                                                자격요건  \\\n",
       "0  • 최소 2년 이상 혹은 그에 준하는 해당 업무 경험\\r\\n• Python(필수),...   \n",
       "\n",
       "                                                우대사항  \\\n",
       "0  • MSA 기반의 시스템 개발 경험이 있으신 분\\r\\n• AWS 를 활용한 개발, ...   \n",
       "\n",
       "                                             혜택 및 복지  \\\n",
       "0  # 몰입을 위한\\r\\n• 액면가 스톡옵션의 기회가 열려있습니다. (2023년 7월 ...   \n",
       "\n",
       "                                            기술스택 ・ 툴   근무지역   회사명     회사분야  \\\n",
       "0  Github\\r\\nJavaScript\\r\\nTypeScript\\r\\nReact.js...  서울.한국  혜움랩스  IT, 컨텐츠   \n",
       "\n",
       "                                   출처  \n",
       "0  https://www.wanted.co.kr/wd/167436  "
      ]
     },
     "execution_count": 3,
     "metadata": {},
     "output_type": "execute_result"
    }
   ],
   "source": [
    "wanted = pd.read_csv('../Crawling/sample_data/wanted.csv')\n",
    "wanted.head(1)"
   ]
  },
  {
   "attachments": {},
   "cell_type": "markdown",
   "metadata": {},
   "source": [
    "- **결측치 확인 부분**  \n",
    "상황에 따라 다르게 작성"
   ]
  },
  {
   "cell_type": "code",
   "execution_count": 4,
   "metadata": {},
   "outputs": [
    {
     "data": {
      "text/plain": [
       "직무명         7874\n",
       "채용공고명       7858\n",
       "해시태그        7874\n",
       "회사소개        7874\n",
       "주요업무        7874\n",
       "자격요건        7874\n",
       "우대사항        7874\n",
       "혜택 및 복지     7874\n",
       "기술스택 ・ 툴    5695\n",
       "근무지역        7874\n",
       "회사명         7874\n",
       "회사분야        7874\n",
       "출처          7874\n",
       "dtype: int64"
      ]
     },
     "execution_count": 4,
     "metadata": {},
     "output_type": "execute_result"
    }
   ],
   "source": [
    "#우대사항, 자격요건, 혜택 및 복지 부분 nan값 row 제거\n",
    "\n",
    "wanted.dropna(subset=['우대사항', '자격요건','혜택 및 복지'], inplace=True)\n",
    "wanted.count()"
   ]
  },
  {
   "cell_type": "code",
   "execution_count": 7,
   "metadata": {},
   "outputs": [
    {
     "data": {
      "text/plain": [
       "직무명         7873\n",
       "채용공고명       7873\n",
       "해시태그        7873\n",
       "회사소개        7873\n",
       "주요업무        7873\n",
       "자격요건        7873\n",
       "우대사항        7873\n",
       "혜택 및 복지     7873\n",
       "기술스택 ・ 툴    5695\n",
       "근무지역        7873\n",
       "회사명         7873\n",
       "회사분야        7873\n",
       "출처          7873\n",
       "dtype: int64"
      ]
     },
     "execution_count": 7,
     "metadata": {},
     "output_type": "execute_result"
    }
   ],
   "source": [
    "#채용공고명만 비어있는 부분 채워줌, 크롤링 진행시 누락된 것으로 확인\n",
    "\n",
    "null_data = wanted[wanted['채용공고명'].isnull() == True]['출처'].tolist()\n",
    "add_data = ['[제주] 백엔드 개발자 (5년 이하)',\n",
    "            '백엔드 개발자',\n",
    "            '[광고 제품팀] 풀 스택 엔지니어 리드',\n",
    "            'Sr. Back-end Engineer',\n",
    "            'iOS 코어 개발자 (5년 이상)',\n",
    "            '모바일 SW 개발자(C,C++)',\n",
    "            '디바이스 부문 개발자',\n",
    "            'Unity 개발자',\n",
    "            '기술연구소 백엔드 서버 개발자',\n",
    "            '백엔드 개발자 (BackEnd Engineer)',\n",
    "            'Senior Software Engineer, Android',\n",
    "            '백엔드 개발자(Node.js, 시니어)',\n",
    "            '백엔드 개발자 (Node.js, 주니어)',\n",
    "            0,\n",
    "            'AI SW 개발자',\n",
    "            'Data Engineer(2년 이상)']\n",
    "\n",
    "for n_data, a_data in zip(null_data,add_data):\n",
    "    if a_data == 0:\n",
    "        wanted.drop(wanted[wanted['출처'] == n_data].index, inplace=True)\n",
    "        continue\n",
    "    wanted.loc[wanted['출처'] == n_data, '채용공고명'] = a_data\n",
    "\n",
    "#drop으로 인한 index 누락 reindexing\n",
    "wanted.reset_index(drop=True, inplace=True)\n",
    "wanted.count()"
   ]
  },
  {
   "cell_type": "code",
   "execution_count": 8,
   "metadata": {},
   "outputs": [
    {
     "data": {
      "text/plain": [
       "Index(['직무내용', '공고명', '해시태그', '회사소개', '주요업무', '자격요건', '우대조건', '복지', '기술 스택',\n",
       "       '근무지역', '회사명', '회사분야', '출처 URL'],\n",
       "      dtype='object')"
      ]
     },
     "execution_count": 8,
     "metadata": {},
     "output_type": "execute_result"
    }
   ],
   "source": [
    "wanted.rename(columns={'직무명':'직무내용',\n",
    "                       '채용공고명':'공고명',\n",
    "                       '기술스택 ・ 툴':'기술 스택',\n",
    "                       '혜택 및 복지':'복지',\n",
    "                       '출처':'출처 URL',\n",
    "                       '우대사항':'우대조건',\n",
    "                       }, inplace=True)\n",
    "\n",
    "wanted.columns"
   ]
  },
  {
   "attachments": {},
   "cell_type": "markdown",
   "metadata": {},
   "source": [
    "- 지원기간은 이야기 해봐야 할 듯, 경력조건은 자격요건의 내용에서 추출\n",
    "\n",
    "### wanted 패턴\n",
    "- 경력 n년 이상\n",
    "- 경력 n년이상\n",
    "- n~k년\n",
    "- n년~k년"
   ]
  },
  {
   "cell_type": "code",
   "execution_count": 43,
   "metadata": {},
   "outputs": [],
   "source": [
    "def extract_years(string, patterns):\n",
    "    for pattern in patterns:\n",
    "        match = re.search(pattern, string)\n",
    "        if match:\n",
    "            if '~' in pattern:\n",
    "                start_year = match.group(1)\n",
    "                return int(start_year)\n",
    "            else:\n",
    "                return int(match.group(1))\n",
    "    \n",
    "    return 0\n"
   ]
  },
  {
   "cell_type": "code",
   "execution_count": 10,
   "metadata": {},
   "outputs": [],
   "source": [
    "max_count = wanted['자격요건'].count()\n",
    "wanted['경력조건'] = None\n",
    "patterns = [r'(\\d+)년 이상', r'(\\d+)년이상', r'(\\d+)~(\\d+)년', r'(\\d+)년~(\\d+)년']\n",
    "\n",
    "for i in range(0, max_count):\n",
    "    wanted.loc[i, '경력조건'] = extract_years(wanted['자격요건'][i], patterns)\n"
   ]
  },
  {
   "cell_type": "code",
   "execution_count": 11,
   "metadata": {},
   "outputs": [
    {
     "data": {
      "text/plain": [
       "array([2, 0, 3, 1, 7, 6, 4, 5, 8, 10, 15, 9, 12], dtype=object)"
      ]
     },
     "execution_count": 11,
     "metadata": {},
     "output_type": "execute_result"
    }
   ],
   "source": [
    "wanted['경력조건'].unique()"
   ]
  },
  {
   "attachments": {},
   "cell_type": "markdown",
   "metadata": {},
   "source": [
    "- ```회사명, 지원기간, 공고명, 직무내용, 자격요건, 우대조건, 경력조건, 기술 스택, 출처 URL, 복지, 회사소개, 주요업무```"
   ]
  },
  {
   "cell_type": "code",
   "execution_count": 14,
   "metadata": {},
   "outputs": [
    {
     "data": {
      "text/plain": [
       "회사명       7873\n",
       "지원기간         0\n",
       "공고명       7873\n",
       "직무내용      7873\n",
       "자격요건      7873\n",
       "우대조건      7873\n",
       "경력조건      7873\n",
       "기술 스택     5695\n",
       "출처 URL    7873\n",
       "복지        7873\n",
       "회사소개      7873\n",
       "주요업무      7873\n",
       "dtype: int64"
      ]
     },
     "execution_count": 14,
     "metadata": {},
     "output_type": "execute_result"
    }
   ],
   "source": [
    "new_order = ['회사명', '지원기간', '공고명', '직무내용', '자격요건', '우대조건', '경력조건', '기술 스택', '출처 URL', '복지', '회사소개', '주요업무']\n",
    "wanted = wanted.reindex(columns=new_order)\n",
    "wanted.count()"
   ]
  },
  {
   "cell_type": "code",
   "execution_count": 15,
   "metadata": {},
   "outputs": [],
   "source": [
    "#csv 파일로 저장\n",
    "\n",
    "wanted.to_csv('./Data_result/pre_wanted.csv',index=False)"
   ]
  },
  {
   "attachments": {},
   "cell_type": "markdown",
   "metadata": {},
   "source": [
    "### 잡플래닛 데이터 전처리\n",
    "- column확인 후 필요없는 column제거 후 정해진 frame의 column name으로 변경\n",
    "- 정해진 frame의 column_name으로 변경\n",
    "- ```회사명, 지원기간, 공고명, 직무내용, 자격요건, 우대조건, 경력조건, 기술 스택, 출처 URL, 복지, 회사소개, 주요업무```"
   ]
  },
  {
   "cell_type": "code",
   "execution_count": 49,
   "metadata": {},
   "outputs": [
    {
     "data": {
      "text/html": [
       "<div>\n",
       "<style scoped>\n",
       "    .dataframe tbody tr th:only-of-type {\n",
       "        vertical-align: middle;\n",
       "    }\n",
       "\n",
       "    .dataframe tbody tr th {\n",
       "        vertical-align: top;\n",
       "    }\n",
       "\n",
       "    .dataframe thead th {\n",
       "        text-align: right;\n",
       "    }\n",
       "</style>\n",
       "<table border=\"1\" class=\"dataframe\">\n",
       "  <thead>\n",
       "    <tr style=\"text-align: right;\">\n",
       "      <th></th>\n",
       "      <th>href</th>\n",
       "      <th>title</th>\n",
       "      <th>company_name</th>\n",
       "      <th>job_location</th>\n",
       "      <th>job_classification</th>\n",
       "      <th>due_date</th>\n",
       "      <th>work_experience</th>\n",
       "      <th>skills</th>\n",
       "      <th>company_intro</th>\n",
       "      <th>main_task</th>\n",
       "      <th>qualification</th>\n",
       "      <th>preference</th>\n",
       "      <th>procedure</th>\n",
       "      <th>benefits</th>\n",
       "      <th>job_location_detail</th>\n",
       "      <th>detail_description</th>\n",
       "    </tr>\n",
       "  </thead>\n",
       "  <tbody>\n",
       "    <tr>\n",
       "      <th>0</th>\n",
       "      <td>https://www.jobplanet.co.kr/job/search?posting...</td>\n",
       "      <td>DB 관리 (카드IS 3팀)</td>\n",
       "      <td>롯데정보통신(주)</td>\n",
       "      <td>서울</td>\n",
       "      <td>데이터 엔지니어</td>\n",
       "      <td>2023.07.03 D-7</td>\n",
       "      <td>3년 이상</td>\n",
       "      <td>SQL, MYSQL, DB, 데이터베이스</td>\n",
       "      <td>오늘을 새롭게, 내일을 이롭게. 롯데\\r\\n\\r\\n롯데와 함께 비전을 공유할 수 있...</td>\n",
       "      <td>ㆍSQL 튜닝\\r\\nㆍDatabase Admin\\r\\nㆍDB Performance 튜닝</td>\n",
       "      <td>ㆍ경력 3년 이상\\r\\nㆍOracle Database 운영/백업/모니터링/장애처리 ...</td>\n",
       "      <td>ㆍSQL 튜닝\\r\\nㆍOGG 솔루션 운영 경험\\r\\nㆍ금융권 대용량 DB시스템 운영...</td>\n",
       "      <td>지원서접수 &gt; 서류전형 &gt; 직무테스트/인성진단(온라인) &gt; 면접전형 &gt; 평판조회 &gt;...</td>\n",
       "      <td>ㆍ복지포인트 및 경조지원\\r\\nㆍ건강검진\\r\\nㆍ학자금/교육지원 등 다양한 복리후생...</td>\n",
       "      <td>서울 금천구 가산동 533-2 롯데센터 15층</td>\n",
       "      <td>&lt;section class=\"recruitment-detail\"&gt;&lt;div class...</td>\n",
       "    </tr>\n",
       "  </tbody>\n",
       "</table>\n",
       "</div>"
      ],
      "text/plain": [
       "                                                href            title  \\\n",
       "0  https://www.jobplanet.co.kr/job/search?posting...  DB 관리 (카드IS 3팀)   \n",
       "\n",
       "  company_name job_location job_classification        due_date  \\\n",
       "0    롯데정보통신(주)           서울           데이터 엔지니어  2023.07.03 D-7   \n",
       "\n",
       "  work_experience                  skills  \\\n",
       "0           3년 이상  SQL, MYSQL, DB, 데이터베이스   \n",
       "\n",
       "                                       company_intro  \\\n",
       "0  오늘을 새롭게, 내일을 이롭게. 롯데\\r\\n\\r\\n롯데와 함께 비전을 공유할 수 있...   \n",
       "\n",
       "                                          main_task  \\\n",
       "0  ㆍSQL 튜닝\\r\\nㆍDatabase Admin\\r\\nㆍDB Performance 튜닝   \n",
       "\n",
       "                                       qualification  \\\n",
       "0  ㆍ경력 3년 이상\\r\\nㆍOracle Database 운영/백업/모니터링/장애처리 ...   \n",
       "\n",
       "                                          preference  \\\n",
       "0  ㆍSQL 튜닝\\r\\nㆍOGG 솔루션 운영 경험\\r\\nㆍ금융권 대용량 DB시스템 운영...   \n",
       "\n",
       "                                           procedure  \\\n",
       "0  지원서접수 > 서류전형 > 직무테스트/인성진단(온라인) > 면접전형 > 평판조회 >...   \n",
       "\n",
       "                                            benefits  \\\n",
       "0  ㆍ복지포인트 및 경조지원\\r\\nㆍ건강검진\\r\\nㆍ학자금/교육지원 등 다양한 복리후생...   \n",
       "\n",
       "         job_location_detail  \\\n",
       "0  서울 금천구 가산동 533-2 롯데센터 15층   \n",
       "\n",
       "                                  detail_description  \n",
       "0  <section class=\"recruitment-detail\"><div class...  "
      ]
     },
     "execution_count": 49,
     "metadata": {},
     "output_type": "execute_result"
    }
   ],
   "source": [
    "jobplanet = pd.read_csv('../Crawling/sample_data/jobplanet.csv')\n",
    "jobplanet.head(1)"
   ]
  },
  {
   "cell_type": "code",
   "execution_count": 50,
   "metadata": {},
   "outputs": [
    {
     "data": {
      "text/plain": [
       "Index(['출처 URL', '공고명', '회사명', 'job_location', '직무내용', '지원기간', '경력조건', '기술 스택',\n",
       "       '회사소개', '주요업무', '자격요건', '우대조건', 'procedure', '복지',\n",
       "       'job_location_detail', 'detail_description'],\n",
       "      dtype='object')"
      ]
     },
     "execution_count": 50,
     "metadata": {},
     "output_type": "execute_result"
    }
   ],
   "source": [
    "jobplanet.rename(columns={'href': '출처 URL', \n",
    "                          'title': '공고명',\n",
    "                          'company_name':'회사명',\n",
    "                          'job_classification':'직무내용',\n",
    "                          'due_date':'지원기간',\n",
    "                          'work_experience':'경력조건',\n",
    "                          'skills':'기술 스택',\n",
    "                          'main_task':'주요 업무',\n",
    "                          'qualification':'자격요건',\n",
    "                          'preference':'우대조건',\n",
    "                          'benefits':'복지',\n",
    "                          'company_intro': '회사소개',\n",
    "                          'main_task':'주요업무'\n",
    "                          }, inplace=True)\n",
    "jobplanet.columns"
   ]
  },
  {
   "cell_type": "code",
   "execution_count": 51,
   "metadata": {},
   "outputs": [
    {
     "data": {
      "text/html": [
       "<div>\n",
       "<style scoped>\n",
       "    .dataframe tbody tr th:only-of-type {\n",
       "        vertical-align: middle;\n",
       "    }\n",
       "\n",
       "    .dataframe tbody tr th {\n",
       "        vertical-align: top;\n",
       "    }\n",
       "\n",
       "    .dataframe thead th {\n",
       "        text-align: right;\n",
       "    }\n",
       "</style>\n",
       "<table border=\"1\" class=\"dataframe\">\n",
       "  <thead>\n",
       "    <tr style=\"text-align: right;\">\n",
       "      <th></th>\n",
       "      <th>회사명</th>\n",
       "      <th>지원기간</th>\n",
       "      <th>공고명</th>\n",
       "      <th>직무내용</th>\n",
       "      <th>자격요건</th>\n",
       "      <th>우대조건</th>\n",
       "      <th>경력조건</th>\n",
       "      <th>기술 스택</th>\n",
       "      <th>출처 URL</th>\n",
       "      <th>복지</th>\n",
       "      <th>회사소개</th>\n",
       "      <th>주요업무</th>\n",
       "    </tr>\n",
       "  </thead>\n",
       "  <tbody>\n",
       "    <tr>\n",
       "      <th>0</th>\n",
       "      <td>롯데정보통신(주)</td>\n",
       "      <td>2023.07.03 D-7</td>\n",
       "      <td>DB 관리 (카드IS 3팀)</td>\n",
       "      <td>데이터 엔지니어</td>\n",
       "      <td>ㆍ경력 3년 이상\\r\\nㆍOracle Database 운영/백업/모니터링/장애처리 ...</td>\n",
       "      <td>ㆍSQL 튜닝\\r\\nㆍOGG 솔루션 운영 경험\\r\\nㆍ금융권 대용량 DB시스템 운영...</td>\n",
       "      <td>3년 이상</td>\n",
       "      <td>SQL, MYSQL, DB, 데이터베이스</td>\n",
       "      <td>https://www.jobplanet.co.kr/job/search?posting...</td>\n",
       "      <td>ㆍ복지포인트 및 경조지원\\r\\nㆍ건강검진\\r\\nㆍ학자금/교육지원 등 다양한 복리후생...</td>\n",
       "      <td>오늘을 새롭게, 내일을 이롭게. 롯데\\r\\n\\r\\n롯데와 함께 비전을 공유할 수 있...</td>\n",
       "      <td>ㆍSQL 튜닝\\r\\nㆍDatabase Admin\\r\\nㆍDB Performance 튜닝</td>\n",
       "    </tr>\n",
       "  </tbody>\n",
       "</table>\n",
       "</div>"
      ],
      "text/plain": [
       "         회사명            지원기간              공고명      직무내용  \\\n",
       "0  롯데정보통신(주)  2023.07.03 D-7  DB 관리 (카드IS 3팀)  데이터 엔지니어   \n",
       "\n",
       "                                                자격요건  \\\n",
       "0  ㆍ경력 3년 이상\\r\\nㆍOracle Database 운영/백업/모니터링/장애처리 ...   \n",
       "\n",
       "                                                우대조건   경력조건  \\\n",
       "0  ㆍSQL 튜닝\\r\\nㆍOGG 솔루션 운영 경험\\r\\nㆍ금융권 대용량 DB시스템 운영...  3년 이상   \n",
       "\n",
       "                    기술 스택                                             출처 URL  \\\n",
       "0  SQL, MYSQL, DB, 데이터베이스  https://www.jobplanet.co.kr/job/search?posting...   \n",
       "\n",
       "                                                  복지  \\\n",
       "0  ㆍ복지포인트 및 경조지원\\r\\nㆍ건강검진\\r\\nㆍ학자금/교육지원 등 다양한 복리후생...   \n",
       "\n",
       "                                                회사소개  \\\n",
       "0  오늘을 새롭게, 내일을 이롭게. 롯데\\r\\n\\r\\n롯데와 함께 비전을 공유할 수 있...   \n",
       "\n",
       "                                               주요업무  \n",
       "0  ㆍSQL 튜닝\\r\\nㆍDatabase Admin\\r\\nㆍDB Performance 튜닝  "
      ]
     },
     "execution_count": 51,
     "metadata": {},
     "output_type": "execute_result"
    }
   ],
   "source": [
    "new_order = ['회사명', '지원기간', '공고명', '직무내용', '자격요건', '우대조건', '경력조건', '기술 스택', '출처 URL', '복지','회사소개','주요업무']\n",
    "jobplanet = jobplanet.reindex(columns=new_order)\n",
    "jobplanet.head(1)"
   ]
  },
  {
   "attachments": {},
   "cell_type": "markdown",
   "metadata": {},
   "source": [
    "- **결측치 확인 부분**  \n",
    "```count()로 결측치 부분 확인 후 삭제 or 채움 결정```  \n",
    "-> 데이터가 많지 않다면 삭제하는 방향"
   ]
  },
  {
   "cell_type": "code",
   "execution_count": 52,
   "metadata": {},
   "outputs": [
    {
     "data": {
      "text/plain": [
       "회사명       108\n",
       "지원기간      108\n",
       "공고명       108\n",
       "직무내용      108\n",
       "자격요건      108\n",
       "우대조건      106\n",
       "경력조건      108\n",
       "기술 스택     108\n",
       "출처 URL    108\n",
       "복지        107\n",
       "회사소개      108\n",
       "주요업무      108\n",
       "dtype: int64"
      ]
     },
     "execution_count": 52,
     "metadata": {},
     "output_type": "execute_result"
    }
   ],
   "source": [
    "jobplanet.count()"
   ]
  },
  {
   "cell_type": "code",
   "execution_count": 53,
   "metadata": {},
   "outputs": [
    {
     "data": {
      "text/plain": [
       "회사명       105\n",
       "지원기간      105\n",
       "공고명       105\n",
       "직무내용      105\n",
       "자격요건      105\n",
       "우대조건      105\n",
       "경력조건      105\n",
       "기술 스택     105\n",
       "출처 URL    105\n",
       "복지        105\n",
       "회사소개      105\n",
       "주요업무      105\n",
       "dtype: int64"
      ]
     },
     "execution_count": 53,
     "metadata": {},
     "output_type": "execute_result"
    }
   ],
   "source": [
    "# 결측치의 내용에 따라 변경 \n",
    "jobplanet.drop(jobplanet[jobplanet['복지'].isnull() == True].index, inplace=True)\n",
    "jobplanet.drop(jobplanet[jobplanet['우대조건'].isnull() == True].index, inplace=True)\n",
    "jobplanet.reset_index(drop=True, inplace=True)\n",
    "jobplanet.count()"
   ]
  },
  {
   "attachments": {},
   "cell_type": "markdown",
   "metadata": {},
   "source": [
    "- 경력조건 int형 변환\n",
    "- wanted data 처리 때 만들었던 extract_years()를 사용한다."
   ]
  },
  {
   "cell_type": "code",
   "execution_count": null,
   "metadata": {},
   "outputs": [],
   "source": [
    "jobplanet['경력조건']"
   ]
  },
  {
   "cell_type": "code",
   "execution_count": null,
   "metadata": {},
   "outputs": [],
   "source": [
    "max_count = jobplanet['경력조건'].count()\n",
    "patterns = [r'(\\d+)년 이상']\n",
    "\n",
    "for i in range(0, max_count):\n",
    "    jobplanet.loc[i, '경력조건'] = extract_years(jobplanet['경력조건'][i], patterns)\n",
    "\n",
    "jobplanet['경력조건'].unique()"
   ]
  },
  {
   "cell_type": "code",
   "execution_count": 57,
   "metadata": {},
   "outputs": [
    {
     "data": {
      "text/plain": [
       "array([3, 0, 2, 4, 10, 6, 8, 5, 1, 7], dtype=object)"
      ]
     },
     "execution_count": 57,
     "metadata": {},
     "output_type": "execute_result"
    }
   ],
   "source": [
    "jobplanet['경력조건'].unique()"
   ]
  },
  {
   "attachments": {},
   "cell_type": "markdown",
   "metadata": {},
   "source": [
    "- 지원기간 ```YYYY.MM.DD``` 형태로 변환"
   ]
  },
  {
   "cell_type": "code",
   "execution_count": 58,
   "metadata": {},
   "outputs": [
    {
     "data": {
      "text/plain": [
       "array(['2023.07.03', '2023.06.26', '2023.07.21', '2023.06.30',\n",
       "       '2023.09.20', '2023.09.26', '2023.09.19', '2023.07.14',\n",
       "       '2023.09.15', '2023.09.14', '2023.09.13', '2023.09.09',\n",
       "       '2023.07.09', '2023.09.07', '2023.07.04', '2023.08.31',\n",
       "       '2023.08.25', '2023.08.26', '2023.08.24', '2023.08.23',\n",
       "       '2023.08.29', '2023.08.19', '2023.08.18', '2023.08.17',\n",
       "       '2023.08.16', '2023.08.21', '2023.08.09', '2023.08.22',\n",
       "       '2023.08.27', '2023.08.15', '2023.07.12', '2023.10.29',\n",
       "       '2023.07.17', '2023.08.02', '2023.07.11', '2023.09.24',\n",
       "       '2023.09.02', '2023.09.06', '2023.07.13', '2023.07.28',\n",
       "       '2023.07.18', '2023.07.19', '2023.09.21', '2023.09.22',\n",
       "       '2023.07.01', '2023.08.10', '2023.09.11', '2023.08.14',\n",
       "       '2023.07.31', '2023.09.27'], dtype=object)"
      ]
     },
     "execution_count": 58,
     "metadata": {},
     "output_type": "execute_result"
    }
   ],
   "source": [
    "jobplanet['지원기간'] = jobplanet['지원기간'].str.split('\\xa0').str[0]\n",
    "jobplanet['지원기간'].unique()"
   ]
  },
  {
   "cell_type": "code",
   "execution_count": 59,
   "metadata": {},
   "outputs": [
    {
     "data": {
      "text/plain": [
       "회사명       105\n",
       "지원기간      105\n",
       "공고명       105\n",
       "직무내용      105\n",
       "자격요건      105\n",
       "우대조건      105\n",
       "경력조건      105\n",
       "기술 스택     105\n",
       "출처 URL    105\n",
       "복지        105\n",
       "회사소개      105\n",
       "주요업무      105\n",
       "dtype: int64"
      ]
     },
     "execution_count": 59,
     "metadata": {},
     "output_type": "execute_result"
    }
   ],
   "source": [
    "jobplanet.count()"
   ]
  },
  {
   "cell_type": "code",
   "execution_count": 60,
   "metadata": {},
   "outputs": [],
   "source": [
    "#csv 파일로 저장\n",
    "\n",
    "jobplanet.to_csv('./Data_result/pre_jobplanet.csv',index=False)"
   ]
  },
  {
   "attachments": {},
   "cell_type": "markdown",
   "metadata": {},
   "source": [
    "### 점핏 데이터 전처리\n",
    "\n",
    "- 크롤링 문제 확인으로 직무내용 별로 csv 파일 생성 후 concat\n",
    "- 지원기간과 경력조건 data만 맞추기  \n",
    "-> 기존 column에서 회사소개, 주요업무 column 추가\n",
    "- ```회사명, 지원기간, 공고명, 직무내용, 자격요건, 우대조건, 경력조건, 기술 스택, 출처 URL, 복지, 회사소개, 주요업무```"
   ]
  },
  {
   "cell_type": "code",
   "execution_count": 93,
   "metadata": {},
   "outputs": [],
   "source": [
    "jumpit = pd.DataFrame()\n",
    "\n",
    "for i in range(1, 22):\n",
    "    if i == 14:\n",
    "        continue\n",
    "    df = pd.read_csv(f'../Crawling/jumpit_data/크롤링_점핏_{i}.csv')\n",
    "    jumpit = pd.concat([jumpit, df])\n",
    "\n",
    "jumpit.reset_index(drop=True, inplace=True)"
   ]
  },
  {
   "cell_type": "code",
   "execution_count": 94,
   "metadata": {},
   "outputs": [
    {
     "data": {
      "text/html": [
       "<div>\n",
       "<style scoped>\n",
       "    .dataframe tbody tr th:only-of-type {\n",
       "        vertical-align: middle;\n",
       "    }\n",
       "\n",
       "    .dataframe tbody tr th {\n",
       "        vertical-align: top;\n",
       "    }\n",
       "\n",
       "    .dataframe thead th {\n",
       "        text-align: right;\n",
       "    }\n",
       "</style>\n",
       "<table border=\"1\" class=\"dataframe\">\n",
       "  <thead>\n",
       "    <tr style=\"text-align: right;\">\n",
       "      <th></th>\n",
       "      <th>회사명</th>\n",
       "      <th>지원기간</th>\n",
       "      <th>공고명</th>\n",
       "      <th>직무내용</th>\n",
       "      <th>자격요건</th>\n",
       "      <th>우대조건</th>\n",
       "      <th>경력조건</th>\n",
       "      <th>기술 스택</th>\n",
       "      <th>출처 URL</th>\n",
       "      <th>복지</th>\n",
       "      <th>회사소개</th>\n",
       "      <th>주요업무</th>\n",
       "    </tr>\n",
       "  </thead>\n",
       "  <tbody>\n",
       "    <tr>\n",
       "      <th>0</th>\n",
       "      <td>미디어로그는 MVNO(U+유모바일)사업, 중고폰사업(셀로), PP(방송채널)사업과 ...</td>\n",
       "      <td>마감일\\n상시</td>\n",
       "      <td>미디어로그(LG그룹) 웹 하드 3.0 SM 경력 채용</td>\n",
       "      <td>서버/백엔드 개발자</td>\n",
       "      <td>• Java, Spring, Spring Boot, JSP 개발 스킬 필수\\n• O...</td>\n",
       "      <td>• LG U+ SI/SM 업무 경험\\n• 서버 간 연동 처리 경험 (restful,...</td>\n",
       "      <td>경력\\n경력 10~15년</td>\n",
       "      <td>Java\\nJSP\\nSpring Boot\\nMariaDB\\nOracle\\nLinux</td>\n",
       "      <td>https://www.jumpit.co.kr/position/16607</td>\n",
       "      <td>• 통신비 지원\\n- U+유모바일 음성무제한 요금제 지원\\n\\n• 자녀 학비 지원\\...</td>\n",
       "      <td>미디어로그는 MVNO(U+유모바일)사업, 중고폰사업(셀로), PP(방송채널)사업과 ...</td>\n",
       "      <td>• 웹 하드 3.0 운영 유지보수 기능 개발\\n• VOC 대응\\n• 장애 대응 및 ...</td>\n",
       "    </tr>\n",
       "  </tbody>\n",
       "</table>\n",
       "</div>"
      ],
      "text/plain": [
       "                                                 회사명     지원기간  \\\n",
       "0  미디어로그는 MVNO(U+유모바일)사업, 중고폰사업(셀로), PP(방송채널)사업과 ...  마감일\\n상시   \n",
       "\n",
       "                             공고명        직무내용  \\\n",
       "0  미디어로그(LG그룹) 웹 하드 3.0 SM 경력 채용  서버/백엔드 개발자   \n",
       "\n",
       "                                                자격요건  \\\n",
       "0  • Java, Spring, Spring Boot, JSP 개발 스킬 필수\\n• O...   \n",
       "\n",
       "                                                우대조건           경력조건  \\\n",
       "0  • LG U+ SI/SM 업무 경험\\n• 서버 간 연동 처리 경험 (restful,...  경력\\n경력 10~15년   \n",
       "\n",
       "                                            기술 스택  \\\n",
       "0  Java\\nJSP\\nSpring Boot\\nMariaDB\\nOracle\\nLinux   \n",
       "\n",
       "                                    출처 URL  \\\n",
       "0  https://www.jumpit.co.kr/position/16607   \n",
       "\n",
       "                                                  복지  \\\n",
       "0  • 통신비 지원\\n- U+유모바일 음성무제한 요금제 지원\\n\\n• 자녀 학비 지원\\...   \n",
       "\n",
       "                                                회사소개  \\\n",
       "0  미디어로그는 MVNO(U+유모바일)사업, 중고폰사업(셀로), PP(방송채널)사업과 ...   \n",
       "\n",
       "                                                주요업무  \n",
       "0  • 웹 하드 3.0 운영 유지보수 기능 개발\\n• VOC 대응\\n• 장애 대응 및 ...  "
      ]
     },
     "execution_count": 94,
     "metadata": {},
     "output_type": "execute_result"
    }
   ],
   "source": [
    "jumpit.head(1)"
   ]
  },
  {
   "cell_type": "code",
   "execution_count": 95,
   "metadata": {},
   "outputs": [
    {
     "data": {
      "text/plain": [
       "회사명       3187\n",
       "지원기간      3187\n",
       "공고명       3187\n",
       "직무내용      3187\n",
       "자격요건      3187\n",
       "우대조건      3187\n",
       "경력조건      3187\n",
       "기술 스택     3187\n",
       "출처 URL    3187\n",
       "복지        3187\n",
       "회사소개      3187\n",
       "주요업무      3187\n",
       "dtype: int64"
      ]
     },
     "execution_count": 95,
     "metadata": {},
     "output_type": "execute_result"
    }
   ],
   "source": [
    "#크롤링 과정에서 결측치는 없게 처리함\n",
    "\n",
    "jumpit.count()"
   ]
  },
  {
   "cell_type": "code",
   "execution_count": 96,
   "metadata": {},
   "outputs": [
    {
     "data": {
      "text/plain": [
       "array(['상시', '2023.07.31', '2023.12.31', '2023.08.31', '2023.08.03',\n",
       "       '2023.08.07', '2023.08.16', '2023.08.01', '2023.07.21',\n",
       "       '2023.07.28', '2023.07.23', '2023.11.30', '2023.07.24',\n",
       "       '2023.08.04', '2023.07.26', '2023.08.02', '2023.07.30',\n",
       "       '2023.09.07', '2023.07.29', '2023.09.30', '2023.08.11',\n",
       "       '2023.09.13', '2023.08.21', '2023.09.12', '2023.08.06',\n",
       "       '2023.10.09', '2023.08.12', '2023.07.27', '2023.10.03',\n",
       "       '2023.08.23', '2023.08.22', '2023.08.18', '2024.08.14',\n",
       "       '2023.09.08', '2023.08.17', '2023.08.15', '2023.08.09',\n",
       "       '2023.10.17', '2023.10.18', '2023.09.11', '2023.08.08',\n",
       "       '2023.08.28', '2023.08.10', '2023.07.22', '2023.08.13',\n",
       "       '2023.10.02', '2023.09.29', '2023.10.19', '2023.10.06',\n",
       "       '2023.09.27', '2023.10.16', '2023.12.01', '2023.08.05',\n",
       "       '2023.09.06'], dtype=object)"
      ]
     },
     "execution_count": 96,
     "metadata": {},
     "output_type": "execute_result"
    }
   ],
   "source": [
    "#마감일\\n 삭제와 '-' -> '.' replace\n",
    "\n",
    "jumpit['지원기간'] = jumpit['지원기간'].str.replace('마감일\\n', '').str.replace('-','.')\n",
    "jumpit['지원기간'].unique()"
   ]
  },
  {
   "attachments": {},
   "cell_type": "markdown",
   "metadata": {},
   "source": [
    "- 경력 조건 부분 ```경력\\n``` 제거\n",
    "- 신입~n년 부분 1~n 년으로 변경\n",
    "- 경력조건 int형 변환\n",
    "- wanted data 처리 때 만들었던 extract_years()를 사용한다."
   ]
  },
  {
   "cell_type": "code",
   "execution_count": 100,
   "metadata": {},
   "outputs": [
    {
     "data": {
      "text/plain": [
       "array(['경력\\n경력 10~15년', '경력\\n경력 3~10년', '경력\\n경력 3~6년', '경력\\n경력 5~10년',\n",
       "       '경력\\n경력 2~10년', '경력\\n경력 1~3년', '경력\\n신입~10년', '경력\\n경력 2~6년',\n",
       "       '경력\\n경력 3~20년', '경력\\n경력 3~12년', '경력\\n경력 3~7년', '경력\\n경력 1~7년',\n",
       "       '경력\\n경력 3~15년', '경력\\n경력 10~20년', '경력\\n경력 5~12년', '경력\\n경력 5~20년',\n",
       "       '경력\\n신입~3년', '경력\\n경력 4~15년', '경력\\n신입~2년', '경력\\n경력 2~20년',\n",
       "       '경력\\n경력 5~15년', '경력\\n경력 4~6년', '경력\\n경력 2~7년', '경력\\n경력 1~5년',\n",
       "       '경력\\n경력 3~5년', '경력\\n경력 2~9년', '경력\\n신입~20년', '경력\\n경력 7~10년',\n",
       "       '경력\\n경력 7~15년', '경력\\n경력 1~10년', '경력\\n경력 2~15년', '경력\\n신입~15년',\n",
       "       '경력\\n경력 6~20년', '경력\\n경력 4~10년', '경력\\n경력 1~15년', '경력\\n경력 6~15년',\n",
       "       '경력\\n신입~5년', '경력\\n경력 2~5년', '경력\\n경력 3~8년', '경력\\n경력 5~8년',\n",
       "       '경력\\n경력 6~16년', '경력\\n경력 6~8년', '경력\\n경력 4~11년', '경력\\n경력 2~12년',\n",
       "       '경력\\n경력 2~8년', '경력\\n경력 8~15년', '경력\\n경력 4~7년', '경력\\n경력 12~16년',\n",
       "       '경력\\n경력 2~3년', '경력\\n경력 5~7년', '경력\\n경력 3~9년', '경력\\n경력 1~8년',\n",
       "       '경력\\n경력 7~20년', '경력\\n경력 10~14년', '경력\\n경력 3~4년', '경력\\n경력 7~25년',\n",
       "       '경력\\n경력 8~13년', '경력\\n경력 4~20년', '경력\\n경력 6~17년', '경력\\n신입~4년',\n",
       "       '경력\\n경력 2~16년', '경력\\n신입', '경력\\n경력 4~12년', '경력\\n경력 4~13년',\n",
       "       '경력\\n경력 8~10년', '경력\\n경력 3~11년', '경력\\n경력 1~13년', '경력\\n경력 5~17년',\n",
       "       '경력\\n경력 4~9년', '경력\\n경력 4~8년', '경력\\n경력 6~10년', '경력\\n경력 5~13년',\n",
       "       '경력\\n경력 3~19년', '경력\\n신입~16년', '경력\\n신입~7년', '경력\\n경력 8~20년',\n",
       "       '경력\\n경력 5~9년', '경력\\n경력 1~4년', '경력\\n경력 6~9년', '경력\\n경력 3~13년',\n",
       "       '경력\\n경력 5~16년', '경력\\n경력 3~30년', '경력\\n경력 1~9년', '경력\\n경력 1~2년',\n",
       "       '경력\\n경력 6~13년', '경력\\n경력 2~4년', '경력\\n신입~6년', '경력\\n경력 4~5년',\n",
       "       '경력\\n경력 1~6년', '경력\\n경력 2~25년', '경력\\n경력 9~20년', '경력\\n경력 1~21년',\n",
       "       '경력\\n신입~9년', '경력\\n경력 7~19년', '경력\\n경력 6~12년', '경력\\n경력 5~6년',\n",
       "       '경력\\n경력 7~16년', '경력\\n신입~8년', '경력\\n경력 2~30년', '경력\\n경력 3~18년',\n",
       "       '경력\\n경력 4~30년', '경력\\n경력 9~15년', '경력\\n경력 17~20년', '경력\\n경력 12~20년',\n",
       "       '경력\\n경력 5~11년', '경력\\n경력 1~19년', '경력\\n경력 7~30년', '경력\\n경력 3~16년',\n",
       "       '경력\\n경력 6~11년', '경력\\n경력 1~20년', '경력\\n신입~12년', '경력\\n경력 7~17년',\n",
       "       '경력\\n경력 7~12년', '경력\\n신입~25년', '경력\\n경력 10~25년', '경력\\n경력 5~30년',\n",
       "       '경력\\n경력 3~14년', '경력\\n신입~11년', '경력\\n경력 10~30년', '경력\\n경력 11~25년',\n",
       "       '경력\\n경력 8~16년', '경력\\n신입~14년', '경력\\n신입~30년', '경력\\n신입~22년',\n",
       "       '경력\\n경력 15~20년', '경력\\n경력 8~12년', '경력\\n경력 12~15년', '경력\\n경력 7~11년',\n",
       "       '경력\\n경력 3~25년'], dtype=object)"
      ]
     },
     "execution_count": 100,
     "metadata": {},
     "output_type": "execute_result"
    }
   ],
   "source": [
    "jumpit['경력조건'].unique()"
   ]
  },
  {
   "cell_type": "code",
   "execution_count": 101,
   "metadata": {},
   "outputs": [
    {
     "data": {
      "text/plain": [
       "array([10, 3, 5, 2, 1, 0, 4, 7, 6, 8, 12, 9, 17, 11, 15], dtype=object)"
      ]
     },
     "execution_count": 101,
     "metadata": {},
     "output_type": "execute_result"
    }
   ],
   "source": [
    "max_count = jumpit['경력조건'].count()\n",
    "jumpit['경력조건'] = jumpit['경력조건'].str.replace('신입~', '0~')\n",
    "patterns = [r'경력\\n경력 (\\d+)~(\\d+)년',r'경력\\n(\\d+)~(\\d+)년']\n",
    "\n",
    "for i in range(0, max_count):\n",
    "    jumpit.loc[i, '경력조건'] = extract_years(jumpit['경력조건'][i], patterns)\n",
    "    \n",
    "jumpit['경력조건'].unique()"
   ]
  },
  {
   "cell_type": "code",
   "execution_count": 102,
   "metadata": {},
   "outputs": [],
   "source": [
    "jumpit.to_csv('../Crawling/sample_data/jumpit.csv', index=False)\n",
    "jumpit.to_csv('./Data_result/pre_jumpit.csv', index=False)"
   ]
  },
  {
   "attachments": {},
   "cell_type": "markdown",
   "metadata": {},
   "source": [
    "## CSV파일 concat \n",
    "\n",
    "- 기술스택, 자격요건 column -> ```자격요건 column으로 concat```\n",
    "- 현재 코드에서 ```Crawling/sample_data/```에 있는 csv 파일을 통해 ```Data_Pretreatment/Data_result/result.csv```를 만듬"
   ]
  },
  {
   "cell_type": "code",
   "execution_count": 149,
   "metadata": {},
   "outputs": [],
   "source": [
    "wanted = pd.read_csv('./Data_result/pre_wanted.csv')\n",
    "jobplanet = pd.read_csv('./Data_result/pre_jobplanet.csv')\n",
    "jumpit_ = pd.read_csv('./Data_result/pre_jumpit.csv')"
   ]
  },
  {
   "cell_type": "code",
   "execution_count": 150,
   "metadata": {},
   "outputs": [
    {
     "data": {
      "text/plain": [
       "회사명       11165\n",
       "지원기간       3292\n",
       "공고명       11165\n",
       "직무내용      11165\n",
       "자격요건      11165\n",
       "우대조건      11165\n",
       "경력조건      11165\n",
       "기술 스택      8987\n",
       "출처 URL    11165\n",
       "복지        11165\n",
       "회사소개      11165\n",
       "주요업무      11165\n",
       "dtype: int64"
      ]
     },
     "execution_count": 150,
     "metadata": {},
     "output_type": "execute_result"
    }
   ],
   "source": [
    "result = pd.concat([wanted, jobplanet, jumpit], axis=0)\n",
    "result.reset_index(drop=True, inplace=True)\n",
    "result.count()"
   ]
  },
  {
   "attachments": {},
   "cell_type": "markdown",
   "metadata": {},
   "source": [
    "- 자격요건, 기술 스택 concat\n",
    "- '자격요건'과 '기술 스택' column의 type을 ```object -> str```변환 후 join을 통해 concat"
   ]
  },
  {
   "cell_type": "code",
   "execution_count": 151,
   "metadata": {},
   "outputs": [],
   "source": [
    "result['자격요건'] = result['자격요건'].astype(str)\n",
    "result['기술 스택'] = result['기술 스택'].astype(str)\n",
    "concat_df = pd.DataFrame({'자격요건': [\" \".join(row) for row in zip(result['자격요건'], result['기술 스택'])]})\n",
    "\n",
    "result['자격요건'] = concat_df['자격요건'][0]\n",
    "result.drop(['기술 스택', '지원기간'], axis=1, inplace=True)"
   ]
  },
  {
   "cell_type": "code",
   "execution_count": 152,
   "metadata": {},
   "outputs": [
    {
     "data": {
      "text/html": [
       "<div>\n",
       "<style scoped>\n",
       "    .dataframe tbody tr th:only-of-type {\n",
       "        vertical-align: middle;\n",
       "    }\n",
       "\n",
       "    .dataframe tbody tr th {\n",
       "        vertical-align: top;\n",
       "    }\n",
       "\n",
       "    .dataframe thead th {\n",
       "        text-align: right;\n",
       "    }\n",
       "</style>\n",
       "<table border=\"1\" class=\"dataframe\">\n",
       "  <thead>\n",
       "    <tr style=\"text-align: right;\">\n",
       "      <th></th>\n",
       "      <th>회사명</th>\n",
       "      <th>공고명</th>\n",
       "      <th>직무내용</th>\n",
       "      <th>자격요건</th>\n",
       "      <th>우대조건</th>\n",
       "      <th>경력조건</th>\n",
       "      <th>출처 URL</th>\n",
       "      <th>복지</th>\n",
       "      <th>회사소개</th>\n",
       "      <th>주요업무</th>\n",
       "    </tr>\n",
       "  </thead>\n",
       "  <tbody>\n",
       "    <tr>\n",
       "      <th>0</th>\n",
       "      <td>혜움랩스</td>\n",
       "      <td>Python Developer (백엔드 주니어)</td>\n",
       "      <td>웹 개발자</td>\n",
       "      <td>• 최소 2년 이상 혹은 그에 준하는 해당 업무 경험\\r\\n• Python(필수),...</td>\n",
       "      <td>• MSA 기반의 시스템 개발 경험이 있으신 분\\r\\n• AWS 를 활용한 개발, ...</td>\n",
       "      <td>2</td>\n",
       "      <td>https://www.wanted.co.kr/wd/167436</td>\n",
       "      <td># 몰입을 위한\\r\\n• 액면가 스톡옵션의 기회가 열려있습니다. (2023년 7월 ...</td>\n",
       "      <td>- 간단소개\\r\\n혜움랩스는 세무,재무,경리 등 AI기반 비서형 금융 서비스를 Fa...</td>\n",
       "      <td>• 세무 알고리즘 자동화 설계 및 개발\\r\\n• 세무팀과 커뮤니케이션\\r\\n• AW...</td>\n",
       "    </tr>\n",
       "  </tbody>\n",
       "</table>\n",
       "</div>"
      ],
      "text/plain": [
       "    회사명                         공고명   직무내용  \\\n",
       "0  혜움랩스  Python Developer (백엔드 주니어)  웹 개발자   \n",
       "\n",
       "                                                자격요건  \\\n",
       "0  • 최소 2년 이상 혹은 그에 준하는 해당 업무 경험\\r\\n• Python(필수),...   \n",
       "\n",
       "                                                우대조건 경력조건  \\\n",
       "0  • MSA 기반의 시스템 개발 경험이 있으신 분\\r\\n• AWS 를 활용한 개발, ...    2   \n",
       "\n",
       "                               출처 URL  \\\n",
       "0  https://www.wanted.co.kr/wd/167436   \n",
       "\n",
       "                                                  복지  \\\n",
       "0  # 몰입을 위한\\r\\n• 액면가 스톡옵션의 기회가 열려있습니다. (2023년 7월 ...   \n",
       "\n",
       "                                                회사소개  \\\n",
       "0  - 간단소개\\r\\n혜움랩스는 세무,재무,경리 등 AI기반 비서형 금융 서비스를 Fa...   \n",
       "\n",
       "                                                주요업무  \n",
       "0  • 세무 알고리즘 자동화 설계 및 개발\\r\\n• 세무팀과 커뮤니케이션\\r\\n• AW...  "
      ]
     },
     "execution_count": 152,
     "metadata": {},
     "output_type": "execute_result"
    }
   ],
   "source": [
    "result.head(1)"
   ]
  },
  {
   "cell_type": "code",
   "execution_count": 154,
   "metadata": {},
   "outputs": [
    {
     "data": {
      "text/plain": [
       "회사명       11165\n",
       "공고명       11165\n",
       "직무내용      11165\n",
       "자격요건      11165\n",
       "우대조건      11165\n",
       "경력조건      11165\n",
       "출처 URL    11165\n",
       "복지        11165\n",
       "회사소개      11165\n",
       "주요업무      11165\n",
       "dtype: int64"
      ]
     },
     "execution_count": 154,
     "metadata": {},
     "output_type": "execute_result"
    }
   ],
   "source": [
    "result.count()"
   ]
  },
  {
   "attachments": {},
   "cell_type": "markdown",
   "metadata": {},
   "source": [
    "---------------------------------------------------"
   ]
  },
  {
   "attachments": {},
   "cell_type": "markdown",
   "metadata": {},
   "source": [
    "## 최종 result 데이터 저장\n"
   ]
  },
  {
   "cell_type": "code",
   "execution_count": 153,
   "metadata": {},
   "outputs": [],
   "source": [
    "result.to_csv('./Data_result/pre_result.csv', index=False)"
   ]
  }
 ],
 "metadata": {
  "kernelspec": {
   "display_name": "base",
   "language": "python",
   "name": "python3"
  },
  "language_info": {
   "codemirror_mode": {
    "name": "ipython",
    "version": 3
   },
   "file_extension": ".py",
   "mimetype": "text/x-python",
   "name": "python",
   "nbconvert_exporter": "python",
   "pygments_lexer": "ipython3",
   "version": "3.8.3 (default, Jul  2 2020, 17:30:36) [MSC v.1916 64 bit (AMD64)]"
  },
  "orig_nbformat": 4,
  "vscode": {
   "interpreter": {
    "hash": "ad2bdc8ecc057115af97d19610ffacc2b4e99fae6737bb82f5d7fb13d2f2c186"
   }
  }
 },
 "nbformat": 4,
 "nbformat_minor": 2
}
