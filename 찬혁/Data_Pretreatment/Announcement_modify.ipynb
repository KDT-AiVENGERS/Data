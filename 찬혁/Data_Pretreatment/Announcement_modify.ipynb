{
 "cells": [
  {
   "attachments": {},
   "cell_type": "markdown",
   "metadata": {},
   "source": [
    "## Data Crawling\n",
    "- 사이트별로 직무내용이 너무 상이함, 구분을 지어주기가 쉽지 않음  \n",
    "-> 학습에 의해 판단되므로 직무내용을 굳이 안넣어도 될 것 같음  \n",
    "-> ```회사소개, 주요업무 column 추가``` 아래의 내용과 같이 모든 column 통일  \n",
    "```회사명, 지원기간, 공고명, 직무내용, 자격요건, 우대조건, 경력조건, 기술 스택, 출처 URL, 복지, 회사소개, 주요업무```"
   ]
  },
  {
   "cell_type": "code",
   "execution_count": 1,
   "metadata": {},
   "outputs": [],
   "source": [
    "import pandas as pd\n",
    "import numpy as np\n",
    "import re"
   ]
  },
  {
   "attachments": {},
   "cell_type": "markdown",
   "metadata": {},
   "source": [
    "### 원티드 데이터 전처리\n",
    "- column확인 후 필요없는 column제거 후 정해진 frame의 column name으로 변경\n",
    "- 정해진 frame의 column_name으로 변경\n",
    "- ```회사명, 지원기간, 공고명, 직무내용, 자격요건, 우대조건, 경력조건, 기술 스택, 출처 URL, 복지, 회사소개, 주요업무```"
   ]
  },
  {
   "cell_type": "code",
   "execution_count": 3,
   "metadata": {},
   "outputs": [
    {
     "data": {
      "text/html": [
       "<div>\n",
       "<style scoped>\n",
       "    .dataframe tbody tr th:only-of-type {\n",
       "        vertical-align: middle;\n",
       "    }\n",
       "\n",
       "    .dataframe tbody tr th {\n",
       "        vertical-align: top;\n",
       "    }\n",
       "\n",
       "    .dataframe thead th {\n",
       "        text-align: right;\n",
       "    }\n",
       "</style>\n",
       "<table border=\"1\" class=\"dataframe\">\n",
       "  <thead>\n",
       "    <tr style=\"text-align: right;\">\n",
       "      <th></th>\n",
       "      <th>직무명</th>\n",
       "      <th>채용공고명</th>\n",
       "      <th>해시태그</th>\n",
       "      <th>회사소개</th>\n",
       "      <th>주요업무</th>\n",
       "      <th>자격요건</th>\n",
       "      <th>우대사항</th>\n",
       "      <th>혜택 및 복지</th>\n",
       "      <th>기술스택 ・ 툴</th>\n",
       "      <th>근무지역</th>\n",
       "      <th>회사명</th>\n",
       "      <th>회사분야</th>\n",
       "      <th>출처</th>\n",
       "    </tr>\n",
       "  </thead>\n",
       "  <tbody>\n",
       "    <tr>\n",
       "      <th>0</th>\n",
       "      <td>웹 개발자</td>\n",
       "      <td>Python Developer (백엔드 주니어)</td>\n",
       "      <td>#퇴사율5%이하#51~300명#설립4~9년#육아휴직#출산휴가#스톡옵션#건강검진#교육...</td>\n",
       "      <td>- 간단소개\\r\\n혜움랩스는 세무,재무,경리 등 AI기반 비서형 금융 서비스를 Fa...</td>\n",
       "      <td>• 세무 알고리즘 자동화 설계 및 개발\\r\\n• 세무팀과 커뮤니케이션\\r\\n• AW...</td>\n",
       "      <td>• 최소 2년 이상 혹은 그에 준하는 해당 업무 경험\\r\\n• Python(필수),...</td>\n",
       "      <td>• MSA 기반의 시스템 개발 경험이 있으신 분\\r\\n• AWS 를 활용한 개발, ...</td>\n",
       "      <td># 몰입을 위한\\r\\n• 액면가 스톡옵션의 기회가 열려있습니다. (2023년 7월 ...</td>\n",
       "      <td>Github\\r\\nJavaScript\\r\\nTypeScript\\r\\nReact.js...</td>\n",
       "      <td>서울.한국</td>\n",
       "      <td>혜움랩스</td>\n",
       "      <td>IT, 컨텐츠</td>\n",
       "      <td>https://www.wanted.co.kr/wd/167436</td>\n",
       "    </tr>\n",
       "  </tbody>\n",
       "</table>\n",
       "</div>"
      ],
      "text/plain": [
       "     직무명                       채용공고명  \\\n",
       "0  웹 개발자  Python Developer (백엔드 주니어)   \n",
       "\n",
       "                                                해시태그  \\\n",
       "0  #퇴사율5%이하#51~300명#설립4~9년#육아휴직#출산휴가#스톡옵션#건강검진#교육...   \n",
       "\n",
       "                                                회사소개  \\\n",
       "0  - 간단소개\\r\\n혜움랩스는 세무,재무,경리 등 AI기반 비서형 금융 서비스를 Fa...   \n",
       "\n",
       "                                                주요업무  \\\n",
       "0  • 세무 알고리즘 자동화 설계 및 개발\\r\\n• 세무팀과 커뮤니케이션\\r\\n• AW...   \n",
       "\n",
       "                                                자격요건  \\\n",
       "0  • 최소 2년 이상 혹은 그에 준하는 해당 업무 경험\\r\\n• Python(필수),...   \n",
       "\n",
       "                                                우대사항  \\\n",
       "0  • MSA 기반의 시스템 개발 경험이 있으신 분\\r\\n• AWS 를 활용한 개발, ...   \n",
       "\n",
       "                                             혜택 및 복지  \\\n",
       "0  # 몰입을 위한\\r\\n• 액면가 스톡옵션의 기회가 열려있습니다. (2023년 7월 ...   \n",
       "\n",
       "                                            기술스택 ・ 툴   근무지역   회사명     회사분야  \\\n",
       "0  Github\\r\\nJavaScript\\r\\nTypeScript\\r\\nReact.js...  서울.한국  혜움랩스  IT, 컨텐츠   \n",
       "\n",
       "                                   출처  \n",
       "0  https://www.wanted.co.kr/wd/167436  "
      ]
     },
     "execution_count": 3,
     "metadata": {},
     "output_type": "execute_result"
    }
   ],
   "source": [
    "wanted = pd.read_csv('../Crawling/sample_data/wanted.csv')\n",
    "wanted.head(1)"
   ]
  },
  {
   "attachments": {},
   "cell_type": "markdown",
   "metadata": {},
   "source": [
    "- **결측치 확인 부분**  \n",
    "상황에 따라 다르게 작성"
   ]
  },
  {
   "cell_type": "code",
   "execution_count": 4,
   "metadata": {},
   "outputs": [
    {
     "data": {
      "text/plain": [
       "직무명         7874\n",
       "채용공고명       7858\n",
       "해시태그        7874\n",
       "회사소개        7874\n",
       "주요업무        7874\n",
       "자격요건        7874\n",
       "우대사항        7874\n",
       "혜택 및 복지     7874\n",
       "기술스택 ・ 툴    5695\n",
       "근무지역        7874\n",
       "회사명         7874\n",
       "회사분야        7874\n",
       "출처          7874\n",
       "dtype: int64"
      ]
     },
     "execution_count": 4,
     "metadata": {},
     "output_type": "execute_result"
    }
   ],
   "source": [
    "#우대사항, 자격요건, 혜택 및 복지 부분 nan값 row 제거\n",
    "\n",
    "wanted.dropna(subset=['우대사항', '자격요건','혜택 및 복지'], inplace=True)\n",
    "wanted.count()"
   ]
  },
  {
   "cell_type": "code",
   "execution_count": 7,
   "metadata": {},
   "outputs": [
    {
     "data": {
      "text/plain": [
       "직무명         7873\n",
       "채용공고명       7873\n",
       "해시태그        7873\n",
       "회사소개        7873\n",
       "주요업무        7873\n",
       "자격요건        7873\n",
       "우대사항        7873\n",
       "혜택 및 복지     7873\n",
       "기술스택 ・ 툴    5695\n",
       "근무지역        7873\n",
       "회사명         7873\n",
       "회사분야        7873\n",
       "출처          7873\n",
       "dtype: int64"
      ]
     },
     "execution_count": 7,
     "metadata": {},
     "output_type": "execute_result"
    }
   ],
   "source": [
    "#채용공고명만 비어있는 부분 채워줌, 크롤링 진행시 누락된 것으로 확인\n",
    "\n",
    "null_data = wanted[wanted['채용공고명'].isnull() == True]['출처'].tolist()\n",
    "add_data = ['[제주] 백엔드 개발자 (5년 이하)',\n",
    "            '백엔드 개발자',\n",
    "            '[광고 제품팀] 풀 스택 엔지니어 리드',\n",
    "            'Sr. Back-end Engineer',\n",
    "            'iOS 코어 개발자 (5년 이상)',\n",
    "            '모바일 SW 개발자(C,C++)',\n",
    "            '디바이스 부문 개발자',\n",
    "            'Unity 개발자',\n",
    "            '기술연구소 백엔드 서버 개발자',\n",
    "            '백엔드 개발자 (BackEnd Engineer)',\n",
    "            'Senior Software Engineer, Android',\n",
    "            '백엔드 개발자(Node.js, 시니어)',\n",
    "            '백엔드 개발자 (Node.js, 주니어)',\n",
    "            0,\n",
    "            'AI SW 개발자',\n",
    "            'Data Engineer(2년 이상)']\n",
    "\n",
    "for n_data, a_data in zip(null_data,add_data):\n",
    "    if a_data == 0:\n",
    "        wanted.drop(wanted[wanted['출처'] == n_data].index, inplace=True)\n",
    "        continue\n",
    "    wanted.loc[wanted['출처'] == n_data, '채용공고명'] = a_data\n",
    "\n",
    "#drop으로 인한 index 누락 reindexing\n",
    "wanted.reset_index(drop=True, inplace=True)\n",
    "wanted.count()"
   ]
  },
  {
   "cell_type": "code",
   "execution_count": 8,
   "metadata": {},
   "outputs": [
    {
     "data": {
      "text/plain": [
       "Index(['직무내용', '공고명', '해시태그', '회사소개', '주요업무', '자격요건', '우대조건', '복지', '기술 스택',\n",
       "       '근무지역', '회사명', '회사분야', '출처 URL'],\n",
       "      dtype='object')"
      ]
     },
     "execution_count": 8,
     "metadata": {},
     "output_type": "execute_result"
    }
   ],
   "source": [
    "wanted.rename(columns={'직무명':'직무내용',\n",
    "                       '채용공고명':'공고명',\n",
    "                       '기술스택 ・ 툴':'기술 스택',\n",
    "                       '혜택 및 복지':'복지',\n",
    "                       '출처':'출처 URL',\n",
    "                       '우대사항':'우대조건',\n",
    "                       }, inplace=True)\n",
    "\n",
    "wanted.columns"
   ]
  },
  {
   "attachments": {},
   "cell_type": "markdown",
   "metadata": {},
   "source": [
    "- 지원기간은 이야기 해봐야 할 듯, 경력조건은 자격요건의 내용에서 추출\n",
    "\n",
    "### wanted 패턴\n",
    "- 경력 n년 이상\n",
    "- 경력 n년이상\n",
    "- n~k년\n",
    "- n년~k년"
   ]
  },
  {
   "cell_type": "code",
   "execution_count": 43,
   "metadata": {},
   "outputs": [],
   "source": [
    "def extract_years(string, patterns):\n",
    "    for pattern in patterns:\n",
    "        match = re.search(pattern, string)\n",
    "        if match:\n",
    "            if '~' in pattern:\n",
    "                start_year = match.group(1)\n",
    "                return int(start_year)\n",
    "            else:\n",
    "                return int(match.group(1))\n",
    "    \n",
    "    return 0\n"
   ]
  },
  {
   "cell_type": "code",
   "execution_count": 10,
   "metadata": {},
   "outputs": [],
   "source": [
    "max_count = wanted['자격요건'].count()\n",
    "wanted['경력조건'] = None\n",
    "patterns = [r'(\\d+)년 이상', r'(\\d+)년이상', r'(\\d+)~(\\d+)년', r'(\\d+)년~(\\d+)년']\n",
    "\n",
    "for i in range(0, max_count):\n",
    "    wanted.loc[i, '경력조건'] = extract_years(wanted['자격요건'][i], patterns)\n"
   ]
  },
  {
   "cell_type": "code",
   "execution_count": 11,
   "metadata": {},
   "outputs": [
    {
     "data": {
      "text/plain": [
       "array([2, 0, 3, 1, 7, 6, 4, 5, 8, 10, 15, 9, 12], dtype=object)"
      ]
     },
     "execution_count": 11,
     "metadata": {},
     "output_type": "execute_result"
    }
   ],
   "source": [
    "wanted['경력조건'].unique()"
   ]
  },
  {
   "attachments": {},
   "cell_type": "markdown",
   "metadata": {},
   "source": [
    "- ```회사명, 지원기간, 공고명, 직무내용, 자격요건, 우대조건, 경력조건, 기술 스택, 출처 URL, 복지, 회사소개, 주요업무```"
   ]
  },
  {
   "cell_type": "code",
   "execution_count": 14,
   "metadata": {},
   "outputs": [
    {
     "data": {
      "text/plain": [
       "회사명       7873\n",
       "지원기간         0\n",
       "공고명       7873\n",
       "직무내용      7873\n",
       "자격요건      7873\n",
       "우대조건      7873\n",
       "경력조건      7873\n",
       "기술 스택     5695\n",
       "출처 URL    7873\n",
       "복지        7873\n",
       "회사소개      7873\n",
       "주요업무      7873\n",
       "dtype: int64"
      ]
     },
     "execution_count": 14,
     "metadata": {},
     "output_type": "execute_result"
    }
   ],
   "source": [
    "new_order = ['회사명', '지원기간', '공고명', '직무내용', '자격요건', '우대조건', '경력조건', '기술 스택', '출처 URL', '복지', '회사소개', '주요업무']\n",
    "wanted = wanted.reindex(columns=new_order)\n",
    "wanted.count()"
   ]
  },
  {
   "cell_type": "code",
   "execution_count": 15,
   "metadata": {},
   "outputs": [],
   "source": [
    "#csv 파일로 저장\n",
    "\n",
    "wanted.to_csv('./Data_result/pre_wanted.csv',index=False)"
   ]
  },
  {
   "attachments": {},
   "cell_type": "markdown",
   "metadata": {},
   "source": [
    "### 잡플래닛 데이터 전처리\n",
    "- column확인 후 필요없는 column제거 후 정해진 frame의 column name으로 변경\n",
    "- 정해진 frame의 column_name으로 변경\n",
    "- ```회사명, 지원기간, 공고명, 직무내용, 자격요건, 우대조건, 경력조건, 기술 스택, 출처 URL, 복지, 회사소개, 주요업무```"
   ]
  },
  {
   "cell_type": "code",
   "execution_count": 106,
   "metadata": {},
   "outputs": [
    {
     "data": {
      "text/html": [
       "<div>\n",
       "<style scoped>\n",
       "    .dataframe tbody tr th:only-of-type {\n",
       "        vertical-align: middle;\n",
       "    }\n",
       "\n",
       "    .dataframe tbody tr th {\n",
       "        vertical-align: top;\n",
       "    }\n",
       "\n",
       "    .dataframe thead th {\n",
       "        text-align: right;\n",
       "    }\n",
       "</style>\n",
       "<table border=\"1\" class=\"dataframe\">\n",
       "  <thead>\n",
       "    <tr style=\"text-align: right;\">\n",
       "      <th></th>\n",
       "      <th>href</th>\n",
       "      <th>title</th>\n",
       "      <th>company_name</th>\n",
       "      <th>job_location</th>\n",
       "      <th>job_classification</th>\n",
       "      <th>due_date</th>\n",
       "      <th>work_experience</th>\n",
       "      <th>skills</th>\n",
       "      <th>company_intro</th>\n",
       "      <th>main_task</th>\n",
       "      <th>qualification</th>\n",
       "      <th>preference</th>\n",
       "      <th>procedure</th>\n",
       "      <th>benefits</th>\n",
       "      <th>job_location_detail</th>\n",
       "      <th>detail_description</th>\n",
       "    </tr>\n",
       "  </thead>\n",
       "  <tbody>\n",
       "    <tr>\n",
       "      <th>0</th>\n",
       "      <td>https://www.jobplanet.co.kr/job/search?posting...</td>\n",
       "      <td>B2B 백엔드 엔지니어</td>\n",
       "      <td>(주)마이프랜차이즈</td>\n",
       "      <td>서울</td>\n",
       "      <td>백엔드 개발</td>\n",
       "      <td>2023.07.24 D-1</td>\n",
       "      <td>경력무관</td>\n",
       "      <td>백엔드, B2B, MongoDB, node js</td>\n",
       "      <td>＜마이프랜차이즈가 오프라인 창업 시장을 바꿉니다.＞\\r\\n\\r\\n코로나19 이후 어...</td>\n",
       "      <td>• 마이프차 Partner 대상 서비스 백엔드 개선 및 새 기능 개발\\r\\n•  각...</td>\n",
       "      <td>• 3년 이상의 상용 서비스 백엔드 개발 경험 또는 이에 준하는 역량 보유자\\r\\n...</td>\n",
       "      <td>• 프로젝트 세팅부터 서비스 런칭까지 전 과정에 대한 경험이 있는 분\\r\\n• MS...</td>\n",
       "      <td>＜채용은 이렇게 진행됩니다＞\\r\\n1. 서류 전형\\r\\n : 마이프랜차이즈는 정해진...</td>\n",
       "      <td>• 시차출퇴근제 (08~10시 자율 출근, 일 8시간 근무)\\r\\n• 수습 기간 종...</td>\n",
       "      <td>서울시 강남구 강남대로92길 19, 여원빌딩 11층</td>\n",
       "      <td>&lt;section class=\"recruitment-detail\"&gt;&lt;div class...</td>\n",
       "    </tr>\n",
       "  </tbody>\n",
       "</table>\n",
       "</div>"
      ],
      "text/plain": [
       "                                                href         title  \\\n",
       "0  https://www.jobplanet.co.kr/job/search?posting...  B2B 백엔드 엔지니어   \n",
       "\n",
       "  company_name job_location job_classification        due_date  \\\n",
       "0   (주)마이프랜차이즈           서울             백엔드 개발  2023.07.24 D-1   \n",
       "\n",
       "  work_experience                      skills  \\\n",
       "0            경력무관  백엔드, B2B, MongoDB, node js   \n",
       "\n",
       "                                       company_intro  \\\n",
       "0  ＜마이프랜차이즈가 오프라인 창업 시장을 바꿉니다.＞\\r\\n\\r\\n코로나19 이후 어...   \n",
       "\n",
       "                                           main_task  \\\n",
       "0  • 마이프차 Partner 대상 서비스 백엔드 개선 및 새 기능 개발\\r\\n•  각...   \n",
       "\n",
       "                                       qualification  \\\n",
       "0  • 3년 이상의 상용 서비스 백엔드 개발 경험 또는 이에 준하는 역량 보유자\\r\\n...   \n",
       "\n",
       "                                          preference  \\\n",
       "0  • 프로젝트 세팅부터 서비스 런칭까지 전 과정에 대한 경험이 있는 분\\r\\n• MS...   \n",
       "\n",
       "                                           procedure  \\\n",
       "0  ＜채용은 이렇게 진행됩니다＞\\r\\n1. 서류 전형\\r\\n : 마이프랜차이즈는 정해진...   \n",
       "\n",
       "                                            benefits  \\\n",
       "0  • 시차출퇴근제 (08~10시 자율 출근, 일 8시간 근무)\\r\\n• 수습 기간 종...   \n",
       "\n",
       "            job_location_detail  \\\n",
       "0  서울시 강남구 강남대로92길 19, 여원빌딩 11층   \n",
       "\n",
       "                                  detail_description  \n",
       "0  <section class=\"recruitment-detail\"><div class...  "
      ]
     },
     "execution_count": 106,
     "metadata": {},
     "output_type": "execute_result"
    }
   ],
   "source": [
    "jobplanet = pd.read_csv('../Crawling/Announcement_data/extracted_softwareengineer.csv')\n",
    "jobplanet.head(1)"
   ]
  },
  {
   "cell_type": "code",
   "execution_count": 107,
   "metadata": {},
   "outputs": [
    {
     "data": {
      "text/plain": [
       "Index(['출처 URL', '공고명', '회사명', 'job_location', '직무내용', '지원기간', '경력조건', '기술 스택',\n",
       "       '회사소개', '주요업무', '자격요건', '우대조건', 'procedure', '복지',\n",
       "       'job_location_detail', 'detail_description'],\n",
       "      dtype='object')"
      ]
     },
     "execution_count": 107,
     "metadata": {},
     "output_type": "execute_result"
    }
   ],
   "source": [
    "jobplanet.rename(columns={'href': '출처 URL', \n",
    "                          'title': '공고명',\n",
    "                          'company_name':'회사명',\n",
    "                          'job_classification':'직무내용',\n",
    "                          'due_date':'지원기간',\n",
    "                          'work_experience':'경력조건',\n",
    "                          'skills':'기술 스택',\n",
    "                          'main_task':'주요 업무',\n",
    "                          'qualification':'자격요건',\n",
    "                          'preference':'우대조건',\n",
    "                          'benefits':'복지',\n",
    "                          'company_intro': '회사소개',\n",
    "                          'main_task':'주요업무'\n",
    "                          }, inplace=True)\n",
    "jobplanet.columns"
   ]
  },
  {
   "cell_type": "code",
   "execution_count": 108,
   "metadata": {},
   "outputs": [
    {
     "data": {
      "text/html": [
       "<div>\n",
       "<style scoped>\n",
       "    .dataframe tbody tr th:only-of-type {\n",
       "        vertical-align: middle;\n",
       "    }\n",
       "\n",
       "    .dataframe tbody tr th {\n",
       "        vertical-align: top;\n",
       "    }\n",
       "\n",
       "    .dataframe thead th {\n",
       "        text-align: right;\n",
       "    }\n",
       "</style>\n",
       "<table border=\"1\" class=\"dataframe\">\n",
       "  <thead>\n",
       "    <tr style=\"text-align: right;\">\n",
       "      <th></th>\n",
       "      <th>회사명</th>\n",
       "      <th>지원기간</th>\n",
       "      <th>공고명</th>\n",
       "      <th>직무내용</th>\n",
       "      <th>자격요건</th>\n",
       "      <th>우대조건</th>\n",
       "      <th>경력조건</th>\n",
       "      <th>기술 스택</th>\n",
       "      <th>출처 URL</th>\n",
       "      <th>복지</th>\n",
       "      <th>회사소개</th>\n",
       "      <th>주요업무</th>\n",
       "    </tr>\n",
       "  </thead>\n",
       "  <tbody>\n",
       "    <tr>\n",
       "      <th>0</th>\n",
       "      <td>(주)마이프랜차이즈</td>\n",
       "      <td>2023.07.24 D-1</td>\n",
       "      <td>B2B 백엔드 엔지니어</td>\n",
       "      <td>백엔드 개발</td>\n",
       "      <td>• 3년 이상의 상용 서비스 백엔드 개발 경험 또는 이에 준하는 역량 보유자\\r\\n...</td>\n",
       "      <td>• 프로젝트 세팅부터 서비스 런칭까지 전 과정에 대한 경험이 있는 분\\r\\n• MS...</td>\n",
       "      <td>경력무관</td>\n",
       "      <td>백엔드, B2B, MongoDB, node js</td>\n",
       "      <td>https://www.jobplanet.co.kr/job/search?posting...</td>\n",
       "      <td>• 시차출퇴근제 (08~10시 자율 출근, 일 8시간 근무)\\r\\n• 수습 기간 종...</td>\n",
       "      <td>＜마이프랜차이즈가 오프라인 창업 시장을 바꿉니다.＞\\r\\n\\r\\n코로나19 이후 어...</td>\n",
       "      <td>• 마이프차 Partner 대상 서비스 백엔드 개선 및 새 기능 개발\\r\\n•  각...</td>\n",
       "    </tr>\n",
       "  </tbody>\n",
       "</table>\n",
       "</div>"
      ],
      "text/plain": [
       "          회사명            지원기간           공고명    직무내용  \\\n",
       "0  (주)마이프랜차이즈  2023.07.24 D-1  B2B 백엔드 엔지니어  백엔드 개발   \n",
       "\n",
       "                                                자격요건  \\\n",
       "0  • 3년 이상의 상용 서비스 백엔드 개발 경험 또는 이에 준하는 역량 보유자\\r\\n...   \n",
       "\n",
       "                                                우대조건  경력조건  \\\n",
       "0  • 프로젝트 세팅부터 서비스 런칭까지 전 과정에 대한 경험이 있는 분\\r\\n• MS...  경력무관   \n",
       "\n",
       "                        기술 스택  \\\n",
       "0  백엔드, B2B, MongoDB, node js   \n",
       "\n",
       "                                              출처 URL  \\\n",
       "0  https://www.jobplanet.co.kr/job/search?posting...   \n",
       "\n",
       "                                                  복지  \\\n",
       "0  • 시차출퇴근제 (08~10시 자율 출근, 일 8시간 근무)\\r\\n• 수습 기간 종...   \n",
       "\n",
       "                                                회사소개  \\\n",
       "0  ＜마이프랜차이즈가 오프라인 창업 시장을 바꿉니다.＞\\r\\n\\r\\n코로나19 이후 어...   \n",
       "\n",
       "                                                주요업무  \n",
       "0  • 마이프차 Partner 대상 서비스 백엔드 개선 및 새 기능 개발\\r\\n•  각...  "
      ]
     },
     "execution_count": 108,
     "metadata": {},
     "output_type": "execute_result"
    }
   ],
   "source": [
    "new_order = ['회사명', '지원기간', '공고명', '직무내용', '자격요건', '우대조건', '경력조건', '기술 스택', '출처 URL', '복지','회사소개','주요업무']\n",
    "jobplanet = jobplanet.reindex(columns=new_order)\n",
    "jobplanet.head(1)"
   ]
  },
  {
   "attachments": {},
   "cell_type": "markdown",
   "metadata": {},
   "source": [
    "- **결측치 확인 부분**  \n",
    "```count()로 결측치 부분 확인 후 삭제 or 채움 결정```  \n",
    "-> 데이터가 많지 않다면 삭제하는 방향"
   ]
  },
  {
   "cell_type": "code",
   "execution_count": 109,
   "metadata": {},
   "outputs": [
    {
     "data": {
      "text/plain": [
       "회사명       1242\n",
       "지원기간      1242\n",
       "공고명       1242\n",
       "직무내용      1242\n",
       "자격요건      1242\n",
       "우대조건      1215\n",
       "경력조건      1242\n",
       "기술 스택     1242\n",
       "출처 URL    1242\n",
       "복지        1230\n",
       "회사소개      1233\n",
       "주요업무      1242\n",
       "dtype: int64"
      ]
     },
     "execution_count": 109,
     "metadata": {},
     "output_type": "execute_result"
    }
   ],
   "source": [
    "jobplanet.count()"
   ]
  },
  {
   "cell_type": "code",
   "execution_count": 97,
   "metadata": {},
   "outputs": [
    {
     "data": {
      "text/plain": [
       "회사명       127\n",
       "지원기간      127\n",
       "공고명       127\n",
       "직무내용      127\n",
       "자격요건      127\n",
       "우대조건      127\n",
       "경력조건      127\n",
       "기술 스택     127\n",
       "출처 URL    127\n",
       "복지        127\n",
       "회사소개      127\n",
       "주요업무      127\n",
       "dtype: int64"
      ]
     },
     "execution_count": 97,
     "metadata": {},
     "output_type": "execute_result"
    }
   ],
   "source": [
    "# 결측치의 내용에 따라 변경 \n",
    "jobplanet.drop(jobplanet[jobplanet['복지'].isnull() == True].index, inplace=True)\n",
    "jobplanet.drop(jobplanet[jobplanet['우대조건'].isnull() == True].index, inplace=True)\n",
    "jobplanet.reset_index(drop=True, inplace=True)\n",
    "jobplanet.count()"
   ]
  },
  {
   "cell_type": "code",
   "execution_count": 52,
   "metadata": {},
   "outputs": [
    {
     "name": "stdout",
     "output_type": "stream",
     "text": [
      "100 https://www.jobplanet.co.kr/job/search?posting_ids%5B%5D=1251837\n",
      "101 https://www.jobplanet.co.kr/job/search?posting_ids%5B%5D=1251832\n",
      "117 https://www.jobplanet.co.kr/job/search?posting_ids%5B%5D=1251828\n",
      "381 https://www.jobplanet.co.kr/job/search?posting_ids%5B%5D=1250583\n",
      "554 https://www.jobplanet.co.kr/job/search?posting_ids%5B%5D=1247896\n",
      "814 https://www.jobplanet.co.kr/job/search?posting_ids%5B%5D=1245673\n"
     ]
    }
   ],
   "source": [
    "for i, data in jobplanet[jobplanet['회사소개'].isnull()==True]['출처 URL'].items():\n",
    "    print(i, data)"
   ]
  },
  {
   "cell_type": "code",
   "execution_count": 54,
   "metadata": {},
   "outputs": [
    {
     "data": {
      "text/plain": [
       "회사명       1199\n",
       "지원기간      1199\n",
       "공고명       1199\n",
       "직무내용      1199\n",
       "자격요건      1199\n",
       "우대조건      1199\n",
       "경력조건      1199\n",
       "기술 스택     1199\n",
       "출처 URL    1199\n",
       "복지        1199\n",
       "회사소개      1199\n",
       "주요업무      1199\n",
       "dtype: int64"
      ]
     },
     "execution_count": 54,
     "metadata": {},
     "output_type": "execute_result"
    }
   ],
   "source": [
    "jobplanet.drop(jobplanet[jobplanet['회사소개'].isnull() == True].index, inplace=True)\n",
    "jobplanet.reset_index(drop=True, inplace=True)\n",
    "jobplanet.count()"
   ]
  },
  {
   "attachments": {},
   "cell_type": "markdown",
   "metadata": {},
   "source": [
    "- 경력조건 int형 변환\n",
    "- wanted data 처리 때 만들었던 extract_years()를 사용한다."
   ]
  },
  {
   "cell_type": "code",
   "execution_count": 98,
   "metadata": {},
   "outputs": [],
   "source": [
    "for i, data in jobplanet[jobplanet['경력조건'] == '신입, 3년 이상']['출처 URL'].items():\n",
    "    print(i, data)"
   ]
  },
  {
   "cell_type": "code",
   "execution_count": 99,
   "metadata": {},
   "outputs": [
    {
     "data": {
      "text/plain": [
       "array(['경력무관', '1년 이상', '7년 이상', '3년 이상', '5년 이상', '6년 이상', '2년 이상',\n",
       "       '4년 이상', '신입', '10년 이상', '신입, 1년 이상', '신입, 경력무관', '5년 이상, 경력무관',\n",
       "       '신입, 3년 이상, 경력무관'], dtype=object)"
      ]
     },
     "execution_count": 99,
     "metadata": {},
     "output_type": "execute_result"
    }
   ],
   "source": [
    "jobplanet['경력조건'].unique()"
   ]
  },
  {
   "cell_type": "code",
   "execution_count": 100,
   "metadata": {},
   "outputs": [],
   "source": [
    "#정규화 패턴으로 경력조건 -> int형으로 변환하는 코드\n",
    "\n",
    "def extract_years(string, patterns):\n",
    "    for pattern in patterns:\n",
    "        match = re.search(pattern, string)\n",
    "        if match:\n",
    "            if '~' in pattern:\n",
    "                start_year = match.group(1)\n",
    "                return int(start_year)\n",
    "            else:\n",
    "                return int(match.group(1))\n",
    "    \n",
    "    return 0"
   ]
  },
  {
   "cell_type": "code",
   "execution_count": 101,
   "metadata": {},
   "outputs": [
    {
     "data": {
      "text/plain": [
       "array([0, 1, 7, 3, 5, 6, 2, 4, 10], dtype=object)"
      ]
     },
     "execution_count": 101,
     "metadata": {},
     "output_type": "execute_result"
    }
   ],
   "source": [
    "max_count = jobplanet['경력조건'].count()\n",
    "patterns = [r'(\\d+)년 이상']\n",
    "\n",
    "for i in range(0, max_count):\n",
    "    jobplanet.loc[i, '경력조건'] = extract_years(jobplanet['경력조건'][i], patterns)\n",
    "\n",
    "jobplanet['경력조건'].unique()"
   ]
  },
  {
   "attachments": {},
   "cell_type": "markdown",
   "metadata": {},
   "source": [
    "- 지원기간 ```YYYY.MM.DD``` 형태로 변환"
   ]
  },
  {
   "cell_type": "code",
   "execution_count": 102,
   "metadata": {},
   "outputs": [
    {
     "data": {
      "text/plain": [
       "array(['2023.08.21', '2023.10.12', '2023.10.21', '2023.08.20',\n",
       "       '2023.07.31', '2023.08.14', '2023.10.19', '2023.07.30',\n",
       "       '2023.10.14', '2023.08.11', '2023.10.11', '2023.10.07',\n",
       "       '2023.08.16', '2023.09.04', '2023.08.07', '2023.08.03',\n",
       "       '2023.10.06', '2023.10.04', '2023.09.30', '2023.08.31',\n",
       "       '2023.07.28', '2023.09.27', '2023.09.26', '2023.10.25',\n",
       "       '2023.10.01', '2023.09.20', '2023.09.28', '2023.09.15',\n",
       "       '2023.09.14', '2023.09.09', '2023.08.09', '2023.09.07',\n",
       "       '2023.09.13', '2023.08.27', '2023.08.22', '2023.08.29',\n",
       "       '2023.08.24', '2023.08.19', '2023.10.10', '2023.11.28',\n",
       "       '2023.09.24', '2023.09.06', '2023.08.10', '2023.08.17',\n",
       "       '2023.10.15', '2023.09.21', '2023.09.02', '2023.08.18',\n",
       "       '2023.09.11', '2023.10.09', '2023.08.26', '2023.08.12',\n",
       "       '2023.08.25', '2023.10.29', '2023.08.23', '2023.10.17'],\n",
       "      dtype=object)"
      ]
     },
     "execution_count": 102,
     "metadata": {},
     "output_type": "execute_result"
    }
   ],
   "source": [
    "jobplanet['지원기간'] = jobplanet['지원기간'].str.split('\\xa0').str[0]\n",
    "jobplanet['지원기간'].unique()"
   ]
  },
  {
   "cell_type": "code",
   "execution_count": 103,
   "metadata": {},
   "outputs": [
    {
     "data": {
      "text/plain": [
       "회사명       127\n",
       "지원기간      127\n",
       "공고명       127\n",
       "직무내용      127\n",
       "자격요건      127\n",
       "우대조건      127\n",
       "경력조건      127\n",
       "기술 스택     127\n",
       "출처 URL    127\n",
       "복지        127\n",
       "회사소개      127\n",
       "주요업무      127\n",
       "dtype: int64"
      ]
     },
     "execution_count": 103,
     "metadata": {},
     "output_type": "execute_result"
    }
   ],
   "source": [
    "jobplanet.count()"
   ]
  },
  {
   "cell_type": "code",
   "execution_count": 104,
   "metadata": {},
   "outputs": [
    {
     "name": "stdout",
     "output_type": "stream",
     "text": [
      "회사명       1304\n",
      "지원기간      1304\n",
      "공고명       1304\n",
      "직무내용      1304\n",
      "자격요건      1304\n",
      "우대조건      1304\n",
      "경력조건      1304\n",
      "기술 스택     1304\n",
      "출처 URL    1304\n",
      "복지        1304\n",
      "회사소개      1304\n",
      "주요업무      1304\n",
      "dtype: int64\n"
     ]
    },
    {
     "data": {
      "text/plain": [
       "회사명       1431\n",
       "지원기간      1431\n",
       "공고명       1431\n",
       "직무내용      1431\n",
       "자격요건      1431\n",
       "우대조건      1431\n",
       "경력조건      1431\n",
       "기술 스택     1431\n",
       "출처 URL    1431\n",
       "복지        1431\n",
       "회사소개      1431\n",
       "주요업무      1431\n",
       "dtype: int64"
      ]
     },
     "execution_count": 104,
     "metadata": {},
     "output_type": "execute_result"
    }
   ],
   "source": [
    "before_result = pd.read_csv('./Data_result/pre_jobplanet.csv')\n",
    "print(before_result.count())\n",
    "result = pd.concat([before_result, jobplanet], axis=0)\n",
    "result.reset_index(drop=True, inplace=True)\n",
    "result.count()"
   ]
  },
  {
   "cell_type": "code",
   "execution_count": 105,
   "metadata": {},
   "outputs": [],
   "source": [
    "#csv 파일로 저장\n",
    "\n",
    "result.to_csv('./Data_result/pre_jobplanet.csv',index=False)"
   ]
  },
  {
   "attachments": {},
   "cell_type": "markdown",
   "metadata": {},
   "source": [
    "### 점핏 데이터 전처리\n",
    "\n",
    "- 크롤링 문제 확인으로 직무내용 별로 csv 파일 생성 후 concat\n",
    "- 지원기간과 경력조건 data만 맞추기  \n",
    "-> 기존 column에서 회사소개, 주요업무 column 추가\n",
    "- ```회사명, 지원기간, 공고명, 직무내용, 자격요건, 우대조건, 경력조건, 기술 스택, 출처 URL, 복지, 회사소개, 주요업무```"
   ]
  },
  {
   "cell_type": "code",
   "execution_count": 93,
   "metadata": {},
   "outputs": [],
   "source": [
    "jumpit = pd.DataFrame()\n",
    "\n",
    "for i in range(1, 22):\n",
    "    if i == 14:\n",
    "        continue\n",
    "    df = pd.read_csv(f'../Crawling/jumpit_data/크롤링_점핏_{i}.csv')\n",
    "    jumpit = pd.concat([jumpit, df])\n",
    "\n",
    "jumpit.reset_index(drop=True, inplace=True)"
   ]
  },
  {
   "cell_type": "code",
   "execution_count": 94,
   "metadata": {},
   "outputs": [
    {
     "data": {
      "text/html": [
       "<div>\n",
       "<style scoped>\n",
       "    .dataframe tbody tr th:only-of-type {\n",
       "        vertical-align: middle;\n",
       "    }\n",
       "\n",
       "    .dataframe tbody tr th {\n",
       "        vertical-align: top;\n",
       "    }\n",
       "\n",
       "    .dataframe thead th {\n",
       "        text-align: right;\n",
       "    }\n",
       "</style>\n",
       "<table border=\"1\" class=\"dataframe\">\n",
       "  <thead>\n",
       "    <tr style=\"text-align: right;\">\n",
       "      <th></th>\n",
       "      <th>회사명</th>\n",
       "      <th>지원기간</th>\n",
       "      <th>공고명</th>\n",
       "      <th>직무내용</th>\n",
       "      <th>자격요건</th>\n",
       "      <th>우대조건</th>\n",
       "      <th>경력조건</th>\n",
       "      <th>기술 스택</th>\n",
       "      <th>출처 URL</th>\n",
       "      <th>복지</th>\n",
       "      <th>회사소개</th>\n",
       "      <th>주요업무</th>\n",
       "    </tr>\n",
       "  </thead>\n",
       "  <tbody>\n",
       "    <tr>\n",
       "      <th>0</th>\n",
       "      <td>미디어로그는 MVNO(U+유모바일)사업, 중고폰사업(셀로), PP(방송채널)사업과 ...</td>\n",
       "      <td>마감일\\n상시</td>\n",
       "      <td>미디어로그(LG그룹) 웹 하드 3.0 SM 경력 채용</td>\n",
       "      <td>서버/백엔드 개발자</td>\n",
       "      <td>• Java, Spring, Spring Boot, JSP 개발 스킬 필수\\n• O...</td>\n",
       "      <td>• LG U+ SI/SM 업무 경험\\n• 서버 간 연동 처리 경험 (restful,...</td>\n",
       "      <td>경력\\n경력 10~15년</td>\n",
       "      <td>Java\\nJSP\\nSpring Boot\\nMariaDB\\nOracle\\nLinux</td>\n",
       "      <td>https://www.jumpit.co.kr/position/16607</td>\n",
       "      <td>• 통신비 지원\\n- U+유모바일 음성무제한 요금제 지원\\n\\n• 자녀 학비 지원\\...</td>\n",
       "      <td>미디어로그는 MVNO(U+유모바일)사업, 중고폰사업(셀로), PP(방송채널)사업과 ...</td>\n",
       "      <td>• 웹 하드 3.0 운영 유지보수 기능 개발\\n• VOC 대응\\n• 장애 대응 및 ...</td>\n",
       "    </tr>\n",
       "  </tbody>\n",
       "</table>\n",
       "</div>"
      ],
      "text/plain": [
       "                                                 회사명     지원기간  \\\n",
       "0  미디어로그는 MVNO(U+유모바일)사업, 중고폰사업(셀로), PP(방송채널)사업과 ...  마감일\\n상시   \n",
       "\n",
       "                             공고명        직무내용  \\\n",
       "0  미디어로그(LG그룹) 웹 하드 3.0 SM 경력 채용  서버/백엔드 개발자   \n",
       "\n",
       "                                                자격요건  \\\n",
       "0  • Java, Spring, Spring Boot, JSP 개발 스킬 필수\\n• O...   \n",
       "\n",
       "                                                우대조건           경력조건  \\\n",
       "0  • LG U+ SI/SM 업무 경험\\n• 서버 간 연동 처리 경험 (restful,...  경력\\n경력 10~15년   \n",
       "\n",
       "                                            기술 스택  \\\n",
       "0  Java\\nJSP\\nSpring Boot\\nMariaDB\\nOracle\\nLinux   \n",
       "\n",
       "                                    출처 URL  \\\n",
       "0  https://www.jumpit.co.kr/position/16607   \n",
       "\n",
       "                                                  복지  \\\n",
       "0  • 통신비 지원\\n- U+유모바일 음성무제한 요금제 지원\\n\\n• 자녀 학비 지원\\...   \n",
       "\n",
       "                                                회사소개  \\\n",
       "0  미디어로그는 MVNO(U+유모바일)사업, 중고폰사업(셀로), PP(방송채널)사업과 ...   \n",
       "\n",
       "                                                주요업무  \n",
       "0  • 웹 하드 3.0 운영 유지보수 기능 개발\\n• VOC 대응\\n• 장애 대응 및 ...  "
      ]
     },
     "execution_count": 94,
     "metadata": {},
     "output_type": "execute_result"
    }
   ],
   "source": [
    "jumpit.head(1)"
   ]
  },
  {
   "cell_type": "code",
   "execution_count": 95,
   "metadata": {},
   "outputs": [
    {
     "data": {
      "text/plain": [
       "회사명       3187\n",
       "지원기간      3187\n",
       "공고명       3187\n",
       "직무내용      3187\n",
       "자격요건      3187\n",
       "우대조건      3187\n",
       "경력조건      3187\n",
       "기술 스택     3187\n",
       "출처 URL    3187\n",
       "복지        3187\n",
       "회사소개      3187\n",
       "주요업무      3187\n",
       "dtype: int64"
      ]
     },
     "execution_count": 95,
     "metadata": {},
     "output_type": "execute_result"
    }
   ],
   "source": [
    "#크롤링 과정에서 결측치는 없게 처리함\n",
    "\n",
    "jumpit.count()"
   ]
  },
  {
   "cell_type": "code",
   "execution_count": 96,
   "metadata": {},
   "outputs": [
    {
     "data": {
      "text/plain": [
       "array(['상시', '2023.07.31', '2023.12.31', '2023.08.31', '2023.08.03',\n",
       "       '2023.08.07', '2023.08.16', '2023.08.01', '2023.07.21',\n",
       "       '2023.07.28', '2023.07.23', '2023.11.30', '2023.07.24',\n",
       "       '2023.08.04', '2023.07.26', '2023.08.02', '2023.07.30',\n",
       "       '2023.09.07', '2023.07.29', '2023.09.30', '2023.08.11',\n",
       "       '2023.09.13', '2023.08.21', '2023.09.12', '2023.08.06',\n",
       "       '2023.10.09', '2023.08.12', '2023.07.27', '2023.10.03',\n",
       "       '2023.08.23', '2023.08.22', '2023.08.18', '2024.08.14',\n",
       "       '2023.09.08', '2023.08.17', '2023.08.15', '2023.08.09',\n",
       "       '2023.10.17', '2023.10.18', '2023.09.11', '2023.08.08',\n",
       "       '2023.08.28', '2023.08.10', '2023.07.22', '2023.08.13',\n",
       "       '2023.10.02', '2023.09.29', '2023.10.19', '2023.10.06',\n",
       "       '2023.09.27', '2023.10.16', '2023.12.01', '2023.08.05',\n",
       "       '2023.09.06'], dtype=object)"
      ]
     },
     "execution_count": 96,
     "metadata": {},
     "output_type": "execute_result"
    }
   ],
   "source": [
    "#마감일\\n 삭제와 '-' -> '.' replace\n",
    "\n",
    "jumpit['지원기간'] = jumpit['지원기간'].str.replace('마감일\\n', '').str.replace('-','.')\n",
    "jumpit['지원기간'].unique()"
   ]
  },
  {
   "attachments": {},
   "cell_type": "markdown",
   "metadata": {},
   "source": [
    "- 경력 조건 부분 ```경력\\n``` 제거\n",
    "- 신입~n년 부분 1~n 년으로 변경\n",
    "- 경력조건 int형 변환\n",
    "- wanted data 처리 때 만들었던 extract_years()를 사용한다."
   ]
  },
  {
   "cell_type": "code",
   "execution_count": 100,
   "metadata": {},
   "outputs": [
    {
     "data": {
      "text/plain": [
       "array(['경력\\n경력 10~15년', '경력\\n경력 3~10년', '경력\\n경력 3~6년', '경력\\n경력 5~10년',\n",
       "       '경력\\n경력 2~10년', '경력\\n경력 1~3년', '경력\\n신입~10년', '경력\\n경력 2~6년',\n",
       "       '경력\\n경력 3~20년', '경력\\n경력 3~12년', '경력\\n경력 3~7년', '경력\\n경력 1~7년',\n",
       "       '경력\\n경력 3~15년', '경력\\n경력 10~20년', '경력\\n경력 5~12년', '경력\\n경력 5~20년',\n",
       "       '경력\\n신입~3년', '경력\\n경력 4~15년', '경력\\n신입~2년', '경력\\n경력 2~20년',\n",
       "       '경력\\n경력 5~15년', '경력\\n경력 4~6년', '경력\\n경력 2~7년', '경력\\n경력 1~5년',\n",
       "       '경력\\n경력 3~5년', '경력\\n경력 2~9년', '경력\\n신입~20년', '경력\\n경력 7~10년',\n",
       "       '경력\\n경력 7~15년', '경력\\n경력 1~10년', '경력\\n경력 2~15년', '경력\\n신입~15년',\n",
       "       '경력\\n경력 6~20년', '경력\\n경력 4~10년', '경력\\n경력 1~15년', '경력\\n경력 6~15년',\n",
       "       '경력\\n신입~5년', '경력\\n경력 2~5년', '경력\\n경력 3~8년', '경력\\n경력 5~8년',\n",
       "       '경력\\n경력 6~16년', '경력\\n경력 6~8년', '경력\\n경력 4~11년', '경력\\n경력 2~12년',\n",
       "       '경력\\n경력 2~8년', '경력\\n경력 8~15년', '경력\\n경력 4~7년', '경력\\n경력 12~16년',\n",
       "       '경력\\n경력 2~3년', '경력\\n경력 5~7년', '경력\\n경력 3~9년', '경력\\n경력 1~8년',\n",
       "       '경력\\n경력 7~20년', '경력\\n경력 10~14년', '경력\\n경력 3~4년', '경력\\n경력 7~25년',\n",
       "       '경력\\n경력 8~13년', '경력\\n경력 4~20년', '경력\\n경력 6~17년', '경력\\n신입~4년',\n",
       "       '경력\\n경력 2~16년', '경력\\n신입', '경력\\n경력 4~12년', '경력\\n경력 4~13년',\n",
       "       '경력\\n경력 8~10년', '경력\\n경력 3~11년', '경력\\n경력 1~13년', '경력\\n경력 5~17년',\n",
       "       '경력\\n경력 4~9년', '경력\\n경력 4~8년', '경력\\n경력 6~10년', '경력\\n경력 5~13년',\n",
       "       '경력\\n경력 3~19년', '경력\\n신입~16년', '경력\\n신입~7년', '경력\\n경력 8~20년',\n",
       "       '경력\\n경력 5~9년', '경력\\n경력 1~4년', '경력\\n경력 6~9년', '경력\\n경력 3~13년',\n",
       "       '경력\\n경력 5~16년', '경력\\n경력 3~30년', '경력\\n경력 1~9년', '경력\\n경력 1~2년',\n",
       "       '경력\\n경력 6~13년', '경력\\n경력 2~4년', '경력\\n신입~6년', '경력\\n경력 4~5년',\n",
       "       '경력\\n경력 1~6년', '경력\\n경력 2~25년', '경력\\n경력 9~20년', '경력\\n경력 1~21년',\n",
       "       '경력\\n신입~9년', '경력\\n경력 7~19년', '경력\\n경력 6~12년', '경력\\n경력 5~6년',\n",
       "       '경력\\n경력 7~16년', '경력\\n신입~8년', '경력\\n경력 2~30년', '경력\\n경력 3~18년',\n",
       "       '경력\\n경력 4~30년', '경력\\n경력 9~15년', '경력\\n경력 17~20년', '경력\\n경력 12~20년',\n",
       "       '경력\\n경력 5~11년', '경력\\n경력 1~19년', '경력\\n경력 7~30년', '경력\\n경력 3~16년',\n",
       "       '경력\\n경력 6~11년', '경력\\n경력 1~20년', '경력\\n신입~12년', '경력\\n경력 7~17년',\n",
       "       '경력\\n경력 7~12년', '경력\\n신입~25년', '경력\\n경력 10~25년', '경력\\n경력 5~30년',\n",
       "       '경력\\n경력 3~14년', '경력\\n신입~11년', '경력\\n경력 10~30년', '경력\\n경력 11~25년',\n",
       "       '경력\\n경력 8~16년', '경력\\n신입~14년', '경력\\n신입~30년', '경력\\n신입~22년',\n",
       "       '경력\\n경력 15~20년', '경력\\n경력 8~12년', '경력\\n경력 12~15년', '경력\\n경력 7~11년',\n",
       "       '경력\\n경력 3~25년'], dtype=object)"
      ]
     },
     "execution_count": 100,
     "metadata": {},
     "output_type": "execute_result"
    }
   ],
   "source": [
    "jumpit['경력조건'].unique()"
   ]
  },
  {
   "cell_type": "code",
   "execution_count": 101,
   "metadata": {},
   "outputs": [
    {
     "data": {
      "text/plain": [
       "array([10, 3, 5, 2, 1, 0, 4, 7, 6, 8, 12, 9, 17, 11, 15], dtype=object)"
      ]
     },
     "execution_count": 101,
     "metadata": {},
     "output_type": "execute_result"
    }
   ],
   "source": [
    "max_count = jumpit['경력조건'].count()\n",
    "jumpit['경력조건'] = jumpit['경력조건'].str.replace('신입~', '0~')\n",
    "patterns = [r'경력\\n경력 (\\d+)~(\\d+)년',r'경력\\n(\\d+)~(\\d+)년']\n",
    "\n",
    "for i in range(0, max_count):\n",
    "    jumpit.loc[i, '경력조건'] = extract_years(jumpit['경력조건'][i], patterns)\n",
    "    \n",
    "jumpit['경력조건'].unique()"
   ]
  },
  {
   "cell_type": "code",
   "execution_count": 102,
   "metadata": {},
   "outputs": [],
   "source": [
    "jumpit.to_csv('../Crawling/sample_data/jumpit.csv', index=False)\n",
    "jumpit.to_csv('./Data_result/pre_jumpit.csv', index=False)"
   ]
  },
  {
   "attachments": {},
   "cell_type": "markdown",
   "metadata": {},
   "source": [
    "## CSV파일 concat \n",
    "\n",
    "- 기술스택, 자격요건 column -> ```자격요건 column으로 concat```\n",
    "- 현재 코드에서 ```Crawling/sample_data/```에 있는 csv 파일을 통해 ```Data_Pretreatment/Data_result/result.csv```를 만듬"
   ]
  },
  {
   "cell_type": "code",
   "execution_count": 12,
   "metadata": {},
   "outputs": [],
   "source": [
    "wanted = pd.read_csv('./Data_result/pre_wanted.csv')\n",
    "jobplanet = pd.read_csv('./Data_result/pre_jobplanet.csv')\n",
    "jumpit = pd.read_csv('./Data_result/pre_jumpit.csv')"
   ]
  },
  {
   "cell_type": "code",
   "execution_count": 13,
   "metadata": {},
   "outputs": [
    {
     "data": {
      "text/plain": [
       "회사명       12491\n",
       "지원기간       4618\n",
       "공고명       12491\n",
       "직무내용      12491\n",
       "자격요건      12491\n",
       "우대조건      12491\n",
       "경력조건      12491\n",
       "기술 스택     10313\n",
       "출처 URL    12491\n",
       "복지        12491\n",
       "회사소개      12491\n",
       "주요업무      12491\n",
       "dtype: int64"
      ]
     },
     "execution_count": 13,
     "metadata": {},
     "output_type": "execute_result"
    }
   ],
   "source": [
    "result = pd.concat([wanted, jobplanet, jumpit], axis=0)\n",
    "result.reset_index(drop=True, inplace=True)\n",
    "result.count()"
   ]
  },
  {
   "attachments": {},
   "cell_type": "markdown",
   "metadata": {},
   "source": [
    "- 자격요건, 기술 스택 concat\n",
    "- '자격요건'과 '기술 스택' column의 type을 ```object -> str```변환 후 join을 통해 concat"
   ]
  },
  {
   "cell_type": "code",
   "execution_count": 8,
   "metadata": {},
   "outputs": [
    {
     "name": "stdout",
     "output_type": "stream",
     "text": [
      "• 최소 2년 이상 혹은 그에 준하는 해당 업무 경험\n",
      "• Python(필수), 웹 프레임워크(Django)에 능숙하신 분\n",
      "• 테스트 코드 작성의 필요성을 이해하고 실천하시는 분\n",
      "• 코드리뷰와 페어 프로그래밍등 팀 내 협업의 필요성을 이해하고 실천하시는 분\n",
      "• 개발/기획/세무/운영/CS 등 다양한 직군의 동료들과 원활한 소통이 가능하신 분\n",
      "\n",
      "Tech Specs\n",
      "• Language: Python 3\n",
      "• Framework: Django(rest framework), Flask, FastAPI, Celery\n",
      "• Data storage: PostgreSQL / Redis / DynamoDB / S3\n",
      "• Deployment: Github action, Docker(ECS, EKS)\n",
      "• Cloud platform: AWS\n",
      "• VCS: Github\n",
      "• Communication: Slack\n",
      "• Documentation: Notion, G-Suite, Jira\n",
      "• Issue Tracker: JIRA Github\n",
      "JavaScript\n",
      "TypeScript\n",
      "React.js\n",
      "Vue.JS\n"
     ]
    }
   ],
   "source": [
    "print(result['자격요건'][0],result['기술 스택'][0])"
   ]
  },
  {
   "cell_type": "code",
   "execution_count": 16,
   "metadata": {},
   "outputs": [],
   "source": [
    "result['자격요건'] = result['자격요건'].astype(str)\n",
    "result['기술 스택'] = result['기술 스택'].astype(str)\n",
    "concat_df = pd.DataFrame({'자격요건': [a+' '+b for a, b in zip(result['자격요건'], result['기술 스택'])]})\n",
    "\n",
    "result['자격요건'] = concat_df['자격요건']\n",
    "result.drop(['기술 스택', '지원기간'], axis=1, inplace=True)"
   ]
  },
  {
   "cell_type": "code",
   "execution_count": 20,
   "metadata": {},
   "outputs": [
    {
     "data": {
      "text/plain": [
       "array(['• 최소 2년 이상 혹은 그에 준하는 해당 업무 경험\\r\\n• Python(필수), 웹 프레임워크(Django)에 능숙하신 분\\r\\n• 테스트 코드 작성의 필요성을 이해하고 실천하시는 분\\r\\n• 코드리뷰와 페어 프로그래밍등 팀 내 협업의 필요성을 이해하고 실천하시는 분\\r\\n• 개발/기획/세무/운영/CS 등 다양한 직군의 동료들과 원활한 소통이 가능하신 분\\r\\n\\r\\nTech Specs\\r\\n• Language: Python 3\\r\\n• Framework: Django(rest framework), Flask, FastAPI, Celery\\r\\n• Data storage: PostgreSQL / Redis / DynamoDB / S3\\r\\n• Deployment: Github action, Docker(ECS, EKS)\\r\\n• Cloud platform: AWS\\r\\n• VCS: Github\\r\\n• Communication: Slack\\r\\n• Documentation: Notion, G-Suite, Jira\\r\\n• Issue Tracker: JIRA Github\\r\\nJavaScript\\r\\nTypeScript\\r\\nReact.js\\r\\nVue.JS',\n",
       "       '• HTML / CSS / JavaScript 에 대한 이해\\r\\n• 컴퓨터 사이언스에 대한 기본지식\\r\\n• 복잡한 요구사항 속에서 문제를 정의하고 풀어내는 능력\\r\\n• 익숙하지 않은 도메인(세무, 재무)에 대해서 적극적으로 학습할 수 있는 분\\r\\n\\r\\nTech Specs\\r\\n• JavaScript\\r\\n• TypeScript\\r\\n• Vue.js\\r\\n• Github / Github Action\\r\\n• Jira\\r\\n• Slack\\r\\n• Notion\\r\\n• AWS Github\\r\\nJavaScript\\r\\nTypeScript\\r\\nReact.js\\r\\nVue.JS',\n",
       "       '• 3년 이상 또는 그에 준하는 프론트엔드 서비스 개발 및 유지 관리 경험을 가지신 분\\r\\n• 주어진 업무 외에 주도적으로 문제를 발견하고 분석하여 솔루션을 제안할 수 있는 분\\r\\n• Next.js / React 개발 경험이 있으신 분 \\r\\n• Git을 올바르게 사용하고 이를 통한 협업이 가능하신 분 nan',\n",
       "       ...,\n",
       "       '• 관련 업무 경력 3년 이상\\n• 아트에 대한 이해도가 있으신 분\\n• Unreal Engine 4, 5 엔진 경험이 있으신 분\\n• PBR에 대한 이해도가 높으신 분\\n• 최적화 관련 작업에 대한 이해도가 높으신 분\\n• 다양한 분야의 사람과의 협업 능력이 원활하신 분 Unreal Engine\\nMaterial\\nBlueprint',\n",
       "       '• 애자일 방법론을 차용한 프로젝트 관리 및 운용 경험이 3년 이상인 분\\n• 스크럼 운용을 위한 기술과 항목에 대한 지식과 경험을 갖춘 분\\n• Jira, Asana, Confluence 등 프로젝트 관리 도구 활용 경험이 있는 분 Jira\\nAsana\\nSW\\nConfluence\\nSlack',\n",
       "       '• 학력 무관\\n• PBR 쉐이더 기반의 Asset 제작에 충분한 경험이 있으신 분\\n• TA 관련 경력 3년 이상\\n• 팀원 간 원활한 커뮤니케이션 능력 Unreal Engine'],\n",
       "      dtype=object)"
      ]
     },
     "execution_count": 20,
     "metadata": {},
     "output_type": "execute_result"
    }
   ],
   "source": [
    "result['자격요건'].unique()"
   ]
  },
  {
   "cell_type": "code",
   "execution_count": 19,
   "metadata": {},
   "outputs": [
    {
     "data": {
      "text/plain": [
       "회사명       12491\n",
       "공고명       12491\n",
       "직무내용      12491\n",
       "자격요건      12491\n",
       "우대조건      12491\n",
       "경력조건      12491\n",
       "출처 URL    12491\n",
       "복지        12491\n",
       "회사소개      12491\n",
       "주요업무      12491\n",
       "dtype: int64"
      ]
     },
     "execution_count": 19,
     "metadata": {},
     "output_type": "execute_result"
    }
   ],
   "source": [
    "result.count()"
   ]
  },
  {
   "attachments": {},
   "cell_type": "markdown",
   "metadata": {},
   "source": [
    "---------------------------------------------------"
   ]
  },
  {
   "attachments": {},
   "cell_type": "markdown",
   "metadata": {},
   "source": [
    "## 추가 데이터 작업시 사용하는 코드\n",
    "- 3개의 사이트의 기본 전처리는 위의 코드를 참고하여 작성\n",
    "- 자격요건, 기술스택 concat부분만 작성\n"
   ]
  },
  {
   "cell_type": "code",
   "execution_count": 2,
   "metadata": {},
   "outputs": [
    {
     "data": {
      "text/html": [
       "<div>\n",
       "<style scoped>\n",
       "    .dataframe tbody tr th:only-of-type {\n",
       "        vertical-align: middle;\n",
       "    }\n",
       "\n",
       "    .dataframe tbody tr th {\n",
       "        vertical-align: top;\n",
       "    }\n",
       "\n",
       "    .dataframe thead th {\n",
       "        text-align: right;\n",
       "    }\n",
       "</style>\n",
       "<table border=\"1\" class=\"dataframe\">\n",
       "  <thead>\n",
       "    <tr style=\"text-align: right;\">\n",
       "      <th></th>\n",
       "      <th>회사명</th>\n",
       "      <th>공고명</th>\n",
       "      <th>직무내용</th>\n",
       "      <th>자격요건</th>\n",
       "      <th>우대조건</th>\n",
       "      <th>경력조건</th>\n",
       "      <th>출처 URL</th>\n",
       "      <th>복지</th>\n",
       "      <th>회사소개</th>\n",
       "      <th>주요업무</th>\n",
       "    </tr>\n",
       "  </thead>\n",
       "  <tbody>\n",
       "    <tr>\n",
       "      <th>0</th>\n",
       "      <td>혜움랩스</td>\n",
       "      <td>['Python', 'Developer', '백엔드', '주니어']</td>\n",
       "      <td>웹 개발자</td>\n",
       "      <td>['최소', '2년', '이상', '혹은', '그', '에', '준', '하는', ...</td>\n",
       "      <td>['MSA', '기반', '의', '시스템', '개발', '경험', '이', '있으...</td>\n",
       "      <td>2</td>\n",
       "      <td>https://www.wanted.co.kr/wd/167436</td>\n",
       "      <td>['#', '몰입', '을', '위', '한', '액면가', '스톡옵션', '의',...</td>\n",
       "      <td>['간단', '소개', '혜움랩스', '는', '세무', '재무', '경리', '등...</td>\n",
       "      <td>['세무', '알고리즘', '자동화', '설계', '및', '개발', '세무', '...</td>\n",
       "    </tr>\n",
       "    <tr>\n",
       "      <th>1</th>\n",
       "      <td>혜움랩스</td>\n",
       "      <td>['프론트엔드', '개발자', '주니어']</td>\n",
       "      <td>웹 개발자</td>\n",
       "      <td>['HTML', 'CSS', 'JavaScript', '에', '대한', '이해',...</td>\n",
       "      <td>['Vue', '.', 'js', 'React', '.', 'js', 'Angula...</td>\n",
       "      <td>0</td>\n",
       "      <td>https://www.wanted.co.kr/wd/167433</td>\n",
       "      <td>['#', '몰입', '을', '위', '한', '액면가', '스톡옵션', '의',...</td>\n",
       "      <td>['간단', '소개', '혜움랩스', '는', '세무', '재무', '경리', '등...</td>\n",
       "      <td>['세무', '관련', '서비스', '및', '플랫폼', '의', '프론트엔드', ...</td>\n",
       "    </tr>\n",
       "    <tr>\n",
       "      <th>2</th>\n",
       "      <td>유섭</td>\n",
       "      <td>['프론트엔드', '개발자', 'Software', 'Engineer', '3년',...</td>\n",
       "      <td>웹 개발자</td>\n",
       "      <td>['3년', '이상', '또는', '그', '에', '준', '하는', '프론트엔드...</td>\n",
       "      <td>['이런', '분', '은', '더욱', '환영', '합니다', '.', '팀', ...</td>\n",
       "      <td>3</td>\n",
       "      <td>https://www.wanted.co.kr/wd/167134</td>\n",
       "      <td>['자유로운', '휴가', '무제한', '무급', '휴가', '동료', '와', '...</td>\n",
       "      <td>['유섭', '은', '현재', '번역', '서비스', 'Subup', '및', '...</td>\n",
       "      <td>['어떤', '업무', '를', '하게', '되나요', '?', '알트', '에디터...</td>\n",
       "    </tr>\n",
       "    <tr>\n",
       "      <th>3</th>\n",
       "      <td>유섭</td>\n",
       "      <td>['백엔드', '개발자', 'Backend', 'Software', 'Enginee...</td>\n",
       "      <td>웹 개발자</td>\n",
       "      <td>['3년', '이상', '또는', '그', '에', '준', '하는', '백엔드',...</td>\n",
       "      <td>['이런', '분', '은', '더욱', '환영', '합니다', '.', '팀', ...</td>\n",
       "      <td>3</td>\n",
       "      <td>https://www.wanted.co.kr/wd/167133</td>\n",
       "      <td>['자유로운', '휴가', '무제한', '무급', '휴가', '동료', '와', '...</td>\n",
       "      <td>['유섭', '은', '현재', '번역', '서비스', 'Subup', '및', '...</td>\n",
       "      <td>['어떤', '업무', '를', '하게', '되나요', '?', '알트', '에디터...</td>\n",
       "    </tr>\n",
       "    <tr>\n",
       "      <th>4</th>\n",
       "      <td>인투씨엔에스</td>\n",
       "      <td>['웹', '개발', '인재', 'PHP']</td>\n",
       "      <td>웹 개발자</td>\n",
       "      <td>['PHP', '중', '급', '이상', 'MYSQL', '중', '급', '이상...</td>\n",
       "      <td>['웹', '서비스', '라이브', '런칭', '경험', '자', 'RESTful'...</td>\n",
       "      <td>0</td>\n",
       "      <td>https://www.wanted.co.kr/wd/166922</td>\n",
       "      <td>['매월', '1회', '패밀리', '데이', '오전', '근무', '세번', '째...</td>\n",
       "      <td>['다음', '과', '같이', '유능하고', '역량', '있는', '인재', '를...</td>\n",
       "      <td>['웹', '기반', '검사', '시스템', '개발', '및', '유지', '보수'...</td>\n",
       "    </tr>\n",
       "    <tr>\n",
       "      <th>5</th>\n",
       "      <td>꾸까(kukka)</td>\n",
       "      <td>['E', 'commerce', '백엔드', '개발자']</td>\n",
       "      <td>웹 개발자</td>\n",
       "      <td>['1년', '이상', '의', '백엔드', '개발', '경력', '또는', '그'...</td>\n",
       "      <td>['온라인', '커머스', '서비스', '업계', '경험', '이', '있으신', ...</td>\n",
       "      <td>1</td>\n",
       "      <td>https://www.wanted.co.kr/wd/166844</td>\n",
       "      <td>['서울', '7', '호선', '내방역', '1', '번', '출구', '도보',...</td>\n",
       "      <td>['플라워', '대표', '브랜드', '꾸까', 'kukka', '에서', '함께'...</td>\n",
       "      <td>['꾸까', 'e', '커머스', '전용', '프레임워크', '개발', '및', '...</td>\n",
       "    </tr>\n",
       "    <tr>\n",
       "      <th>6</th>\n",
       "      <td>베이스라인파트너스</td>\n",
       "      <td>['Cloud', 'AWS', 'GCP', '기반', '운영', '및', '개발',...</td>\n",
       "      <td>웹 개발자</td>\n",
       "      <td>['AWS', 'linux', 'gitLab', 'DB', 'mysql', 'EKS...</td>\n",
       "      <td>['AWS', '운영', '경험', '개발', 'python', 'java', '등...</td>\n",
       "      <td>0</td>\n",
       "      <td>https://www.wanted.co.kr/wd/166616</td>\n",
       "      <td>['4', '대', '보험', '연차', '제도', '경', '조휴', '가', '...</td>\n",
       "      <td>['\"', '같이의', '가치', '를', '아는', '기업', '\"', '베이스'...</td>\n",
       "      <td>['DB', '단', '개발', '및', '데이터', '관리', '필수', '제출'...</td>\n",
       "    </tr>\n",
       "    <tr>\n",
       "      <th>7</th>\n",
       "      <td>법틀</td>\n",
       "      <td>['SW', '웹', 'Back', 'End', 'Front', 'PL', '개발자...</td>\n",
       "      <td>웹 개발자</td>\n",
       "      <td>['7년', '이상', '의', '소프트웨어', '개발자', '경력', 'Junio...</td>\n",
       "      <td>['Refactoring', '경험', 'ORM', 'DB', '모델링', '설계'...</td>\n",
       "      <td>7</td>\n",
       "      <td>https://www.wanted.co.kr/wd/166030</td>\n",
       "      <td>['1', '편한', '근무', '를', '지원', '합니다', '.', '일', ...</td>\n",
       "      <td>['B', '2', 'B', 'Legal', 'Cloud', 'SAAS', '의',...</td>\n",
       "      <td>['Python', 'Django', 'Java', 'Spring', 'Boot',...</td>\n",
       "    </tr>\n",
       "    <tr>\n",
       "      <th>8</th>\n",
       "      <td>심심이</td>\n",
       "      <td>['산업', '기능', '요원', '보충역', '신입', '만', '개발자']</td>\n",
       "      <td>웹 개발자</td>\n",
       "      <td>['AWS', '등', '클라우드', '컴퓨팅', '경험', '자', 'chatGP...</td>\n",
       "      <td>['Android', 'iOS', 'React', 'Native', '로', '설계...</td>\n",
       "      <td>0</td>\n",
       "      <td>https://www.wanted.co.kr/wd/165816</td>\n",
       "      <td>['야근', '은', '절대', '지', '양', '근무시간', '내', '에', ...</td>\n",
       "      <td>['보충역', '신규', '편입', '자만', '지원', '가능합니다', '.', ...</td>\n",
       "      <td>['다양한', '정부', '과제', '프로젝트', '챗봇', '데이터', '구축',...</td>\n",
       "    </tr>\n",
       "    <tr>\n",
       "      <th>9</th>\n",
       "      <td>이지스엔터프라이즈</td>\n",
       "      <td>['프론트엔드', '개발자', 'VUEJS', '_', '시니어']</td>\n",
       "      <td>웹 개발자</td>\n",
       "      <td>['기본', '기술', '자격', '요건', 'Vue', '.', 'js', '개발...</td>\n",
       "      <td>['보유', '기술', '우대', '사항', 'Vue', '.', 'js', '+'...</td>\n",
       "      <td>6</td>\n",
       "      <td>https://www.wanted.co.kr/wd/164753</td>\n",
       "      <td>['건강한', '사내', '문화', '탄력', '근', '무제', '자유로운', '...</td>\n",
       "      <td>['압도', '적', '인', '안정', '성과', '시장', '점유', '율', ...</td>\n",
       "      <td>['이지스', '앤터', '프라', '이즈', '에서', '제공', '하는', '공...</td>\n",
       "    </tr>\n",
       "    <tr>\n",
       "      <th>10</th>\n",
       "      <td>이지스엔터프라이즈</td>\n",
       "      <td>['프론트엔드', '개발자', 'VUEJS', '_', '주니어']</td>\n",
       "      <td>웹 개발자</td>\n",
       "      <td>['기본', '기술', '자격', '요건', 'Vue', '.', 'js', '개발...</td>\n",
       "      <td>['보유', '기술', '우대', '사항', 'Vue', '.', 'js', '+'...</td>\n",
       "      <td>2</td>\n",
       "      <td>https://www.wanted.co.kr/wd/163673</td>\n",
       "      <td>['건강한', '사내', '문화', '탄력', '근', '무제', '자유로운', '...</td>\n",
       "      <td>['압도', '적', '인', '안정', '성과', '시장', '점유', '율', ...</td>\n",
       "      <td>['이지스', '엔터프라이즈', '에서', '제공', '하는', '공동', '주택'...</td>\n",
       "    </tr>\n",
       "    <tr>\n",
       "      <th>11</th>\n",
       "      <td>제이씨현시스템</td>\n",
       "      <td>['ASP.NET', '웹개발자']</td>\n",
       "      <td>웹 개발자</td>\n",
       "      <td>['C', '#', 'ASP.NET', 'webform', 'MS', 'SQL', ...</td>\n",
       "      <td>['협업', '및', '커뮤니케이션', '우수', '자', '관련', '학과', '...</td>\n",
       "      <td>0</td>\n",
       "      <td>https://www.wanted.co.kr/wd/162812</td>\n",
       "      <td>['사내', '식당', '운영', '경조사', '휴가', '및', '경', '조금'...</td>\n",
       "      <td>['직무', '홈페이지', '자사', '몰', '개발', '및', '유지', '보수...</td>\n",
       "      <td>['웹사이트', '개발', '및', '유지', '보수', '서류', '전형', '1...</td>\n",
       "    </tr>\n",
       "    <tr>\n",
       "      <th>12</th>\n",
       "      <td>블록체인글로벌</td>\n",
       "      <td>['STO', '플랫폼', '서비스', '풀', '스택', '개발']</td>\n",
       "      <td>웹 개발자</td>\n",
       "      <td>['개발', '경력', '최소', '4년', '이상', '10년', '이하', 'J...</td>\n",
       "      <td>['공학', '계열', '전공자', '컴퓨터공학', '수학', '통계학', '등',...</td>\n",
       "      <td>4</td>\n",
       "      <td>https://www.wanted.co.kr/wd/160918</td>\n",
       "      <td>['►', '유연하고', '효율', '적', '인', '업무', '를', '지향',...</td>\n",
       "      <td>['블록', '체인', '글로벌', '은', '투자가', '가능한', '모든', '...</td>\n",
       "      <td>['국내외', '블록', '체인', '기반', '신규', '토큰', '증권', '플...</td>\n",
       "    </tr>\n",
       "    <tr>\n",
       "      <th>13</th>\n",
       "      <td>케이브릿지</td>\n",
       "      <td>['플랫폼', '프론트엔드', 'VUE', '개발자']</td>\n",
       "      <td>웹 개발자</td>\n",
       "      <td>['경력', '프론트', '엔드', '개발', '관련', '경력', '3년', '이...</td>\n",
       "      <td>['하이브리드', 'APP', '프로젝트', '경험', '자', 'ionic', '...</td>\n",
       "      <td>3</td>\n",
       "      <td>https://www.wanted.co.kr/wd/160839</td>\n",
       "      <td>['근무시간', '은', '식사', '시간', '포함', '8시간', '이며', '...</td>\n",
       "      <td>['남', '들', '이', '가보지', '않았던', '새로운', '길', '을',...</td>\n",
       "      <td>['프론트엔드', '전반', '적', '인', '개발', 'Node', '.', '...</td>\n",
       "    </tr>\n",
       "    <tr>\n",
       "      <th>14</th>\n",
       "      <td>엠엑스엔커머스코리아(MXN Commerce Korea)</td>\n",
       "      <td>['PHP', 'Laravel', 'Developer']</td>\n",
       "      <td>웹 개발자</td>\n",
       "      <td>['Programming', 'fundamentals', 'PHP', 'Profic...</td>\n",
       "      <td>['Experience', 'with', 'one', 'of', 'the', 'ma...</td>\n",
       "      <td>0</td>\n",
       "      <td>https://www.wanted.co.kr/wd/160794</td>\n",
       "      <td>['MXN', '은', '직원', '과', '함께', '성장해', '나가기', '위...</td>\n",
       "      <td>['MXN', 'Technology', '는', '전세계', '의', '브랜드', ...</td>\n",
       "      <td>['Design', '&amp;', 'develop', 'new', 'features', ...</td>\n",
       "    </tr>\n",
       "    <tr>\n",
       "      <th>15</th>\n",
       "      <td>유섭</td>\n",
       "      <td>['프론트엔드', '개발자', 'Software', 'Engineer', '3년',...</td>\n",
       "      <td>웹 개발자</td>\n",
       "      <td>['3년', '이상', '또는', '그', '에', '준', '하는', '프론트엔드...</td>\n",
       "      <td>['이런', '분', '은', '더욱', '환영', '합니다', '.', '팀', ...</td>\n",
       "      <td>3</td>\n",
       "      <td>https://www.wanted.co.kr/wd/160301</td>\n",
       "      <td>['자유로운', '휴가', '무제한', '무급', '휴가', '동료', '와', '...</td>\n",
       "      <td>['유섭', '은', '현재', '번역', '서비스', 'Subup', '및', '...</td>\n",
       "      <td>['어떤', '업무', '를', '하게', '되나요', '?', '알트', '에디터...</td>\n",
       "    </tr>\n",
       "    <tr>\n",
       "      <th>16</th>\n",
       "      <td>유섭</td>\n",
       "      <td>['백엔드', '개발자', 'Backend', 'Software', 'Enginee...</td>\n",
       "      <td>웹 개발자</td>\n",
       "      <td>['3년', '이상', '또는', '그', '에', '준', '하는', '백엔드',...</td>\n",
       "      <td>['이런', '분', '은', '더욱', '환영', '합니다', '.', '팀', ...</td>\n",
       "      <td>3</td>\n",
       "      <td>https://www.wanted.co.kr/wd/160145</td>\n",
       "      <td>['자유로운', '휴가', '무제한', '무급', '휴가', '동료', '와', '...</td>\n",
       "      <td>['유섭', '은', '현재', '번역', '서비스', 'Subup', '및', '...</td>\n",
       "      <td>['어떤', '업무', '를', '하게', '되나요', '?', '알트', '에디터...</td>\n",
       "    </tr>\n",
       "    <tr>\n",
       "      <th>17</th>\n",
       "      <td>투와이(인버즈)</td>\n",
       "      <td>['시니어', '소프트웨어', '엔지니어', '풀', '스택', '5년', '이상']</td>\n",
       "      <td>웹 개발자</td>\n",
       "      <td>['나이', '성별', '학력', '무관', '해외', '여행', '결격', '사유...</td>\n",
       "      <td>['관련', '학과', '전공자', '머신', '러닝', '딥', '러닝', '기반...</td>\n",
       "      <td>5</td>\n",
       "      <td>https://www.wanted.co.kr/wd/159803</td>\n",
       "      <td>['업무', '에', '필요한', '최신', '장비', '및', '소프트웨어', '...</td>\n",
       "      <td>['빠르게', '성장하고', '있는', '투', '와', '이의', '로켓', '에...</td>\n",
       "      <td>['현재', '수행', '중인', 'TIPS', '과제', '비전', 'AI', '...</td>\n",
       "    </tr>\n",
       "    <tr>\n",
       "      <th>18</th>\n",
       "      <td>퀸텟시스템즈</td>\n",
       "      <td>['하이브리드', '앱', '개발자']</td>\n",
       "      <td>웹 개발자</td>\n",
       "      <td>['학력', '초대', '졸', '이상', '경력', '경력', '3년', '이상'...</td>\n",
       "      <td>['개발', '에', '대한', '열정', '과', '의지', '가', '투철', ...</td>\n",
       "      <td>3</td>\n",
       "      <td>https://www.wanted.co.kr/wd/159470</td>\n",
       "      <td>['안정', '된', '생활', '을', '지원', '합니다', '.', '건강검진...</td>\n",
       "      <td>['퀸텟', '시스', '템즈', '는', '2003년', '설립', '이래', '...</td>\n",
       "      <td>['APP', 'WEB', '관련', '시스템', '설계', '개발', '업무', ...</td>\n",
       "    </tr>\n",
       "    <tr>\n",
       "      <th>19</th>\n",
       "      <td>케어닥</td>\n",
       "      <td>['Sr', '.', 'Frontend', 'Engineer', '8년', '이상']</td>\n",
       "      <td>웹 개발자</td>\n",
       "      <td>['만', '8년', '이상', '의', '프론트엔드', '개발', '경력', '또...</td>\n",
       "      <td>['복수', '의', '프로젝트', '를', '리딩', '한', '경험', '이',...</td>\n",
       "      <td>8</td>\n",
       "      <td>https://www.wanted.co.kr/wd/158345</td>\n",
       "      <td>['구성원', '의', '성장', '과', '몰입', '을', '위', '한', '...</td>\n",
       "      <td>['We', 'Make', 'Care', 'Better', '!', '케어닥', '...</td>\n",
       "      <td>['케어', '닥', 'APP', 'WEB', '서비스', '전반', '개발', '...</td>\n",
       "    </tr>\n",
       "  </tbody>\n",
       "</table>\n",
       "</div>"
      ],
      "text/plain": [
       "                               회사명  \\\n",
       "0                             혜움랩스   \n",
       "1                             혜움랩스   \n",
       "2                               유섭   \n",
       "3                               유섭   \n",
       "4                           인투씨엔에스   \n",
       "5                        꾸까(kukka)   \n",
       "6                        베이스라인파트너스   \n",
       "7                               법틀   \n",
       "8                              심심이   \n",
       "9                        이지스엔터프라이즈   \n",
       "10                       이지스엔터프라이즈   \n",
       "11                         제이씨현시스템   \n",
       "12                         블록체인글로벌   \n",
       "13                           케이브릿지   \n",
       "14  엠엑스엔커머스코리아(MXN Commerce Korea)   \n",
       "15                              유섭   \n",
       "16                              유섭   \n",
       "17                        투와이(인버즈)   \n",
       "18                          퀸텟시스템즈   \n",
       "19                             케어닥   \n",
       "\n",
       "                                                  공고명   직무내용  \\\n",
       "0               ['Python', 'Developer', '백엔드', '주니어']  웹 개발자   \n",
       "1                             ['프론트엔드', '개발자', '주니어']  웹 개발자   \n",
       "2   ['프론트엔드', '개발자', 'Software', 'Engineer', '3년',...  웹 개발자   \n",
       "3   ['백엔드', '개발자', 'Backend', 'Software', 'Enginee...  웹 개발자   \n",
       "4                            ['웹', '개발', '인재', 'PHP']  웹 개발자   \n",
       "5                     ['E', 'commerce', '백엔드', '개발자']  웹 개발자   \n",
       "6   ['Cloud', 'AWS', 'GCP', '기반', '운영', '및', '개발',...  웹 개발자   \n",
       "7   ['SW', '웹', 'Back', 'End', 'Front', 'PL', '개발자...  웹 개발자   \n",
       "8         ['산업', '기능', '요원', '보충역', '신입', '만', '개발자']  웹 개발자   \n",
       "9               ['프론트엔드', '개발자', 'VUEJS', '_', '시니어']  웹 개발자   \n",
       "10              ['프론트엔드', '개발자', 'VUEJS', '_', '주니어']  웹 개발자   \n",
       "11                                ['ASP.NET', '웹개발자']  웹 개발자   \n",
       "12             ['STO', '플랫폼', '서비스', '풀', '스택', '개발']  웹 개발자   \n",
       "13                     ['플랫폼', '프론트엔드', 'VUE', '개발자']  웹 개발자   \n",
       "14                    ['PHP', 'Laravel', 'Developer']  웹 개발자   \n",
       "15  ['프론트엔드', '개발자', 'Software', 'Engineer', '3년',...  웹 개발자   \n",
       "16  ['백엔드', '개발자', 'Backend', 'Software', 'Enginee...  웹 개발자   \n",
       "17    ['시니어', '소프트웨어', '엔지니어', '풀', '스택', '5년', '이상']  웹 개발자   \n",
       "18                              ['하이브리드', '앱', '개발자']  웹 개발자   \n",
       "19    ['Sr', '.', 'Frontend', 'Engineer', '8년', '이상']  웹 개발자   \n",
       "\n",
       "                                                 자격요건  \\\n",
       "0   ['최소', '2년', '이상', '혹은', '그', '에', '준', '하는', ...   \n",
       "1   ['HTML', 'CSS', 'JavaScript', '에', '대한', '이해',...   \n",
       "2   ['3년', '이상', '또는', '그', '에', '준', '하는', '프론트엔드...   \n",
       "3   ['3년', '이상', '또는', '그', '에', '준', '하는', '백엔드',...   \n",
       "4   ['PHP', '중', '급', '이상', 'MYSQL', '중', '급', '이상...   \n",
       "5   ['1년', '이상', '의', '백엔드', '개발', '경력', '또는', '그'...   \n",
       "6   ['AWS', 'linux', 'gitLab', 'DB', 'mysql', 'EKS...   \n",
       "7   ['7년', '이상', '의', '소프트웨어', '개발자', '경력', 'Junio...   \n",
       "8   ['AWS', '등', '클라우드', '컴퓨팅', '경험', '자', 'chatGP...   \n",
       "9   ['기본', '기술', '자격', '요건', 'Vue', '.', 'js', '개발...   \n",
       "10  ['기본', '기술', '자격', '요건', 'Vue', '.', 'js', '개발...   \n",
       "11  ['C', '#', 'ASP.NET', 'webform', 'MS', 'SQL', ...   \n",
       "12  ['개발', '경력', '최소', '4년', '이상', '10년', '이하', 'J...   \n",
       "13  ['경력', '프론트', '엔드', '개발', '관련', '경력', '3년', '이...   \n",
       "14  ['Programming', 'fundamentals', 'PHP', 'Profic...   \n",
       "15  ['3년', '이상', '또는', '그', '에', '준', '하는', '프론트엔드...   \n",
       "16  ['3년', '이상', '또는', '그', '에', '준', '하는', '백엔드',...   \n",
       "17  ['나이', '성별', '학력', '무관', '해외', '여행', '결격', '사유...   \n",
       "18  ['학력', '초대', '졸', '이상', '경력', '경력', '3년', '이상'...   \n",
       "19  ['만', '8년', '이상', '의', '프론트엔드', '개발', '경력', '또...   \n",
       "\n",
       "                                                 우대조건  경력조건  \\\n",
       "0   ['MSA', '기반', '의', '시스템', '개발', '경험', '이', '있으...     2   \n",
       "1   ['Vue', '.', 'js', 'React', '.', 'js', 'Angula...     0   \n",
       "2   ['이런', '분', '은', '더욱', '환영', '합니다', '.', '팀', ...     3   \n",
       "3   ['이런', '분', '은', '더욱', '환영', '합니다', '.', '팀', ...     3   \n",
       "4   ['웹', '서비스', '라이브', '런칭', '경험', '자', 'RESTful'...     0   \n",
       "5   ['온라인', '커머스', '서비스', '업계', '경험', '이', '있으신', ...     1   \n",
       "6   ['AWS', '운영', '경험', '개발', 'python', 'java', '등...     0   \n",
       "7   ['Refactoring', '경험', 'ORM', 'DB', '모델링', '설계'...     7   \n",
       "8   ['Android', 'iOS', 'React', 'Native', '로', '설계...     0   \n",
       "9   ['보유', '기술', '우대', '사항', 'Vue', '.', 'js', '+'...     6   \n",
       "10  ['보유', '기술', '우대', '사항', 'Vue', '.', 'js', '+'...     2   \n",
       "11  ['협업', '및', '커뮤니케이션', '우수', '자', '관련', '학과', '...     0   \n",
       "12  ['공학', '계열', '전공자', '컴퓨터공학', '수학', '통계학', '등',...     4   \n",
       "13  ['하이브리드', 'APP', '프로젝트', '경험', '자', 'ionic', '...     3   \n",
       "14  ['Experience', 'with', 'one', 'of', 'the', 'ma...     0   \n",
       "15  ['이런', '분', '은', '더욱', '환영', '합니다', '.', '팀', ...     3   \n",
       "16  ['이런', '분', '은', '더욱', '환영', '합니다', '.', '팀', ...     3   \n",
       "17  ['관련', '학과', '전공자', '머신', '러닝', '딥', '러닝', '기반...     5   \n",
       "18  ['개발', '에', '대한', '열정', '과', '의지', '가', '투철', ...     3   \n",
       "19  ['복수', '의', '프로젝트', '를', '리딩', '한', '경험', '이',...     8   \n",
       "\n",
       "                                출처 URL  \\\n",
       "0   https://www.wanted.co.kr/wd/167436   \n",
       "1   https://www.wanted.co.kr/wd/167433   \n",
       "2   https://www.wanted.co.kr/wd/167134   \n",
       "3   https://www.wanted.co.kr/wd/167133   \n",
       "4   https://www.wanted.co.kr/wd/166922   \n",
       "5   https://www.wanted.co.kr/wd/166844   \n",
       "6   https://www.wanted.co.kr/wd/166616   \n",
       "7   https://www.wanted.co.kr/wd/166030   \n",
       "8   https://www.wanted.co.kr/wd/165816   \n",
       "9   https://www.wanted.co.kr/wd/164753   \n",
       "10  https://www.wanted.co.kr/wd/163673   \n",
       "11  https://www.wanted.co.kr/wd/162812   \n",
       "12  https://www.wanted.co.kr/wd/160918   \n",
       "13  https://www.wanted.co.kr/wd/160839   \n",
       "14  https://www.wanted.co.kr/wd/160794   \n",
       "15  https://www.wanted.co.kr/wd/160301   \n",
       "16  https://www.wanted.co.kr/wd/160145   \n",
       "17  https://www.wanted.co.kr/wd/159803   \n",
       "18  https://www.wanted.co.kr/wd/159470   \n",
       "19  https://www.wanted.co.kr/wd/158345   \n",
       "\n",
       "                                                   복지  \\\n",
       "0   ['#', '몰입', '을', '위', '한', '액면가', '스톡옵션', '의',...   \n",
       "1   ['#', '몰입', '을', '위', '한', '액면가', '스톡옵션', '의',...   \n",
       "2   ['자유로운', '휴가', '무제한', '무급', '휴가', '동료', '와', '...   \n",
       "3   ['자유로운', '휴가', '무제한', '무급', '휴가', '동료', '와', '...   \n",
       "4   ['매월', '1회', '패밀리', '데이', '오전', '근무', '세번', '째...   \n",
       "5   ['서울', '7', '호선', '내방역', '1', '번', '출구', '도보',...   \n",
       "6   ['4', '대', '보험', '연차', '제도', '경', '조휴', '가', '...   \n",
       "7   ['1', '편한', '근무', '를', '지원', '합니다', '.', '일', ...   \n",
       "8   ['야근', '은', '절대', '지', '양', '근무시간', '내', '에', ...   \n",
       "9   ['건강한', '사내', '문화', '탄력', '근', '무제', '자유로운', '...   \n",
       "10  ['건강한', '사내', '문화', '탄력', '근', '무제', '자유로운', '...   \n",
       "11  ['사내', '식당', '운영', '경조사', '휴가', '및', '경', '조금'...   \n",
       "12  ['►', '유연하고', '효율', '적', '인', '업무', '를', '지향',...   \n",
       "13  ['근무시간', '은', '식사', '시간', '포함', '8시간', '이며', '...   \n",
       "14  ['MXN', '은', '직원', '과', '함께', '성장해', '나가기', '위...   \n",
       "15  ['자유로운', '휴가', '무제한', '무급', '휴가', '동료', '와', '...   \n",
       "16  ['자유로운', '휴가', '무제한', '무급', '휴가', '동료', '와', '...   \n",
       "17  ['업무', '에', '필요한', '최신', '장비', '및', '소프트웨어', '...   \n",
       "18  ['안정', '된', '생활', '을', '지원', '합니다', '.', '건강검진...   \n",
       "19  ['구성원', '의', '성장', '과', '몰입', '을', '위', '한', '...   \n",
       "\n",
       "                                                 회사소개  \\\n",
       "0   ['간단', '소개', '혜움랩스', '는', '세무', '재무', '경리', '등...   \n",
       "1   ['간단', '소개', '혜움랩스', '는', '세무', '재무', '경리', '등...   \n",
       "2   ['유섭', '은', '현재', '번역', '서비스', 'Subup', '및', '...   \n",
       "3   ['유섭', '은', '현재', '번역', '서비스', 'Subup', '및', '...   \n",
       "4   ['다음', '과', '같이', '유능하고', '역량', '있는', '인재', '를...   \n",
       "5   ['플라워', '대표', '브랜드', '꾸까', 'kukka', '에서', '함께'...   \n",
       "6   ['\"', '같이의', '가치', '를', '아는', '기업', '\"', '베이스'...   \n",
       "7   ['B', '2', 'B', 'Legal', 'Cloud', 'SAAS', '의',...   \n",
       "8   ['보충역', '신규', '편입', '자만', '지원', '가능합니다', '.', ...   \n",
       "9   ['압도', '적', '인', '안정', '성과', '시장', '점유', '율', ...   \n",
       "10  ['압도', '적', '인', '안정', '성과', '시장', '점유', '율', ...   \n",
       "11  ['직무', '홈페이지', '자사', '몰', '개발', '및', '유지', '보수...   \n",
       "12  ['블록', '체인', '글로벌', '은', '투자가', '가능한', '모든', '...   \n",
       "13  ['남', '들', '이', '가보지', '않았던', '새로운', '길', '을',...   \n",
       "14  ['MXN', 'Technology', '는', '전세계', '의', '브랜드', ...   \n",
       "15  ['유섭', '은', '현재', '번역', '서비스', 'Subup', '및', '...   \n",
       "16  ['유섭', '은', '현재', '번역', '서비스', 'Subup', '및', '...   \n",
       "17  ['빠르게', '성장하고', '있는', '투', '와', '이의', '로켓', '에...   \n",
       "18  ['퀸텟', '시스', '템즈', '는', '2003년', '설립', '이래', '...   \n",
       "19  ['We', 'Make', 'Care', 'Better', '!', '케어닥', '...   \n",
       "\n",
       "                                                 주요업무  \n",
       "0   ['세무', '알고리즘', '자동화', '설계', '및', '개발', '세무', '...  \n",
       "1   ['세무', '관련', '서비스', '및', '플랫폼', '의', '프론트엔드', ...  \n",
       "2   ['어떤', '업무', '를', '하게', '되나요', '?', '알트', '에디터...  \n",
       "3   ['어떤', '업무', '를', '하게', '되나요', '?', '알트', '에디터...  \n",
       "4   ['웹', '기반', '검사', '시스템', '개발', '및', '유지', '보수'...  \n",
       "5   ['꾸까', 'e', '커머스', '전용', '프레임워크', '개발', '및', '...  \n",
       "6   ['DB', '단', '개발', '및', '데이터', '관리', '필수', '제출'...  \n",
       "7   ['Python', 'Django', 'Java', 'Spring', 'Boot',...  \n",
       "8   ['다양한', '정부', '과제', '프로젝트', '챗봇', '데이터', '구축',...  \n",
       "9   ['이지스', '앤터', '프라', '이즈', '에서', '제공', '하는', '공...  \n",
       "10  ['이지스', '엔터프라이즈', '에서', '제공', '하는', '공동', '주택'...  \n",
       "11  ['웹사이트', '개발', '및', '유지', '보수', '서류', '전형', '1...  \n",
       "12  ['국내외', '블록', '체인', '기반', '신규', '토큰', '증권', '플...  \n",
       "13  ['프론트엔드', '전반', '적', '인', '개발', 'Node', '.', '...  \n",
       "14  ['Design', '&', 'develop', 'new', 'features', ...  \n",
       "15  ['어떤', '업무', '를', '하게', '되나요', '?', '알트', '에디터...  \n",
       "16  ['어떤', '업무', '를', '하게', '되나요', '?', '알트', '에디터...  \n",
       "17  ['현재', '수행', '중인', 'TIPS', '과제', '비전', 'AI', '...  \n",
       "18  ['APP', 'WEB', '관련', '시스템', '설계', '개발', '업무', ...  \n",
       "19  ['케어', '닥', 'APP', 'WEB', '서비스', '전반', '개발', '...  "
      ]
     },
     "execution_count": 2,
     "metadata": {},
     "output_type": "execute_result"
    }
   ],
   "source": [
    "data = pd.read_csv('./Data_result/pre_result_morph (1).csv')\n",
    "data.head(20)"
   ]
  },
  {
   "cell_type": "code",
   "execution_count": null,
   "metadata": {},
   "outputs": [],
   "source": []
  },
  {
   "attachments": {},
   "cell_type": "markdown",
   "metadata": {},
   "source": [
    "## 최종 result 데이터 저장\n"
   ]
  },
  {
   "cell_type": "code",
   "execution_count": 21,
   "metadata": {},
   "outputs": [],
   "source": [
    "result.to_csv('./Data_result/pre_result.csv', index=False)"
   ]
  },
  {
   "cell_type": "code",
   "execution_count": null,
   "metadata": {},
   "outputs": [],
   "source": []
  }
 ],
 "metadata": {
  "kernelspec": {
   "display_name": "base",
   "language": "python",
   "name": "python3"
  },
  "language_info": {
   "codemirror_mode": {
    "name": "ipython",
    "version": 3
   },
   "file_extension": ".py",
   "mimetype": "text/x-python",
   "name": "python",
   "nbconvert_exporter": "python",
   "pygments_lexer": "ipython3",
   "version": "3.8.3"
  },
  "orig_nbformat": 4,
  "vscode": {
   "interpreter": {
    "hash": "ad2bdc8ecc057115af97d19610ffacc2b4e99fae6737bb82f5d7fb13d2f2c186"
   }
  }
 },
 "nbformat": 4,
 "nbformat_minor": 2
}
