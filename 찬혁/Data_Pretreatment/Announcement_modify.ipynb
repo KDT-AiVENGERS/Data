{
 "cells": [
  {
   "attachments": {},
   "cell_type": "markdown",
   "metadata": {},
   "source": [
    "## Data Crawling\n",
    "- 사이트별로 직무내용이 너무 상이함, 구분을 지어주기가 쉽지 않음  \n",
    "-> 학습에 의해 판단되므로 직무내용을 굳이 안넣어도 될 것 같음  \n",
    "-> ```회사소개, 주요업무 column 추가``` 아래의 내용과 같이 모든 column 통일  \n",
    "```회사명, 지원기간, 공고명, 직무내용, 자격요건, 우대조건, 경력조건, 기술 스택, 출처 URL, 복지, 회사소개, 주요업무```"
   ]
  },
  {
   "cell_type": "code",
   "execution_count": 2,
   "metadata": {},
   "outputs": [],
   "source": [
    "import pandas as pd\n",
    "import numpy as np\n",
    "import re"
   ]
  },
  {
   "attachments": {},
   "cell_type": "markdown",
   "metadata": {},
   "source": [
    "### 원티드 데이터 전처리\n",
    "- column확인 후 필요없는 column제거 후 정해진 frame의 column name으로 변경\n",
    "- 정해진 frame의 column_name으로 변경\n",
    "- ```회사명, 지원기간, 공고명, 직무내용, 자격요건, 우대조건, 경력조건, 기술 스택, 출처 URL, 복지, 회사소개, 주요업무```"
   ]
  },
  {
   "cell_type": "code",
   "execution_count": 7,
   "metadata": {},
   "outputs": [
    {
     "data": {
      "text/html": [
       "<div>\n",
       "<style scoped>\n",
       "    .dataframe tbody tr th:only-of-type {\n",
       "        vertical-align: middle;\n",
       "    }\n",
       "\n",
       "    .dataframe tbody tr th {\n",
       "        vertical-align: top;\n",
       "    }\n",
       "\n",
       "    .dataframe thead th {\n",
       "        text-align: right;\n",
       "    }\n",
       "</style>\n",
       "<table border=\"1\" class=\"dataframe\">\n",
       "  <thead>\n",
       "    <tr style=\"text-align: right;\">\n",
       "      <th></th>\n",
       "      <th>직무명</th>\n",
       "      <th>채용공고명</th>\n",
       "      <th>해시태그</th>\n",
       "      <th>회사소개</th>\n",
       "      <th>주요업무</th>\n",
       "      <th>자격요건</th>\n",
       "      <th>우대사항</th>\n",
       "      <th>혜택 및 복지</th>\n",
       "      <th>기술스택 ・ 툴</th>\n",
       "      <th>근무지역</th>\n",
       "      <th>회사명</th>\n",
       "      <th>회사분야</th>\n",
       "      <th>출처</th>\n",
       "    </tr>\n",
       "  </thead>\n",
       "  <tbody>\n",
       "    <tr>\n",
       "      <th>0</th>\n",
       "      <td>웹 개발자</td>\n",
       "      <td>Python Developer (백엔드 주니어)</td>\n",
       "      <td>#퇴사율5%이하#51~300명#설립4~9년#육아휴직#출산휴가#스톡옵션#건강검진#교육...</td>\n",
       "      <td>- 간단소개\\r\\n혜움랩스는 세무,재무,경리 등 AI기반 비서형 금융 서비스를 Fa...</td>\n",
       "      <td>• 세무 알고리즘 자동화 설계 및 개발\\r\\n• 세무팀과 커뮤니케이션\\r\\n• AW...</td>\n",
       "      <td>• 최소 2년 이상 혹은 그에 준하는 해당 업무 경험\\r\\n• Python(필수),...</td>\n",
       "      <td>• MSA 기반의 시스템 개발 경험이 있으신 분\\r\\n• AWS 를 활용한 개발, ...</td>\n",
       "      <td># 몰입을 위한\\r\\n• 액면가 스톡옵션의 기회가 열려있습니다. (2023년 7월 ...</td>\n",
       "      <td>Github\\r\\nJavaScript\\r\\nTypeScript\\r\\nReact.js...</td>\n",
       "      <td>서울.한국</td>\n",
       "      <td>혜움랩스</td>\n",
       "      <td>IT, 컨텐츠</td>\n",
       "      <td>https://www.wanted.co.kr/wd/167436</td>\n",
       "    </tr>\n",
       "  </tbody>\n",
       "</table>\n",
       "</div>"
      ],
      "text/plain": [
       "     직무명                       채용공고명  \\\n",
       "0  웹 개발자  Python Developer (백엔드 주니어)   \n",
       "\n",
       "                                                해시태그  \\\n",
       "0  #퇴사율5%이하#51~300명#설립4~9년#육아휴직#출산휴가#스톡옵션#건강검진#교육...   \n",
       "\n",
       "                                                회사소개  \\\n",
       "0  - 간단소개\\r\\n혜움랩스는 세무,재무,경리 등 AI기반 비서형 금융 서비스를 Fa...   \n",
       "\n",
       "                                                주요업무  \\\n",
       "0  • 세무 알고리즘 자동화 설계 및 개발\\r\\n• 세무팀과 커뮤니케이션\\r\\n• AW...   \n",
       "\n",
       "                                                자격요건  \\\n",
       "0  • 최소 2년 이상 혹은 그에 준하는 해당 업무 경험\\r\\n• Python(필수),...   \n",
       "\n",
       "                                                우대사항  \\\n",
       "0  • MSA 기반의 시스템 개발 경험이 있으신 분\\r\\n• AWS 를 활용한 개발, ...   \n",
       "\n",
       "                                             혜택 및 복지  \\\n",
       "0  # 몰입을 위한\\r\\n• 액면가 스톡옵션의 기회가 열려있습니다. (2023년 7월 ...   \n",
       "\n",
       "                                            기술스택 ・ 툴   근무지역   회사명     회사분야  \\\n",
       "0  Github\\r\\nJavaScript\\r\\nTypeScript\\r\\nReact.js...  서울.한국  혜움랩스  IT, 컨텐츠   \n",
       "\n",
       "                                   출처  \n",
       "0  https://www.wanted.co.kr/wd/167436  "
      ]
     },
     "execution_count": 7,
     "metadata": {},
     "output_type": "execute_result"
    }
   ],
   "source": [
    "wanted = pd.read_csv('../Crawling/Announcement_data/wanted.csv')\n",
    "wanted.head(1)"
   ]
  },
  {
   "attachments": {},
   "cell_type": "markdown",
   "metadata": {},
   "source": [
    "- **결측치 확인 부분**  \n",
    "상황에 따라 다르게 작성"
   ]
  },
  {
   "cell_type": "code",
   "execution_count": 8,
   "metadata": {},
   "outputs": [
    {
     "data": {
      "text/plain": [
       "직무명         7874\n",
       "채용공고명       7858\n",
       "해시태그        7874\n",
       "회사소개        7874\n",
       "주요업무        7874\n",
       "자격요건        7874\n",
       "우대사항        7874\n",
       "혜택 및 복지     7874\n",
       "기술스택 ・ 툴    5695\n",
       "근무지역        7874\n",
       "회사명         7874\n",
       "회사분야        7874\n",
       "출처          7874\n",
       "dtype: int64"
      ]
     },
     "execution_count": 8,
     "metadata": {},
     "output_type": "execute_result"
    }
   ],
   "source": [
    "#우대사항, 자격요건, 혜택 및 복지 부분 nan값 row 제거\n",
    "\n",
    "wanted.dropna(subset=['우대사항', '자격요건','혜택 및 복지'], inplace=True)\n",
    "wanted.count()"
   ]
  },
  {
   "cell_type": "code",
   "execution_count": 9,
   "metadata": {},
   "outputs": [
    {
     "data": {
      "text/plain": [
       "직무명         7873\n",
       "채용공고명       7873\n",
       "해시태그        7873\n",
       "회사소개        7873\n",
       "주요업무        7873\n",
       "자격요건        7873\n",
       "우대사항        7873\n",
       "혜택 및 복지     7873\n",
       "기술스택 ・ 툴    5695\n",
       "근무지역        7873\n",
       "회사명         7873\n",
       "회사분야        7873\n",
       "출처          7873\n",
       "dtype: int64"
      ]
     },
     "execution_count": 9,
     "metadata": {},
     "output_type": "execute_result"
    }
   ],
   "source": [
    "#채용공고명만 비어있는 부분 채워줌, 크롤링 진행시 누락된 것으로 확인\n",
    "\n",
    "null_data = wanted[wanted['채용공고명'].isnull() == True]['출처'].tolist()\n",
    "add_data = ['[제주] 백엔드 개발자 (5년 이하)',\n",
    "            '백엔드 개발자',\n",
    "            '[광고 제품팀] 풀 스택 엔지니어 리드',\n",
    "            'Sr. Back-end Engineer',\n",
    "            'iOS 코어 개발자 (5년 이상)',\n",
    "            '모바일 SW 개발자(C,C++)',\n",
    "            '디바이스 부문 개발자',\n",
    "            'Unity 개발자',\n",
    "            '기술연구소 백엔드 서버 개발자',\n",
    "            '백엔드 개발자 (BackEnd Engineer)',\n",
    "            'Senior Software Engineer, Android',\n",
    "            '백엔드 개발자(Node.js, 시니어)',\n",
    "            '백엔드 개발자 (Node.js, 주니어)',\n",
    "            0,\n",
    "            'AI SW 개발자',\n",
    "            'Data Engineer(2년 이상)']\n",
    "\n",
    "for n_data, a_data in zip(null_data,add_data):\n",
    "    if a_data == 0:\n",
    "        wanted.drop(wanted[wanted['출처'] == n_data].index, inplace=True)\n",
    "        continue\n",
    "    wanted.loc[wanted['출처'] == n_data, '채용공고명'] = a_data\n",
    "\n",
    "#drop으로 인한 index 누락 reindexing\n",
    "wanted.reset_index(drop=True, inplace=True)\n",
    "wanted.count()"
   ]
  },
  {
   "cell_type": "code",
   "execution_count": 10,
   "metadata": {},
   "outputs": [
    {
     "data": {
      "text/plain": [
       "Index(['직무내용', '공고명', '해시태그', '회사소개', '주요업무', '자격요건', '우대조건', '복지', '기술 스택',\n",
       "       '근무지역', '회사명', '회사분야', '출처 URL'],\n",
       "      dtype='object')"
      ]
     },
     "execution_count": 10,
     "metadata": {},
     "output_type": "execute_result"
    }
   ],
   "source": [
    "wanted.rename(columns={'직무명':'직무내용',\n",
    "                       '채용공고명':'공고명',\n",
    "                       '기술스택 ・ 툴':'기술 스택',\n",
    "                       '혜택 및 복지':'복지',\n",
    "                       '출처':'출처 URL',\n",
    "                       '우대사항':'우대조건',\n",
    "                       }, inplace=True)\n",
    "\n",
    "wanted.columns"
   ]
  },
  {
   "attachments": {},
   "cell_type": "markdown",
   "metadata": {},
   "source": [
    "- 지원기간은 이야기 해봐야 할 듯, 경력조건은 자격요건의 내용에서 추출\n",
    "\n",
    "### wanted 패턴\n",
    "- 경력 n년 이상\n",
    "- 경력 n년이상\n",
    "- n~k년\n",
    "- n년~k년"
   ]
  },
  {
   "cell_type": "code",
   "execution_count": 11,
   "metadata": {},
   "outputs": [],
   "source": [
    "def extract_years(string, patterns):\n",
    "    for pattern in patterns:\n",
    "        match = re.search(pattern, string)\n",
    "        if match:\n",
    "            if '~' in pattern:\n",
    "                start_year = match.group(1)\n",
    "                return int(start_year)\n",
    "            else:\n",
    "                return int(match.group(1))\n",
    "    \n",
    "    return 0\n"
   ]
  },
  {
   "cell_type": "code",
   "execution_count": 12,
   "metadata": {},
   "outputs": [],
   "source": [
    "max_count = wanted['자격요건'].count()\n",
    "wanted['경력조건'] = None\n",
    "patterns = [r'(\\d+)년 이상', r'(\\d+)년이상', r'(\\d+)~(\\d+)년', r'(\\d+)년~(\\d+)년']\n",
    "\n",
    "for i in range(0, max_count):\n",
    "    wanted.loc[i, '경력조건'] = extract_years(wanted['자격요건'][i], patterns)\n"
   ]
  },
  {
   "cell_type": "code",
   "execution_count": 13,
   "metadata": {},
   "outputs": [
    {
     "data": {
      "text/plain": [
       "array([2, 0, 3, 1, 7, 6, 4, 5, 8, 10, 15, 9, 12], dtype=object)"
      ]
     },
     "execution_count": 13,
     "metadata": {},
     "output_type": "execute_result"
    }
   ],
   "source": [
    "wanted['경력조건'].unique()"
   ]
  },
  {
   "attachments": {},
   "cell_type": "markdown",
   "metadata": {},
   "source": [
    "- ```회사명, 지원기간, 공고명, 직무내용, 자격요건, 우대조건, 경력조건, 기술 스택, 출처 URL, 복지, 회사소개, 주요업무```"
   ]
  },
  {
   "cell_type": "code",
   "execution_count": 14,
   "metadata": {},
   "outputs": [
    {
     "data": {
      "text/plain": [
       "회사명       7873\n",
       "지원기간         0\n",
       "공고명       7873\n",
       "직무내용      7873\n",
       "자격요건      7873\n",
       "우대조건      7873\n",
       "경력조건      7873\n",
       "기술 스택     5695\n",
       "출처 URL    7873\n",
       "복지        7873\n",
       "회사소개      7873\n",
       "주요업무      7873\n",
       "dtype: int64"
      ]
     },
     "execution_count": 14,
     "metadata": {},
     "output_type": "execute_result"
    }
   ],
   "source": [
    "new_order = ['회사명', '지원기간', '공고명', '직무내용', '자격요건', '우대조건', '경력조건', '기술 스택', '출처 URL', '복지', '회사소개', '주요업무']\n",
    "wanted = wanted.reindex(columns=new_order)\n",
    "wanted.count()"
   ]
  },
  {
   "cell_type": "code",
   "execution_count": 15,
   "metadata": {},
   "outputs": [],
   "source": [
    "#csv 파일로 저장\n",
    "\n",
    "wanted.to_csv('./Data_result/pre_wanted.csv',index=False)"
   ]
  },
  {
   "attachments": {},
   "cell_type": "markdown",
   "metadata": {},
   "source": [
    "### 잡플래닛 데이터 전처리\n",
    "- column확인 후 필요없는 column제거 후 정해진 frame의 column name으로 변경\n",
    "- 정해진 frame의 column_name으로 변경\n",
    "- ```회사명, 지원기간, 공고명, 직무내용, 자격요건, 우대조건, 경력조건, 기술 스택, 출처 URL, 복지, 회사소개, 주요업무```"
   ]
  },
  {
   "cell_type": "code",
   "execution_count": 21,
   "metadata": {},
   "outputs": [
    {
     "data": {
      "text/html": [
       "<div>\n",
       "<style scoped>\n",
       "    .dataframe tbody tr th:only-of-type {\n",
       "        vertical-align: middle;\n",
       "    }\n",
       "\n",
       "    .dataframe tbody tr th {\n",
       "        vertical-align: top;\n",
       "    }\n",
       "\n",
       "    .dataframe thead th {\n",
       "        text-align: right;\n",
       "    }\n",
       "</style>\n",
       "<table border=\"1\" class=\"dataframe\">\n",
       "  <thead>\n",
       "    <tr style=\"text-align: right;\">\n",
       "      <th></th>\n",
       "      <th>href</th>\n",
       "      <th>title</th>\n",
       "      <th>company_name</th>\n",
       "      <th>job_location</th>\n",
       "      <th>job_classification</th>\n",
       "      <th>due_date</th>\n",
       "      <th>work_experience</th>\n",
       "      <th>skills</th>\n",
       "      <th>company_intro</th>\n",
       "      <th>main_task</th>\n",
       "      <th>qualification</th>\n",
       "      <th>preference</th>\n",
       "      <th>procedure</th>\n",
       "      <th>benefits</th>\n",
       "      <th>job_location_detail</th>\n",
       "      <th>detail_description</th>\n",
       "    </tr>\n",
       "  </thead>\n",
       "  <tbody>\n",
       "    <tr>\n",
       "      <th>0</th>\n",
       "      <td>https://www.jobplanet.co.kr/job/search?posting...</td>\n",
       "      <td>B2B 백엔드 엔지니어</td>\n",
       "      <td>(주)마이프랜차이즈</td>\n",
       "      <td>서울</td>\n",
       "      <td>백엔드 개발</td>\n",
       "      <td>2023.07.24 D-1</td>\n",
       "      <td>경력무관</td>\n",
       "      <td>백엔드, B2B, MongoDB, node js</td>\n",
       "      <td>＜마이프랜차이즈가 오프라인 창업 시장을 바꿉니다.＞\\r\\n\\r\\n코로나19 이후 어...</td>\n",
       "      <td>• 마이프차 Partner 대상 서비스 백엔드 개선 및 새 기능 개발\\r\\n•  각...</td>\n",
       "      <td>• 3년 이상의 상용 서비스 백엔드 개발 경험 또는 이에 준하는 역량 보유자\\r\\n...</td>\n",
       "      <td>• 프로젝트 세팅부터 서비스 런칭까지 전 과정에 대한 경험이 있는 분\\r\\n• MS...</td>\n",
       "      <td>＜채용은 이렇게 진행됩니다＞\\r\\n1. 서류 전형\\r\\n : 마이프랜차이즈는 정해진...</td>\n",
       "      <td>• 시차출퇴근제 (08~10시 자율 출근, 일 8시간 근무)\\r\\n• 수습 기간 종...</td>\n",
       "      <td>서울시 강남구 강남대로92길 19, 여원빌딩 11층</td>\n",
       "      <td>&lt;section class=\"recruitment-detail\"&gt;&lt;div class...</td>\n",
       "    </tr>\n",
       "  </tbody>\n",
       "</table>\n",
       "</div>"
      ],
      "text/plain": [
       "                                                href         title  \\\n",
       "0  https://www.jobplanet.co.kr/job/search?posting...  B2B 백엔드 엔지니어   \n",
       "\n",
       "  company_name job_location job_classification        due_date  \\\n",
       "0   (주)마이프랜차이즈           서울             백엔드 개발  2023.07.24 D-1   \n",
       "\n",
       "  work_experience                      skills  \\\n",
       "0            경력무관  백엔드, B2B, MongoDB, node js   \n",
       "\n",
       "                                       company_intro  \\\n",
       "0  ＜마이프랜차이즈가 오프라인 창업 시장을 바꿉니다.＞\\r\\n\\r\\n코로나19 이후 어...   \n",
       "\n",
       "                                           main_task  \\\n",
       "0  • 마이프차 Partner 대상 서비스 백엔드 개선 및 새 기능 개발\\r\\n•  각...   \n",
       "\n",
       "                                       qualification  \\\n",
       "0  • 3년 이상의 상용 서비스 백엔드 개발 경험 또는 이에 준하는 역량 보유자\\r\\n...   \n",
       "\n",
       "                                          preference  \\\n",
       "0  • 프로젝트 세팅부터 서비스 런칭까지 전 과정에 대한 경험이 있는 분\\r\\n• MS...   \n",
       "\n",
       "                                           procedure  \\\n",
       "0  ＜채용은 이렇게 진행됩니다＞\\r\\n1. 서류 전형\\r\\n : 마이프랜차이즈는 정해진...   \n",
       "\n",
       "                                            benefits  \\\n",
       "0  • 시차출퇴근제 (08~10시 자율 출근, 일 8시간 근무)\\r\\n• 수습 기간 종...   \n",
       "\n",
       "            job_location_detail  \\\n",
       "0  서울시 강남구 강남대로92길 19, 여원빌딩 11층   \n",
       "\n",
       "                                  detail_description  \n",
       "0  <section class=\"recruitment-detail\"><div class...  "
      ]
     },
     "execution_count": 21,
     "metadata": {},
     "output_type": "execute_result"
    }
   ],
   "source": [
    "jobplanet = pd.read_csv('../Crawling/Announcement_data/extracted_softwareengineer.csv')\n",
    "jobplanet.head(1)"
   ]
  },
  {
   "cell_type": "code",
   "execution_count": 22,
   "metadata": {},
   "outputs": [
    {
     "data": {
      "text/plain": [
       "Index(['출처 URL', '공고명', '회사명', 'job_location', '직무내용', '지원기간', '경력조건', '기술 스택',\n",
       "       '회사소개', '주요업무', '자격요건', '우대조건', 'procedure', '복지',\n",
       "       'job_location_detail', 'detail_description'],\n",
       "      dtype='object')"
      ]
     },
     "execution_count": 22,
     "metadata": {},
     "output_type": "execute_result"
    }
   ],
   "source": [
    "jobplanet.rename(columns={'href': '출처 URL', \n",
    "                          'title': '공고명',\n",
    "                          'company_name':'회사명',\n",
    "                          'job_classification':'직무내용',\n",
    "                          'due_date':'지원기간',\n",
    "                          'work_experience':'경력조건',\n",
    "                          'skills':'기술 스택',\n",
    "                          'main_task':'주요 업무',\n",
    "                          'qualification':'자격요건',\n",
    "                          'preference':'우대조건',\n",
    "                          'benefits':'복지',\n",
    "                          'company_intro': '회사소개',\n",
    "                          'main_task':'주요업무'\n",
    "                          }, inplace=True)\n",
    "jobplanet.columns"
   ]
  },
  {
   "cell_type": "code",
   "execution_count": 23,
   "metadata": {},
   "outputs": [
    {
     "data": {
      "text/html": [
       "<div>\n",
       "<style scoped>\n",
       "    .dataframe tbody tr th:only-of-type {\n",
       "        vertical-align: middle;\n",
       "    }\n",
       "\n",
       "    .dataframe tbody tr th {\n",
       "        vertical-align: top;\n",
       "    }\n",
       "\n",
       "    .dataframe thead th {\n",
       "        text-align: right;\n",
       "    }\n",
       "</style>\n",
       "<table border=\"1\" class=\"dataframe\">\n",
       "  <thead>\n",
       "    <tr style=\"text-align: right;\">\n",
       "      <th></th>\n",
       "      <th>회사명</th>\n",
       "      <th>지원기간</th>\n",
       "      <th>공고명</th>\n",
       "      <th>직무내용</th>\n",
       "      <th>자격요건</th>\n",
       "      <th>우대조건</th>\n",
       "      <th>경력조건</th>\n",
       "      <th>기술 스택</th>\n",
       "      <th>출처 URL</th>\n",
       "      <th>복지</th>\n",
       "      <th>회사소개</th>\n",
       "      <th>주요업무</th>\n",
       "    </tr>\n",
       "  </thead>\n",
       "  <tbody>\n",
       "    <tr>\n",
       "      <th>0</th>\n",
       "      <td>(주)마이프랜차이즈</td>\n",
       "      <td>2023.07.24 D-1</td>\n",
       "      <td>B2B 백엔드 엔지니어</td>\n",
       "      <td>백엔드 개발</td>\n",
       "      <td>• 3년 이상의 상용 서비스 백엔드 개발 경험 또는 이에 준하는 역량 보유자\\r\\n...</td>\n",
       "      <td>• 프로젝트 세팅부터 서비스 런칭까지 전 과정에 대한 경험이 있는 분\\r\\n• MS...</td>\n",
       "      <td>경력무관</td>\n",
       "      <td>백엔드, B2B, MongoDB, node js</td>\n",
       "      <td>https://www.jobplanet.co.kr/job/search?posting...</td>\n",
       "      <td>• 시차출퇴근제 (08~10시 자율 출근, 일 8시간 근무)\\r\\n• 수습 기간 종...</td>\n",
       "      <td>＜마이프랜차이즈가 오프라인 창업 시장을 바꿉니다.＞\\r\\n\\r\\n코로나19 이후 어...</td>\n",
       "      <td>• 마이프차 Partner 대상 서비스 백엔드 개선 및 새 기능 개발\\r\\n•  각...</td>\n",
       "    </tr>\n",
       "  </tbody>\n",
       "</table>\n",
       "</div>"
      ],
      "text/plain": [
       "          회사명            지원기간           공고명    직무내용  \\\n",
       "0  (주)마이프랜차이즈  2023.07.24 D-1  B2B 백엔드 엔지니어  백엔드 개발   \n",
       "\n",
       "                                                자격요건  \\\n",
       "0  • 3년 이상의 상용 서비스 백엔드 개발 경험 또는 이에 준하는 역량 보유자\\r\\n...   \n",
       "\n",
       "                                                우대조건  경력조건  \\\n",
       "0  • 프로젝트 세팅부터 서비스 런칭까지 전 과정에 대한 경험이 있는 분\\r\\n• MS...  경력무관   \n",
       "\n",
       "                        기술 스택  \\\n",
       "0  백엔드, B2B, MongoDB, node js   \n",
       "\n",
       "                                              출처 URL  \\\n",
       "0  https://www.jobplanet.co.kr/job/search?posting...   \n",
       "\n",
       "                                                  복지  \\\n",
       "0  • 시차출퇴근제 (08~10시 자율 출근, 일 8시간 근무)\\r\\n• 수습 기간 종...   \n",
       "\n",
       "                                                회사소개  \\\n",
       "0  ＜마이프랜차이즈가 오프라인 창업 시장을 바꿉니다.＞\\r\\n\\r\\n코로나19 이후 어...   \n",
       "\n",
       "                                                주요업무  \n",
       "0  • 마이프차 Partner 대상 서비스 백엔드 개선 및 새 기능 개발\\r\\n•  각...  "
      ]
     },
     "execution_count": 23,
     "metadata": {},
     "output_type": "execute_result"
    }
   ],
   "source": [
    "new_order = ['회사명', '지원기간', '공고명', '직무내용', '자격요건', '우대조건', '경력조건', '기술 스택', '출처 URL', '복지','회사소개','주요업무']\n",
    "jobplanet = jobplanet.reindex(columns=new_order)\n",
    "jobplanet.head(1)"
   ]
  },
  {
   "attachments": {},
   "cell_type": "markdown",
   "metadata": {},
   "source": [
    "- **결측치 확인 부분**  \n",
    "```count()로 결측치 부분 확인 후 삭제 or 채움 결정```  \n",
    "-> 데이터가 많지 않다면 삭제하는 방향"
   ]
  },
  {
   "cell_type": "code",
   "execution_count": 24,
   "metadata": {},
   "outputs": [
    {
     "data": {
      "text/plain": [
       "회사명       1242\n",
       "지원기간      1242\n",
       "공고명       1242\n",
       "직무내용      1242\n",
       "자격요건      1242\n",
       "우대조건      1215\n",
       "경력조건      1242\n",
       "기술 스택     1242\n",
       "출처 URL    1242\n",
       "복지        1230\n",
       "회사소개      1233\n",
       "주요업무      1242\n",
       "dtype: int64"
      ]
     },
     "execution_count": 24,
     "metadata": {},
     "output_type": "execute_result"
    }
   ],
   "source": [
    "jobplanet.count()"
   ]
  },
  {
   "cell_type": "code",
   "execution_count": 25,
   "metadata": {},
   "outputs": [
    {
     "data": {
      "text/plain": [
       "회사명       1205\n",
       "지원기간      1205\n",
       "공고명       1205\n",
       "직무내용      1205\n",
       "자격요건      1205\n",
       "우대조건      1205\n",
       "경력조건      1205\n",
       "기술 스택     1205\n",
       "출처 URL    1205\n",
       "복지        1205\n",
       "회사소개      1199\n",
       "주요업무      1205\n",
       "dtype: int64"
      ]
     },
     "execution_count": 25,
     "metadata": {},
     "output_type": "execute_result"
    }
   ],
   "source": [
    "# 결측치의 내용에 따라 변경 \n",
    "jobplanet.drop(jobplanet[jobplanet['복지'].isnull() == True].index, inplace=True)\n",
    "jobplanet.drop(jobplanet[jobplanet['우대조건'].isnull() == True].index, inplace=True)\n",
    "jobplanet.reset_index(drop=True, inplace=True)\n",
    "jobplanet.count()"
   ]
  },
  {
   "cell_type": "code",
   "execution_count": 26,
   "metadata": {},
   "outputs": [
    {
     "name": "stdout",
     "output_type": "stream",
     "text": [
      "100 https://www.jobplanet.co.kr/job/search?posting_ids%5B%5D=1251837\n",
      "101 https://www.jobplanet.co.kr/job/search?posting_ids%5B%5D=1251832\n",
      "117 https://www.jobplanet.co.kr/job/search?posting_ids%5B%5D=1251828\n",
      "381 https://www.jobplanet.co.kr/job/search?posting_ids%5B%5D=1250583\n",
      "554 https://www.jobplanet.co.kr/job/search?posting_ids%5B%5D=1247896\n",
      "814 https://www.jobplanet.co.kr/job/search?posting_ids%5B%5D=1245673\n"
     ]
    }
   ],
   "source": [
    "for i, data in jobplanet[jobplanet['회사소개'].isnull()==True]['출처 URL'].items():\n",
    "    print(i, data)"
   ]
  },
  {
   "cell_type": "code",
   "execution_count": 27,
   "metadata": {},
   "outputs": [
    {
     "data": {
      "text/plain": [
       "회사명       1199\n",
       "지원기간      1199\n",
       "공고명       1199\n",
       "직무내용      1199\n",
       "자격요건      1199\n",
       "우대조건      1199\n",
       "경력조건      1199\n",
       "기술 스택     1199\n",
       "출처 URL    1199\n",
       "복지        1199\n",
       "회사소개      1199\n",
       "주요업무      1199\n",
       "dtype: int64"
      ]
     },
     "execution_count": 27,
     "metadata": {},
     "output_type": "execute_result"
    }
   ],
   "source": [
    "jobplanet.drop(jobplanet[jobplanet['회사소개'].isnull() == True].index, inplace=True)\n",
    "jobplanet.reset_index(drop=True, inplace=True)\n",
    "jobplanet.count()"
   ]
  },
  {
   "attachments": {},
   "cell_type": "markdown",
   "metadata": {},
   "source": [
    "- 경력조건 int형 변환\n",
    "- wanted data 처리 때 만들었던 extract_years()를 사용한다."
   ]
  },
  {
   "cell_type": "code",
   "execution_count": null,
   "metadata": {},
   "outputs": [],
   "source": [
    "for i, data in jobplanet[jobplanet['경력조건'] == '신입, 3년 이상']['출처 URL'].items():\n",
    "    print(i, data)"
   ]
  },
  {
   "cell_type": "code",
   "execution_count": 29,
   "metadata": {},
   "outputs": [
    {
     "data": {
      "text/plain": [
       "array(['경력무관', '7년 이상', '3년 이상', '5년 이상', '1년 이상', '2년 이상', '4년 이상',\n",
       "       '3년 이상, 경력무관', '8년 이상', '6년 이상', '신입, 1년 이상', '10년 이상', '신입, 경력무관',\n",
       "       '신입', '5년 이상, 경력무관', '신입, 1년 이상, 경력무관', '12년 이상', '신입, 2년 이상',\n",
       "       '신입, 5년 이상', '신입, 2년 이상, 경력무관', '2년 이상, 경력무관', '신입, 3년 이상',\n",
       "       '신입, 3년 이상, 경력무관', '15년 이상', '신입, 5년 이상, 경력무관'], dtype=object)"
      ]
     },
     "execution_count": 29,
     "metadata": {},
     "output_type": "execute_result"
    }
   ],
   "source": [
    "jobplanet['경력조건'].unique()"
   ]
  },
  {
   "cell_type": "code",
   "execution_count": 11,
   "metadata": {},
   "outputs": [],
   "source": [
    "#정규화 패턴으로 경력조건 -> int형으로 변환하는 코드\n",
    "\n",
    "def extract_years(string, patterns):\n",
    "    for pattern in patterns:\n",
    "        match = re.search(pattern, string)\n",
    "        if match:\n",
    "            if '~' in pattern:\n",
    "                start_year = match.group(1)\n",
    "                return int(start_year)\n",
    "            else:\n",
    "                return int(match.group(1))\n",
    "    \n",
    "    return 0"
   ]
  },
  {
   "cell_type": "code",
   "execution_count": 33,
   "metadata": {},
   "outputs": [
    {
     "data": {
      "text/plain": [
       "array([0, 7, 3, 5, 1, 2, 4, 8, 6, 10, 12, 15], dtype=object)"
      ]
     },
     "execution_count": 33,
     "metadata": {},
     "output_type": "execute_result"
    }
   ],
   "source": [
    "max_count = jobplanet['경력조건'].count()\n",
    "patterns = [r'(\\d+)년 이상']\n",
    "\n",
    "for i in range(0, max_count):\n",
    "    jobplanet.loc[i, '경력조건'] = extract_years(jobplanet['경력조건'][i], patterns)\n",
    "\n",
    "jobplanet['경력조건'].unique()"
   ]
  },
  {
   "attachments": {},
   "cell_type": "markdown",
   "metadata": {},
   "source": [
    "- 지원기간 ```YYYY.MM.DD``` 형태로 변환"
   ]
  },
  {
   "cell_type": "code",
   "execution_count": 34,
   "metadata": {},
   "outputs": [
    {
     "data": {
      "text/plain": [
       "array(['2023.07.24', '2023.08.21', '2023.08.11', '2023.08.10',\n",
       "       '2023.07.30', '2023.10.20', '2023.10.19', '2023.10.21',\n",
       "       '2023.08.31', '2023.08.17', '2023.09.18', '2023.10.18',\n",
       "       '2023.07.31', '2023.08.13', '2023.08.14', '2023.08.18',\n",
       "       '2023.10.17', '2023.08.23', '2023.10.14', '2023.08.01',\n",
       "       '2023.08.15', '2023.08.12', '2023.09.29', '2023.10.13',\n",
       "       '2023.10.12', '2023.10.10', '2023.08.03', '2023.10.11',\n",
       "       '2023.08.07', '2023.10.07', '2023.07.29', '2023.09.07',\n",
       "       '2023.12.29', '2023.10.06', '2023.08.16', '2023.08.05',\n",
       "       '2023.08.20', '2023.10.05', '2023.10.04', '2023.10.03',\n",
       "       '2023.09.30', '2023.07.28', '2023.10.24', '2023.09.27',\n",
       "       '2023.10.25', '2023.10.08', '2023.09.26', '2023.12.02',\n",
       "       '2023.08.04', '2023.08.06', '2023.10.01', '2023.09.22',\n",
       "       '2023.09.21', '2023.09.23', '2023.09.19', '2023.09.28',\n",
       "       '2023.09.20', '2023.10.28', '2023.09.14', '2023.09.15',\n",
       "       '2023.09.12', '2024.01.10', '2023.09.13', '2023.09.08',\n",
       "       '2023.11.29', '2023.09.09', '2023.08.09', '2023.08.22',\n",
       "       '2023.09.05', '2023.08.27', '2023.09.02', '2023.08.29',\n",
       "       '2023.08.30', '2023.08.19', '2023.10.02', '2023.08.02',\n",
       "       '2023.08.24', '2023.07.27', '2023.08.08', '2023.10.23',\n",
       "       '2023.09.01', '2023.09.06', '2023.10.22', '2023.08.26',\n",
       "       '2023.12.20', '2023.09.16', '2023.09.25', '2023.10.15',\n",
       "       '2023.08.25', '2023.10.09', '2023.09.11'], dtype=object)"
      ]
     },
     "execution_count": 34,
     "metadata": {},
     "output_type": "execute_result"
    }
   ],
   "source": [
    "jobplanet['지원기간'] = jobplanet['지원기간'].str.split('\\xa0').str[0]\n",
    "jobplanet['지원기간'].unique()"
   ]
  },
  {
   "cell_type": "code",
   "execution_count": 35,
   "metadata": {},
   "outputs": [
    {
     "data": {
      "text/plain": [
       "회사명       1199\n",
       "지원기간      1199\n",
       "공고명       1199\n",
       "직무내용      1199\n",
       "자격요건      1199\n",
       "우대조건      1199\n",
       "경력조건      1199\n",
       "기술 스택     1199\n",
       "출처 URL    1199\n",
       "복지        1199\n",
       "회사소개      1199\n",
       "주요업무      1199\n",
       "dtype: int64"
      ]
     },
     "execution_count": 35,
     "metadata": {},
     "output_type": "execute_result"
    }
   ],
   "source": [
    "jobplanet.count()"
   ]
  },
  {
   "cell_type": "code",
   "execution_count": 74,
   "metadata": {},
   "outputs": [
    {
     "data": {
      "text/plain": [
       "회사명       857\n",
       "지원기간      857\n",
       "공고명       857\n",
       "직무내용      857\n",
       "자격요건      857\n",
       "우대조건      857\n",
       "경력조건      857\n",
       "기술 스택     857\n",
       "출처 URL    857\n",
       "복지        857\n",
       "회사소개      857\n",
       "주요업무      857\n",
       "dtype: int64"
      ]
     },
     "execution_count": 74,
     "metadata": {},
     "output_type": "execute_result"
    }
   ],
   "source": [
    "jobplanet= jobplanet.drop_duplicates()\n",
    "jobplanet.count()"
   ]
  },
  {
   "cell_type": "code",
   "execution_count": 75,
   "metadata": {},
   "outputs": [
    {
     "data": {
      "text/plain": [
       "Series([], Name: 출처 URL, dtype: int64)"
      ]
     },
     "execution_count": 75,
     "metadata": {},
     "output_type": "execute_result"
    }
   ],
   "source": [
    "#fi_result = result['출처 URL'].value_counts()\n",
    "a = jobplanet['출처 URL'].value_counts()\n",
    "a = a[a != 1]\n",
    "a"
   ]
  },
  {
   "cell_type": "code",
   "execution_count": 104,
   "metadata": {},
   "outputs": [
    {
     "name": "stdout",
     "output_type": "stream",
     "text": [
      "회사명       1304\n",
      "지원기간      1304\n",
      "공고명       1304\n",
      "직무내용      1304\n",
      "자격요건      1304\n",
      "우대조건      1304\n",
      "경력조건      1304\n",
      "기술 스택     1304\n",
      "출처 URL    1304\n",
      "복지        1304\n",
      "회사소개      1304\n",
      "주요업무      1304\n",
      "dtype: int64\n"
     ]
    },
    {
     "data": {
      "text/plain": [
       "회사명       1431\n",
       "지원기간      1431\n",
       "공고명       1431\n",
       "직무내용      1431\n",
       "자격요건      1431\n",
       "우대조건      1431\n",
       "경력조건      1431\n",
       "기술 스택     1431\n",
       "출처 URL    1431\n",
       "복지        1431\n",
       "회사소개      1431\n",
       "주요업무      1431\n",
       "dtype: int64"
      ]
     },
     "execution_count": 104,
     "metadata": {},
     "output_type": "execute_result"
    }
   ],
   "source": [
    "before_result = pd.read_csv('./Data_result/pre_jobplanet.csv')\n",
    "print(before_result.count())\n",
    "result = pd.concat([before_result, jobplanet], axis=0)\n",
    "result.reset_index(drop=True, inplace=True)\n",
    "result.count()"
   ]
  },
  {
   "cell_type": "code",
   "execution_count": 105,
   "metadata": {},
   "outputs": [],
   "source": [
    "#csv 파일로 저장\n",
    "\n",
    "result.to_csv('./Data_result/pre_jobplanet.csv',index=False)"
   ]
  },
  {
   "attachments": {},
   "cell_type": "markdown",
   "metadata": {},
   "source": [
    "### 점핏 데이터 전처리\n",
    "\n",
    "- 크롤링 문제 확인으로 직무내용 별로 csv 파일 생성 후 concat\n",
    "- 지원기간과 경력조건 data만 맞추기  \n",
    "-> 기존 column에서 회사소개, 주요업무 column 추가\n",
    "- ```회사명, 지원기간, 공고명, 직무내용, 자격요건, 우대조건, 경력조건, 기술 스택, 출처 URL, 복지, 회사소개, 주요업무```"
   ]
  },
  {
   "cell_type": "code",
   "execution_count": 15,
   "metadata": {},
   "outputs": [],
   "source": [
    "jumpit = pd.DataFrame()\n",
    "\n",
    "for i in range(1, 23):\n",
    "    if i == 14:\n",
    "        continue\n",
    "    df = pd.read_csv(f'../Crawling/jumpit_data/크롤링_점핏_{i}.csv')\n",
    "    jumpit = pd.concat([jumpit, df])\n",
    "\n",
    "jumpit.reset_index(drop=True, inplace=True)"
   ]
  },
  {
   "cell_type": "code",
   "execution_count": 16,
   "metadata": {},
   "outputs": [
    {
     "data": {
      "text/html": [
       "<div>\n",
       "<style scoped>\n",
       "    .dataframe tbody tr th:only-of-type {\n",
       "        vertical-align: middle;\n",
       "    }\n",
       "\n",
       "    .dataframe tbody tr th {\n",
       "        vertical-align: top;\n",
       "    }\n",
       "\n",
       "    .dataframe thead th {\n",
       "        text-align: right;\n",
       "    }\n",
       "</style>\n",
       "<table border=\"1\" class=\"dataframe\">\n",
       "  <thead>\n",
       "    <tr style=\"text-align: right;\">\n",
       "      <th></th>\n",
       "      <th>회사명</th>\n",
       "      <th>지원기간</th>\n",
       "      <th>공고명</th>\n",
       "      <th>직무내용</th>\n",
       "      <th>자격요건</th>\n",
       "      <th>우대조건</th>\n",
       "      <th>경력조건</th>\n",
       "      <th>기술 스택</th>\n",
       "      <th>출처 URL</th>\n",
       "      <th>복지</th>\n",
       "      <th>회사소개</th>\n",
       "      <th>주요업무</th>\n",
       "    </tr>\n",
       "  </thead>\n",
       "  <tbody>\n",
       "    <tr>\n",
       "      <th>0</th>\n",
       "      <td>미디어로그</td>\n",
       "      <td>마감일\\n상시</td>\n",
       "      <td>미디어로그(LG그룹) 웹 하드 3.0 SM 경력 채용</td>\n",
       "      <td>서버/백엔드 개발자</td>\n",
       "      <td>• Java, Spring, Spring Boot, JSP 개발 스킬 필수\\n• O...</td>\n",
       "      <td>• LG U+ SI/SM 업무 경험\\n• 서버 간 연동 처리 경험 (restful,...</td>\n",
       "      <td>경력\\n경력 10~15년</td>\n",
       "      <td>Java\\nJSP\\nSpring Boot\\nMariaDB\\nOracle\\nLinux</td>\n",
       "      <td>https://www.jumpit.co.kr/position/16607</td>\n",
       "      <td>• 통신비 지원\\n- U+유모바일 음성무제한 요금제 지원\\n\\n• 자녀 학비 지원\\...</td>\n",
       "      <td>미디어로그는 MVNO(U+유모바일)사업, 중고폰사업(셀로), PP(방송채널)사업과 ...</td>\n",
       "      <td>• 웹 하드 3.0 운영 유지보수 기능 개발\\n• VOC 대응\\n• 장애 대응 및 ...</td>\n",
       "    </tr>\n",
       "  </tbody>\n",
       "</table>\n",
       "</div>"
      ],
      "text/plain": [
       "     회사명     지원기간                            공고명        직무내용  \\\n",
       "0  미디어로그  마감일\\n상시  미디어로그(LG그룹) 웹 하드 3.0 SM 경력 채용  서버/백엔드 개발자   \n",
       "\n",
       "                                                자격요건  \\\n",
       "0  • Java, Spring, Spring Boot, JSP 개발 스킬 필수\\n• O...   \n",
       "\n",
       "                                                우대조건           경력조건  \\\n",
       "0  • LG U+ SI/SM 업무 경험\\n• 서버 간 연동 처리 경험 (restful,...  경력\\n경력 10~15년   \n",
       "\n",
       "                                            기술 스택  \\\n",
       "0  Java\\nJSP\\nSpring Boot\\nMariaDB\\nOracle\\nLinux   \n",
       "\n",
       "                                    출처 URL  \\\n",
       "0  https://www.jumpit.co.kr/position/16607   \n",
       "\n",
       "                                                  복지  \\\n",
       "0  • 통신비 지원\\n- U+유모바일 음성무제한 요금제 지원\\n\\n• 자녀 학비 지원\\...   \n",
       "\n",
       "                                                회사소개  \\\n",
       "0  미디어로그는 MVNO(U+유모바일)사업, 중고폰사업(셀로), PP(방송채널)사업과 ...   \n",
       "\n",
       "                                                주요업무  \n",
       "0  • 웹 하드 3.0 운영 유지보수 기능 개발\\n• VOC 대응\\n• 장애 대응 및 ...  "
      ]
     },
     "execution_count": 16,
     "metadata": {},
     "output_type": "execute_result"
    }
   ],
   "source": [
    "jumpit.head(1)"
   ]
  },
  {
   "cell_type": "code",
   "execution_count": 17,
   "metadata": {},
   "outputs": [
    {
     "data": {
      "text/plain": [
       "array(['서버/백엔드 개발자', '프론트엔드 개발자', '웹 풀스택 개발자', '안드로이드 개발자',\n",
       "       '게임 클라이언트 개발자', '게임 서버 개발자', 'DBA', '인공지능/머신러닝', 'devops/시스템 엔지니어',\n",
       "       '정보보안 담당자', 'QA 엔지니어', '개발 PM', 'HW/임베디드', 'SW/솔루션', 'IOS 개발자',\n",
       "       '웹퍼블리셔', '크로스플랫폼 앱개발자', '빅데이터 엔지니어', 'VR/AR/3D', '기술지원', '블록체인'],\n",
       "      dtype=object)"
      ]
     },
     "execution_count": 17,
     "metadata": {},
     "output_type": "execute_result"
    }
   ],
   "source": [
    "jumpit['직무내용'].unique()"
   ]
  },
  {
   "cell_type": "code",
   "execution_count": 18,
   "metadata": {},
   "outputs": [
    {
     "data": {
      "text/plain": [
       "회사명       3116\n",
       "지원기간      3116\n",
       "공고명       3116\n",
       "직무내용      3116\n",
       "자격요건      3116\n",
       "우대조건      3116\n",
       "경력조건      3116\n",
       "기술 스택     3116\n",
       "출처 URL    3116\n",
       "복지        3116\n",
       "회사소개      3116\n",
       "주요업무      3116\n",
       "dtype: int64"
      ]
     },
     "execution_count": 18,
     "metadata": {},
     "output_type": "execute_result"
    }
   ],
   "source": [
    "#크롤링 과정에서 결측치는 없게 처리함\n",
    "\n",
    "jumpit.count()"
   ]
  },
  {
   "cell_type": "code",
   "execution_count": 19,
   "metadata": {},
   "outputs": [
    {
     "data": {
      "text/plain": [
       "array(['상시', '2023.07.31', '2023.08.03', '2023.08.31', '2023.12.31',\n",
       "       '2023.08.16', '2023.08.11', '2023.07.28', '2023.08.07',\n",
       "       '2023.07.30', '2023.11.30', '2023.07.29', '2023.08.06',\n",
       "       '2023.08.02', '2023.09.07', '2023.09.30', '2023.08.01',\n",
       "       '2023.09.13', '2023.08.04', '2023.08.21', '2023.08.24',\n",
       "       '2023.08.23', '2023.09.12', '2023.10.09', '2023.08.12',\n",
       "       '2023.10.03', '2023.08.22', '2023.08.25', '2023.10.26',\n",
       "       '2023.08.18', '2024.08.14', '2023.09.08', '2023.08.30',\n",
       "       '2023.08.15', '2023.08.09', '2023.10.17', '2023.08.19',\n",
       "       '2023.10.18', '2023.09.11', '2023.08.08', '2023.08.13',\n",
       "       '2023.10.02', '2023.08.26', '2023.09.29', '2023.10.19',\n",
       "       '2023.08.17', '2023.10.06', '2023.09.27', '2023.10.16',\n",
       "       '2023.08.10', '2023.12.01', '2023.08.05', '2023.08.28',\n",
       "       '2023.09.06'], dtype=object)"
      ]
     },
     "execution_count": 19,
     "metadata": {},
     "output_type": "execute_result"
    }
   ],
   "source": [
    "#마감일\\n 삭제와 '-' -> '.' replace\n",
    "\n",
    "jumpit['지원기간'] = jumpit['지원기간'].str.replace('마감일\\n', '').str.replace('-','.')\n",
    "jumpit['지원기간'].unique()"
   ]
  },
  {
   "attachments": {},
   "cell_type": "markdown",
   "metadata": {},
   "source": [
    "- 경력 조건 부분 ```경력\\n``` 제거\n",
    "- 신입~n년 부분 1~n 년으로 변경\n",
    "- 경력조건 int형 변환\n",
    "- wanted data 처리 때 만들었던 extract_years()를 사용한다."
   ]
  },
  {
   "cell_type": "code",
   "execution_count": 20,
   "metadata": {},
   "outputs": [
    {
     "data": {
      "text/plain": [
       "array(['경력\\n경력 10~15년', '경력\\n신입~10년', '경력\\n경력 6~10년', '경력\\n경력 3~6년',\n",
       "       '경력\\n경력 3~10년', '경력\\n경력 5~10년', '경력\\n경력 2~10년', '경력\\n경력 3~20년',\n",
       "       '경력\\n경력 2~20년', '경력\\n경력 1~7년', '경력\\n경력 4~6년', '경력\\n경력 2~15년',\n",
       "       '경력\\n경력 1~3년', '경력\\n경력 3~15년', '경력\\n경력 5~15년', '경력\\n경력 10~20년',\n",
       "       '경력\\n경력 5~20년', '경력\\n경력 3~7년', '경력\\n경력 5~12년', '경력\\n경력 4~15년',\n",
       "       '경력\\n신입~2년', '경력\\n경력 3~12년', '경력\\n경력 7~10년', '경력\\n신입~3년',\n",
       "       '경력\\n경력 2~7년', '경력\\n경력 1~5년', '경력\\n경력 2~9년', '경력\\n경력 3~5년',\n",
       "       '경력\\n신입~20년', '경력\\n경력 7~15년', '경력\\n경력 1~10년', '경력\\n경력 2~3년',\n",
       "       '경력\\n경력 4~10년', '경력\\n경력 12~16년', '경력\\n신입~15년', '경력\\n경력 6~20년',\n",
       "       '경력\\n경력 2~8년', '경력\\n경력 1~15년', '경력\\n경력 2~4년', '경력\\n경력 6~15년',\n",
       "       '경력\\n신입~5년', '경력\\n경력 2~5년', '경력\\n경력 2~6년', '경력\\n경력 5~8년',\n",
       "       '경력\\n경력 3~8년', '경력\\n경력 6~8년', '경력\\n경력 4~11년', '경력\\n경력 6~9년',\n",
       "       '경력\\n경력 3~9년', '경력\\n경력 8~20년', '경력\\n경력 5~7년', '경력\\n경력 2~12년',\n",
       "       '경력\\n신입', '경력\\n경력 8~15년', '경력\\n경력 1~8년', '경력\\n경력 7~20년',\n",
       "       '경력\\n경력 10~14년', '경력\\n경력 4~7년', '경력\\n경력 3~4년', '경력\\n경력 7~25년',\n",
       "       '경력\\n경력 8~13년', '경력\\n경력 4~20년', '경력\\n신입~4년', '경력\\n경력 2~16년',\n",
       "       '경력\\n경력 4~12년', '경력\\n경력 8~10년', '경력\\n경력 3~11년', '경력\\n경력 1~13년',\n",
       "       '경력\\n경력 4~13년', '경력\\n경력 4~9년', '경력\\n경력 4~8년', '경력\\n경력 5~13년',\n",
       "       '경력\\n경력 3~19년', '경력\\n신입~16년', '경력\\n신입~7년', '경력\\n경력 5~9년',\n",
       "       '경력\\n경력 8~22년', '경력\\n경력 1~4년', '경력\\n경력 3~13년', '경력\\n경력 1~9년',\n",
       "       '경력\\n경력 5~16년', '경력\\n경력 3~30년', '경력\\n경력 1~2년', '경력\\n경력 6~13년',\n",
       "       '경력\\n신입~6년', '경력\\n신입~9년', '경력\\n경력 2~25년', '경력\\n경력 4~5년',\n",
       "       '경력\\n경력 1~6년', '경력\\n경력 9~20년', '경력\\n경력 1~21년', '경력\\n경력 6~12년',\n",
       "       '경력\\n경력 7~19년', '경력\\n경력 5~17년', '경력\\n경력 2~17년', '경력\\n경력 5~6년',\n",
       "       '경력\\n경력 7~16년', '경력\\n신입~8년', '경력\\n경력 2~30년', '경력\\n경력 3~18년',\n",
       "       '경력\\n경력 1~20년', '경력\\n경력 4~30년', '경력\\n경력 9~15년', '경력\\n경력 17~20년',\n",
       "       '경력\\n경력 12~20년', '경력\\n경력 7~12년', '경력\\n경력 5~11년', '경력\\n경력 1~19년',\n",
       "       '경력\\n경력 7~30년', '경력\\n경력 3~16년', '경력\\n경력 5~30년', '경력\\n경력 3~14년',\n",
       "       '경력\\n신입~11년', '경력\\n경력 11~25년', '경력\\n경력 8~16년', '경력\\n신입~14년',\n",
       "       '경력\\n신입~30년', '경력\\n신입~22년', '경력\\n신입~12년', '경력\\n경력 15~20년',\n",
       "       '경력\\n경력 7~17년', '경력\\n경력 12~15년', '경력\\n경력 8~12년', '경력\\n경력 3~22년',\n",
       "       '경력\\n경력 7~11년', '경력\\n경력 3~25년', '경력\\n경력 7~13년'], dtype=object)"
      ]
     },
     "execution_count": 20,
     "metadata": {},
     "output_type": "execute_result"
    }
   ],
   "source": [
    "jumpit['경력조건'].unique()"
   ]
  },
  {
   "cell_type": "code",
   "execution_count": 21,
   "metadata": {},
   "outputs": [
    {
     "data": {
      "text/plain": [
       "array([10, 0, 6, 3, 5, 2, 1, 4, 7, 12, 8, 9, 17, 11, 15], dtype=object)"
      ]
     },
     "execution_count": 21,
     "metadata": {},
     "output_type": "execute_result"
    }
   ],
   "source": [
    "max_count = jumpit['경력조건'].count()\n",
    "jumpit['경력조건'] = jumpit['경력조건'].str.replace('신입~', '0~')\n",
    "patterns = [r'경력\\n경력 (\\d+)~(\\d+)년',r'경력\\n(\\d+)~(\\d+)년']\n",
    "\n",
    "for i in range(0, max_count):\n",
    "    jumpit.loc[i, '경력조건'] = extract_years(jumpit['경력조건'][i], patterns)\n",
    "    \n",
    "jumpit['경력조건'].unique()"
   ]
  },
  {
   "cell_type": "code",
   "execution_count": 22,
   "metadata": {},
   "outputs": [],
   "source": [
    "jumpit.to_csv('../Crawling/Announcement_data/jumpit.csv', index=False)\n",
    "jumpit.to_csv('./Data_result/pre_jumpit.csv', index=False)"
   ]
  },
  {
   "attachments": {},
   "cell_type": "markdown",
   "metadata": {},
   "source": [
    "## CSV파일 concat \n",
    "\n",
    "- 기술스택, 자격요건 column -> ```자격요건 column으로 concat```\n",
    "- 현재 코드에서 ```Crawling/sample_data/```에 있는 csv 파일을 통해 ```Data_Pretreatment/Data_result/result.csv```를 만듬"
   ]
  },
  {
   "cell_type": "code",
   "execution_count": 23,
   "metadata": {},
   "outputs": [],
   "source": [
    "wanted = pd.read_csv('./Data_result/pre_wanted.csv')\n",
    "jobplanet = pd.read_csv('./Data_result/pre_jobplanet.csv')\n",
    "jumpit = pd.read_csv('./Data_result/pre_jumpit.csv')"
   ]
  },
  {
   "cell_type": "code",
   "execution_count": 24,
   "metadata": {},
   "outputs": [
    {
     "data": {
      "text/plain": [
       "회사명       12420\n",
       "지원기간       4547\n",
       "공고명       12420\n",
       "직무내용      12420\n",
       "자격요건      12420\n",
       "우대조건      12420\n",
       "경력조건      12420\n",
       "기술 스택     10242\n",
       "출처 URL    12420\n",
       "복지        12420\n",
       "회사소개      12420\n",
       "주요업무      12420\n",
       "dtype: int64"
      ]
     },
     "execution_count": 24,
     "metadata": {},
     "output_type": "execute_result"
    }
   ],
   "source": [
    "result = pd.concat([wanted, jobplanet, jumpit], axis=0)\n",
    "result.reset_index(drop=True, inplace=True)\n",
    "result.count()"
   ]
  },
  {
   "attachments": {},
   "cell_type": "markdown",
   "metadata": {},
   "source": [
    "- 자격요건, 기술 스택 concat\n",
    "- '자격요건'과 '기술 스택' column의 type을 ```object -> str```변환 후 join을 통해 concat"
   ]
  },
  {
   "cell_type": "code",
   "execution_count": 25,
   "metadata": {},
   "outputs": [
    {
     "name": "stdout",
     "output_type": "stream",
     "text": [
      "• 최소 2년 이상 혹은 그에 준하는 해당 업무 경험\n",
      "• Python(필수), 웹 프레임워크(Django)에 능숙하신 분\n",
      "• 테스트 코드 작성의 필요성을 이해하고 실천하시는 분\n",
      "• 코드리뷰와 페어 프로그래밍등 팀 내 협업의 필요성을 이해하고 실천하시는 분\n",
      "• 개발/기획/세무/운영/CS 등 다양한 직군의 동료들과 원활한 소통이 가능하신 분\n",
      "\n",
      "Tech Specs\n",
      "• Language: Python 3\n",
      "• Framework: Django(rest framework), Flask, FastAPI, Celery\n",
      "• Data storage: PostgreSQL / Redis / DynamoDB / S3\n",
      "• Deployment: Github action, Docker(ECS, EKS)\n",
      "• Cloud platform: AWS\n",
      "• VCS: Github\n",
      "• Communication: Slack\n",
      "• Documentation: Notion, G-Suite, Jira\n",
      "• Issue Tracker: JIRA Github\n",
      "JavaScript\n",
      "TypeScript\n",
      "React.js\n",
      "Vue.JS\n"
     ]
    }
   ],
   "source": [
    "print(result['자격요건'][0],result['기술 스택'][0])"
   ]
  },
  {
   "cell_type": "code",
   "execution_count": 26,
   "metadata": {},
   "outputs": [],
   "source": [
    "result['자격요건'] = result['자격요건'].astype(str)\n",
    "result['기술 스택'] = result['기술 스택'].astype(str)\n",
    "concat_df = pd.DataFrame({'자격요건': [a+' '+b for a, b in zip(result['자격요건'], result['기술 스택'])]})\n",
    "\n",
    "result['자격요건'] = concat_df['자격요건']\n",
    "result.drop(['기술 스택', '지원기간'], axis=1, inplace=True)"
   ]
  },
  {
   "cell_type": "code",
   "execution_count": 27,
   "metadata": {},
   "outputs": [
    {
     "data": {
      "text/plain": [
       "array(['• 최소 2년 이상 혹은 그에 준하는 해당 업무 경험\\r\\n• Python(필수), 웹 프레임워크(Django)에 능숙하신 분\\r\\n• 테스트 코드 작성의 필요성을 이해하고 실천하시는 분\\r\\n• 코드리뷰와 페어 프로그래밍등 팀 내 협업의 필요성을 이해하고 실천하시는 분\\r\\n• 개발/기획/세무/운영/CS 등 다양한 직군의 동료들과 원활한 소통이 가능하신 분\\r\\n\\r\\nTech Specs\\r\\n• Language: Python 3\\r\\n• Framework: Django(rest framework), Flask, FastAPI, Celery\\r\\n• Data storage: PostgreSQL / Redis / DynamoDB / S3\\r\\n• Deployment: Github action, Docker(ECS, EKS)\\r\\n• Cloud platform: AWS\\r\\n• VCS: Github\\r\\n• Communication: Slack\\r\\n• Documentation: Notion, G-Suite, Jira\\r\\n• Issue Tracker: JIRA Github\\r\\nJavaScript\\r\\nTypeScript\\r\\nReact.js\\r\\nVue.JS',\n",
       "       '• HTML / CSS / JavaScript 에 대한 이해\\r\\n• 컴퓨터 사이언스에 대한 기본지식\\r\\n• 복잡한 요구사항 속에서 문제를 정의하고 풀어내는 능력\\r\\n• 익숙하지 않은 도메인(세무, 재무)에 대해서 적극적으로 학습할 수 있는 분\\r\\n\\r\\nTech Specs\\r\\n• JavaScript\\r\\n• TypeScript\\r\\n• Vue.js\\r\\n• Github / Github Action\\r\\n• Jira\\r\\n• Slack\\r\\n• Notion\\r\\n• AWS Github\\r\\nJavaScript\\r\\nTypeScript\\r\\nReact.js\\r\\nVue.JS',\n",
       "       '• 3년 이상 또는 그에 준하는 프론트엔드 서비스 개발 및 유지 관리 경험을 가지신 분\\r\\n• 주어진 업무 외에 주도적으로 문제를 발견하고 분석하여 솔루션을 제안할 수 있는 분\\r\\n• Next.js / React 개발 경험이 있으신 분 \\r\\n• Git을 올바르게 사용하고 이를 통한 협업이 가능하신 분 nan',\n",
       "       ...,\n",
       "       '• 애자일 방법론을 차용한 프로젝트 관리 및 운용 경험이 3년 이상인 분\\n• 스크럼 운용을 위한 기술과 항목에 대한 지식과 경험을 갖춘 분\\n• Jira, Asana, Confluence 등 프로젝트 관리 도구 활용 경험이 있는 분 Jira\\nAsana\\nSW\\nConfluence\\nSlack',\n",
       "       '• 관련 업무 경력 3년 이상\\n• 아트에 대한 이해도가 있으신 분\\n• Unreal Engine 4, 5 엔진 경험이 있으신 분\\n• PBR에 대한 이해도가 높으신 분\\n• 최적화 관련 작업에 대한 이해도가 높으신 분\\n• 다양한 분야의 사람과의 협업 능력이 원활하신 분 Unreal Engine\\nMaterial\\nBlueprint',\n",
       "       '• 학력 무관\\n• 블록체인 서비스 개발 1년 이상\\n• 스마트 컨트랙트(Solidity) 개발 가능하신 분 \\n• Web3, Ethers, Truffle 등 블록체인 라이브러리 개발 경험 있으신 분\\n• 암호화폐 키 생성 및 관리 알고리즘 이해 가능하신 분 spring boot\\nrest api\\nmysql\\nredis\\nspring data jpa\\nmybatis\\nSolidity\\nBlockchain'],\n",
       "      dtype=object)"
      ]
     },
     "execution_count": 27,
     "metadata": {},
     "output_type": "execute_result"
    }
   ],
   "source": [
    "result['자격요건'].unique()"
   ]
  },
  {
   "cell_type": "code",
   "execution_count": 28,
   "metadata": {},
   "outputs": [
    {
     "data": {
      "text/plain": [
       "회사명       12420\n",
       "공고명       12420\n",
       "직무내용      12420\n",
       "자격요건      12420\n",
       "우대조건      12420\n",
       "경력조건      12420\n",
       "출처 URL    12420\n",
       "복지        12420\n",
       "회사소개      12420\n",
       "주요업무      12420\n",
       "dtype: int64"
      ]
     },
     "execution_count": 28,
     "metadata": {},
     "output_type": "execute_result"
    }
   ],
   "source": [
    "result.count()"
   ]
  },
  {
   "attachments": {},
   "cell_type": "markdown",
   "metadata": {},
   "source": [
    "---------------------------------------------------"
   ]
  },
  {
   "attachments": {},
   "cell_type": "markdown",
   "metadata": {},
   "source": [
    "## 추가 데이터 작업시 사용하는 코드\n",
    "- 3개의 사이트의 기본 전처리는 위의 코드를 참고하여 작성\n",
    "- 자격요건, 기술스택 concat부분만 작성\n"
   ]
  },
  {
   "cell_type": "code",
   "execution_count": 3,
   "metadata": {},
   "outputs": [],
   "source": [
    "re_data = pd.read_csv('./Data_result/pre_result.csv')"
   ]
  },
  {
   "cell_type": "code",
   "execution_count": 18,
   "metadata": {},
   "outputs": [],
   "source": [
    "j_re_data = pd.read_csv('./Data_result/pre_jumpit.csv')"
   ]
  },
  {
   "cell_type": "code",
   "execution_count": 19,
   "metadata": {},
   "outputs": [
    {
     "data": {
      "text/plain": [
       "0       미디어로그는 MVNO(U+유모바일)사업, 중고폰사업(셀로), PP(방송채널)사업과 ...\n",
       "1       대한민국 No.1\\n지바이크는 전국 50개 도시에서 전동킥보드 공유서비스 ‘지쿠터’...\n",
       "2       핏토(Fitor)는 장소와 시간에 구애받지 않고 내가 원하는 트레이너를 찾아 운동을...\n",
       "3       포스트보이저(POST VOYAGER)는 지난 13년 간 아바타 소셜 앱 서비스 분야...\n",
       "4       [회사소개]\\n넛지헬스케어는 행동경제학 이론을 실생활에 적용하여 비만, 당뇨, 고혈...\n",
       "                              ...                        \n",
       "3240    위메이드는 20여년간 게임사업에서 그 명성을 유지하며 활약하고 있습니다.\\n우리는 ...\n",
       "3241    태주실업(주) 의 블록체인 프로젝트 '아이톡투'\\n\\n아이톡투는 기존 SNS 모델에...\n",
       "3242    노르마는 2011년 가을 ICT 보안 산업에서 출발해 ICT 흐름에 따라 IoT 보...\n",
       "3243    위메이드는 20여년간 게임사업에서 그 명성을 유지하며 활약하고 있습니다.\\n우리는 ...\n",
       "3244    위메이드는 20여년간 게임사업에서 그 명성을 유지하며 활약하고 있습니다.\\n우리는 ...\n",
       "Name: 회사명, Length: 3245, dtype: object"
      ]
     },
     "execution_count": 19,
     "metadata": {},
     "output_type": "execute_result"
    }
   ],
   "source": [
    "j_re_data['회사명']"
   ]
  },
  {
   "attachments": {},
   "cell_type": "markdown",
   "metadata": {},
   "source": [
    "## 최종 result 데이터 저장\n"
   ]
  },
  {
   "cell_type": "code",
   "execution_count": 29,
   "metadata": {},
   "outputs": [],
   "source": [
    "result.to_csv('./Data_result/pre_result.csv', index=False)"
   ]
  },
  {
   "attachments": {},
   "cell_type": "markdown",
   "metadata": {},
   "source": [
    "## result 데이터 수정"
   ]
  },
  {
   "cell_type": "code",
   "execution_count": 2,
   "metadata": {},
   "outputs": [],
   "source": [
    "import pandas as pd"
   ]
  },
  {
   "cell_type": "code",
   "execution_count": 30,
   "metadata": {},
   "outputs": [],
   "source": [
    "result = pd.read_csv('./Data_result/pre_result.csv')"
   ]
  },
  {
   "cell_type": "code",
   "execution_count": 31,
   "metadata": {},
   "outputs": [
    {
     "data": {
      "text/plain": [
       "https://www.jobplanet.co.kr/job/search?posting_ids%5B%5D=1244423    39\n",
       "https://www.jobplanet.co.kr/job/search?posting_ids%5B%5D=1248043    39\n",
       "https://www.jobplanet.co.kr/job/search?posting_ids%5B%5D=1244425    39\n",
       "https://www.jobplanet.co.kr/job/search?posting_ids%5B%5D=1247956    39\n",
       "https://www.jobplanet.co.kr/job/search?posting_ids%5B%5D=1237275    39\n",
       "https://www.jobplanet.co.kr/job/search?posting_ids%5B%5D=1248031    39\n",
       "https://www.jobplanet.co.kr/job/search?posting_ids%5B%5D=1244502    39\n",
       "https://www.jobplanet.co.kr/job/search?posting_ids%5B%5D=1244503    39\n",
       "https://www.jobplanet.co.kr/job/search?posting_ids%5B%5D=1248025    39\n",
       "Name: 출처 URL, dtype: int64"
      ]
     },
     "execution_count": 31,
     "metadata": {},
     "output_type": "execute_result"
    }
   ],
   "source": [
    "fi_result = result['출처 URL'].value_counts()\n",
    "fi_result = fi_result[fi_result == 39]\n",
    "fi_result"
   ]
  },
  {
   "cell_type": "code",
   "execution_count": 32,
   "metadata": {},
   "outputs": [
    {
     "data": {
      "text/plain": [
       "회사명       11987\n",
       "공고명       11987\n",
       "직무내용      11987\n",
       "자격요건      11987\n",
       "우대조건      11987\n",
       "경력조건      11987\n",
       "출처 URL    11987\n",
       "복지        11987\n",
       "회사소개      11987\n",
       "주요업무      11987\n",
       "dtype: int64"
      ]
     },
     "execution_count": 32,
     "metadata": {},
     "output_type": "execute_result"
    }
   ],
   "source": [
    "result = result.drop_duplicates()\n",
    "result.count()"
   ]
  },
  {
   "cell_type": "code",
   "execution_count": 33,
   "metadata": {},
   "outputs": [
    {
     "data": {
      "text/plain": [
       "Index(['https://www.wanted.co.kr/wd/163903',\n",
       "       'https://www.wanted.co.kr/wd/142651',\n",
       "       'https://www.wanted.co.kr/wd/135732',\n",
       "       'https://www.wanted.co.kr/wd/72667',\n",
       "       'https://www.wanted.co.kr/wd/142943',\n",
       "       'https://www.wanted.co.kr/wd/140908',\n",
       "       'https://www.wanted.co.kr/wd/75585',\n",
       "       'https://www.wanted.co.kr/wd/92592',\n",
       "       'https://www.wanted.co.kr/wd/79666',\n",
       "       'https://www.wanted.co.kr/wd/159126',\n",
       "       ...\n",
       "       'https://www.jumpit.co.kr/position/12872',\n",
       "       'https://www.wanted.co.kr/wd/108453',\n",
       "       'https://www.wanted.co.kr/wd/162215',\n",
       "       'https://www.wanted.co.kr/wd/65156',\n",
       "       'https://www.wanted.co.kr/wd/164037',\n",
       "       'https://www.wanted.co.kr/wd/157810',\n",
       "       'https://www.wanted.co.kr/wd/100312',\n",
       "       'https://www.wanted.co.kr/wd/118205',\n",
       "       'https://www.wanted.co.kr/wd/119623',\n",
       "       'https://www.jumpit.co.kr/position/17364'],\n",
       "      dtype='object', length=2779)"
      ]
     },
     "execution_count": 33,
     "metadata": {},
     "output_type": "execute_result"
    }
   ],
   "source": [
    "result['출처 URL'].value_counts()[result['출처 URL'].value_counts() != 1].index"
   ]
  },
  {
   "cell_type": "code",
   "execution_count": 38,
   "metadata": {},
   "outputs": [],
   "source": [
    "a = result[result['출처 URL'] == 'https://www.jumpit.co.kr/position/12872']"
   ]
  },
  {
   "cell_type": "code",
   "execution_count": 36,
   "metadata": {},
   "outputs": [
    {
     "data": {
      "text/plain": [
       "array(['웹 개발자', '서버 개발자', '소프트웨어 엔지니어', '프론트엔드 개발자', '자바 개발자',\n",
       "       'C,C++ 개발자', '파이썬 개발자', '안드로이드 개발자', 'Node.js 개발자', 'iOS 개발자',\n",
       "       '머신러닝 엔지니어', '데이터 엔지니어', 'DevOps / 시스템 관리자', '시스템,네트워크 관리자',\n",
       "       '개발 매니저', '기술지원', 'QA,테스트 엔지니어', '데이터 사이언티스트', '보안 엔지니어',\n",
       "       '빅데이터 엔지니어', '임베디드 개발자', '프로덕트 매니저', '하드웨어 엔지니어', 'PHP 개발자',\n",
       "       '블록체인 플랫폼 엔지니어', '크로스플랫폼 앱 개발자', 'DBA', 'ERP전문가', '.NET 개발자',\n",
       "       '웹 퍼블리셔', '영상,음성 엔지니어', '그래픽스 엔지니어',\n",
       "       'CTO,Chief Technology Officer', 'BI 엔지니어', 'VR 엔지니어',\n",
       "       'CIO,Chief Information Officer', '데이터 분석가',\n",
       "       '게임개발, 서비스 기획, 데이터 분석가', '데이터 분석가, 네트워크/보안/운영',\n",
       "       '소프트웨어 개발, 데이터 분석가', '백엔드 개발', 'QA(Quality Assurance)', '웹개발',\n",
       "       '프론트엔드 개발', '안드로이드 개발, 소프트웨어 개발, iOS 개발', '소프트웨어 개발', '소프트웨어아키텍트',\n",
       "       '네트워크/보안/운영', 'CTO (Chief Technology Officer)', '하드웨어 개발',\n",
       "       '안드로이드 개발, iOS 개발', 'iOS 개발', '게임개발', '안드로이드 개발', '웹퍼블리셔', 'ERP',\n",
       "       '안드로이드 개발, iOS 개발, iOS 개발', 'DBA(Database Admin.)', '클라우드 개발',\n",
       "       '웹개발, 소프트웨어 개발', '소프트웨어 개발, 웹개발', '안드로이드 개발, 웹개발, iOS 개발',\n",
       "       '웹개발, 웹퍼블리셔', '네트워크/보안/운영, 소프트웨어 개발, 네트워크/보안/운영',\n",
       "       '소프트웨어아키텍트, 소프트웨어 개발, 네트워크/보안/운영', '모바일앱개발, 웹개발',\n",
       "       '네트워크/보안/운영, 소프트웨어 개발', '웹개발, 소프트웨어 개발, 네트워크/보안/운영',\n",
       "       '모바일앱개발, 웹개발, 네트워크/보안/운영', '소프트웨어아키텍트, 소프트웨어 개발',\n",
       "       '기계/기계설비 , 소프트웨어 개발', '소프트웨어 개발, 소프트웨어아키텍트',\n",
       "       '소프트웨어 개발, 네트워크/보안/운영, 소프트웨어아키텍트', '서버/백엔드 개발자', '웹 풀스택 개발자',\n",
       "       '게임 클라이언트 개발자', '게임 서버 개발자', '인공지능/머신러닝', 'devops/시스템 엔지니어',\n",
       "       '정보보안 담당자', 'QA 엔지니어', '개발 PM', 'HW/임베디드', 'SW/솔루션', 'IOS 개발자',\n",
       "       '크로스플랫폼 앱개발자', 'VR/AR/3D', '블록체인'], dtype=object)"
      ]
     },
     "execution_count": 36,
     "metadata": {},
     "output_type": "execute_result"
    }
   ],
   "source": [
    "result['직무내용'].unique()"
   ]
  },
  {
   "cell_type": "code",
   "execution_count": 37,
   "metadata": {},
   "outputs": [
    {
     "data": {
      "text/plain": [
       "array(['웹개발', '서버/백엔드 개발', 'SW 개발', '프론트엔드 개발', '자바 개발자', 'C,C++ 개발자',\n",
       "       '파이썬 개발자', '안드로이드 개발', 'Node.js 개발자', 'iOS 개발', '데이터 엔지니어',\n",
       "       'DevOps', '시스템/네트워크', 'PM', '기술지원', 'QA,테스트 엔지니어', '데이터 사이언티스트',\n",
       "       '보안 엔지니어', 'HW/임베디드', 'PHP 개발자', '블록체인', '크로스플랫폼 앱 개발', 'DBA',\n",
       "       'ERP전문가', '.NET 개발자', '웹 퍼블리셔', '영상,음성 엔지니어', '그래픽스 엔지니어', 'CTO',\n",
       "       'BI 엔지니어', 'VR/AR/3D', 'CIO', '데이터 분석가', '게임개발, 서비스 기획, 데이터 분석가',\n",
       "       '데이터 분석가, 네트워크/보안/운영', '소프트웨어 개발, 데이터 분석가', 'QA 엔지니어',\n",
       "       '안드로이드 개발, 소프트웨어 개발, iOS 개발', '소프트웨어 개발', '네트워크/보안/운영',\n",
       "       '안드로이드 개발, iOS 개발', '게임개발', '웹퍼블리셔', 'ERP',\n",
       "       '안드로이드 개발, iOS 개발, iOS 개발', '클라우드 개발', '웹개발, 소프트웨어 개발',\n",
       "       '소프트웨어 개발, 웹개발', '안드로이드 개발, 웹개발, iOS 개발', '웹개발, 웹퍼블리셔',\n",
       "       '네트워크/보안/운영, 소프트웨어 개발, 네트워크/보안/운영',\n",
       "       '소프트웨어아키텍트, 소프트웨어 개발, 네트워크/보안/운영', '모바일앱개발, 웹개발',\n",
       "       '네트워크/보안/운영, 소프트웨어 개발', '웹개발, 소프트웨어 개발, 네트워크/보안/운영',\n",
       "       '모바일앱개발, 웹개발, 네트워크/보안/운영', '소프트웨어아키텍트, 소프트웨어 개발',\n",
       "       '기계/기계설비 , 소프트웨어 개발', '소프트웨어 개발, 소프트웨어아키텍트',\n",
       "       '소프트웨어 개발, 네트워크/보안/운영, 소프트웨어아키텍트', '웹 풀스택 개발자'], dtype=object)"
      ]
     },
     "execution_count": 37,
     "metadata": {},
     "output_type": "execute_result"
    }
   ],
   "source": [
    "# '직무내용' column 값 변경\n",
    "result['직무내용'] = result['직무내용'].replace({\n",
    "    '웹 개발자':'웹개발',\n",
    "    'CTO,Chief Technology Officer': 'CTO', \n",
    "    'CTO (Chief Technology Officer)': 'CTO',\n",
    "    '안드로이드 개발자': '안드로이드 개발',\n",
    "    'CIO,Chief Information Officer':'CIO',\n",
    "    '서버 개발자':'서버/백엔드 개발',\n",
    "    '백엔드 개발':'서버/백엔드 개발',\n",
    "    '서버/백엔드 개발자':'서버/백엔드 개발',\n",
    "    '소프트웨어 엔지니어':'SW 개발',\n",
    "    '소프트웨어아키텍트':'SW 개발',\n",
    "    'SW/솔루션':'SW 개발',\n",
    "    'DBA(Database Admin.)':'DBA',\n",
    "    'iOS 개발자':'iOS 개발',\n",
    "    'IOS 개발자':'iOS 개발',\n",
    "    '프론트엔드 개발자':'프론트엔드 개발',\n",
    "    'QA, 테스트 엔지니어':'QA 엔지니어',\n",
    "    'QA(Quality Assurance)':'QA 엔지니어',\n",
    "    '게임 클라이언트 개발자':'게임개발',\n",
    "    '게임 서버 개발자':'게임개발',\n",
    "    '크로스플랫폼 앱개발자':'크로스플랫폼 앱 개발',\n",
    "    '크로스플랫폼 앱 개발자':'크로스플랫폼 앱 개발',\n",
    "    '머신러닝 엔지니어':'데이터 엔지니어',\n",
    "    '인공지능/머신러닝':'데이터 엔지니어',\n",
    "    '빅데이터 엔지니어':'데이터 엔지니어',\n",
    "    'EPR전문가':'EPR',\n",
    "    'DevOps / 시스템 관리자':'DevOps',\n",
    "    'devops/시스템 엔지니어':'DevOps',\n",
    "    'VR 엔지니어':'VR/AR/3D',\n",
    "    '정보보안 담당자':'보안 엔지니어',\n",
    "    '개발 매니저':'PM',\n",
    "    '개발 PM':'PM',\n",
    "    '프로덕트 매니저':'PM',\n",
    "    '임베디드 개발자':'HW/임베디드',\n",
    "    '하드웨어 엔지니어':'HW/임베디드',\n",
    "    '하드웨어 개발':'HW/임베디드',\n",
    "    '시스템,네트워크 관리자':'시스템/네트워크',\n",
    "    '블록체인 플랫폼 엔지니어':'블록체인'\n",
    "\n",
    "    })\n",
    "\n",
    "result['직무내용'].unique()"
   ]
  },
  {
   "cell_type": "code",
   "execution_count": 46,
   "metadata": {},
   "outputs": [
    {
     "ename": "TypeError",
     "evalue": "sequence item 0: expected str instance, int found",
     "output_type": "error",
     "traceback": [
      "\u001b[1;31m---------------------------------------------------------------------------\u001b[0m",
      "\u001b[1;31mTypeError\u001b[0m                                 Traceback (most recent call last)",
      "\u001b[1;32mc:\\ProgramData\\Anaconda3\\lib\\site-packages\\pandas\\core\\groupby\\groupby.py\u001b[0m in \u001b[0;36mapply\u001b[1;34m(self, func, *args, **kwargs)\u001b[0m\n\u001b[0;32m    735\u001b[0m             \u001b[1;32mtry\u001b[0m\u001b[1;33m:\u001b[0m\u001b[1;33m\u001b[0m\u001b[1;33m\u001b[0m\u001b[0m\n\u001b[1;32m--> 736\u001b[1;33m                 \u001b[0mresult\u001b[0m \u001b[1;33m=\u001b[0m \u001b[0mself\u001b[0m\u001b[1;33m.\u001b[0m\u001b[0m_python_apply_general\u001b[0m\u001b[1;33m(\u001b[0m\u001b[0mf\u001b[0m\u001b[1;33m)\u001b[0m\u001b[1;33m\u001b[0m\u001b[1;33m\u001b[0m\u001b[0m\n\u001b[0m\u001b[0;32m    737\u001b[0m             \u001b[1;32mexcept\u001b[0m \u001b[0mTypeError\u001b[0m\u001b[1;33m:\u001b[0m\u001b[1;33m\u001b[0m\u001b[1;33m\u001b[0m\u001b[0m\n",
      "\u001b[1;32mc:\\ProgramData\\Anaconda3\\lib\\site-packages\\pandas\\core\\groupby\\groupby.py\u001b[0m in \u001b[0;36m_python_apply_general\u001b[1;34m(self, f)\u001b[0m\n\u001b[0;32m    751\u001b[0m     \u001b[1;32mdef\u001b[0m \u001b[0m_python_apply_general\u001b[0m\u001b[1;33m(\u001b[0m\u001b[0mself\u001b[0m\u001b[1;33m,\u001b[0m \u001b[0mf\u001b[0m\u001b[1;33m)\u001b[0m\u001b[1;33m:\u001b[0m\u001b[1;33m\u001b[0m\u001b[1;33m\u001b[0m\u001b[0m\n\u001b[1;32m--> 752\u001b[1;33m         \u001b[0mkeys\u001b[0m\u001b[1;33m,\u001b[0m \u001b[0mvalues\u001b[0m\u001b[1;33m,\u001b[0m \u001b[0mmutated\u001b[0m \u001b[1;33m=\u001b[0m \u001b[0mself\u001b[0m\u001b[1;33m.\u001b[0m\u001b[0mgrouper\u001b[0m\u001b[1;33m.\u001b[0m\u001b[0mapply\u001b[0m\u001b[1;33m(\u001b[0m\u001b[0mf\u001b[0m\u001b[1;33m,\u001b[0m \u001b[0mself\u001b[0m\u001b[1;33m.\u001b[0m\u001b[0m_selected_obj\u001b[0m\u001b[1;33m,\u001b[0m \u001b[0mself\u001b[0m\u001b[1;33m.\u001b[0m\u001b[0maxis\u001b[0m\u001b[1;33m)\u001b[0m\u001b[1;33m\u001b[0m\u001b[1;33m\u001b[0m\u001b[0m\n\u001b[0m\u001b[0;32m    753\u001b[0m \u001b[1;33m\u001b[0m\u001b[0m\n",
      "\u001b[1;32mc:\\ProgramData\\Anaconda3\\lib\\site-packages\\pandas\\core\\groupby\\ops.py\u001b[0m in \u001b[0;36mapply\u001b[1;34m(self, f, data, axis)\u001b[0m\n\u001b[0;32m    205\u001b[0m             \u001b[0mgroup_axes\u001b[0m \u001b[1;33m=\u001b[0m \u001b[0mgroup\u001b[0m\u001b[1;33m.\u001b[0m\u001b[0maxes\u001b[0m\u001b[1;33m\u001b[0m\u001b[1;33m\u001b[0m\u001b[0m\n\u001b[1;32m--> 206\u001b[1;33m             \u001b[0mres\u001b[0m \u001b[1;33m=\u001b[0m \u001b[0mf\u001b[0m\u001b[1;33m(\u001b[0m\u001b[0mgroup\u001b[0m\u001b[1;33m)\u001b[0m\u001b[1;33m\u001b[0m\u001b[1;33m\u001b[0m\u001b[0m\n\u001b[0m\u001b[0;32m    207\u001b[0m             \u001b[1;32mif\u001b[0m \u001b[1;32mnot\u001b[0m \u001b[0m_is_indexed_like\u001b[0m\u001b[1;33m(\u001b[0m\u001b[0mres\u001b[0m\u001b[1;33m,\u001b[0m \u001b[0mgroup_axes\u001b[0m\u001b[1;33m)\u001b[0m\u001b[1;33m:\u001b[0m\u001b[1;33m\u001b[0m\u001b[1;33m\u001b[0m\u001b[0m\n",
      "\u001b[1;31mTypeError\u001b[0m: sequence item 9: expected str instance, int found",
      "\nDuring handling of the above exception, another exception occurred:\n",
      "\u001b[1;31mTypeError\u001b[0m                                 Traceback (most recent call last)",
      "\u001b[1;32m<ipython-input-46-a30e2a34df97>\u001b[0m in \u001b[0;36m<module>\u001b[1;34m\u001b[0m\n\u001b[0;32m      1\u001b[0m \u001b[1;31m# 'column2'를 제외한 나머지 column들이 같은 row들을 그룹화하여 'column2' 값을 합치고 하나의 row로 남기기\u001b[0m\u001b[1;33m\u001b[0m\u001b[1;33m\u001b[0m\u001b[1;33m\u001b[0m\u001b[0m\n\u001b[1;32m----> 2\u001b[1;33m \u001b[0ma\u001b[0m \u001b[1;33m=\u001b[0m \u001b[0ma\u001b[0m\u001b[1;33m.\u001b[0m\u001b[0mgroupby\u001b[0m\u001b[1;33m(\u001b[0m\u001b[1;33m[\u001b[0m\u001b[1;34m'회사명'\u001b[0m\u001b[1;33m,\u001b[0m \u001b[1;34m'공고명'\u001b[0m\u001b[1;33m,\u001b[0m \u001b[1;34m'자격요건'\u001b[0m\u001b[1;33m,\u001b[0m \u001b[1;34m'우대조건'\u001b[0m\u001b[1;33m,\u001b[0m \u001b[1;34m'경력조건'\u001b[0m\u001b[1;33m,\u001b[0m \u001b[1;34m'출처 URL'\u001b[0m\u001b[1;33m,\u001b[0m \u001b[1;34m'복지'\u001b[0m\u001b[1;33m,\u001b[0m\u001b[1;34m'회사소개'\u001b[0m\u001b[1;33m,\u001b[0m\u001b[1;34m'주요업무'\u001b[0m\u001b[1;33m]\u001b[0m\u001b[1;33m)\u001b[0m\u001b[1;33m.\u001b[0m\u001b[0mapply\u001b[0m\u001b[1;33m(\u001b[0m\u001b[1;34m','\u001b[0m\u001b[1;33m.\u001b[0m\u001b[0mjoin\u001b[0m\u001b[1;33m)\u001b[0m\u001b[1;33m.\u001b[0m\u001b[0mreset_index\u001b[0m\u001b[1;33m(\u001b[0m\u001b[1;33m)\u001b[0m\u001b[1;33m\u001b[0m\u001b[1;33m\u001b[0m\u001b[0m\n\u001b[0m\u001b[0;32m      3\u001b[0m \u001b[1;33m\u001b[0m\u001b[0m\n\u001b[0;32m      4\u001b[0m \u001b[0ma\u001b[0m\u001b[1;33m\u001b[0m\u001b[1;33m\u001b[0m\u001b[0m\n",
      "\u001b[1;32mc:\\ProgramData\\Anaconda3\\lib\\site-packages\\pandas\\core\\groupby\\groupby.py\u001b[0m in \u001b[0;36mapply\u001b[1;34m(self, func, *args, **kwargs)\u001b[0m\n\u001b[0;32m    745\u001b[0m \u001b[1;33m\u001b[0m\u001b[0m\n\u001b[0;32m    746\u001b[0m                 \u001b[1;32mwith\u001b[0m \u001b[0m_group_selection_context\u001b[0m\u001b[1;33m(\u001b[0m\u001b[0mself\u001b[0m\u001b[1;33m)\u001b[0m\u001b[1;33m:\u001b[0m\u001b[1;33m\u001b[0m\u001b[1;33m\u001b[0m\u001b[0m\n\u001b[1;32m--> 747\u001b[1;33m                     \u001b[1;32mreturn\u001b[0m \u001b[0mself\u001b[0m\u001b[1;33m.\u001b[0m\u001b[0m_python_apply_general\u001b[0m\u001b[1;33m(\u001b[0m\u001b[0mf\u001b[0m\u001b[1;33m)\u001b[0m\u001b[1;33m\u001b[0m\u001b[1;33m\u001b[0m\u001b[0m\n\u001b[0m\u001b[0;32m    748\u001b[0m \u001b[1;33m\u001b[0m\u001b[0m\n\u001b[0;32m    749\u001b[0m         \u001b[1;32mreturn\u001b[0m \u001b[0mresult\u001b[0m\u001b[1;33m\u001b[0m\u001b[1;33m\u001b[0m\u001b[0m\n",
      "\u001b[1;32mc:\\ProgramData\\Anaconda3\\lib\\site-packages\\pandas\\core\\groupby\\groupby.py\u001b[0m in \u001b[0;36m_python_apply_general\u001b[1;34m(self, f)\u001b[0m\n\u001b[0;32m    750\u001b[0m \u001b[1;33m\u001b[0m\u001b[0m\n\u001b[0;32m    751\u001b[0m     \u001b[1;32mdef\u001b[0m \u001b[0m_python_apply_general\u001b[0m\u001b[1;33m(\u001b[0m\u001b[0mself\u001b[0m\u001b[1;33m,\u001b[0m \u001b[0mf\u001b[0m\u001b[1;33m)\u001b[0m\u001b[1;33m:\u001b[0m\u001b[1;33m\u001b[0m\u001b[1;33m\u001b[0m\u001b[0m\n\u001b[1;32m--> 752\u001b[1;33m         \u001b[0mkeys\u001b[0m\u001b[1;33m,\u001b[0m \u001b[0mvalues\u001b[0m\u001b[1;33m,\u001b[0m \u001b[0mmutated\u001b[0m \u001b[1;33m=\u001b[0m \u001b[0mself\u001b[0m\u001b[1;33m.\u001b[0m\u001b[0mgrouper\u001b[0m\u001b[1;33m.\u001b[0m\u001b[0mapply\u001b[0m\u001b[1;33m(\u001b[0m\u001b[0mf\u001b[0m\u001b[1;33m,\u001b[0m \u001b[0mself\u001b[0m\u001b[1;33m.\u001b[0m\u001b[0m_selected_obj\u001b[0m\u001b[1;33m,\u001b[0m \u001b[0mself\u001b[0m\u001b[1;33m.\u001b[0m\u001b[0maxis\u001b[0m\u001b[1;33m)\u001b[0m\u001b[1;33m\u001b[0m\u001b[1;33m\u001b[0m\u001b[0m\n\u001b[0m\u001b[0;32m    753\u001b[0m \u001b[1;33m\u001b[0m\u001b[0m\n\u001b[0;32m    754\u001b[0m         return self._wrap_applied_output(\n",
      "\u001b[1;32mc:\\ProgramData\\Anaconda3\\lib\\site-packages\\pandas\\core\\groupby\\ops.py\u001b[0m in \u001b[0;36mapply\u001b[1;34m(self, f, data, axis)\u001b[0m\n\u001b[0;32m    204\u001b[0m             \u001b[1;31m# group might be modified\u001b[0m\u001b[1;33m\u001b[0m\u001b[1;33m\u001b[0m\u001b[1;33m\u001b[0m\u001b[0m\n\u001b[0;32m    205\u001b[0m             \u001b[0mgroup_axes\u001b[0m \u001b[1;33m=\u001b[0m \u001b[0mgroup\u001b[0m\u001b[1;33m.\u001b[0m\u001b[0maxes\u001b[0m\u001b[1;33m\u001b[0m\u001b[1;33m\u001b[0m\u001b[0m\n\u001b[1;32m--> 206\u001b[1;33m             \u001b[0mres\u001b[0m \u001b[1;33m=\u001b[0m \u001b[0mf\u001b[0m\u001b[1;33m(\u001b[0m\u001b[0mgroup\u001b[0m\u001b[1;33m)\u001b[0m\u001b[1;33m\u001b[0m\u001b[1;33m\u001b[0m\u001b[0m\n\u001b[0m\u001b[0;32m    207\u001b[0m             \u001b[1;32mif\u001b[0m \u001b[1;32mnot\u001b[0m \u001b[0m_is_indexed_like\u001b[0m\u001b[1;33m(\u001b[0m\u001b[0mres\u001b[0m\u001b[1;33m,\u001b[0m \u001b[0mgroup_axes\u001b[0m\u001b[1;33m)\u001b[0m\u001b[1;33m:\u001b[0m\u001b[1;33m\u001b[0m\u001b[1;33m\u001b[0m\u001b[0m\n\u001b[0;32m    208\u001b[0m                 \u001b[0mmutated\u001b[0m \u001b[1;33m=\u001b[0m \u001b[1;32mTrue\u001b[0m\u001b[1;33m\u001b[0m\u001b[1;33m\u001b[0m\u001b[0m\n",
      "\u001b[1;31mTypeError\u001b[0m: sequence item 0: expected str instance, int found"
     ]
    }
   ],
   "source": [
    "# 'column2'를 제외한 나머지 column들이 같은 row들을 그룹화하여 'column2' 값을 합치고 하나의 row로 남기기\n",
    "a = a.groupby(['회사명', '공고명', '자격요건', '우대조건', '경력조건', '출처 URL', '복지','회사소개','주요업무']).apply(','.join).reset_index()\n",
    "\n",
    "a"
   ]
  },
  {
   "cell_type": "code",
   "execution_count": 47,
   "metadata": {},
   "outputs": [
    {
     "data": {
      "text/html": [
       "<div>\n",
       "<style scoped>\n",
       "    .dataframe tbody tr th:only-of-type {\n",
       "        vertical-align: middle;\n",
       "    }\n",
       "\n",
       "    .dataframe tbody tr th {\n",
       "        vertical-align: top;\n",
       "    }\n",
       "\n",
       "    .dataframe thead th {\n",
       "        text-align: right;\n",
       "    }\n",
       "</style>\n",
       "<table border=\"1\" class=\"dataframe\">\n",
       "  <thead>\n",
       "    <tr style=\"text-align: right;\">\n",
       "      <th></th>\n",
       "      <th>회사명</th>\n",
       "      <th>공고명</th>\n",
       "      <th>자격요건</th>\n",
       "      <th>우대조건</th>\n",
       "      <th>경력조건</th>\n",
       "      <th>출처 URL</th>\n",
       "      <th>복지</th>\n",
       "      <th>회사소개</th>\n",
       "      <th>주요업무</th>\n",
       "      <th>0</th>\n",
       "    </tr>\n",
       "  </thead>\n",
       "  <tbody>\n",
       "    <tr>\n",
       "      <th>0</th>\n",
       "      <td>에스티씨랩</td>\n",
       "      <td>NetFUNNEL Solution Consultant</td>\n",
       "      <td>• 2년 이상의 기업고객 기술지원 경력이 있으신 분\\n• 원활한 대인 관계 및 커뮤...</td>\n",
       "      <td>• Cloud 관련 기술 경험이 있으신 분\\n• 컴퓨터 관련 학과 졸업 또는 IT ...</td>\n",
       "      <td>2</td>\n",
       "      <td>https://www.jumpit.co.kr/position/12872</td>\n",
       "      <td>• 사옥 근무, 언주역 3번 출구 도보 5분 역세권\\n• 캡슐커피 및 음료, 우유 ...</td>\n",
       "      <td>STCLab은 단순한 회사가 아니라 클라우드 기술 영역에서 혁신을 이끄는 리더에요....</td>\n",
       "      <td>• 자체 솔루션인 NetFUNNEL, Surffy의 원활한 이용을 위한 기술을 지원...</td>\n",
       "      <td>회사명,공고명,직무내용,자격요건,우대조건,경력조건,출처 URL,복지,회사소개,주요업무</td>\n",
       "    </tr>\n",
       "  </tbody>\n",
       "</table>\n",
       "</div>"
      ],
      "text/plain": [
       "     회사명                            공고명  \\\n",
       "0  에스티씨랩  NetFUNNEL Solution Consultant   \n",
       "\n",
       "                                                자격요건  \\\n",
       "0  • 2년 이상의 기업고객 기술지원 경력이 있으신 분\\n• 원활한 대인 관계 및 커뮤...   \n",
       "\n",
       "                                                우대조건  경력조건  \\\n",
       "0  • Cloud 관련 기술 경험이 있으신 분\\n• 컴퓨터 관련 학과 졸업 또는 IT ...     2   \n",
       "\n",
       "                                    출처 URL  \\\n",
       "0  https://www.jumpit.co.kr/position/12872   \n",
       "\n",
       "                                                  복지  \\\n",
       "0  • 사옥 근무, 언주역 3번 출구 도보 5분 역세권\\n• 캡슐커피 및 음료, 우유 ...   \n",
       "\n",
       "                                                회사소개  \\\n",
       "0  STCLab은 단순한 회사가 아니라 클라우드 기술 영역에서 혁신을 이끄는 리더에요....   \n",
       "\n",
       "                                                주요업무  \\\n",
       "0  • 자체 솔루션인 NetFUNNEL, Surffy의 원활한 이용을 위한 기술을 지원...   \n",
       "\n",
       "                                                 0  \n",
       "0  회사명,공고명,직무내용,자격요건,우대조건,경력조건,출처 URL,복지,회사소개,주요업무  "
      ]
     },
     "execution_count": 47,
     "metadata": {},
     "output_type": "execute_result"
    }
   ],
   "source": [
    "a"
   ]
  },
  {
   "cell_type": "code",
   "execution_count": null,
   "metadata": {},
   "outputs": [],
   "source": []
  }
 ],
 "metadata": {
  "kernelspec": {
   "display_name": "base",
   "language": "python",
   "name": "python3"
  },
  "language_info": {
   "codemirror_mode": {
    "name": "ipython",
    "version": 3
   },
   "file_extension": ".py",
   "mimetype": "text/x-python",
   "name": "python",
   "nbconvert_exporter": "python",
   "pygments_lexer": "ipython3",
   "version": "3.8.3"
  },
  "orig_nbformat": 4,
  "vscode": {
   "interpreter": {
    "hash": "ad2bdc8ecc057115af97d19610ffacc2b4e99fae6737bb82f5d7fb13d2f2c186"
   }
  }
 },
 "nbformat": 4,
 "nbformat_minor": 2
}
