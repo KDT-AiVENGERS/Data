{
 "cells": [
  {
   "attachments": {},
   "cell_type": "markdown",
   "metadata": {},
   "source": [
    "## udemy 크롤링 데이터 전처리\n",
    "- 수작업을 도와줄 간단한 코드 입니다.\n",
    "- csv파일을 searching하는 것 보다 도움이 될 것 같아 만들어 봅니다.\n",
    "- clone하셔서 사용하실 경우에 경로만 잘 지정해 주시면 될 것 같습니다."
   ]
  },
  {
   "cell_type": "code",
   "execution_count": 75,
   "metadata": {},
   "outputs": [],
   "source": [
    "import pandas as pd\n",
    "import numpy as np\n",
    "import re"
   ]
  },
  {
   "cell_type": "code",
   "execution_count": 76,
   "metadata": {},
   "outputs": [],
   "source": [
    "#경로는 바꿔서 사용하시면 될 것 같습니다.\n",
    "\n",
    "udemy_data = pd.read_csv('../Crawling/udemy_data/udemy_data-science_230718.csv')"
   ]
  },
  {
   "cell_type": "code",
   "execution_count": 77,
   "metadata": {},
   "outputs": [
    {
     "data": {
      "text/html": [
       "<div>\n",
       "<style scoped>\n",
       "    .dataframe tbody tr th:only-of-type {\n",
       "        vertical-align: middle;\n",
       "    }\n",
       "\n",
       "    .dataframe tbody tr th {\n",
       "        vertical-align: top;\n",
       "    }\n",
       "\n",
       "    .dataframe thead th {\n",
       "        text-align: right;\n",
       "    }\n",
       "</style>\n",
       "<table border=\"1\" class=\"dataframe\">\n",
       "  <thead>\n",
       "    <tr style=\"text-align: right;\">\n",
       "      <th></th>\n",
       "      <th>대분류</th>\n",
       "      <th>소분류</th>\n",
       "      <th>강의명</th>\n",
       "      <th>난이도</th>\n",
       "      <th>가격(현재가격)</th>\n",
       "      <th>가격(원래가격)</th>\n",
       "      <th>총소요시간</th>\n",
       "      <th>강의소개</th>\n",
       "      <th>언어</th>\n",
       "      <th>출처</th>\n",
       "    </tr>\n",
       "  </thead>\n",
       "  <tbody>\n",
       "    <tr>\n",
       "      <th>0</th>\n",
       "      <td>data-science</td>\n",
       "      <td>Data Analysis</td>\n",
       "      <td>아빠가 들려주는 [데이터 수집과 정리의 기본]</td>\n",
       "      <td>초급자</td>\n",
       "      <td>₩17,000</td>\n",
       "      <td>₩39,000</td>\n",
       "      <td>1시간 주문형 동영상</td>\n",
       "      <td>배울 내용\\n데이터를 효과적으로 수집하는 방법\\n데이터 분석하기 좋도록 데이터를 정...</td>\n",
       "      <td>한국어</td>\n",
       "      <td>https://www.udemy.com/course/data_basic/</td>\n",
       "    </tr>\n",
       "  </tbody>\n",
       "</table>\n",
       "</div>"
      ],
      "text/plain": [
       "            대분류            소분류                        강의명  난이도 가격(현재가격)  \\\n",
       "0  data-science  Data Analysis  아빠가 들려주는 [데이터 수집과 정리의 기본]  초급자  ₩17,000   \n",
       "\n",
       "  가격(원래가격)        총소요시간                                               강의소개  \\\n",
       "0  ₩39,000  1시간 주문형 동영상  배울 내용\\n데이터를 효과적으로 수집하는 방법\\n데이터 분석하기 좋도록 데이터를 정...   \n",
       "\n",
       "    언어                                        출처  \n",
       "0  한국어  https://www.udemy.com/course/data_basic/  "
      ]
     },
     "execution_count": 77,
     "metadata": {},
     "output_type": "execute_result"
    }
   ],
   "source": [
    "udemy_data.head(1)"
   ]
  },
  {
   "attachments": {},
   "cell_type": "markdown",
   "metadata": {},
   "source": [
    "- 전체 row 개수에 따라 count()함수 결과를 보고 결측치를 확인 할 수 있습니다"
   ]
  },
  {
   "cell_type": "code",
   "execution_count": 78,
   "metadata": {},
   "outputs": [
    {
     "name": "stdout",
     "output_type": "stream",
     "text": [
      "전체 row 개수:  1241\n"
     ]
    },
    {
     "data": {
      "text/plain": [
       "대분류         1241\n",
       "소분류         1235\n",
       "강의명         1237\n",
       "난이도         1241\n",
       "가격(현재가격)    1146\n",
       "가격(원래가격)     997\n",
       "총소요시간       1135\n",
       "강의소개        1136\n",
       "언어          1237\n",
       "출처          1241\n",
       "dtype: int64"
      ]
     },
     "execution_count": 78,
     "metadata": {},
     "output_type": "execute_result"
    }
   ],
   "source": [
    "print('전체 row 개수: ',len(udemy_data))\n",
    "udemy_data.count()"
   ]
  },
  {
   "attachments": {},
   "cell_type": "markdown",
   "metadata": {},
   "source": [
    "### 결측 부분 파악  \n",
    "- ```무료가 아닌 부분을 기점으로 조건을 통해 찾아보려 합니다.```\n",
    "- ```col 변수만 바꾸면 누락된 idx와 url을 확인 할 수 있습니다.```  \n",
    "-> 크롤링으로 긁어오고 싶었는데 xpath가 다 상이하네요.. "
   ]
  },
  {
   "cell_type": "code",
   "execution_count": 79,
   "metadata": {},
   "outputs": [],
   "source": [
    "#가격이 무료가 아닌 dataframe 생성\n",
    "\n",
    "notfree_data = udemy_data[udemy_data['가격(현재가격)'] != '무료']"
   ]
  },
  {
   "cell_type": "code",
   "execution_count": 80,
   "metadata": {},
   "outputs": [
    {
     "name": "stdout",
     "output_type": "stream",
     "text": [
      "215 https://www.udemy.com/course/data-science-with-python-complete-course/\n",
      "274 https://www.udemy.com/course/python-for-data-analysis-step-by-step/\n",
      "390 https://www.udemy.com/course/dbt-cloud/\n",
      "394 https://www.udemy.com/course/optimization-for-load-reduction-with-storage/\n",
      "523 https://www.udemy.com/course/the-complete-unity-masterclass-build-2d-3d-ai-games/\n",
      "1044 https://www.udemy.com/course/python-data-science-numpy-cwiczenia/\n"
     ]
    }
   ],
   "source": [
    "#소분류를 예시로 간단하게 파악할만한 코드입니다. \n",
    "#col에 넣은 column이 null값 이라면 index와 출처를 출력하고 modify_idx 리스트에 추가합니다.\n",
    "#시간이 없어서 간단하게 밖에 못만들었네요.\n",
    "\n",
    "col = '소분류'\n",
    "modify_idx = []\n",
    "\n",
    "for idx, data in notfree_data[notfree_data[col].isnull() == True]['출처'].items():\n",
    "    modify_idx.append(idx)\n",
    "    print(idx, data)"
   ]
  },
  {
   "cell_type": "code",
   "execution_count": 83,
   "metadata": {},
   "outputs": [
    {
     "name": "stdout",
     "output_type": "stream",
     "text": [
      "변환 데이터\n"
     ]
    },
    {
     "data": {
      "text/plain": [
       "215     1\n",
       "274     2\n",
       "390     3\n",
       "394     4\n",
       "523     5\n",
       "1044    6\n",
       "Name: 소분류, dtype: object"
      ]
     },
     "execution_count": 83,
     "metadata": {},
     "output_type": "execute_result"
    }
   ],
   "source": [
    "#위의 인덱스 순으로 data에 문자열 형태로 집어 넣으면 udamy_data가 넣으신 data로 update 됩니다.\n",
    "#숫자는 예시고 data는 실제 누락된 값을 넣으면 될 것 같습니다.\n",
    "\n",
    "modify_data = ['1', '2', '3', '4', '5', '6']\n",
    "\n",
    "for idx,data  in zip(modify_idx, modify_data):\n",
    "    udemy_data.loc[idx, col] = data\n",
    "\n",
    "print('변환 데이터')\n",
    "udemy_data[col][modify_idx]"
   ]
  },
  {
   "attachments": {},
   "cell_type": "markdown",
   "metadata": {},
   "source": [
    "- count로 누락개수 채워졌는지 확인 후 원하는 곳에 저장하시면 될 것 같습니다."
   ]
  },
  {
   "cell_type": "code",
   "execution_count": null,
   "metadata": {},
   "outputs": [],
   "source": [
    "udemy_data.count()"
   ]
  },
  {
   "cell_type": "code",
   "execution_count": null,
   "metadata": {},
   "outputs": [],
   "source": [
    "udemy_data.to_csv('', index = False)"
   ]
  }
 ],
 "metadata": {
  "kernelspec": {
   "display_name": "Python 3",
   "language": "python",
   "name": "python3"
  },
  "language_info": {
   "codemirror_mode": {
    "name": "ipython",
    "version": 3
   },
   "file_extension": ".py",
   "mimetype": "text/x-python",
   "name": "python",
   "nbconvert_exporter": "python",
   "pygments_lexer": "ipython3",
   "version": "3.10.9"
  },
  "orig_nbformat": 4,
  "vscode": {
   "interpreter": {
    "hash": "acecb68da460fde51302ae5f41d82c28d1eae2a396518cbf8d44f6a4cbd41a69"
   }
  }
 },
 "nbformat": 4,
 "nbformat_minor": 2
}
