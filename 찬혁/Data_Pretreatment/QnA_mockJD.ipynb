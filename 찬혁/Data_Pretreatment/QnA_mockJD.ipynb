{
 "cells": [
  {
   "attachments": {},
   "cell_type": "markdown",
   "metadata": {},
   "source": [
    "## QnA -> 가상 JD 파일 변환 코드\n",
    "- ```'자격요건','우대조건','복지','회사소개','주요업무'```를 column으로 하는 형태\n",
    "- 새로운 질문 등록시 ```Qna_dic```의 ```key(질문내용): value(받아올 값)```쌍 추가 후 함수 내부의 ```case```를 추가해주면 됨\n",
    "- 추가 작업 필요사항  \n",
    "    1. 프론트 진행 후 값을 넘겨받는 방식에 따라 Qna_dic의 value값을 수정\n",
    "    2. 추가적인 질문이 생기면 추가를 진행\n",
    "    3. 전처리가 진행되면 단어형태 말고 간단한 자연어로 받을 수 있을 듯함"
   ]
  },
  {
   "cell_type": "code",
   "execution_count": 61,
   "metadata": {},
   "outputs": [],
   "source": [
    "import pandas as pd\n",
    "from pprint import pprint"
   ]
  },
  {
   "cell_type": "code",
   "execution_count": 62,
   "metadata": {},
   "outputs": [],
   "source": [
    "#QnA를 가상 jd 딕셔너리로 저장하는 함수\n",
    "def QnA(qna_dic,jd_dic):\n",
    "\n",
    "    for key, value in qna_dic.items():\n",
    "        question = key\n",
    "        answer = ' '.join(value)\n",
    "\n",
    "        match question:\n",
    "            case '나를 잘 표현하는 것을 고르세요.':\n",
    "\n",
    "                jd_dic['자격요건'] = jd_dic['자격요건'] + answer +' '\n",
    "                jd_dic['회사소개'] = jd_dic['회사소개'] + answer +' '\n",
    "\n",
    "            case '보유중인 기술 스택이 있는 경우 고르세요.':\n",
    "\n",
    "                if len(answer) == 0:\n",
    "                    pass\n",
    "                \n",
    "                else:\n",
    "                    jd_dic['자격요건'] = jd_dic['자격요건'] + answer +' '\n",
    "                    jd_dic['우대조건'] = jd_dic['우대조건'] + answer +' '\n",
    "                    \n",
    "            \n",
    "            #클릭을 하면 '수습'값이 안들어오고 default로 '수습'값이 들어와 있음\n",
    "            case '가장 중요한 복지나 회사 분위기는? (3개 선택)':\n",
    "\n",
    "                if '수습' not in answer:\n",
    "                    jd_dic['복지'] = answer\n",
    "                else:\n",
    "                    jd_dic['복지'] = jd_dic['복지'] + answer +' '\n",
    "\n",
    "        \n",
    "            case '개발 관련해서 관심있는 업무 키워드를 입력해주세요.':\n",
    "\n",
    "                jd_dic['주요업무'] = jd_dic['주요업무'] + answer +' '\n",
    "\n",
    "\n",
    "            case '개발 외에 관심있는 분야가 있으면 작성해 주세요.':\n",
    "\n",
    "                jd_dic['회사소개'] = jd_dic['회사소개'] + answer +' '\n",
    "                \n",
    "\n",
    "            # QnA 추가시 추가해야할 frame\n",
    "            # case '프로젝트 경험이 있는 경우, 기재해주세요':\n",
    "\n",
    "            #     jd_dic[''] = ?"
   ]
  },
  {
   "cell_type": "code",
   "execution_count": 63,
   "metadata": {},
   "outputs": [
    {
     "name": "stdout",
     "output_type": "stream",
     "text": [
      "{'복지': '장비 휴가 출퇴근 식사 건강검진',\n",
      " '우대조건': 'Node.js Python Pandas ',\n",
      " '자격요건': '꼼꼼함 책임감 적극적 주체적 Node.js Python Pandas ',\n",
      " '주요업무': '프론트엔드 백엔드 ai ',\n",
      " '회사소개': '꼼꼼함 책임감 적극적 주체적 화장품 식품 컨설팅 금융 '}\n"
     ]
    }
   ],
   "source": [
    "#mock_JD를 위한 Frame\n",
    "jd_dic = {'자격요건':'','우대조건':'','복지':'수습','회사소개':'','주요업무':''}\n",
    "\n",
    "#Qna 딕셔너리, key: 질문, value: 질문에 대한 사용자에게 받아올 값\n",
    "# **사이트에서 복지 부분 '수습'은 클릭을 하면 null값이 넘어오게 설정\n",
    "Qna_dic = {\n",
    "    '나를 잘 표현하는 것을 고르세요.':['꼼꼼함','책임감','적극적','주체적'],\n",
    "    '보유중인 기술 스택이 있는 경우 고르세요.':['Node.js', 'Python','Pandas'],\n",
    "    '가장 중요한 복지나 회사 분위기는? (3개 선택)':['장비','휴가','출퇴근','식사','건강검진'],\n",
    "    '개발 관련해서 관심있는 업무 키워드를 입력해주세요.':['프론트엔드', '백엔드', 'ai'],\n",
    "    '개발 외에 관심있는 분야가 있으면 작성해 주세요.':['화장품', '식품', '컨설팅', '금융']\n",
    "    }\n",
    "\n",
    "QnA(Qna_dic,jd_dic)\n",
    "pprint(jd_dic)\n"
   ]
  },
  {
   "cell_type": "code",
   "execution_count": 64,
   "metadata": {},
   "outputs": [
    {
     "data": {
      "text/html": [
       "<div>\n",
       "<style scoped>\n",
       "    .dataframe tbody tr th:only-of-type {\n",
       "        vertical-align: middle;\n",
       "    }\n",
       "\n",
       "    .dataframe tbody tr th {\n",
       "        vertical-align: top;\n",
       "    }\n",
       "\n",
       "    .dataframe thead th {\n",
       "        text-align: right;\n",
       "    }\n",
       "</style>\n",
       "<table border=\"1\" class=\"dataframe\">\n",
       "  <thead>\n",
       "    <tr style=\"text-align: right;\">\n",
       "      <th></th>\n",
       "      <th>자격요건</th>\n",
       "      <th>우대조건</th>\n",
       "      <th>복지</th>\n",
       "      <th>회사소개</th>\n",
       "      <th>주요업무</th>\n",
       "    </tr>\n",
       "  </thead>\n",
       "  <tbody>\n",
       "    <tr>\n",
       "      <th>0</th>\n",
       "      <td>꼼꼼함 책임감 적극적 주체적 Node.js Python Pandas</td>\n",
       "      <td>Node.js Python Pandas</td>\n",
       "      <td>장비 휴가 출퇴근 식사 건강검진</td>\n",
       "      <td>꼼꼼함 책임감 적극적 주체적 화장품 식품 컨설팅 금융</td>\n",
       "      <td>프론트엔드 백엔드 ai</td>\n",
       "    </tr>\n",
       "  </tbody>\n",
       "</table>\n",
       "</div>"
      ],
      "text/plain": [
       "                                     자격요건                    우대조건  \\\n",
       "0  꼼꼼함 책임감 적극적 주체적 Node.js Python Pandas   Node.js Python Pandas    \n",
       "\n",
       "                  복지                            회사소개           주요업무  \n",
       "0  장비 휴가 출퇴근 식사 건강검진  꼼꼼함 책임감 적극적 주체적 화장품 식품 컨설팅 금융   프론트엔드 백엔드 ai   "
      ]
     },
     "execution_count": 64,
     "metadata": {},
     "output_type": "execute_result"
    }
   ],
   "source": [
    "Mock_JD = pd.DataFrame([jd_dic])\n",
    "Mock_JD"
   ]
  }
 ],
 "metadata": {
  "kernelspec": {
   "display_name": "Aivenv",
   "language": "python",
   "name": "python3"
  },
  "language_info": {
   "codemirror_mode": {
    "name": "ipython",
    "version": 3
   },
   "file_extension": ".py",
   "mimetype": "text/x-python",
   "name": "python",
   "nbconvert_exporter": "python",
   "pygments_lexer": "ipython3",
   "version": "3.10.12"
  },
  "orig_nbformat": 4,
  "vscode": {
   "interpreter": {
    "hash": "96673df8c6fd2233fd86280ef7e2c76f0dd9d7a884d729f4cde2ae87e97aa034"
   }
  }
 },
 "nbformat": 4,
 "nbformat_minor": 2
}
